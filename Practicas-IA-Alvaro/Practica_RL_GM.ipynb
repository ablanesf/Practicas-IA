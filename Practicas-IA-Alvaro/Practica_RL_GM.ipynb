{
  "cells": [
    {
      "cell_type": "code",
      "execution_count": null,
      "metadata": {
        "colab": {
          "base_uri": "https://localhost:8080/"
        },
        "id": "cWKuxPv4Lvkb",
        "outputId": "eefd7aac-8ff0-4373-965e-bb7e2cbb0988"
      },
      "outputs": [
        {
          "output_type": "stream",
          "name": "stdout",
          "text": [
            "Looking in indexes: https://pypi.org/simple, https://us-python.pkg.dev/colab-wheels/public/simple/\n",
            "Requirement already satisfied: gym in /usr/local/lib/python3.8/dist-packages (0.25.2)\n",
            "Requirement already satisfied: cloudpickle>=1.2.0 in /usr/local/lib/python3.8/dist-packages (from gym) (1.5.0)\n",
            "Requirement already satisfied: numpy>=1.18.0 in /usr/local/lib/python3.8/dist-packages (from gym) (1.21.6)\n",
            "Requirement already satisfied: importlib-metadata>=4.8.0 in /usr/local/lib/python3.8/dist-packages (from gym) (4.13.0)\n",
            "Requirement already satisfied: gym-notices>=0.0.4 in /usr/local/lib/python3.8/dist-packages (from gym) (0.0.8)\n",
            "Requirement already satisfied: zipp>=0.5 in /usr/local/lib/python3.8/dist-packages (from importlib-metadata>=4.8.0->gym) (3.11.0)\n",
            "Looking in indexes: https://pypi.org/simple, https://us-python.pkg.dev/colab-wheels/public/simple/\n",
            "Collecting stable-baselines3\n",
            "  Downloading stable_baselines3-1.6.2-py3-none-any.whl (170 kB)\n",
            "\u001b[K     |████████████████████████████████| 170 kB 33.1 MB/s \n",
            "\u001b[?25hRequirement already satisfied: matplotlib in /usr/local/lib/python3.8/dist-packages (from stable-baselines3) (3.2.2)\n",
            "Requirement already satisfied: importlib-metadata~=4.13 in /usr/local/lib/python3.8/dist-packages (from stable-baselines3) (4.13.0)\n",
            "Requirement already satisfied: cloudpickle in /usr/local/lib/python3.8/dist-packages (from stable-baselines3) (1.5.0)\n",
            "Requirement already satisfied: pandas in /usr/local/lib/python3.8/dist-packages (from stable-baselines3) (1.3.5)\n",
            "Collecting gym==0.21\n",
            "  Downloading gym-0.21.0.tar.gz (1.5 MB)\n",
            "\u001b[K     |████████████████████████████████| 1.5 MB 53.1 MB/s \n",
            "\u001b[?25hRequirement already satisfied: torch>=1.11 in /usr/local/lib/python3.8/dist-packages (from stable-baselines3) (1.13.0+cu116)\n",
            "Requirement already satisfied: numpy in /usr/local/lib/python3.8/dist-packages (from stable-baselines3) (1.21.6)\n",
            "Requirement already satisfied: zipp>=0.5 in /usr/local/lib/python3.8/dist-packages (from importlib-metadata~=4.13->stable-baselines3) (3.11.0)\n",
            "Requirement already satisfied: typing-extensions in /usr/local/lib/python3.8/dist-packages (from torch>=1.11->stable-baselines3) (4.4.0)\n",
            "Requirement already satisfied: python-dateutil>=2.1 in /usr/local/lib/python3.8/dist-packages (from matplotlib->stable-baselines3) (2.8.2)\n",
            "Requirement already satisfied: pyparsing!=2.0.4,!=2.1.2,!=2.1.6,>=2.0.1 in /usr/local/lib/python3.8/dist-packages (from matplotlib->stable-baselines3) (3.0.9)\n",
            "Requirement already satisfied: cycler>=0.10 in /usr/local/lib/python3.8/dist-packages (from matplotlib->stable-baselines3) (0.11.0)\n",
            "Requirement already satisfied: kiwisolver>=1.0.1 in /usr/local/lib/python3.8/dist-packages (from matplotlib->stable-baselines3) (1.4.4)\n",
            "Requirement already satisfied: six>=1.5 in /usr/local/lib/python3.8/dist-packages (from python-dateutil>=2.1->matplotlib->stable-baselines3) (1.15.0)\n",
            "Requirement already satisfied: pytz>=2017.3 in /usr/local/lib/python3.8/dist-packages (from pandas->stable-baselines3) (2022.6)\n",
            "Building wheels for collected packages: gym\n",
            "  Building wheel for gym (setup.py) ... \u001b[?25l\u001b[?25hdone\n",
            "  Created wheel for gym: filename=gym-0.21.0-py3-none-any.whl size=1616824 sha256=e9650f3cda20057090b12f204b62422d2b887f2e016823099e1ba0c27aa4a49b\n",
            "  Stored in directory: /root/.cache/pip/wheels/27/6d/b3/a3a6e10704795c9b9000f1ab2dc480dfe7bed42f5972806e73\n",
            "Successfully built gym\n",
            "Installing collected packages: gym, stable-baselines3\n",
            "  Attempting uninstall: gym\n",
            "    Found existing installation: gym 0.25.2\n",
            "    Uninstalling gym-0.25.2:\n",
            "      Successfully uninstalled gym-0.25.2\n",
            "Successfully installed gym-0.21.0 stable-baselines3-1.6.2\n"
          ]
        }
      ],
      "source": [
        "!pip install gym\n",
        "!pip install stable-baselines3"
      ]
    },
    {
      "cell_type": "code",
      "execution_count": null,
      "metadata": {
        "id": "DA4mSmI_G39Z"
      },
      "outputs": [],
      "source": [
        "#IMPORTO TODAS LAS LIBRERIAS\n",
        "\n",
        "#Ejercicio 1 MG\n",
        "from keras.datasets import fashion_mnist\n",
        "import pandas as pd\n",
        "import numpy as np\n",
        "import matplotlib.pyplot as plt\n",
        "from sklearn.decomposition import PCA\n",
        "from sklearn.mixture import GaussianMixture\n",
        "from sklearn import mixture\n",
        "\n",
        "#Ejercicio 2 MG\n",
        "from keras.layers import Dense, Flatten, Reshape, Input\n",
        "from keras.models import Sequential, Model\n",
        "\n",
        "#Ejercicio 3MG\n",
        "from keras.models import Model\n",
        "from keras.losses import MSE\n",
        "from keras.layers import  Layer\n",
        "import tensorflow as tf\n",
        "\n",
        "#Ejercicio 1 RL\n",
        "import gym\n",
        "import itertools\n",
        "import sys\n",
        "from collections import defaultdict\n",
        "from mpl_toolkits.axes_grid1 import make_axes_locatable\n",
        "from mpl_toolkits.mplot3d import Axes3D\n",
        "\n",
        "\n",
        "#Ejercicio 2 RL\n",
        "from stable_baselines3 import PPO\n",
        "from stable_baselines3.ppo import MlpPolicy\n",
        "from stable_baselines3.common.env_util import make_vec_env\n",
        "from stable_baselines3 import DQN\n",
        "from stable_baselines3.common.evaluation import evaluate_policy\n",
        "\n",
        "#Ejercicio 3 RL\n",
        "from stable_baselines3 import A2C\n",
        "from stable_baselines3.common.env_util import make_atari_env\n",
        "from stable_baselines3.common.vec_env import VecFrameStack"
      ]
    },
    {
      "cell_type": "markdown",
      "metadata": {
        "id": "ryaLTjXkWBUi"
      },
      "source": [
        "\n",
        "\n",
        "---\n",
        "\n",
        "\n",
        "\n",
        "---\n",
        "\n"
      ]
    },
    {
      "cell_type": "markdown",
      "metadata": {
        "id": "1RQgjBmfD3aY"
      },
      "source": [
        "#TAREAS DEL MÓDULO DE GENERATIVOS"
      ]
    },
    {
      "cell_type": "markdown",
      "metadata": {
        "id": "jlDngQ65WLxI"
      },
      "source": [
        "## Ejercicio 1"
      ]
    },
    {
      "cell_type": "markdown",
      "metadata": {
        "id": "J_XsEL6TL3fx"
      },
      "source": [
        "Implementa un modelo generativo de FashionMNIST basado en PCA y GMM. Evalúa y comenta los autovectores, visualizandolos de manera apropiada."
      ]
    },
    {
      "cell_type": "code",
      "execution_count": null,
      "metadata": {
        "colab": {
          "base_uri": "https://localhost:8080/"
        },
        "id": "fuBnlPHFezue",
        "outputId": "2dd0b3b5-27f4-478c-fd6b-93edd23c57a0"
      },
      "outputs": [
        {
          "name": "stdout",
          "output_type": "stream",
          "text": [
            "Downloading data from https://storage.googleapis.com/tensorflow/tf-keras-datasets/train-labels-idx1-ubyte.gz\n",
            "29515/29515 [==============================] - 0s 0us/step\n",
            "Downloading data from https://storage.googleapis.com/tensorflow/tf-keras-datasets/train-images-idx3-ubyte.gz\n",
            "26421880/26421880 [==============================] - 1s 0us/step\n",
            "Downloading data from https://storage.googleapis.com/tensorflow/tf-keras-datasets/t10k-labels-idx1-ubyte.gz\n",
            "5148/5148 [==============================] - 0s 0us/step\n",
            "Downloading data from https://storage.googleapis.com/tensorflow/tf-keras-datasets/t10k-images-idx3-ubyte.gz\n",
            "4422102/4422102 [==============================] - 0s 0us/step\n"
          ]
        }
      ],
      "source": [
        "(x_train, y_train), (x_test, y_test) = fashion_mnist.load_data()"
      ]
    },
    {
      "cell_type": "code",
      "execution_count": null,
      "metadata": {
        "id": "KxPFsvnjiWiZ"
      },
      "outputs": [],
      "source": [
        "#Normalizo\n",
        "x_train = (x_train/255. - 0.5) * 2.\n",
        "x_test = (x_test/255. - 0.5) * 2."
      ]
    },
    {
      "cell_type": "code",
      "execution_count": null,
      "metadata": {
        "id": "jUlzVBucHa2u"
      },
      "outputs": [],
      "source": [
        "# Concateno x_train y x_test para unir todos los datos\n",
        "x = np.concatenate((x_train, x_test), axis=0)"
      ]
    },
    {
      "cell_type": "code",
      "execution_count": null,
      "metadata": {
        "id": "X_5mkCUd9HRA"
      },
      "outputs": [],
      "source": [
        "x=x.reshape(70000, 784)"
      ]
    },
    {
      "cell_type": "code",
      "execution_count": null,
      "metadata": {
        "id": "KrBdKMhXXBv2"
      },
      "outputs": [],
      "source": [
        "# Hacemos PCA\n",
        "pca = PCA()"
      ]
    },
    {
      "cell_type": "code",
      "execution_count": null,
      "metadata": {
        "id": "rd1VnY4VXBtV"
      },
      "outputs": [],
      "source": [
        "#Entrenamos los datos en los componentes principales\n",
        "components = pca.fit_transform(X=x)"
      ]
    },
    {
      "cell_type": "code",
      "execution_count": null,
      "metadata": {
        "colab": {
          "base_uri": "https://localhost:8080/",
          "height": 266
        },
        "id": "HIqiJmyWXBqv",
        "outputId": "6058ba1f-f284-4f8b-8f46-9b87ba3468d7"
      },
      "outputs": [
        {
          "data": {
            "image/png": "[encoded data removed]",
            "text/plain": [
              "<Figure size 432x288 with 1 Axes>"
            ]
          },
          "metadata": {},
          "output_type": "display_data"
        }
      ],
      "source": [
        "plt.plot(pca.explained_variance_ratio_)\n",
        "plt.grid()\n",
        "\n",
        "# El primero explica cerca del 30% de toda la varianza de los datos."
      ]
    },
    {
      "cell_type": "code",
      "execution_count": null,
      "metadata": {
        "colab": {
          "base_uri": "https://localhost:8080/",
          "height": 265
        },
        "id": "6THhZ8VaXBoT",
        "outputId": "9b8bb61a-c223-4127-ec2d-7d25ad9f3ca9"
      },
      "outputs": [
        {
          "data": {
            "image/png": "[encoded data removed]",
            "text/plain": [
              "<Figure size 432x288 with 1 Axes>"
            ]
          },
          "metadata": {},
          "output_type": "display_data"
        }
      ],
      "source": [
        "plt.plot(pca.explained_variance_ratio_.cumsum())\n",
        "plt.grid()\n",
        "\n",
        "# Teniendo en cuenta esta grafica si cogieramos solamente menos del 100€ de los datos, explicariamos mas o menos el 90% de los datos"
      ]
    },
    {
      "cell_type": "code",
      "execution_count": null,
      "metadata": {
        "colab": {
          "base_uri": "https://localhost:8080/",
          "height": 265
        },
        "id": "QUUuqSJVXBlv",
        "outputId": "c519e057-db54-43cd-fd94-8d276bf16354"
      },
      "outputs": [
        {
          "data": {
            "image/png": "[encoded data removed]",
            "text/plain": [
              "<Figure size 432x288 with 1 Axes>"
            ]
          },
          "metadata": {},
          "output_type": "display_data"
        }
      ],
      "source": [
        "plt.plot(np.ones(784)*0.9, \"--\", c=\"r\")\n",
        "plt.plot(pca.explained_variance_ratio_.cumsum())\n",
        "plt.grid()\n",
        "#  Confirmamos la explicación anterior aplicando un threshold de 90%"
      ]
    },
    {
      "cell_type": "code",
      "execution_count": null,
      "metadata": {
        "colab": {
          "base_uri": "https://localhost:8080/"
        },
        "id": "q2QA2n95XBjR",
        "outputId": "0748e1bb-f67b-4b12-c144-e3fd98466cfe"
      },
      "outputs": [
        {
          "data": {
            "text/plain": [
              "83"
            ]
          },
          "execution_count": 13,
          "metadata": {},
          "output_type": "execute_result"
        }
      ],
      "source": [
        "np.argmax(pca.explained_variance_ratio_.cumsum() > 0.9)\n",
        "\n",
        "# Para concretar el dato realizamos un argmax para que nos diga que necesitamos 83 componente para explicar el 90% de la varianza"
      ]
    },
    {
      "cell_type": "code",
      "execution_count": null,
      "metadata": {
        "colab": {
          "base_uri": "https://localhost:8080/",
          "height": 266
        },
        "id": "LTKBUlnUXBg8",
        "outputId": "d662e571-26b8-4b22-b0c0-048244e56560"
      },
      "outputs": [
        {
          "data": {
            "image/png": "[encoded data removed]",
            "text/plain": [
              "<Figure size 432x288 with 1 Axes>"
            ]
          },
          "metadata": {},
          "output_type": "display_data"
        }
      ],
      "source": [
        "plt.plot(-pca.components_[0])\n",
        "plt.plot(np.zeros(784), \"--\", c=\"r\")\n",
        "plt.grid()"
      ]
    },
    {
      "cell_type": "code",
      "execution_count": null,
      "metadata": {
        "id": "1Ce306LK-J_e"
      },
      "outputs": [],
      "source": [
        "pca_optimized_component = PCA(n_components=83)\n",
        "components = pca_optimized_component.fit_transform(x)\n",
        "#Creamos el modelo de 2 componentes y se lo aplicamos a nuestro modelo"
      ]
    },
    {
      "cell_type": "code",
      "execution_count": null,
      "metadata": {
        "colab": {
          "base_uri": "https://localhost:8080/",
          "height": 265
        },
        "id": "-552VPWD-J9S",
        "outputId": "833331ab-87b3-412d-e06d-9afc2b8de02f"
      },
      "outputs": [
        {
          "data": {
            "image/png": "[encoded data removed]",
            "text/plain": [
              "<Figure size 432x288 with 1 Axes>"
            ]
          },
          "metadata": {},
          "output_type": "display_data"
        }
      ],
      "source": [
        "plt.scatter(components[:, 0], components[:, 1], s=0.5)\n",
        "plt.grid()"
      ]
    },
    {
      "cell_type": "code",
      "execution_count": null,
      "metadata": {
        "id": "2Hwfgjof-J7P"
      },
      "outputs": [],
      "source": [
        "def gridsearchgmm(data, opt_ncomponents, opt_covariance):\n",
        "    results = []\n",
        "    for ncomponents in opt_ncomponents:\n",
        "        for covariance in opt_covariance:\n",
        "            gmm_trial = GaussianMixture(n_components=ncomponents, covariance_type=covariance)\n",
        "            gmm_trial.fit(data)\n",
        "            bic = gmm_trial.bic(data)\n",
        "            print(\"ncomponents {}, covariance {}, bic is {}\".format(ncomponents, covariance, bic))\n",
        "            results.append(bic)\n",
        "    return results"
      ]
    },
    {
      "cell_type": "code",
      "execution_count": null,
      "metadata": {
        "colab": {
          "base_uri": "https://localhost:8080/"
        },
        "id": "R_f64fu0-W1t",
        "outputId": "b3edec79-4d66-49d5-a44e-617236ec8a2e"
      },
      "outputs": [
        {
          "name": "stdout",
          "output_type": "stream",
          "text": [
            "ncomponents 1, covariance diag, bic is 14942363.665324885\n",
            "ncomponents 1, covariance full, bic is 14980328.385847954\n",
            "ncomponents 1, covariance spherical, bic is 22783274.077718634\n",
            "ncomponents 2, covariance diag, bic is 14630065.195362637\n",
            "ncomponents 2, covariance full, bic is 11991948.877000932\n",
            "ncomponents 2, covariance spherical, bic is 21250980.39170186\n",
            "ncomponents 3, covariance diag, bic is 14442563.63687268\n",
            "ncomponents 3, covariance full, bic is 9619685.447886089\n",
            "ncomponents 3, covariance spherical, bic is 20224638.464886624\n",
            "ncomponents 4, covariance diag, bic is 14287502.830724586\n",
            "ncomponents 4, covariance full, bic is 7959051.230874642\n",
            "ncomponents 4, covariance spherical, bic is 19551063.529873054\n",
            "ncomponents 5, covariance diag, bic is 14200373.312782982\n",
            "ncomponents 5, covariance full, bic is 7210659.335910477\n",
            "ncomponents 5, covariance spherical, bic is 19049139.567251515\n",
            "ncomponents 6, covariance diag, bic is 14126359.80232759\n",
            "ncomponents 6, covariance full, bic is 6624978.02366851\n",
            "ncomponents 6, covariance spherical, bic is 18598932.8917587\n",
            "ncomponents 7, covariance diag, bic is 14025459.426612204\n",
            "ncomponents 7, covariance full, bic is 5985548.840438168\n",
            "ncomponents 7, covariance spherical, bic is 18345464.188909877\n"
          ]
        }
      ],
      "source": [
        "opt_ncomponents = np.arange(1,8)\n",
        "opt_covariance = [\"diag\", \"full\", \"spherical\"]\n",
        "results = gridsearchgmm(components, opt_ncomponents, opt_covariance)\n",
        "\n",
        "# el resultado sería elegir el bic mas pequeño"
      ]
    },
    {
      "cell_type": "code",
      "execution_count": null,
      "metadata": {
        "colab": {
          "base_uri": "https://localhost:8080/"
        },
        "id": "FK4iVZat-Wte",
        "outputId": "857df330-f7b4-4602-be42-a39721c90b7d"
      },
      "outputs": [
        {
          "data": {
            "text/plain": [
              "GaussianMixture(n_components=7)"
            ]
          },
          "execution_count": 19,
          "metadata": {},
          "output_type": "execute_result"
        }
      ],
      "source": [
        "gmm2 = GaussianMixture(n_components=7, covariance_type=\"full\")\n",
        "gmm2.fit(components)\n",
        "\n",
        "# Hacemos un GaussianMixture al bic seleccionado y le hacemos un fit porque solo entrenamos el modelo generativo, sin el transform"
      ]
    },
    {
      "cell_type": "code",
      "execution_count": null,
      "metadata": {
        "colab": {
          "base_uri": "https://localhost:8080/"
        },
        "id": "iw_Mc5xFfPoR",
        "outputId": "5ea45010-dd1a-458c-f0fc-7f20ab23b3ed"
      },
      "outputs": [
        {
          "data": {
            "text/plain": [
              "(array([[ 4.71624604, -5.74976129, -2.29110382,  0.54186632,  2.09482423,\n",
              "          4.35394895, -1.20169984, -0.33680755,  0.88619361, -0.80732809,\n",
              "          1.11805069, -0.50005471, -0.09576554, -0.14684257, -0.80377881,\n",
              "         -0.4010027 , -0.58043095, -0.25677869, -0.19092764,  0.27961794,\n",
              "         -0.65590427, -0.17721195, -0.5820238 , -0.06533794, -0.54438179,\n",
              "         -0.909271  ,  0.61814425, -0.09003684,  0.87740155, -1.2847841 ,\n",
              "          0.11501238, -0.0785382 , -0.33637573, -0.02655236, -0.47384085,\n",
              "          0.78761494,  0.41408597,  0.4955424 , -0.49193073,  0.27449764,\n",
              "          0.34602487,  0.44562247,  0.52825811, -0.96409823,  0.29800629,\n",
              "         -0.30274714, -0.10707508,  0.30710392,  0.20172627,  0.94875576,\n",
              "          0.72768241, -0.8873099 , -0.0535067 , -1.39608279,  0.0401946 ,\n",
              "          0.08030124,  0.27422205, -0.52861241, -0.2059974 , -0.75166638,\n",
              "          0.02521525, -0.02268375,  0.48450296, -0.24382887, -0.14771971,\n",
              "          0.35163453,  0.03650107, -0.38689627, -0.3865401 , -0.36214957,\n",
              "         -0.38621873, -0.13610978,  0.30986576,  0.21374198, -0.35249914,\n",
              "         -0.03302549, -0.0871643 , -0.38212298, -0.09223494,  0.30152611,\n",
              "          0.4972285 ,  0.27351071, -0.29934069]]), array([5]))"
            ]
          },
          "execution_count": 20,
          "metadata": {},
          "output_type": "execute_result"
        }
      ],
      "source": [
        "gmm2.sample()"
      ]
    },
    {
      "cell_type": "code",
      "execution_count": null,
      "metadata": {
        "colab": {
          "base_uri": "https://localhost:8080/",
          "height": 283
        },
        "id": "5UmZyFBG-Wlh",
        "outputId": "a9468c5b-295a-4e21-b544-cb92ff19ff8e"
      },
      "outputs": [
        {
          "data": {
            "text/plain": [
              "<matplotlib.image.AxesImage at 0x7f3507205d90>"
            ]
          },
          "execution_count": 21,
          "metadata": {},
          "output_type": "execute_result"
        },
        {
          "data": {
            "image/png": "[encoded data removed]",
            "text/plain": [
              "<Figure size 432x288 with 1 Axes>"
            ]
          },
          "metadata": {},
          "output_type": "display_data"
        }
      ],
      "source": [
        "components_generated = gmm2.sample()[0]\n",
        "returns_generated = pca_optimized_component.inverse_transform(components_generated)\n",
        "img_ = returns_generated.reshape(28,28)\n",
        "plt.set_cmap('gray')\n",
        "plt.imshow(img_)\n",
        "\n",
        "# Le aplicamos el pca inverso al modelo gmm, y ploteamos una imagen"
      ]
    },
    {
      "cell_type": "code",
      "execution_count": null,
      "metadata": {
        "id": "YqqDoFNQ-Wi1"
      },
      "outputs": [],
      "source": []
    },
    {
      "cell_type": "markdown",
      "metadata": {
        "id": "zfeYkrUAVnVt"
      },
      "source": [
        "\n",
        "\n",
        "---\n",
        "\n",
        "\n",
        "\n",
        "---\n",
        "\n"
      ]
    },
    {
      "cell_type": "markdown",
      "metadata": {
        "id": "S9JauNVNVsIW"
      },
      "source": [
        "##Ejercicio 2"
      ]
    },
    {
      "cell_type": "markdown",
      "metadata": {
        "id": "XfC7e0O2A3B0"
      },
      "source": [
        "Queréis hacer un sistema de búsqueda por similitud. Tenéis un dataset (FashionMNIST train) sobre el que podéis entrenar o calcular cosas. Ahora tenéis un dato arbitrario de input (imagen \"query\", cogida de FashionMNIST test) del cual queréis encontrar otro existente dentro de una base de datos (FashionMNIST test, sin la imagen \"query\") lo más similar posible al dato de input. Desarrolla el sistema y evalúa cualitativamente con ejemplos de su funcionamiento."
      ]
    },
    {
      "cell_type": "code",
      "execution_count": null,
      "metadata": {
        "id": "l64X0x4eA4_U"
      },
      "outputs": [],
      "source": [
        "# Descargo los datos de FashionMNIST y los separo en train y test\n",
        "(x_train_or, y_train_or), (x_test_or, y_test_or) = fashion_mnist.load_data()"
      ]
    },
    {
      "cell_type": "code",
      "execution_count": null,
      "metadata": {
        "colab": {
          "base_uri": "https://localhost:8080/"
        },
        "id": "wkxDLDU-A483",
        "outputId": "3288a47c-2ebb-422a-b868-2cd64c881c45"
      },
      "outputs": [
        {
          "data": {
            "text/plain": [
              "(60000, 28, 28)"
            ]
          },
          "execution_count": 23,
          "metadata": {},
          "output_type": "execute_result"
        }
      ],
      "source": [
        "x_train_or.shape"
      ]
    },
    {
      "cell_type": "code",
      "execution_count": null,
      "metadata": {
        "id": "CZhbsvYkA46a"
      },
      "outputs": [],
      "source": [
        "#normalizamos el 'x_train_or' y 'x_test_or'\n",
        "x_train2MG = (x_train_or/255. - 0.5) * 2.\n",
        "x_test2MG = (x_test_or/255. - 0.5) * 2."
      ]
    },
    {
      "cell_type": "code",
      "execution_count": null,
      "metadata": {
        "colab": {
          "base_uri": "https://localhost:8080/"
        },
        "id": "XKea8XJDA432",
        "outputId": "5078f316-3407-49e6-8255-a3df750ef4d7"
      },
      "outputs": [
        {
          "name": "stdout",
          "output_type": "stream",
          "text": [
            "1.0\n",
            "-1.0\n"
          ]
        }
      ],
      "source": [
        "print(x_train2MG.max())\n",
        "print(x_train2MG.min())"
      ]
    },
    {
      "cell_type": "code",
      "execution_count": null,
      "metadata": {
        "id": "4xsnb3c6CFJj"
      },
      "outputs": [],
      "source": [
        "# red fully connected \n",
        "z_dim2MG = 100\n",
        "h_dim2MG = 200"
      ]
    },
    {
      "cell_type": "code",
      "execution_count": null,
      "metadata": {
        "id": "ksYQibUFCFHH"
      },
      "outputs": [],
      "source": [
        "# Creamos el encoder con 3 capas. Una Flatten y 2 densas. La primera densa con activación relu que activa la neurona solo si el input está por encima de cero\n",
        "encoder2MG = Sequential([\n",
        "    Flatten(input_shape=(28,28,)),\n",
        "    Dense(200, activation=\"relu\"),\n",
        "    Dense(z_dim2MG, activation='relu')\n",
        "])\n"
      ]
    },
    {
      "cell_type": "code",
      "execution_count": null,
      "metadata": {
        "colab": {
          "base_uri": "https://localhost:8080/"
        },
        "id": "ro5AfsHeCFE4",
        "outputId": "cc0cc5c5-86d2-437f-b615-c34b8e503c30"
      },
      "outputs": [
        {
          "name": "stdout",
          "output_type": "stream",
          "text": [
            "Model: \"sequential\"\n",
            "_________________________________________________________________\n",
            " Layer (type)                Output Shape              Param #   \n",
            "=================================================================\n",
            " flatten (Flatten)           (None, 784)               0         \n",
            "                                                                 \n",
            " dense (Dense)               (None, 200)               157000    \n",
            "                                                                 \n",
            " dense_1 (Dense)             (None, 100)               20100     \n",
            "                                                                 \n",
            "=================================================================\n",
            "Total params: 177,100\n",
            "Trainable params: 177,100\n",
            "Non-trainable params: 0\n",
            "_________________________________________________________________\n"
          ]
        }
      ],
      "source": [
        "encoder2MG.summary()"
      ]
    },
    {
      "cell_type": "code",
      "execution_count": null,
      "metadata": {
        "id": "ewCe_bI5CE_6"
      },
      "outputs": [],
      "source": [
        "# Creamos el decoder con 2 capas densas una con activacion relu y otra con activación tanh que es versión desplazada y estirada del sigmoide con rango (-1,1) \n",
        "decoder2MG = Sequential([\n",
        "    Dense(200, activation=\"relu\", input_shape=(z_dim2MG, )),\n",
        "    Dense(28*28, activation=\"tanh\"),\n",
        "    Reshape((28,28)),\n",
        "])\n"
      ]
    },
    {
      "cell_type": "code",
      "execution_count": null,
      "metadata": {
        "colab": {
          "base_uri": "https://localhost:8080/"
        },
        "id": "8NOjPyA3CE9m",
        "outputId": "5d4b8dc2-8fe6-400e-8ed5-bf0f28474f3c"
      },
      "outputs": [
        {
          "name": "stdout",
          "output_type": "stream",
          "text": [
            "Model: \"sequential_1\"\n",
            "_________________________________________________________________\n",
            " Layer (type)                Output Shape              Param #   \n",
            "=================================================================\n",
            " dense_2 (Dense)             (None, 200)               20200     \n",
            "                                                                 \n",
            " dense_3 (Dense)             (None, 784)               157584    \n",
            "                                                                 \n",
            " reshape (Reshape)           (None, 28, 28)            0         \n",
            "                                                                 \n",
            "=================================================================\n",
            "Total params: 177,784\n",
            "Trainable params: 177,784\n",
            "Non-trainable params: 0\n",
            "_________________________________________________________________\n"
          ]
        }
      ],
      "source": [
        "decoder2MG.summary()"
      ]
    },
    {
      "cell_type": "code",
      "execution_count": null,
      "metadata": {
        "colab": {
          "base_uri": "https://localhost:8080/"
        },
        "id": "DVADE0JKCE7P",
        "outputId": "ef10157c-90ed-4ea0-e0e6-1fed5afd83b6"
      },
      "outputs": [
        {
          "name": "stdout",
          "output_type": "stream",
          "text": [
            "Model: \"sequential_2\"\n",
            "_________________________________________________________________\n",
            " Layer (type)                Output Shape              Param #   \n",
            "=================================================================\n",
            " sequential (Sequential)     (None, 100)               177100    \n",
            "                                                                 \n",
            " sequential_1 (Sequential)   (None, 28, 28)            177784    \n",
            "                                                                 \n",
            "=================================================================\n",
            "Total params: 354,884\n",
            "Trainable params: 354,884\n",
            "Non-trainable params: 0\n",
            "_________________________________________________________________\n"
          ]
        }
      ],
      "source": [
        "# Creamos el autoencoder\n",
        "autoencoder2MG = Sequential([encoder2MG, decoder2MG])\n",
        "autoencoder2MG.summary()"
      ]
    },
    {
      "cell_type": "code",
      "execution_count": null,
      "metadata": {
        "colab": {
          "base_uri": "https://localhost:8080/"
        },
        "id": "AXfBRH6dCE4u",
        "outputId": "2b531e11-18eb-4be1-8cf1-68a7f5a3f4a0"
      },
      "outputs": [
        {
          "name": "stdout",
          "output_type": "stream",
          "text": [
            "Epoch 1/40\n",
            "469/469 [==============================] - 9s 18ms/step - loss: 0.0932 - val_loss: 0.0545\n",
            "Epoch 2/40\n",
            "469/469 [==============================] - 9s 20ms/step - loss: 0.0484 - val_loss: 0.0445\n",
            "Epoch 3/40\n",
            "469/469 [==============================] - 9s 19ms/step - loss: 0.0415 - val_loss: 0.0398\n",
            "Epoch 4/40\n",
            "469/469 [==============================] - 7s 14ms/step - loss: 0.0378 - val_loss: 0.0370\n",
            "Epoch 5/40\n",
            "469/469 [==============================] - 6s 14ms/step - loss: 0.0355 - val_loss: 0.0353\n",
            "Epoch 6/40\n",
            "469/469 [==============================] - 7s 15ms/step - loss: 0.0338 - val_loss: 0.0337\n",
            "Epoch 7/40\n",
            "469/469 [==============================] - 7s 15ms/step - loss: 0.0324 - val_loss: 0.0326\n",
            "Epoch 8/40\n",
            "469/469 [==============================] - 7s 14ms/step - loss: 0.0313 - val_loss: 0.0315\n",
            "Epoch 9/40\n",
            "469/469 [==============================] - 7s 14ms/step - loss: 0.0305 - val_loss: 0.0306\n",
            "Epoch 10/40\n",
            "469/469 [==============================] - 7s 14ms/step - loss: 0.0299 - val_loss: 0.0304\n",
            "Epoch 11/40\n",
            "469/469 [==============================] - 7s 14ms/step - loss: 0.0293 - val_loss: 0.0304\n",
            "Epoch 12/40\n",
            "469/469 [==============================] - 7s 14ms/step - loss: 0.0288 - val_loss: 0.0293\n",
            "Epoch 13/40\n",
            "469/469 [==============================] - 6s 14ms/step - loss: 0.0284 - val_loss: 0.0289\n",
            "Epoch 14/40\n",
            "469/469 [==============================] - 7s 14ms/step - loss: 0.0280 - val_loss: 0.0284\n",
            "Epoch 15/40\n",
            "469/469 [==============================] - 7s 14ms/step - loss: 0.0277 - val_loss: 0.0282\n",
            "Epoch 16/40\n",
            "469/469 [==============================] - 7s 15ms/step - loss: 0.0273 - val_loss: 0.0278\n",
            "Epoch 17/40\n",
            "469/469 [==============================] - 7s 16ms/step - loss: 0.0271 - val_loss: 0.0280\n",
            "Epoch 18/40\n",
            "469/469 [==============================] - 6s 14ms/step - loss: 0.0268 - val_loss: 0.0273\n",
            "Epoch 19/40\n",
            "469/469 [==============================] - 6s 14ms/step - loss: 0.0266 - val_loss: 0.0271\n",
            "Epoch 20/40\n",
            "469/469 [==============================] - 6s 14ms/step - loss: 0.0264 - val_loss: 0.0270\n",
            "Epoch 21/40\n",
            "469/469 [==============================] - 8s 17ms/step - loss: 0.0262 - val_loss: 0.0267\n",
            "Epoch 22/40\n",
            "469/469 [==============================] - 7s 14ms/step - loss: 0.0260 - val_loss: 0.0269\n",
            "Epoch 23/40\n",
            "469/469 [==============================] - 7s 14ms/step - loss: 0.0259 - val_loss: 0.0266\n",
            "Epoch 24/40\n",
            "469/469 [==============================] - 7s 15ms/step - loss: 0.0257 - val_loss: 0.0268\n",
            "Epoch 25/40\n",
            "469/469 [==============================] - 7s 14ms/step - loss: 0.0256 - val_loss: 0.0262\n",
            "Epoch 26/40\n",
            "469/469 [==============================] - 7s 14ms/step - loss: 0.0255 - val_loss: 0.0263\n",
            "Epoch 27/40\n",
            "469/469 [==============================] - 7s 14ms/step - loss: 0.0253 - val_loss: 0.0259\n",
            "Epoch 28/40\n",
            "469/469 [==============================] - 7s 15ms/step - loss: 0.0252 - val_loss: 0.0262\n",
            "Epoch 29/40\n",
            "469/469 [==============================] - 7s 15ms/step - loss: 0.0251 - val_loss: 0.0260\n",
            "Epoch 30/40\n",
            "469/469 [==============================] - 7s 14ms/step - loss: 0.0251 - val_loss: 0.0259\n",
            "Epoch 31/40\n",
            "469/469 [==============================] - 7s 14ms/step - loss: 0.0249 - val_loss: 0.0258\n",
            "Epoch 32/40\n",
            "469/469 [==============================] - 7s 16ms/step - loss: 0.0248 - val_loss: 0.0259\n",
            "Epoch 33/40\n",
            "469/469 [==============================] - 7s 15ms/step - loss: 0.0248 - val_loss: 0.0254\n",
            "Epoch 34/40\n",
            "469/469 [==============================] - 9s 19ms/step - loss: 0.0246 - val_loss: 0.0257\n",
            "Epoch 35/40\n",
            "469/469 [==============================] - 9s 19ms/step - loss: 0.0246 - val_loss: 0.0253\n",
            "Epoch 36/40\n",
            "469/469 [==============================] - 7s 15ms/step - loss: 0.0245 - val_loss: 0.0252\n",
            "Epoch 37/40\n",
            "469/469 [==============================] - 7s 15ms/step - loss: 0.0245 - val_loss: 0.0253\n",
            "Epoch 38/40\n",
            "469/469 [==============================] - 10s 21ms/step - loss: 0.0243 - val_loss: 0.0251\n",
            "Epoch 39/40\n",
            "469/469 [==============================] - 7s 14ms/step - loss: 0.0243 - val_loss: 0.0250\n",
            "Epoch 40/40\n",
            "469/469 [==============================] - 9s 19ms/step - loss: 0.0242 - val_loss: 0.0255\n"
          ]
        }
      ],
      "source": [
        "# compilamos y entrenamos el autoencoder dando un buen 'val_loss'\n",
        "autoencoder2MG.compile(\"adam\", \"mse\")\n",
        "\n",
        "history2MG = autoencoder2MG.fit(x_train2MG, x_train2MG, \n",
        "                          batch_size=128, \n",
        "                          validation_data=(x_test2MG, x_test2MG), \n",
        "                          shuffle=True, \n",
        "                          epochs = 40)"
      ]
    },
    {
      "cell_type": "code",
      "execution_count": null,
      "metadata": {
        "colab": {
          "base_uri": "https://localhost:8080/"
        },
        "id": "Mkby0MSl43MI",
        "outputId": "1c69d075-ad7a-4f68-bebe-ebf669a2ed02"
      },
      "outputs": [
        {
          "name": "stdout",
          "output_type": "stream",
          "text": [
            "313/313 [==============================] - 1s 2ms/step\n"
          ]
        }
      ],
      "source": [
        "# utilizamos el encoder para codificar 'x_test2MG'\n",
        "encoded_x_test2MG = encoder2MG.predict(x_test2MG)"
      ]
    },
    {
      "cell_type": "code",
      "execution_count": null,
      "metadata": {
        "id": "_r2AMXwyfbU6"
      },
      "outputs": [],
      "source": [
        "# Creamos una funcion para las distancias\n",
        "def distance(a,b):\n",
        "  return np.linalg.norm(a-b, axis=1)\n"
      ]
    },
    {
      "cell_type": "code",
      "execution_count": null,
      "metadata": {
        "colab": {
          "base_uri": "https://localhost:8080/"
        },
        "id": "EEsGiwXzgV4K",
        "outputId": "09dff77c-8603-4360-872b-590bff01dc3f"
      },
      "outputs": [
        {
          "data": {
            "text/plain": [
              "6158"
            ]
          },
          "execution_count": 35,
          "metadata": {},
          "output_type": "execute_result"
        }
      ],
      "source": [
        "# Concretamos la posicion de una imagen con la que luego vamos a buscar sus parecidas\n",
        "indice_seleccion = np.random.randint(0, len(x_test2MG))\n",
        "indice_seleccion"
      ]
    },
    {
      "cell_type": "code",
      "execution_count": null,
      "metadata": {
        "colab": {
          "base_uri": "https://localhost:8080/"
        },
        "id": "IuwRf2jZ43Gr",
        "outputId": "78801409-afb8-49d4-c289-f8dc48d4fc49"
      },
      "outputs": [
        {
          "data": {
            "text/plain": [
              "array([0.        , 1.8341839 , 3.1414254 , 5.9203234 , 1.1648835 ,\n",
              "       2.242442  , 0.        , 0.        , 0.        , 1.0299586 ,\n",
              "       0.5705244 , 1.0084414 , 1.6188486 , 4.792111  , 2.143967  ,\n",
              "       4.4965096 , 1.7126759 , 1.9012283 , 2.180587  , 1.6338254 ,\n",
              "       1.0123442 , 3.2609782 , 1.6076684 , 7.214243  , 5.292457  ,\n",
              "       0.        , 2.699073  , 0.        , 0.        , 3.861732  ,\n",
              "       0.9271893 , 3.5322149 , 0.        , 0.8782543 , 1.1166874 ,\n",
              "       0.86315614, 3.217188  , 2.6519198 , 0.8405441 , 0.        ,\n",
              "       2.0423656 , 4.444309  , 1.511894  , 1.4100765 , 3.7368853 ,\n",
              "       0.        , 2.304499  , 3.5302477 , 1.2260904 , 2.0301487 ,\n",
              "       2.282009  , 0.        , 1.6473286 , 0.        , 1.3990893 ,\n",
              "       1.2755412 , 0.7890328 , 0.        , 0.9021921 , 3.162068  ,\n",
              "       3.322525  , 2.420177  , 0.7238473 , 1.8896945 , 1.8375074 ,\n",
              "       0.580997  , 1.4814855 , 2.2971134 , 3.8644512 , 2.640211  ,\n",
              "       0.5860745 , 3.8647609 , 0.        , 2.151044  , 3.1632233 ,\n",
              "       0.        , 0.        , 3.9455311 , 0.        , 0.42642224,\n",
              "       1.815343  , 0.        , 1.3999203 , 2.6590734 , 0.        ,\n",
              "       0.        , 0.        , 2.6465948 , 1.0846741 , 0.        ,\n",
              "       3.4038105 , 1.1053375 , 1.1472511 , 3.8752136 , 1.9131092 ,\n",
              "       1.3936697 , 0.        , 2.0818799 , 1.8921943 , 0.        ],\n",
              "      dtype=float32)"
            ]
          },
          "execution_count": 36,
          "metadata": {},
          "output_type": "execute_result"
        }
      ],
      "source": [
        "#\n",
        "selected_image = encoded_x_test2MG[indice_seleccion]\n",
        "selected_image"
      ]
    },
    {
      "cell_type": "code",
      "execution_count": null,
      "metadata": {
        "colab": {
          "base_uri": "https://localhost:8080/"
        },
        "id": "D-k_ylH843Ji",
        "outputId": "9301c270-1fca-4c50-8081-77deda19db07"
      },
      "outputs": [
        {
          "data": {
            "text/plain": [
              "array([16.045275 , 20.149172 , 17.077831 , ..., 12.783442 , 13.1422415,\n",
              "       13.759248 ], dtype=float32)"
            ]
          },
          "execution_count": 37,
          "metadata": {},
          "output_type": "execute_result"
        }
      ],
      "source": [
        "# Calculamos las distancias entre la imagen seleccionada anteriormente y el resto de imagenes. Y nos devuelve una lista.\n",
        "distances_list = distance(selected_image, encoded_x_test2MG)\n",
        "distances_list"
      ]
    },
    {
      "cell_type": "code",
      "execution_count": null,
      "metadata": {
        "colab": {
          "base_uri": "https://localhost:8080/"
        },
        "id": "VyJt_BBRh4QK",
        "outputId": "aec93d8c-40a7-432d-ce80-06413f863372"
      },
      "outputs": [
        {
          "data": {
            "text/plain": [
              "array([8503, 2387, 2424, ..., 2384, 3319, 1947])"
            ]
          },
          "execution_count": 38,
          "metadata": {},
          "output_type": "execute_result"
        }
      ],
      "source": [
        "# Quitamos la primera imagen ya que es la misma que la imagen seleccionada. Y nos devuelve por orden cuales son las mas parecidas\n",
        "similar_img_positions = np.argsort(distances_list)[1:]\n",
        "similar_img_positions"
      ]
    },
    {
      "cell_type": "code",
      "execution_count": null,
      "metadata": {
        "colab": {
          "base_uri": "https://localhost:8080/",
          "height": 283
        },
        "id": "OnWpIv60h37B",
        "outputId": "6e49a125-f659-4d7d-c7a3-3437fabee08c"
      },
      "outputs": [
        {
          "data": {
            "text/plain": [
              "<matplotlib.image.AxesImage at 0x7f350475c190>"
            ]
          },
          "execution_count": 39,
          "metadata": {},
          "output_type": "execute_result"
        },
        {
          "data": {
            "image/png": "[encoded data removed]",
            "text/plain": [
              "<Figure size 432x288 with 1 Axes>"
            ]
          },
          "metadata": {},
          "output_type": "display_data"
        }
      ],
      "source": [
        "# Ploteamos la imagen selecionada\n",
        "plt.imshow(x_test2MG[indice_seleccion])"
      ]
    },
    {
      "cell_type": "code",
      "execution_count": null,
      "metadata": {
        "colab": {
          "base_uri": "https://localhost:8080/",
          "height": 231
        },
        "id": "tJgSNk2jjkBj",
        "outputId": "16e36c16-0441-4ccc-a8e8-4814264d5fb4"
      },
      "outputs": [
        {
          "data": {
            "text/plain": [
              "<Figure size 432x288 with 0 Axes>"
            ]
          },
          "metadata": {},
          "output_type": "display_data"
        },
        {
          "data": {
            "image/png": "[encoded data removed]",
            "text/plain": [
              "<Figure size 1224x360 with 5 Axes>"
            ]
          },
          "metadata": {},
          "output_type": "display_data"
        }
      ],
      "source": [
        "# Mostramos las primeras 5 imagenes mas parecidas a la imagen seleccionada\n",
        "plt.figure()\n",
        "f,axarr = plt.subplots(1,5, figsize=(17,5))\n",
        "for i in range(5):\n",
        "  axarr[i].imshow(x_test2MG[similar_img_positions[i]])"
      ]
    },
    {
      "cell_type": "markdown",
      "metadata": {
        "id": "Opt-25ioV16R"
      },
      "source": [
        "\n",
        "\n",
        "---\n",
        "\n",
        "\n",
        "\n",
        "---\n",
        "\n"
      ]
    },
    {
      "cell_type": "markdown",
      "metadata": {
        "id": "31jlKZL6V4Lm"
      },
      "source": [
        "## Ejercicio 3"
      ]
    },
    {
      "cell_type": "markdown",
      "metadata": {
        "id": "yHPM6TmjN35S"
      },
      "source": [
        "Diseña un VAE para generar series de precios de las empresas constituyentes del S&P500."
      ]
    },
    {
      "cell_type": "code",
      "execution_count": null,
      "metadata": {
        "colab": {
          "base_uri": "https://localhost:8080/",
          "height": 455
        },
        "id": "UDHjaId_428K",
        "outputId": "692a749c-e499-4596-fc8b-fc20ad8989e4"
      },
      "outputs": [
        {
          "data": {
            "text/html": [
              "\n",
              "  <div id=\"df-843bb61f-21bf-413c-abcc-66a0b3443ac4\">\n",
              "    <div class=\"colab-df-container\">\n",
              "      <div>\n",
              "<style scoped>\n",
              "    .dataframe tbody tr th:only-of-type {\n",
              "        vertical-align: middle;\n",
              "    }\n",
              "\n",
              "    .dataframe tbody tr th {\n",
              "        vertical-align: top;\n",
              "    }\n",
              "\n",
              "    .dataframe thead th {\n",
              "        text-align: right;\n",
              "    }\n",
              "</style>\n",
              "<table border=\"1\" class=\"dataframe\">\n",
              "  <thead>\n",
              "    <tr style=\"text-align: right;\">\n",
              "      <th>Name</th>\n",
              "      <th>A</th>\n",
              "      <th>AAL</th>\n",
              "      <th>AAP</th>\n",
              "      <th>AAPL</th>\n",
              "      <th>ABBV</th>\n",
              "      <th>ABC</th>\n",
              "      <th>ABT</th>\n",
              "      <th>ACN</th>\n",
              "      <th>ADBE</th>\n",
              "      <th>ADI</th>\n",
              "      <th>...</th>\n",
              "      <th>XL</th>\n",
              "      <th>XLNX</th>\n",
              "      <th>XOM</th>\n",
              "      <th>XRAY</th>\n",
              "      <th>XRX</th>\n",
              "      <th>XYL</th>\n",
              "      <th>YUM</th>\n",
              "      <th>ZBH</th>\n",
              "      <th>ZION</th>\n",
              "      <th>ZTS</th>\n",
              "    </tr>\n",
              "    <tr>\n",
              "      <th>date</th>\n",
              "      <th></th>\n",
              "      <th></th>\n",
              "      <th></th>\n",
              "      <th></th>\n",
              "      <th></th>\n",
              "      <th></th>\n",
              "      <th></th>\n",
              "      <th></th>\n",
              "      <th></th>\n",
              "      <th></th>\n",
              "      <th></th>\n",
              "      <th></th>\n",
              "      <th></th>\n",
              "      <th></th>\n",
              "      <th></th>\n",
              "      <th></th>\n",
              "      <th></th>\n",
              "      <th></th>\n",
              "      <th></th>\n",
              "      <th></th>\n",
              "      <th></th>\n",
              "    </tr>\n",
              "  </thead>\n",
              "  <tbody>\n",
              "    <tr>\n",
              "      <th>2013-02-08</th>\n",
              "      <td>45.08</td>\n",
              "      <td>14.75</td>\n",
              "      <td>78.90</td>\n",
              "      <td>67.8542</td>\n",
              "      <td>36.25</td>\n",
              "      <td>46.89</td>\n",
              "      <td>34.41</td>\n",
              "      <td>73.31</td>\n",
              "      <td>39.12</td>\n",
              "      <td>45.70</td>\n",
              "      <td>...</td>\n",
              "      <td>28.24</td>\n",
              "      <td>37.51</td>\n",
              "      <td>88.61</td>\n",
              "      <td>42.87</td>\n",
              "      <td>31.84</td>\n",
              "      <td>27.09</td>\n",
              "      <td>65.30</td>\n",
              "      <td>75.85</td>\n",
              "      <td>24.14</td>\n",
              "      <td>33.05</td>\n",
              "    </tr>\n",
              "    <tr>\n",
              "      <th>2013-02-11</th>\n",
              "      <td>44.60</td>\n",
              "      <td>14.46</td>\n",
              "      <td>78.39</td>\n",
              "      <td>68.5614</td>\n",
              "      <td>35.85</td>\n",
              "      <td>46.76</td>\n",
              "      <td>34.26</td>\n",
              "      <td>73.07</td>\n",
              "      <td>38.64</td>\n",
              "      <td>46.08</td>\n",
              "      <td>...</td>\n",
              "      <td>28.31</td>\n",
              "      <td>37.46</td>\n",
              "      <td>88.28</td>\n",
              "      <td>42.84</td>\n",
              "      <td>31.96</td>\n",
              "      <td>27.46</td>\n",
              "      <td>64.55</td>\n",
              "      <td>75.65</td>\n",
              "      <td>24.21</td>\n",
              "      <td>33.26</td>\n",
              "    </tr>\n",
              "    <tr>\n",
              "      <th>2013-02-12</th>\n",
              "      <td>44.62</td>\n",
              "      <td>14.27</td>\n",
              "      <td>78.60</td>\n",
              "      <td>66.8428</td>\n",
              "      <td>35.42</td>\n",
              "      <td>46.96</td>\n",
              "      <td>34.30</td>\n",
              "      <td>73.37</td>\n",
              "      <td>38.89</td>\n",
              "      <td>46.27</td>\n",
              "      <td>...</td>\n",
              "      <td>28.41</td>\n",
              "      <td>37.58</td>\n",
              "      <td>88.46</td>\n",
              "      <td>42.87</td>\n",
              "      <td>31.84</td>\n",
              "      <td>27.95</td>\n",
              "      <td>64.75</td>\n",
              "      <td>75.44</td>\n",
              "      <td>24.49</td>\n",
              "      <td>33.74</td>\n",
              "    </tr>\n",
              "    <tr>\n",
              "      <th>2013-02-13</th>\n",
              "      <td>44.75</td>\n",
              "      <td>14.66</td>\n",
              "      <td>78.97</td>\n",
              "      <td>66.7156</td>\n",
              "      <td>35.27</td>\n",
              "      <td>46.64</td>\n",
              "      <td>34.46</td>\n",
              "      <td>73.56</td>\n",
              "      <td>38.81</td>\n",
              "      <td>46.26</td>\n",
              "      <td>...</td>\n",
              "      <td>28.42</td>\n",
              "      <td>37.80</td>\n",
              "      <td>88.67</td>\n",
              "      <td>43.08</td>\n",
              "      <td>32.00</td>\n",
              "      <td>28.26</td>\n",
              "      <td>64.41</td>\n",
              "      <td>76.00</td>\n",
              "      <td>24.74</td>\n",
              "      <td>33.55</td>\n",
              "    </tr>\n",
              "    <tr>\n",
              "      <th>2013-02-14</th>\n",
              "      <td>44.58</td>\n",
              "      <td>13.99</td>\n",
              "      <td>78.84</td>\n",
              "      <td>66.6556</td>\n",
              "      <td>36.57</td>\n",
              "      <td>46.77</td>\n",
              "      <td>34.70</td>\n",
              "      <td>73.13</td>\n",
              "      <td>38.61</td>\n",
              "      <td>46.54</td>\n",
              "      <td>...</td>\n",
              "      <td>28.22</td>\n",
              "      <td>38.44</td>\n",
              "      <td>88.52</td>\n",
              "      <td>42.91</td>\n",
              "      <td>32.12</td>\n",
              "      <td>28.47</td>\n",
              "      <td>63.89</td>\n",
              "      <td>76.34</td>\n",
              "      <td>24.63</td>\n",
              "      <td>33.27</td>\n",
              "    </tr>\n",
              "    <tr>\n",
              "      <th>...</th>\n",
              "      <td>...</td>\n",
              "      <td>...</td>\n",
              "      <td>...</td>\n",
              "      <td>...</td>\n",
              "      <td>...</td>\n",
              "      <td>...</td>\n",
              "      <td>...</td>\n",
              "      <td>...</td>\n",
              "      <td>...</td>\n",
              "      <td>...</td>\n",
              "      <td>...</td>\n",
              "      <td>...</td>\n",
              "      <td>...</td>\n",
              "      <td>...</td>\n",
              "      <td>...</td>\n",
              "      <td>...</td>\n",
              "      <td>...</td>\n",
              "      <td>...</td>\n",
              "      <td>...</td>\n",
              "      <td>...</td>\n",
              "      <td>...</td>\n",
              "    </tr>\n",
              "    <tr>\n",
              "      <th>2018-02-01</th>\n",
              "      <td>72.83</td>\n",
              "      <td>53.88</td>\n",
              "      <td>117.29</td>\n",
              "      <td>167.7800</td>\n",
              "      <td>116.34</td>\n",
              "      <td>99.29</td>\n",
              "      <td>62.18</td>\n",
              "      <td>160.46</td>\n",
              "      <td>199.38</td>\n",
              "      <td>91.65</td>\n",
              "      <td>...</td>\n",
              "      <td>36.79</td>\n",
              "      <td>72.49</td>\n",
              "      <td>89.07</td>\n",
              "      <td>60.73</td>\n",
              "      <td>32.75</td>\n",
              "      <td>74.84</td>\n",
              "      <td>83.98</td>\n",
              "      <td>128.19</td>\n",
              "      <td>54.98</td>\n",
              "      <td>77.82</td>\n",
              "    </tr>\n",
              "    <tr>\n",
              "      <th>2018-02-02</th>\n",
              "      <td>71.25</td>\n",
              "      <td>52.10</td>\n",
              "      <td>113.93</td>\n",
              "      <td>160.5000</td>\n",
              "      <td>115.17</td>\n",
              "      <td>96.02</td>\n",
              "      <td>61.69</td>\n",
              "      <td>156.90</td>\n",
              "      <td>195.64</td>\n",
              "      <td>89.11</td>\n",
              "      <td>...</td>\n",
              "      <td>38.25</td>\n",
              "      <td>70.64</td>\n",
              "      <td>84.53</td>\n",
              "      <td>60.06</td>\n",
              "      <td>31.63</td>\n",
              "      <td>75.66</td>\n",
              "      <td>82.63</td>\n",
              "      <td>125.79</td>\n",
              "      <td>54.15</td>\n",
              "      <td>76.78</td>\n",
              "    </tr>\n",
              "    <tr>\n",
              "      <th>2018-02-05</th>\n",
              "      <td>68.22</td>\n",
              "      <td>49.76</td>\n",
              "      <td>109.86</td>\n",
              "      <td>156.4900</td>\n",
              "      <td>109.51</td>\n",
              "      <td>91.90</td>\n",
              "      <td>58.73</td>\n",
              "      <td>151.83</td>\n",
              "      <td>190.27</td>\n",
              "      <td>85.40</td>\n",
              "      <td>...</td>\n",
              "      <td>37.68</td>\n",
              "      <td>66.97</td>\n",
              "      <td>79.72</td>\n",
              "      <td>58.54</td>\n",
              "      <td>31.38</td>\n",
              "      <td>72.66</td>\n",
              "      <td>79.80</td>\n",
              "      <td>123.18</td>\n",
              "      <td>51.65</td>\n",
              "      <td>73.83</td>\n",
              "    </tr>\n",
              "    <tr>\n",
              "      <th>2018-02-06</th>\n",
              "      <td>68.45</td>\n",
              "      <td>51.18</td>\n",
              "      <td>112.20</td>\n",
              "      <td>163.0300</td>\n",
              "      <td>111.20</td>\n",
              "      <td>91.54</td>\n",
              "      <td>58.86</td>\n",
              "      <td>154.69</td>\n",
              "      <td>194.47</td>\n",
              "      <td>88.54</td>\n",
              "      <td>...</td>\n",
              "      <td>37.34</td>\n",
              "      <td>68.99</td>\n",
              "      <td>78.35</td>\n",
              "      <td>58.46</td>\n",
              "      <td>30.85</td>\n",
              "      <td>71.33</td>\n",
              "      <td>80.58</td>\n",
              "      <td>122.30</td>\n",
              "      <td>52.52</td>\n",
              "      <td>73.27</td>\n",
              "    </tr>\n",
              "    <tr>\n",
              "      <th>2018-02-07</th>\n",
              "      <td>68.06</td>\n",
              "      <td>51.40</td>\n",
              "      <td>109.93</td>\n",
              "      <td>159.5400</td>\n",
              "      <td>113.62</td>\n",
              "      <td>94.22</td>\n",
              "      <td>58.67</td>\n",
              "      <td>155.15</td>\n",
              "      <td>192.34</td>\n",
              "      <td>85.35</td>\n",
              "      <td>...</td>\n",
              "      <td>42.00</td>\n",
              "      <td>66.97</td>\n",
              "      <td>76.94</td>\n",
              "      <td>58.30</td>\n",
              "      <td>31.18</td>\n",
              "      <td>71.79</td>\n",
              "      <td>80.13</td>\n",
              "      <td>120.78</td>\n",
              "      <td>54.02</td>\n",
              "      <td>73.86</td>\n",
              "    </tr>\n",
              "  </tbody>\n",
              "</table>\n",
              "<p>1259 rows × 470 columns</p>\n",
              "</div>\n",
              "      <button class=\"colab-df-convert\" onclick=\"convertToInteractive('df-843bb61f-21bf-413c-abcc-66a0b3443ac4')\"\n",
              "              title=\"Convert this dataframe to an interactive table.\"\n",
              "              style=\"display:none;\">\n",
              "        \n",
              "  <svg xmlns=\"http://www.w3.org/2000/svg\" height=\"24px\"viewBox=\"0 0 24 24\"\n",
              "       width=\"24px\">\n",
              "    <path d=\"M0 0h24v24H0V0z\" fill=\"none\"/>\n",
              "    <path d=\"M18.56 5.44l.94 2.06.94-2.06 2.06-.94-2.06-.94-.94-2.06-.94 2.06-2.06.94zm-11 1L8.5 8.5l.94-2.06 2.06-.94-2.06-.94L8.5 2.5l-.94 2.06-2.06.94zm10 10l.94 2.06.94-2.06 2.06-.94-2.06-.94-.94-2.06-.94 2.06-2.06.94z\"/><path d=\"M17.41 7.96l-1.37-1.37c-.4-.4-.92-.59-1.43-.59-.52 0-1.04.2-1.43.59L10.3 9.45l-7.72 7.72c-.78.78-.78 2.05 0 2.83L4 21.41c.39.39.9.59 1.41.59.51 0 1.02-.2 1.41-.59l7.78-7.78 2.81-2.81c.8-.78.8-2.07 0-2.86zM5.41 20L4 18.59l7.72-7.72 1.47 1.35L5.41 20z\"/>\n",
              "  </svg>\n",
              "      </button>\n",
              "      \n",
              "  <style>\n",
              "    .colab-df-container {\n",
              "      display:flex;\n",
              "      flex-wrap:wrap;\n",
              "      gap: 12px;\n",
              "    }\n",
              "\n",
              "    .colab-df-convert {\n",
              "      background-color: #E8F0FE;\n",
              "      border: none;\n",
              "      border-radius: 50%;\n",
              "      cursor: pointer;\n",
              "      display: none;\n",
              "      fill: #1967D2;\n",
              "      height: 32px;\n",
              "      padding: 0 0 0 0;\n",
              "      width: 32px;\n",
              "    }\n",
              "\n",
              "    .colab-df-convert:hover {\n",
              "      background-color: #E2EBFA;\n",
              "      box-shadow: 0px 1px 2px rgba(60, 64, 67, 0.3), 0px 1px 3px 1px rgba(60, 64, 67, 0.15);\n",
              "      fill: #174EA6;\n",
              "    }\n",
              "\n",
              "    [theme=dark] .colab-df-convert {\n",
              "      background-color: #3B4455;\n",
              "      fill: #D2E3FC;\n",
              "    }\n",
              "\n",
              "    [theme=dark] .colab-df-convert:hover {\n",
              "      background-color: #434B5C;\n",
              "      box-shadow: 0px 1px 3px 1px rgba(0, 0, 0, 0.15);\n",
              "      filter: drop-shadow(0px 1px 2px rgba(0, 0, 0, 0.3));\n",
              "      fill: #FFFFFF;\n",
              "    }\n",
              "  </style>\n",
              "\n",
              "      <script>\n",
              "        const buttonEl =\n",
              "          document.querySelector('#df-843bb61f-21bf-413c-abcc-66a0b3443ac4 button.colab-df-convert');\n",
              "        buttonEl.style.display =\n",
              "          google.colab.kernel.accessAllowed ? 'block' : 'none';\n",
              "\n",
              "        async function convertToInteractive(key) {\n",
              "          const element = document.querySelector('#df-843bb61f-21bf-413c-abcc-66a0b3443ac4');\n",
              "          const dataTable =\n",
              "            await google.colab.kernel.invokeFunction('convertToInteractive',\n",
              "                                                     [key], {});\n",
              "          if (!dataTable) return;\n",
              "\n",
              "          const docLinkHtml = 'Like what you see? Visit the ' +\n",
              "            '<a target=\"_blank\" href=https://colab.research.google.com/notebooks/data_table.ipynb>data table notebook</a>'\n",
              "            + ' to learn more about interactive tables.';\n",
              "          element.innerHTML = '';\n",
              "          dataTable['output_type'] = 'display_data';\n",
              "          await google.colab.output.renderOutput(dataTable, element);\n",
              "          const docLink = document.createElement('div');\n",
              "          docLink.innerHTML = docLinkHtml;\n",
              "          element.appendChild(docLink);\n",
              "        }\n",
              "      </script>\n",
              "    </div>\n",
              "  </div>\n",
              "  "
            ],
            "text/plain": [
              "Name            A    AAL     AAP      AAPL    ABBV    ABC    ABT     ACN  \\\n",
              "date                                                                       \n",
              "2013-02-08  45.08  14.75   78.90   67.8542   36.25  46.89  34.41   73.31   \n",
              "2013-02-11  44.60  14.46   78.39   68.5614   35.85  46.76  34.26   73.07   \n",
              "2013-02-12  44.62  14.27   78.60   66.8428   35.42  46.96  34.30   73.37   \n",
              "2013-02-13  44.75  14.66   78.97   66.7156   35.27  46.64  34.46   73.56   \n",
              "2013-02-14  44.58  13.99   78.84   66.6556   36.57  46.77  34.70   73.13   \n",
              "...           ...    ...     ...       ...     ...    ...    ...     ...   \n",
              "2018-02-01  72.83  53.88  117.29  167.7800  116.34  99.29  62.18  160.46   \n",
              "2018-02-02  71.25  52.10  113.93  160.5000  115.17  96.02  61.69  156.90   \n",
              "2018-02-05  68.22  49.76  109.86  156.4900  109.51  91.90  58.73  151.83   \n",
              "2018-02-06  68.45  51.18  112.20  163.0300  111.20  91.54  58.86  154.69   \n",
              "2018-02-07  68.06  51.40  109.93  159.5400  113.62  94.22  58.67  155.15   \n",
              "\n",
              "Name          ADBE    ADI  ...     XL   XLNX    XOM   XRAY    XRX    XYL  \\\n",
              "date                       ...                                             \n",
              "2013-02-08   39.12  45.70  ...  28.24  37.51  88.61  42.87  31.84  27.09   \n",
              "2013-02-11   38.64  46.08  ...  28.31  37.46  88.28  42.84  31.96  27.46   \n",
              "2013-02-12   38.89  46.27  ...  28.41  37.58  88.46  42.87  31.84  27.95   \n",
              "2013-02-13   38.81  46.26  ...  28.42  37.80  88.67  43.08  32.00  28.26   \n",
              "2013-02-14   38.61  46.54  ...  28.22  38.44  88.52  42.91  32.12  28.47   \n",
              "...            ...    ...  ...    ...    ...    ...    ...    ...    ...   \n",
              "2018-02-01  199.38  91.65  ...  36.79  72.49  89.07  60.73  32.75  74.84   \n",
              "2018-02-02  195.64  89.11  ...  38.25  70.64  84.53  60.06  31.63  75.66   \n",
              "2018-02-05  190.27  85.40  ...  37.68  66.97  79.72  58.54  31.38  72.66   \n",
              "2018-02-06  194.47  88.54  ...  37.34  68.99  78.35  58.46  30.85  71.33   \n",
              "2018-02-07  192.34  85.35  ...  42.00  66.97  76.94  58.30  31.18  71.79   \n",
              "\n",
              "Name          YUM     ZBH   ZION    ZTS  \n",
              "date                                     \n",
              "2013-02-08  65.30   75.85  24.14  33.05  \n",
              "2013-02-11  64.55   75.65  24.21  33.26  \n",
              "2013-02-12  64.75   75.44  24.49  33.74  \n",
              "2013-02-13  64.41   76.00  24.74  33.55  \n",
              "2013-02-14  63.89   76.34  24.63  33.27  \n",
              "...           ...     ...    ...    ...  \n",
              "2018-02-01  83.98  128.19  54.98  77.82  \n",
              "2018-02-02  82.63  125.79  54.15  76.78  \n",
              "2018-02-05  79.80  123.18  51.65  73.83  \n",
              "2018-02-06  80.58  122.30  52.52  73.27  \n",
              "2018-02-07  80.13  120.78  54.02  73.86  \n",
              "\n",
              "[1259 rows x 470 columns]"
            ]
          },
          "execution_count": 41,
          "metadata": {},
          "output_type": "execute_result"
        }
      ],
      "source": [
        "#Descargamos los datos, quitamos lo sna y le aplicamos un pivot para organizar por valores de índice/columna.\n",
        "data = pd.read_csv('all_stocks_5yr.csv', index_col='date', parse_dates=True)\n",
        "data_pivot = data.pivot(values=\"close\", columns=\"Name\")\n",
        "data_clean = data_pivot.dropna(axis=1)\n",
        "data_clean"
      ]
    },
    {
      "cell_type": "code",
      "execution_count": null,
      "metadata": {
        "colab": {
          "base_uri": "https://localhost:8080/",
          "height": 287
        },
        "id": "-uA5QUsg9kBl",
        "outputId": "2f7f5c63-068b-4c9f-c2c9-84e841f2db07"
      },
      "outputs": [
        {
          "data": {
            "text/plain": [
              "<matplotlib.axes._subplots.AxesSubplot at 0x7f35045eb520>"
            ]
          },
          "execution_count": 42,
          "metadata": {},
          "output_type": "execute_result"
        },
        {
          "data": {
            "image/png": "[encoded data removed]",
            "text/plain": [
              "<Figure size 432x288 with 1 Axes>"
            ]
          },
          "metadata": {},
          "output_type": "display_data"
        }
      ],
      "source": [
        "data_clean.plot(legend=False)"
      ]
    },
    {
      "cell_type": "code",
      "execution_count": null,
      "metadata": {
        "colab": {
          "base_uri": "https://localhost:8080/",
          "height": 692
        },
        "id": "QpyIiLVL42xT",
        "outputId": "0d585edf-080b-4f67-a636-a465134071f8"
      },
      "outputs": [
        {
          "data": {
            "text/html": [
              "\n",
              "  <div id=\"df-22cb9863-bc89-4827-b215-811f431bcd28\">\n",
              "    <div class=\"colab-df-container\">\n",
              "      <div>\n",
              "<style scoped>\n",
              "    .dataframe tbody tr th:only-of-type {\n",
              "        vertical-align: middle;\n",
              "    }\n",
              "\n",
              "    .dataframe tbody tr th {\n",
              "        vertical-align: top;\n",
              "    }\n",
              "\n",
              "    .dataframe thead th {\n",
              "        text-align: right;\n",
              "    }\n",
              "</style>\n",
              "<table border=\"1\" class=\"dataframe\">\n",
              "  <thead>\n",
              "    <tr style=\"text-align: right;\">\n",
              "      <th>Name</th>\n",
              "      <th>A</th>\n",
              "      <th>AAL</th>\n",
              "      <th>AAP</th>\n",
              "      <th>AAPL</th>\n",
              "      <th>ABBV</th>\n",
              "      <th>ABC</th>\n",
              "      <th>ABT</th>\n",
              "      <th>ACN</th>\n",
              "      <th>ADBE</th>\n",
              "      <th>ADI</th>\n",
              "      <th>...</th>\n",
              "      <th>XL</th>\n",
              "      <th>XLNX</th>\n",
              "      <th>XOM</th>\n",
              "      <th>XRAY</th>\n",
              "      <th>XRX</th>\n",
              "      <th>XYL</th>\n",
              "      <th>YUM</th>\n",
              "      <th>ZBH</th>\n",
              "      <th>ZION</th>\n",
              "      <th>ZTS</th>\n",
              "    </tr>\n",
              "    <tr>\n",
              "      <th>date</th>\n",
              "      <th></th>\n",
              "      <th></th>\n",
              "      <th></th>\n",
              "      <th></th>\n",
              "      <th></th>\n",
              "      <th></th>\n",
              "      <th></th>\n",
              "      <th></th>\n",
              "      <th></th>\n",
              "      <th></th>\n",
              "      <th></th>\n",
              "      <th></th>\n",
              "      <th></th>\n",
              "      <th></th>\n",
              "      <th></th>\n",
              "      <th></th>\n",
              "      <th></th>\n",
              "      <th></th>\n",
              "      <th></th>\n",
              "      <th></th>\n",
              "      <th></th>\n",
              "    </tr>\n",
              "  </thead>\n",
              "  <tbody>\n",
              "    <tr>\n",
              "      <th>2013-02-11</th>\n",
              "      <td>-0.010705</td>\n",
              "      <td>-0.019857</td>\n",
              "      <td>-0.006485</td>\n",
              "      <td>0.010368</td>\n",
              "      <td>-0.011096</td>\n",
              "      <td>-0.002776</td>\n",
              "      <td>-0.004369</td>\n",
              "      <td>-0.003279</td>\n",
              "      <td>-0.012346</td>\n",
              "      <td>0.008281</td>\n",
              "      <td>...</td>\n",
              "      <td>0.002476</td>\n",
              "      <td>-0.001334</td>\n",
              "      <td>-0.003731</td>\n",
              "      <td>-0.000700</td>\n",
              "      <td>0.003762</td>\n",
              "      <td>0.013566</td>\n",
              "      <td>-0.011552</td>\n",
              "      <td>-0.002640</td>\n",
              "      <td>0.002896</td>\n",
              "      <td>0.006334</td>\n",
              "    </tr>\n",
              "    <tr>\n",
              "      <th>2013-02-12</th>\n",
              "      <td>0.000448</td>\n",
              "      <td>-0.013227</td>\n",
              "      <td>0.002675</td>\n",
              "      <td>-0.025386</td>\n",
              "      <td>-0.012067</td>\n",
              "      <td>0.004268</td>\n",
              "      <td>0.001167</td>\n",
              "      <td>0.004097</td>\n",
              "      <td>0.006449</td>\n",
              "      <td>0.004115</td>\n",
              "      <td>...</td>\n",
              "      <td>0.003526</td>\n",
              "      <td>0.003198</td>\n",
              "      <td>0.002037</td>\n",
              "      <td>0.000700</td>\n",
              "      <td>-0.003762</td>\n",
              "      <td>0.017687</td>\n",
              "      <td>0.003094</td>\n",
              "      <td>-0.002780</td>\n",
              "      <td>0.011499</td>\n",
              "      <td>0.014329</td>\n",
              "    </tr>\n",
              "    <tr>\n",
              "      <th>2013-02-13</th>\n",
              "      <td>0.002909</td>\n",
              "      <td>0.026963</td>\n",
              "      <td>0.004696</td>\n",
              "      <td>-0.001905</td>\n",
              "      <td>-0.004244</td>\n",
              "      <td>-0.006838</td>\n",
              "      <td>0.004654</td>\n",
              "      <td>0.002586</td>\n",
              "      <td>-0.002059</td>\n",
              "      <td>-0.000216</td>\n",
              "      <td>...</td>\n",
              "      <td>0.000352</td>\n",
              "      <td>0.005837</td>\n",
              "      <td>0.002371</td>\n",
              "      <td>0.004887</td>\n",
              "      <td>0.005013</td>\n",
              "      <td>0.011030</td>\n",
              "      <td>-0.005265</td>\n",
              "      <td>0.007396</td>\n",
              "      <td>0.010156</td>\n",
              "      <td>-0.005647</td>\n",
              "    </tr>\n",
              "    <tr>\n",
              "      <th>2013-02-14</th>\n",
              "      <td>-0.003806</td>\n",
              "      <td>-0.046780</td>\n",
              "      <td>-0.001648</td>\n",
              "      <td>-0.000900</td>\n",
              "      <td>0.036195</td>\n",
              "      <td>0.002783</td>\n",
              "      <td>0.006940</td>\n",
              "      <td>-0.005863</td>\n",
              "      <td>-0.005167</td>\n",
              "      <td>0.006035</td>\n",
              "      <td>...</td>\n",
              "      <td>-0.007062</td>\n",
              "      <td>0.016789</td>\n",
              "      <td>-0.001693</td>\n",
              "      <td>-0.003954</td>\n",
              "      <td>0.003743</td>\n",
              "      <td>0.007404</td>\n",
              "      <td>-0.008106</td>\n",
              "      <td>0.004464</td>\n",
              "      <td>-0.004456</td>\n",
              "      <td>-0.008381</td>\n",
              "    </tr>\n",
              "    <tr>\n",
              "      <th>2013-02-15</th>\n",
              "      <td>-0.053681</td>\n",
              "      <td>0.035806</td>\n",
              "      <td>0.002027</td>\n",
              "      <td>-0.013876</td>\n",
              "      <td>0.027244</td>\n",
              "      <td>-0.003641</td>\n",
              "      <td>0.010891</td>\n",
              "      <td>0.013986</td>\n",
              "      <td>0.000647</td>\n",
              "      <td>-0.007874</td>\n",
              "      <td>...</td>\n",
              "      <td>0.015820</td>\n",
              "      <td>-0.008360</td>\n",
              "      <td>-0.001809</td>\n",
              "      <td>-0.002567</td>\n",
              "      <td>-0.007500</td>\n",
              "      <td>-0.006696</td>\n",
              "      <td>0.001564</td>\n",
              "      <td>-0.005780</td>\n",
              "      <td>-0.011844</td>\n",
              "      <td>0.021116</td>\n",
              "    </tr>\n",
              "    <tr>\n",
              "      <th>...</th>\n",
              "      <td>...</td>\n",
              "      <td>...</td>\n",
              "      <td>...</td>\n",
              "      <td>...</td>\n",
              "      <td>...</td>\n",
              "      <td>...</td>\n",
              "      <td>...</td>\n",
              "      <td>...</td>\n",
              "      <td>...</td>\n",
              "      <td>...</td>\n",
              "      <td>...</td>\n",
              "      <td>...</td>\n",
              "      <td>...</td>\n",
              "      <td>...</td>\n",
              "      <td>...</td>\n",
              "      <td>...</td>\n",
              "      <td>...</td>\n",
              "      <td>...</td>\n",
              "      <td>...</td>\n",
              "      <td>...</td>\n",
              "      <td>...</td>\n",
              "    </tr>\n",
              "    <tr>\n",
              "      <th>2018-02-01</th>\n",
              "      <td>-0.008205</td>\n",
              "      <td>-0.008133</td>\n",
              "      <td>0.002561</td>\n",
              "      <td>0.002088</td>\n",
              "      <td>0.036056</td>\n",
              "      <td>-0.003820</td>\n",
              "      <td>0.000322</td>\n",
              "      <td>-0.001495</td>\n",
              "      <td>-0.001904</td>\n",
              "      <td>-0.002506</td>\n",
              "      <td>...</td>\n",
              "      <td>-0.001358</td>\n",
              "      <td>-0.007285</td>\n",
              "      <td>0.020072</td>\n",
              "      <td>-0.001316</td>\n",
              "      <td>-0.041274</td>\n",
              "      <td>0.035082</td>\n",
              "      <td>-0.007237</td>\n",
              "      <td>0.008382</td>\n",
              "      <td>0.017430</td>\n",
              "      <td>0.014106</td>\n",
              "    </tr>\n",
              "    <tr>\n",
              "      <th>2018-02-02</th>\n",
              "      <td>-0.021933</td>\n",
              "      <td>-0.033594</td>\n",
              "      <td>-0.029065</td>\n",
              "      <td>-0.044360</td>\n",
              "      <td>-0.010108</td>\n",
              "      <td>-0.033488</td>\n",
              "      <td>-0.007912</td>\n",
              "      <td>-0.022436</td>\n",
              "      <td>-0.018936</td>\n",
              "      <td>-0.028105</td>\n",
              "      <td>...</td>\n",
              "      <td>0.038917</td>\n",
              "      <td>-0.025852</td>\n",
              "      <td>-0.052316</td>\n",
              "      <td>-0.011094</td>\n",
              "      <td>-0.034797</td>\n",
              "      <td>0.010897</td>\n",
              "      <td>-0.016206</td>\n",
              "      <td>-0.018900</td>\n",
              "      <td>-0.015212</td>\n",
              "      <td>-0.013454</td>\n",
              "    </tr>\n",
              "    <tr>\n",
              "      <th>2018-02-05</th>\n",
              "      <td>-0.043457</td>\n",
              "      <td>-0.045954</td>\n",
              "      <td>-0.036377</td>\n",
              "      <td>-0.025302</td>\n",
              "      <td>-0.050393</td>\n",
              "      <td>-0.043855</td>\n",
              "      <td>-0.049171</td>\n",
              "      <td>-0.032847</td>\n",
              "      <td>-0.027832</td>\n",
              "      <td>-0.042525</td>\n",
              "      <td>...</td>\n",
              "      <td>-0.015014</td>\n",
              "      <td>-0.053352</td>\n",
              "      <td>-0.058586</td>\n",
              "      <td>-0.025634</td>\n",
              "      <td>-0.007935</td>\n",
              "      <td>-0.040459</td>\n",
              "      <td>-0.034849</td>\n",
              "      <td>-0.020967</td>\n",
              "      <td>-0.047268</td>\n",
              "      <td>-0.039179</td>\n",
              "    </tr>\n",
              "    <tr>\n",
              "      <th>2018-02-06</th>\n",
              "      <td>0.003366</td>\n",
              "      <td>0.028137</td>\n",
              "      <td>0.021076</td>\n",
              "      <td>0.040942</td>\n",
              "      <td>0.015315</td>\n",
              "      <td>-0.003925</td>\n",
              "      <td>0.002211</td>\n",
              "      <td>0.018662</td>\n",
              "      <td>0.021834</td>\n",
              "      <td>0.036108</td>\n",
              "      <td>...</td>\n",
              "      <td>-0.009064</td>\n",
              "      <td>0.029717</td>\n",
              "      <td>-0.017335</td>\n",
              "      <td>-0.001368</td>\n",
              "      <td>-0.017034</td>\n",
              "      <td>-0.018474</td>\n",
              "      <td>0.009727</td>\n",
              "      <td>-0.007170</td>\n",
              "      <td>0.016704</td>\n",
              "      <td>-0.007614</td>\n",
              "    </tr>\n",
              "    <tr>\n",
              "      <th>2018-02-07</th>\n",
              "      <td>-0.005714</td>\n",
              "      <td>0.004289</td>\n",
              "      <td>-0.020439</td>\n",
              "      <td>-0.021640</td>\n",
              "      <td>0.021529</td>\n",
              "      <td>0.028856</td>\n",
              "      <td>-0.003233</td>\n",
              "      <td>0.002969</td>\n",
              "      <td>-0.011013</td>\n",
              "      <td>-0.036694</td>\n",
              "      <td>...</td>\n",
              "      <td>0.117604</td>\n",
              "      <td>-0.029717</td>\n",
              "      <td>-0.018160</td>\n",
              "      <td>-0.002741</td>\n",
              "      <td>0.010640</td>\n",
              "      <td>0.006428</td>\n",
              "      <td>-0.005600</td>\n",
              "      <td>-0.012506</td>\n",
              "      <td>0.028160</td>\n",
              "      <td>0.008020</td>\n",
              "    </tr>\n",
              "  </tbody>\n",
              "</table>\n",
              "<p>1258 rows × 470 columns</p>\n",
              "</div>\n",
              "      <button class=\"colab-df-convert\" onclick=\"convertToInteractive('df-22cb9863-bc89-4827-b215-811f431bcd28')\"\n",
              "              title=\"Convert this dataframe to an interactive table.\"\n",
              "              style=\"display:none;\">\n",
              "        \n",
              "  <svg xmlns=\"http://www.w3.org/2000/svg\" height=\"24px\"viewBox=\"0 0 24 24\"\n",
              "       width=\"24px\">\n",
              "    <path d=\"M0 0h24v24H0V0z\" fill=\"none\"/>\n",
              "    <path d=\"M18.56 5.44l.94 2.06.94-2.06 2.06-.94-2.06-.94-.94-2.06-.94 2.06-2.06.94zm-11 1L8.5 8.5l.94-2.06 2.06-.94-2.06-.94L8.5 2.5l-.94 2.06-2.06.94zm10 10l.94 2.06.94-2.06 2.06-.94-2.06-.94-.94-2.06-.94 2.06-2.06.94z\"/><path d=\"M17.41 7.96l-1.37-1.37c-.4-.4-.92-.59-1.43-.59-.52 0-1.04.2-1.43.59L10.3 9.45l-7.72 7.72c-.78.78-.78 2.05 0 2.83L4 21.41c.39.39.9.59 1.41.59.51 0 1.02-.2 1.41-.59l7.78-7.78 2.81-2.81c.8-.78.8-2.07 0-2.86zM5.41 20L4 18.59l7.72-7.72 1.47 1.35L5.41 20z\"/>\n",
              "  </svg>\n",
              "      </button>\n",
              "      \n",
              "  <style>\n",
              "    .colab-df-container {\n",
              "      display:flex;\n",
              "      flex-wrap:wrap;\n",
              "      gap: 12px;\n",
              "    }\n",
              "\n",
              "    .colab-df-convert {\n",
              "      background-color: #E8F0FE;\n",
              "      border: none;\n",
              "      border-radius: 50%;\n",
              "      cursor: pointer;\n",
              "      display: none;\n",
              "      fill: #1967D2;\n",
              "      height: 32px;\n",
              "      padding: 0 0 0 0;\n",
              "      width: 32px;\n",
              "    }\n",
              "\n",
              "    .colab-df-convert:hover {\n",
              "      background-color: #E2EBFA;\n",
              "      box-shadow: 0px 1px 2px rgba(60, 64, 67, 0.3), 0px 1px 3px 1px rgba(60, 64, 67, 0.15);\n",
              "      fill: #174EA6;\n",
              "    }\n",
              "\n",
              "    [theme=dark] .colab-df-convert {\n",
              "      background-color: #3B4455;\n",
              "      fill: #D2E3FC;\n",
              "    }\n",
              "\n",
              "    [theme=dark] .colab-df-convert:hover {\n",
              "      background-color: #434B5C;\n",
              "      box-shadow: 0px 1px 3px 1px rgba(0, 0, 0, 0.15);\n",
              "      filter: drop-shadow(0px 1px 2px rgba(0, 0, 0, 0.3));\n",
              "      fill: #FFFFFF;\n",
              "    }\n",
              "  </style>\n",
              "\n",
              "      <script>\n",
              "        const buttonEl =\n",
              "          document.querySelector('#df-22cb9863-bc89-4827-b215-811f431bcd28 button.colab-df-convert');\n",
              "        buttonEl.style.display =\n",
              "          google.colab.kernel.accessAllowed ? 'block' : 'none';\n",
              "\n",
              "        async function convertToInteractive(key) {\n",
              "          const element = document.querySelector('#df-22cb9863-bc89-4827-b215-811f431bcd28');\n",
              "          const dataTable =\n",
              "            await google.colab.kernel.invokeFunction('convertToInteractive',\n",
              "                                                     [key], {});\n",
              "          if (!dataTable) return;\n",
              "\n",
              "          const docLinkHtml = 'Like what you see? Visit the ' +\n",
              "            '<a target=\"_blank\" href=https://colab.research.google.com/notebooks/data_table.ipynb>data table notebook</a>'\n",
              "            + ' to learn more about interactive tables.';\n",
              "          element.innerHTML = '';\n",
              "          dataTable['output_type'] = 'display_data';\n",
              "          await google.colab.output.renderOutput(dataTable, element);\n",
              "          const docLink = document.createElement('div');\n",
              "          docLink.innerHTML = docLinkHtml;\n",
              "          element.appendChild(docLink);\n",
              "        }\n",
              "      </script>\n",
              "    </div>\n",
              "  </div>\n",
              "  "
            ],
            "text/plain": [
              "Name               A       AAL       AAP      AAPL      ABBV       ABC  \\\n",
              "date                                                                     \n",
              "2013-02-11 -0.010705 -0.019857 -0.006485  0.010368 -0.011096 -0.002776   \n",
              "2013-02-12  0.000448 -0.013227  0.002675 -0.025386 -0.012067  0.004268   \n",
              "2013-02-13  0.002909  0.026963  0.004696 -0.001905 -0.004244 -0.006838   \n",
              "2013-02-14 -0.003806 -0.046780 -0.001648 -0.000900  0.036195  0.002783   \n",
              "2013-02-15 -0.053681  0.035806  0.002027 -0.013876  0.027244 -0.003641   \n",
              "...              ...       ...       ...       ...       ...       ...   \n",
              "2018-02-01 -0.008205 -0.008133  0.002561  0.002088  0.036056 -0.003820   \n",
              "2018-02-02 -0.021933 -0.033594 -0.029065 -0.044360 -0.010108 -0.033488   \n",
              "2018-02-05 -0.043457 -0.045954 -0.036377 -0.025302 -0.050393 -0.043855   \n",
              "2018-02-06  0.003366  0.028137  0.021076  0.040942  0.015315 -0.003925   \n",
              "2018-02-07 -0.005714  0.004289 -0.020439 -0.021640  0.021529  0.028856   \n",
              "\n",
              "Name             ABT       ACN      ADBE       ADI  ...        XL      XLNX  \\\n",
              "date                                                ...                       \n",
              "2013-02-11 -0.004369 -0.003279 -0.012346  0.008281  ...  0.002476 -0.001334   \n",
              "2013-02-12  0.001167  0.004097  0.006449  0.004115  ...  0.003526  0.003198   \n",
              "2013-02-13  0.004654  0.002586 -0.002059 -0.000216  ...  0.000352  0.005837   \n",
              "2013-02-14  0.006940 -0.005863 -0.005167  0.006035  ... -0.007062  0.016789   \n",
              "2013-02-15  0.010891  0.013986  0.000647 -0.007874  ...  0.015820 -0.008360   \n",
              "...              ...       ...       ...       ...  ...       ...       ...   \n",
              "2018-02-01  0.000322 -0.001495 -0.001904 -0.002506  ... -0.001358 -0.007285   \n",
              "2018-02-02 -0.007912 -0.022436 -0.018936 -0.028105  ...  0.038917 -0.025852   \n",
              "2018-02-05 -0.049171 -0.032847 -0.027832 -0.042525  ... -0.015014 -0.053352   \n",
              "2018-02-06  0.002211  0.018662  0.021834  0.036108  ... -0.009064  0.029717   \n",
              "2018-02-07 -0.003233  0.002969 -0.011013 -0.036694  ...  0.117604 -0.029717   \n",
              "\n",
              "Name             XOM      XRAY       XRX       XYL       YUM       ZBH  \\\n",
              "date                                                                     \n",
              "2013-02-11 -0.003731 -0.000700  0.003762  0.013566 -0.011552 -0.002640   \n",
              "2013-02-12  0.002037  0.000700 -0.003762  0.017687  0.003094 -0.002780   \n",
              "2013-02-13  0.002371  0.004887  0.005013  0.011030 -0.005265  0.007396   \n",
              "2013-02-14 -0.001693 -0.003954  0.003743  0.007404 -0.008106  0.004464   \n",
              "2013-02-15 -0.001809 -0.002567 -0.007500 -0.006696  0.001564 -0.005780   \n",
              "...              ...       ...       ...       ...       ...       ...   \n",
              "2018-02-01  0.020072 -0.001316 -0.041274  0.035082 -0.007237  0.008382   \n",
              "2018-02-02 -0.052316 -0.011094 -0.034797  0.010897 -0.016206 -0.018900   \n",
              "2018-02-05 -0.058586 -0.025634 -0.007935 -0.040459 -0.034849 -0.020967   \n",
              "2018-02-06 -0.017335 -0.001368 -0.017034 -0.018474  0.009727 -0.007170   \n",
              "2018-02-07 -0.018160 -0.002741  0.010640  0.006428 -0.005600 -0.012506   \n",
              "\n",
              "Name            ZION       ZTS  \n",
              "date                            \n",
              "2013-02-11  0.002896  0.006334  \n",
              "2013-02-12  0.011499  0.014329  \n",
              "2013-02-13  0.010156 -0.005647  \n",
              "2013-02-14 -0.004456 -0.008381  \n",
              "2013-02-15 -0.011844  0.021116  \n",
              "...              ...       ...  \n",
              "2018-02-01  0.017430  0.014106  \n",
              "2018-02-02 -0.015212 -0.013454  \n",
              "2018-02-05 -0.047268 -0.039179  \n",
              "2018-02-06  0.016704 -0.007614  \n",
              "2018-02-07  0.028160  0.008020  \n",
              "\n",
              "[1258 rows x 470 columns]"
            ]
          },
          "execution_count": 43,
          "metadata": {},
          "output_type": "execute_result"
        }
      ],
      "source": [
        "# Calculo los retornos y elimino la primer fila de NAN\n",
        "datax = np.log(data_clean)\n",
        "datax = datax.diff()\n",
        "datax = datax.iloc[1:, :]\n",
        "datax"
      ]
    },
    {
      "cell_type": "code",
      "execution_count": null,
      "metadata": {
        "id": "-4XydPFsV6l_"
      },
      "outputs": [],
      "source": [
        "# Capa de sampling.\n",
        "class Sampling(Layer):\n",
        "  def __init__(self):\n",
        "    super(Sampling, self).__init__()\n",
        "\n",
        "  def call(self, inputs): \n",
        "    mu, logstd = inputs\n",
        "    std = tf.exp(logstd)\n",
        "    epsilon = tf.random.normal(tf.shape(mu))\n",
        "    return mu + epsilon * std\n",
        "\n",
        "# Capa KL.\n",
        "class KL(Layer):\n",
        "  def __init__(self, beta=1):\n",
        "    self.beta = beta\n",
        "    super(KL, self).__init__()\n",
        "\n",
        "  def call(self, inputs):\n",
        "    mu, logstd = inputs\n",
        "    kl_loss = 0.5 * (tf.square(mu) + tf.exp(logstd * 2.) - 1 - logstd * 2.)\n",
        "    kl_loss = tf.reduce_mean(tf.reduce_sum(kl_loss, axis=1))\n",
        "    kl_loss *= self.beta\n",
        "    self.add_loss(kl_loss)\n",
        "    return inputs"
      ]
    },
    {
      "cell_type": "code",
      "execution_count": null,
      "metadata": {
        "id": "gABwIpusV6hh"
      },
      "outputs": [],
      "source": [
        "# cojo las 470 columnas\n",
        "input_shape = datax.T.shape[1:] \n",
        "\n",
        "h_dim = 200\n",
        "z_dim = 100"
      ]
    },
    {
      "cell_type": "code",
      "execution_count": null,
      "metadata": {
        "colab": {
          "base_uri": "https://localhost:8080/"
        },
        "id": "6vj1-zHpiRFe",
        "outputId": "3407f49b-5c00-49b4-85b3-be72245e41e7"
      },
      "outputs": [
        {
          "data": {
            "text/plain": [
              "1258"
            ]
          },
          "execution_count": 46,
          "metadata": {},
          "output_type": "execute_result"
        }
      ],
      "source": [
        "input_shape[0]"
      ]
    },
    {
      "cell_type": "code",
      "execution_count": null,
      "metadata": {
        "id": "9I6qdFinCdU8"
      },
      "outputs": [],
      "source": [
        "# Creo qel encoder\n",
        "encoder_head = Sequential([\n",
        "    Flatten(input_shape=input_shape),\n",
        "    Dense(h_dim, activation = \"relu\"),\n",
        "])\n",
        "\n",
        "inp = Input(input_shape)\n",
        "h = encoder_head(inp)\n",
        "\n",
        "mu = Dense(z_dim)(h)\n",
        "logstd = Dense(z_dim)(h)\n",
        "\n",
        "muout, logstdout = KL()([mu, logstd])\n",
        "\n",
        "z = Sampling()([muout, logstdout])"
      ]
    },
    {
      "cell_type": "code",
      "execution_count": null,
      "metadata": {
        "id": "-rV5G1FfCdSH"
      },
      "outputs": [],
      "source": [
        "encoder_mean = Model(inp, mu)\n",
        "encoder_sample = Model(inp, z)"
      ]
    },
    {
      "cell_type": "code",
      "execution_count": null,
      "metadata": {
        "colab": {
          "base_uri": "https://localhost:8080/"
        },
        "id": "Khr18vErCdPd",
        "outputId": "02872f16-2627-46a6-91cc-b3210877e997"
      },
      "outputs": [
        {
          "name": "stdout",
          "output_type": "stream",
          "text": [
            "Model: \"model_1\"\n",
            "__________________________________________________________________________________________________\n",
            " Layer (type)                   Output Shape         Param #     Connected to                     \n",
            "==================================================================================================\n",
            " input_1 (InputLayer)           [(None, 1258)]       0           []                               \n",
            "                                                                                                  \n",
            " sequential_3 (Sequential)      (None, 200)          251800      ['input_1[0][0]']                \n",
            "                                                                                                  \n",
            " dense_5 (Dense)                (None, 100)          20100       ['sequential_3[0][0]']           \n",
            "                                                                                                  \n",
            " dense_6 (Dense)                (None, 100)          20100       ['sequential_3[0][0]']           \n",
            "                                                                                                  \n",
            " kl (KL)                        [(None, 100),        0           ['dense_5[0][0]',                \n",
            "                                 (None, 100)]                     'dense_6[0][0]']                \n",
            "                                                                                                  \n",
            " sampling (Sampling)            (None, 100)          0           ['kl[0][0]',                     \n",
            "                                                                  'kl[0][1]']                     \n",
            "                                                                                                  \n",
            "==================================================================================================\n",
            "Total params: 292,000\n",
            "Trainable params: 292,000\n",
            "Non-trainable params: 0\n",
            "__________________________________________________________________________________________________\n"
          ]
        }
      ],
      "source": [
        "encoder_sample.summary()"
      ]
    },
    {
      "cell_type": "code",
      "execution_count": null,
      "metadata": {
        "id": "OHsgbzmyCdJp"
      },
      "outputs": [],
      "source": [
        "#Creo el decoder\n",
        "decoder3MG = Sequential([\n",
        "    Dense(h_dim, activation = \"relu\", input_shape = (z_dim,)),\n",
        "    Dense(input_shape[0], activation = \"tanh\"),\n",
        "    Reshape(input_shape)\n",
        "])"
      ]
    },
    {
      "cell_type": "code",
      "execution_count": null,
      "metadata": {
        "colab": {
          "base_uri": "https://localhost:8080/"
        },
        "id": "8EH2mUdsYDZv",
        "outputId": "c4447309-399a-443e-d988-a887e3c77f23"
      },
      "outputs": [
        {
          "name": "stdout",
          "output_type": "stream",
          "text": [
            "Model: \"sequential_4\"\n",
            "_________________________________________________________________\n",
            " Layer (type)                Output Shape              Param #   \n",
            "=================================================================\n",
            " dense_7 (Dense)             (None, 200)               20200     \n",
            "                                                                 \n",
            " dense_8 (Dense)             (None, 1258)              252858    \n",
            "                                                                 \n",
            " reshape_1 (Reshape)         (None, 1258)              0         \n",
            "                                                                 \n",
            "=================================================================\n",
            "Total params: 273,058\n",
            "Trainable params: 273,058\n",
            "Non-trainable params: 0\n",
            "_________________________________________________________________\n"
          ]
        }
      ],
      "source": [
        "decoder3MG.summary()"
      ]
    },
    {
      "cell_type": "code",
      "execution_count": null,
      "metadata": {
        "id": "ESSfiWMzV6ez"
      },
      "outputs": [],
      "source": [
        "#Calculo el VAE\n",
        "vae = Sequential([encoder_sample, decoder3MG])"
      ]
    },
    {
      "cell_type": "code",
      "execution_count": null,
      "metadata": {
        "colab": {
          "base_uri": "https://localhost:8080/"
        },
        "id": "OLz5qjUZYVP5",
        "outputId": "ba8126fa-3905-4cd2-d0dd-098e9fdfdc9a"
      },
      "outputs": [
        {
          "name": "stdout",
          "output_type": "stream",
          "text": [
            "Model: \"sequential_5\"\n",
            "_________________________________________________________________\n",
            " Layer (type)                Output Shape              Param #   \n",
            "=================================================================\n",
            " model_1 (Functional)        (None, 100)               292000    \n",
            "                                                                 \n",
            " sequential_4 (Sequential)   (None, 1258)              273058    \n",
            "                                                                 \n",
            "=================================================================\n",
            "Total params: 565,058\n",
            "Trainable params: 565,058\n",
            "Non-trainable params: 0\n",
            "_________________________________________________________________\n"
          ]
        }
      ],
      "source": [
        "vae.summary()"
      ]
    },
    {
      "cell_type": "markdown",
      "metadata": {
        "id": "h-6Zf6egkvZv"
      },
      "source": []
    },
    {
      "cell_type": "code",
      "execution_count": null,
      "metadata": {
        "id": "5-9Rp461V6Zf"
      },
      "outputs": [],
      "source": [
        "#Compilo con un optimizador 'adam'\n",
        "vae.compile(optimizer=\"adam\", loss=lambda x, y: MSE(x, y)*input_shape[0])"
      ]
    },
    {
      "cell_type": "code",
      "execution_count": null,
      "metadata": {
        "colab": {
          "base_uri": "https://localhost:8080/"
        },
        "id": "5EwXk4r2ir2E",
        "outputId": "b6f33d8a-77c5-4bde-99fd-68bc00e3dd34"
      },
      "outputs": [
        {
          "data": {
            "text/plain": [
              "(470, 1258)"
            ]
          },
          "execution_count": 55,
          "metadata": {},
          "output_type": "execute_result"
        }
      ],
      "source": [
        "datax.T.shape"
      ]
    },
    {
      "cell_type": "code",
      "execution_count": null,
      "metadata": {
        "colab": {
          "base_uri": "https://localhost:8080/"
        },
        "id": "f0_TJOqsDGKq",
        "outputId": "3da064b1-2b25-493d-9cb6-920ca5cb189b"
      },
      "outputs": [
        {
          "name": "stdout",
          "output_type": "stream",
          "text": [
            "Epoch 1/150\n",
            "6/6 [==============================] - 2s 119ms/step - loss: 74.4210 - val_loss: 55.9601\n",
            "Epoch 2/150\n",
            "6/6 [==============================] - 0s 44ms/step - loss: 50.2754 - val_loss: 39.1302\n",
            "Epoch 3/150\n",
            "6/6 [==============================] - 0s 39ms/step - loss: 35.0218 - val_loss: 29.3743\n",
            "Epoch 4/150\n",
            "6/6 [==============================] - 0s 35ms/step - loss: 28.5082 - val_loss: 25.7590\n",
            "Epoch 5/150\n",
            "6/6 [==============================] - 0s 32ms/step - loss: 24.4589 - val_loss: 22.3548\n",
            "Epoch 6/150\n",
            "6/6 [==============================] - 0s 46ms/step - loss: 21.3873 - val_loss: 19.2051\n",
            "Epoch 7/150\n",
            "6/6 [==============================] - 0s 40ms/step - loss: 18.3606 - val_loss: 16.3655\n",
            "Epoch 8/150\n",
            "6/6 [==============================] - 0s 25ms/step - loss: 16.1482 - val_loss: 14.7311\n",
            "Epoch 9/150\n",
            "6/6 [==============================] - 0s 24ms/step - loss: 14.3208 - val_loss: 13.4465\n",
            "Epoch 10/150\n",
            "6/6 [==============================] - 0s 23ms/step - loss: 12.6796 - val_loss: 12.1491\n",
            "Epoch 11/150\n",
            "6/6 [==============================] - 0s 21ms/step - loss: 11.6072 - val_loss: 11.3719\n",
            "Epoch 12/150\n",
            "6/6 [==============================] - 0s 22ms/step - loss: 10.7397 - val_loss: 10.0018\n",
            "Epoch 13/150\n",
            "6/6 [==============================] - 0s 27ms/step - loss: 9.5644 - val_loss: 9.4346\n",
            "Epoch 14/150\n",
            "6/6 [==============================] - 0s 28ms/step - loss: 9.0442 - val_loss: 8.4791\n",
            "Epoch 15/150\n",
            "6/6 [==============================] - 0s 26ms/step - loss: 8.4067 - val_loss: 8.1606\n",
            "Epoch 16/150\n",
            "6/6 [==============================] - 0s 24ms/step - loss: 8.0057 - val_loss: 7.6424\n",
            "Epoch 17/150\n",
            "6/6 [==============================] - 0s 24ms/step - loss: 7.5519 - val_loss: 7.0152\n",
            "Epoch 18/150\n",
            "6/6 [==============================] - 0s 23ms/step - loss: 7.0355 - val_loss: 6.4300\n",
            "Epoch 19/150\n",
            "6/6 [==============================] - 0s 26ms/step - loss: 6.4670 - val_loss: 6.3694\n",
            "Epoch 20/150\n",
            "6/6 [==============================] - 0s 23ms/step - loss: 6.0231 - val_loss: 5.6905\n",
            "Epoch 21/150\n",
            "6/6 [==============================] - 0s 23ms/step - loss: 5.7634 - val_loss: 5.5554\n",
            "Epoch 22/150\n",
            "6/6 [==============================] - 0s 23ms/step - loss: 5.5329 - val_loss: 5.1385\n",
            "Epoch 23/150\n",
            "6/6 [==============================] - 0s 22ms/step - loss: 5.2981 - val_loss: 4.8399\n",
            "Epoch 24/150\n",
            "6/6 [==============================] - 0s 28ms/step - loss: 5.0891 - val_loss: 4.5060\n",
            "Epoch 25/150\n",
            "6/6 [==============================] - 0s 24ms/step - loss: 4.7567 - val_loss: 4.4058\n",
            "Epoch 26/150\n",
            "6/6 [==============================] - 0s 21ms/step - loss: 4.5637 - val_loss: 4.3452\n",
            "Epoch 27/150\n",
            "6/6 [==============================] - 0s 26ms/step - loss: 4.3833 - val_loss: 4.1017\n",
            "Epoch 28/150\n",
            "6/6 [==============================] - 0s 50ms/step - loss: 4.1179 - val_loss: 4.0114\n",
            "Epoch 29/150\n",
            "6/6 [==============================] - 0s 50ms/step - loss: 3.8323 - val_loss: 3.6142\n",
            "Epoch 30/150\n",
            "6/6 [==============================] - 0s 33ms/step - loss: 3.4766 - val_loss: 3.4518\n",
            "Epoch 31/150\n",
            "6/6 [==============================] - 0s 24ms/step - loss: 3.4147 - val_loss: 3.3225\n",
            "Epoch 32/150\n",
            "6/6 [==============================] - 0s 33ms/step - loss: 3.2279 - val_loss: 3.0666\n",
            "Epoch 33/150\n",
            "6/6 [==============================] - 0s 40ms/step - loss: 3.1484 - val_loss: 2.9124\n",
            "Epoch 34/150\n",
            "6/6 [==============================] - 0s 54ms/step - loss: 3.0165 - val_loss: 2.9610\n",
            "Epoch 35/150\n",
            "6/6 [==============================] - 0s 62ms/step - loss: 2.8739 - val_loss: 2.7765\n",
            "Epoch 36/150\n",
            "6/6 [==============================] - 0s 47ms/step - loss: 2.6454 - val_loss: 2.5393\n",
            "Epoch 37/150\n",
            "6/6 [==============================] - 0s 37ms/step - loss: 2.5643 - val_loss: 2.5569\n",
            "Epoch 38/150\n",
            "6/6 [==============================] - 0s 50ms/step - loss: 2.5013 - val_loss: 2.4022\n",
            "Epoch 39/150\n",
            "6/6 [==============================] - 0s 58ms/step - loss: 2.2441 - val_loss: 2.1984\n",
            "Epoch 40/150\n",
            "6/6 [==============================] - 0s 39ms/step - loss: 2.1831 - val_loss: 2.1289\n",
            "Epoch 41/150\n",
            "6/6 [==============================] - 0s 44ms/step - loss: 2.1027 - val_loss: 2.0451\n",
            "Epoch 42/150\n",
            "6/6 [==============================] - 0s 21ms/step - loss: 2.0879 - val_loss: 1.9204\n",
            "Epoch 43/150\n",
            "6/6 [==============================] - 0s 65ms/step - loss: 1.9578 - val_loss: 1.8687\n",
            "Epoch 44/150\n",
            "6/6 [==============================] - 0s 40ms/step - loss: 1.8294 - val_loss: 1.6558\n",
            "Epoch 45/150\n",
            "6/6 [==============================] - 0s 52ms/step - loss: 1.7675 - val_loss: 1.6224\n",
            "Epoch 46/150\n",
            "6/6 [==============================] - 0s 49ms/step - loss: 1.7469 - val_loss: 1.5982\n",
            "Epoch 47/150\n",
            "6/6 [==============================] - 0s 34ms/step - loss: 1.6199 - val_loss: 1.5192\n",
            "Epoch 48/150\n",
            "6/6 [==============================] - 0s 54ms/step - loss: 1.5383 - val_loss: 1.4696\n",
            "Epoch 49/150\n",
            "6/6 [==============================] - 0s 48ms/step - loss: 1.5222 - val_loss: 1.3101\n",
            "Epoch 50/150\n",
            "6/6 [==============================] - 0s 57ms/step - loss: 1.4300 - val_loss: 1.3590\n",
            "Epoch 51/150\n",
            "6/6 [==============================] - 0s 61ms/step - loss: 1.3663 - val_loss: 1.2943\n",
            "Epoch 52/150\n",
            "6/6 [==============================] - 0s 45ms/step - loss: 1.2779 - val_loss: 1.2084\n",
            "Epoch 53/150\n",
            "6/6 [==============================] - 0s 39ms/step - loss: 1.2183 - val_loss: 1.1445\n",
            "Epoch 54/150\n",
            "6/6 [==============================] - 0s 53ms/step - loss: 1.1418 - val_loss: 1.1434\n",
            "Epoch 55/150\n",
            "6/6 [==============================] - 0s 26ms/step - loss: 1.1297 - val_loss: 1.0492\n",
            "Epoch 56/150\n",
            "6/6 [==============================] - 0s 29ms/step - loss: 1.0745 - val_loss: 1.0349\n",
            "Epoch 57/150\n",
            "6/6 [==============================] - 0s 47ms/step - loss: 1.0452 - val_loss: 0.9213\n",
            "Epoch 58/150\n",
            "6/6 [==============================] - 0s 44ms/step - loss: 1.0102 - val_loss: 0.9362\n",
            "Epoch 59/150\n",
            "6/6 [==============================] - 0s 44ms/step - loss: 1.0016 - val_loss: 0.9171\n",
            "Epoch 60/150\n",
            "6/6 [==============================] - 0s 34ms/step - loss: 0.9722 - val_loss: 0.8915\n",
            "Epoch 61/150\n",
            "6/6 [==============================] - 0s 37ms/step - loss: 0.9052 - val_loss: 0.8556\n",
            "Epoch 62/150\n",
            "6/6 [==============================] - 0s 48ms/step - loss: 0.8772 - val_loss: 0.8368\n",
            "Epoch 63/150\n",
            "6/6 [==============================] - 0s 46ms/step - loss: 0.8375 - val_loss: 0.7909\n",
            "Epoch 64/150\n",
            "6/6 [==============================] - 0s 54ms/step - loss: 0.8223 - val_loss: 0.7949\n",
            "Epoch 65/150\n",
            "6/6 [==============================] - 0s 45ms/step - loss: 0.8046 - val_loss: 0.7395\n",
            "Epoch 66/150\n",
            "6/6 [==============================] - 0s 76ms/step - loss: 0.7737 - val_loss: 0.7395\n",
            "Epoch 67/150\n",
            "6/6 [==============================] - 0s 57ms/step - loss: 0.7573 - val_loss: 0.6912\n",
            "Epoch 68/150\n",
            "6/6 [==============================] - 0s 45ms/step - loss: 0.7205 - val_loss: 0.6769\n",
            "Epoch 69/150\n",
            "6/6 [==============================] - 0s 71ms/step - loss: 0.7141 - val_loss: 0.6790\n",
            "Epoch 70/150\n",
            "6/6 [==============================] - 0s 80ms/step - loss: 0.7096 - val_loss: 0.6315\n",
            "Epoch 71/150\n",
            "6/6 [==============================] - 0s 69ms/step - loss: 0.6943 - val_loss: 0.6457\n",
            "Epoch 72/150\n",
            "6/6 [==============================] - 0s 49ms/step - loss: 0.6720 - val_loss: 0.6149\n",
            "Epoch 73/150\n",
            "6/6 [==============================] - 0s 54ms/step - loss: 0.6622 - val_loss: 0.5874\n",
            "Epoch 74/150\n",
            "6/6 [==============================] - 0s 54ms/step - loss: 0.6361 - val_loss: 0.5902\n",
            "Epoch 75/150\n",
            "6/6 [==============================] - 0s 41ms/step - loss: 0.6041 - val_loss: 0.5617\n",
            "Epoch 76/150\n",
            "6/6 [==============================] - 0s 44ms/step - loss: 0.6047 - val_loss: 0.5513\n",
            "Epoch 77/150\n",
            "6/6 [==============================] - 0s 43ms/step - loss: 0.5936 - val_loss: 0.5380\n",
            "Epoch 78/150\n",
            "6/6 [==============================] - 0s 52ms/step - loss: 0.5934 - val_loss: 0.5245\n",
            "Epoch 79/150\n",
            "6/6 [==============================] - 0s 45ms/step - loss: 0.5699 - val_loss: 0.5276\n",
            "Epoch 80/150\n",
            "6/6 [==============================] - 0s 47ms/step - loss: 0.5599 - val_loss: 0.5075\n",
            "Epoch 81/150\n",
            "6/6 [==============================] - 0s 51ms/step - loss: 0.5435 - val_loss: 0.5149\n",
            "Epoch 82/150\n",
            "6/6 [==============================] - 0s 64ms/step - loss: 0.5392 - val_loss: 0.4943\n",
            "Epoch 83/150\n",
            "6/6 [==============================] - 0s 45ms/step - loss: 0.5234 - val_loss: 0.4782\n",
            "Epoch 84/150\n",
            "6/6 [==============================] - 0s 49ms/step - loss: 0.5153 - val_loss: 0.4826\n",
            "Epoch 85/150\n",
            "6/6 [==============================] - 0s 53ms/step - loss: 0.5112 - val_loss: 0.4729\n",
            "Epoch 86/150\n",
            "6/6 [==============================] - 0s 41ms/step - loss: 0.4890 - val_loss: 0.4543\n",
            "Epoch 87/150\n",
            "6/6 [==============================] - 0s 53ms/step - loss: 0.4938 - val_loss: 0.4478\n",
            "Epoch 88/150\n",
            "6/6 [==============================] - 0s 60ms/step - loss: 0.4902 - val_loss: 0.4399\n",
            "Epoch 89/150\n",
            "6/6 [==============================] - 0s 64ms/step - loss: 0.4812 - val_loss: 0.4333\n",
            "Epoch 90/150\n",
            "6/6 [==============================] - 0s 63ms/step - loss: 0.4643 - val_loss: 0.4250\n",
            "Epoch 91/150\n",
            "6/6 [==============================] - 0s 63ms/step - loss: 0.4556 - val_loss: 0.4136\n",
            "Epoch 92/150\n",
            "6/6 [==============================] - 0s 64ms/step - loss: 0.4491 - val_loss: 0.4210\n",
            "Epoch 93/150\n",
            "6/6 [==============================] - 0s 73ms/step - loss: 0.4551 - val_loss: 0.4039\n",
            "Epoch 94/150\n",
            "6/6 [==============================] - 0s 64ms/step - loss: 0.4457 - val_loss: 0.4115\n",
            "Epoch 95/150\n",
            "6/6 [==============================] - 0s 51ms/step - loss: 0.4405 - val_loss: 0.3925\n",
            "Epoch 96/150\n",
            "6/6 [==============================] - 0s 63ms/step - loss: 0.4303 - val_loss: 0.3843\n",
            "Epoch 97/150\n",
            "6/6 [==============================] - 0s 68ms/step - loss: 0.4293 - val_loss: 0.3881\n",
            "Epoch 98/150\n",
            "6/6 [==============================] - 0s 41ms/step - loss: 0.4236 - val_loss: 0.3821\n",
            "Epoch 99/150\n",
            "6/6 [==============================] - 0s 42ms/step - loss: 0.4095 - val_loss: 0.3744\n",
            "Epoch 100/150\n",
            "6/6 [==============================] - 0s 49ms/step - loss: 0.4126 - val_loss: 0.3758\n",
            "Epoch 101/150\n",
            "6/6 [==============================] - 0s 39ms/step - loss: 0.4107 - val_loss: 0.3734\n",
            "Epoch 102/150\n",
            "6/6 [==============================] - 0s 36ms/step - loss: 0.4090 - val_loss: 0.3651\n",
            "Epoch 103/150\n",
            "6/6 [==============================] - 0s 45ms/step - loss: 0.3965 - val_loss: 0.3749\n",
            "Epoch 104/150\n",
            "6/6 [==============================] - 0s 47ms/step - loss: 0.3976 - val_loss: 0.3545\n",
            "Epoch 105/150\n",
            "6/6 [==============================] - 0s 51ms/step - loss: 0.3916 - val_loss: 0.3616\n",
            "Epoch 106/150\n",
            "6/6 [==============================] - 0s 43ms/step - loss: 0.3872 - val_loss: 0.3564\n",
            "Epoch 107/150\n",
            "6/6 [==============================] - 0s 54ms/step - loss: 0.3929 - val_loss: 0.3366\n",
            "Epoch 108/150\n",
            "6/6 [==============================] - 0s 46ms/step - loss: 0.3874 - val_loss: 0.3462\n",
            "Epoch 109/150\n",
            "6/6 [==============================] - 0s 46ms/step - loss: 0.3857 - val_loss: 0.3364\n",
            "Epoch 110/150\n",
            "6/6 [==============================] - 0s 50ms/step - loss: 0.3784 - val_loss: 0.3471\n",
            "Epoch 111/150\n",
            "6/6 [==============================] - 0s 37ms/step - loss: 0.3824 - val_loss: 0.3380\n",
            "Epoch 112/150\n",
            "6/6 [==============================] - 0s 35ms/step - loss: 0.3752 - val_loss: 0.3366\n",
            "Epoch 113/150\n",
            "6/6 [==============================] - 0s 48ms/step - loss: 0.3674 - val_loss: 0.3307\n",
            "Epoch 114/150\n",
            "6/6 [==============================] - 0s 54ms/step - loss: 0.3675 - val_loss: 0.3308\n",
            "Epoch 115/150\n",
            "6/6 [==============================] - 0s 47ms/step - loss: 0.3627 - val_loss: 0.3197\n",
            "Epoch 116/150\n",
            "6/6 [==============================] - 0s 55ms/step - loss: 0.3559 - val_loss: 0.3220\n",
            "Epoch 117/150\n",
            "6/6 [==============================] - 0s 36ms/step - loss: 0.3541 - val_loss: 0.3225\n",
            "Epoch 118/150\n",
            "6/6 [==============================] - 0s 37ms/step - loss: 0.3520 - val_loss: 0.3224\n",
            "Epoch 119/150\n",
            "6/6 [==============================] - 0s 34ms/step - loss: 0.3500 - val_loss: 0.3111\n",
            "Epoch 120/150\n",
            "6/6 [==============================] - 0s 42ms/step - loss: 0.3443 - val_loss: 0.3144\n",
            "Epoch 121/150\n",
            "6/6 [==============================] - 0s 41ms/step - loss: 0.3477 - val_loss: 0.3082\n",
            "Epoch 122/150\n",
            "6/6 [==============================] - 0s 53ms/step - loss: 0.3490 - val_loss: 0.3053\n",
            "Epoch 123/150\n",
            "6/6 [==============================] - 0s 46ms/step - loss: 0.3549 - val_loss: 0.3086\n",
            "Epoch 124/150\n",
            "6/6 [==============================] - 0s 73ms/step - loss: 0.3458 - val_loss: 0.3084\n",
            "Epoch 125/150\n",
            "6/6 [==============================] - 0s 71ms/step - loss: 0.3442 - val_loss: 0.3067\n",
            "Epoch 126/150\n",
            "6/6 [==============================] - 0s 62ms/step - loss: 0.3448 - val_loss: 0.3021\n",
            "Epoch 127/150\n",
            "6/6 [==============================] - 0s 50ms/step - loss: 0.3376 - val_loss: 0.3057\n",
            "Epoch 128/150\n",
            "6/6 [==============================] - 0s 61ms/step - loss: 0.3468 - val_loss: 0.3078\n",
            "Epoch 129/150\n",
            "6/6 [==============================] - 0s 70ms/step - loss: 0.3396 - val_loss: 0.3004\n",
            "Epoch 130/150\n",
            "6/6 [==============================] - 0s 50ms/step - loss: 0.3403 - val_loss: 0.3046\n",
            "Epoch 131/150\n",
            "6/6 [==============================] - 0s 57ms/step - loss: 0.3303 - val_loss: 0.2994\n",
            "Epoch 132/150\n",
            "6/6 [==============================] - 0s 54ms/step - loss: 0.3335 - val_loss: 0.2953\n",
            "Epoch 133/150\n",
            "6/6 [==============================] - 0s 58ms/step - loss: 0.3263 - val_loss: 0.2917\n",
            "Epoch 134/150\n",
            "6/6 [==============================] - 0s 53ms/step - loss: 0.3232 - val_loss: 0.2922\n",
            "Epoch 135/150\n",
            "6/6 [==============================] - 0s 36ms/step - loss: 0.3265 - val_loss: 0.2917\n",
            "Epoch 136/150\n",
            "6/6 [==============================] - 0s 48ms/step - loss: 0.3244 - val_loss: 0.2869\n",
            "Epoch 137/150\n",
            "6/6 [==============================] - 0s 45ms/step - loss: 0.3207 - val_loss: 0.2863\n",
            "Epoch 138/150\n",
            "6/6 [==============================] - 0s 44ms/step - loss: 0.3251 - val_loss: 0.2918\n",
            "Epoch 139/150\n",
            "6/6 [==============================] - 0s 42ms/step - loss: 0.3262 - val_loss: 0.2806\n",
            "Epoch 140/150\n",
            "6/6 [==============================] - 0s 38ms/step - loss: 0.3261 - val_loss: 0.2785\n",
            "Epoch 141/150\n",
            "6/6 [==============================] - 0s 44ms/step - loss: 0.3202 - val_loss: 0.2870\n",
            "Epoch 142/150\n",
            "6/6 [==============================] - 0s 25ms/step - loss: 0.3192 - val_loss: 0.2777\n",
            "Epoch 143/150\n",
            "6/6 [==============================] - 0s 24ms/step - loss: 0.3183 - val_loss: 0.2782\n",
            "Epoch 144/150\n",
            "6/6 [==============================] - 0s 28ms/step - loss: 0.3170 - val_loss: 0.2801\n",
            "Epoch 145/150\n",
            "6/6 [==============================] - 0s 24ms/step - loss: 0.3136 - val_loss: 0.2751\n",
            "Epoch 146/150\n",
            "6/6 [==============================] - 0s 26ms/step - loss: 0.3203 - val_loss: 0.2835\n",
            "Epoch 147/150\n",
            "6/6 [==============================] - 0s 26ms/step - loss: 0.3200 - val_loss: 0.2809\n",
            "Epoch 148/150\n",
            "6/6 [==============================] - 0s 27ms/step - loss: 0.3165 - val_loss: 0.2904\n",
            "Epoch 149/150\n",
            "6/6 [==============================] - 0s 27ms/step - loss: 0.3153 - val_loss: 0.2747\n",
            "Epoch 150/150\n",
            "6/6 [==============================] - 0s 28ms/step - loss: 0.3114 - val_loss: 0.2773\n"
          ]
        }
      ],
      "source": [
        "#Entreno el modelo con 150 epocas metiendo los valores de datax.T\n",
        "history = vae.fit(datax.T, datax.T, validation_split= 0.3, batch_size=64, epochs=150)"
      ]
    },
    {
      "cell_type": "code",
      "execution_count": null,
      "metadata": {
        "colab": {
          "base_uri": "https://localhost:8080/",
          "height": 283
        },
        "id": "j-RTy7FxDGH_",
        "outputId": "df943122-0748-4462-846e-341aa4106171"
      },
      "outputs": [
        {
          "data": {
            "text/plain": [
              "[<matplotlib.lines.Line2D at 0x7f351015d2b0>]"
            ]
          },
          "execution_count": 57,
          "metadata": {},
          "output_type": "execute_result"
        },
        {
          "data": {
            "image/png": "[encoded data removed]",
            "text/plain": [
              "<Figure size 432x288 with 1 Axes>"
            ]
          },
          "metadata": {},
          "output_type": "display_data"
        }
      ],
      "source": [
        "# Representamos para ver como queda\n",
        "plt.plot(history.history['loss'])\n",
        "plt.plot(history.history['val_loss'])"
      ]
    },
    {
      "cell_type": "code",
      "execution_count": null,
      "metadata": {
        "colab": {
          "base_uri": "https://localhost:8080/"
        },
        "id": "qUd4dd55DGFX",
        "outputId": "3282d4f6-3016-4ab0-a54c-04ff386ca7fb"
      },
      "outputs": [
        {
          "name": "stdout",
          "output_type": "stream",
          "text": [
            "15/15 [==============================] - 0s 9ms/step\n"
          ]
        }
      ],
      "source": [
        "# Genero series de precios de las empresas constituyentes del S&P500, como indica el enunciado\n",
        "components_generated = np.array([np.random.randn(1, z_dim)[0] for _ in np.arange(470)])\n",
        "returns_generated = decoder3MG.predict(components_generated)\n",
        "prices_generated = np.vstack([np.log(data_clean.values[0:1]), returns_generated.T]).cumsum(axis=0)\n",
        "prices_generated = np.exp(prices_generated)"
      ]
    },
    {
      "cell_type": "code",
      "execution_count": null,
      "metadata": {
        "colab": {
          "base_uri": "https://localhost:8080/",
          "height": 1000
        },
        "id": "GEmuWS75DGC7",
        "outputId": "52c9114a-34ea-4fd7-c9ff-084bd002b734"
      },
      "outputs": [
        {
          "data": {
            "text/plain": [
              "[<matplotlib.lines.Line2D at 0x7f350db64c40>,\n",
              " <matplotlib.lines.Line2D at 0x7f350db64d90>,\n",
              " <matplotlib.lines.Line2D at 0x7f350db64e50>,\n",
              " <matplotlib.lines.Line2D at 0x7f350db64f10>,\n",
              " <matplotlib.lines.Line2D at 0x7f350db64fd0>,\n",
              " <matplotlib.lines.Line2D at 0x7f350db830d0>,\n",
              " <matplotlib.lines.Line2D at 0x7f350db83190>,\n",
              " <matplotlib.lines.Line2D at 0x7f350db83250>,\n",
              " <matplotlib.lines.Line2D at 0x7f350db83310>,\n",
              " <matplotlib.lines.Line2D at 0x7f350db833d0>,\n",
              " <matplotlib.lines.Line2D at 0x7f350db64ca0>,\n",
              " <matplotlib.lines.Line2D at 0x7f350db834f0>,\n",
              " <matplotlib.lines.Line2D at 0x7f350db835e0>,\n",
              " <matplotlib.lines.Line2D at 0x7f350db836a0>,\n",
              " <matplotlib.lines.Line2D at 0x7f350db83760>,\n",
              " <matplotlib.lines.Line2D at 0x7f350db83820>,\n",
              " <matplotlib.lines.Line2D at 0x7f350db838e0>,\n",
              " <matplotlib.lines.Line2D at 0x7f350db839a0>,\n",
              " <matplotlib.lines.Line2D at 0x7f350db83a60>,\n",
              " <matplotlib.lines.Line2D at 0x7f350db83b20>,\n",
              " <matplotlib.lines.Line2D at 0x7f350db83be0>,\n",
              " <matplotlib.lines.Line2D at 0x7f350db83ca0>,\n",
              " <matplotlib.lines.Line2D at 0x7f350db83d60>,\n",
              " <matplotlib.lines.Line2D at 0x7f350db83e20>,\n",
              " <matplotlib.lines.Line2D at 0x7f350db83ee0>,\n",
              " <matplotlib.lines.Line2D at 0x7f350db83fa0>,\n",
              " <matplotlib.lines.Line2D at 0x7f350e0f40a0>,\n",
              " <matplotlib.lines.Line2D at 0x7f350e0f4160>,\n",
              " <matplotlib.lines.Line2D at 0x7f350e0f4220>,\n",
              " <matplotlib.lines.Line2D at 0x7f350e0f42e0>,\n",
              " <matplotlib.lines.Line2D at 0x7f350e0f43a0>,\n",
              " <matplotlib.lines.Line2D at 0x7f350e0f4460>,\n",
              " <matplotlib.lines.Line2D at 0x7f350e0f4520>,\n",
              " <matplotlib.lines.Line2D at 0x7f350e0f45e0>,\n",
              " <matplotlib.lines.Line2D at 0x7f350e0f46a0>,\n",
              " <matplotlib.lines.Line2D at 0x7f350e0f4760>,\n",
              " <matplotlib.lines.Line2D at 0x7f350e0f4820>,\n",
              " <matplotlib.lines.Line2D at 0x7f350e0f48e0>,\n",
              " <matplotlib.lines.Line2D at 0x7f350e0f49a0>,\n",
              " <matplotlib.lines.Line2D at 0x7f350e0f4a60>,\n",
              " <matplotlib.lines.Line2D at 0x7f350e0f4b20>,\n",
              " <matplotlib.lines.Line2D at 0x7f350e0f4be0>,\n",
              " <matplotlib.lines.Line2D at 0x7f350e0f4ca0>,\n",
              " <matplotlib.lines.Line2D at 0x7f350e0f4d60>,\n",
              " <matplotlib.lines.Line2D at 0x7f350e0f4e20>,\n",
              " <matplotlib.lines.Line2D at 0x7f350e0f4ee0>,\n",
              " <matplotlib.lines.Line2D at 0x7f350e0f4fa0>,\n",
              " <matplotlib.lines.Line2D at 0x7f350e1110a0>,\n",
              " <matplotlib.lines.Line2D at 0x7f350e111160>,\n",
              " <matplotlib.lines.Line2D at 0x7f350e111220>,\n",
              " <matplotlib.lines.Line2D at 0x7f350e1112e0>,\n",
              " <matplotlib.lines.Line2D at 0x7f350e1113a0>,\n",
              " <matplotlib.lines.Line2D at 0x7f350e111460>,\n",
              " <matplotlib.lines.Line2D at 0x7f350e111520>,\n",
              " <matplotlib.lines.Line2D at 0x7f350e1115e0>,\n",
              " <matplotlib.lines.Line2D at 0x7f350e1116a0>,\n",
              " <matplotlib.lines.Line2D at 0x7f350e111760>,\n",
              " <matplotlib.lines.Line2D at 0x7f350e111820>,\n",
              " <matplotlib.lines.Line2D at 0x7f350e1118e0>,\n",
              " <matplotlib.lines.Line2D at 0x7f350e1119a0>,\n",
              " <matplotlib.lines.Line2D at 0x7f350e111a60>,\n",
              " <matplotlib.lines.Line2D at 0x7f350e111b20>,\n",
              " <matplotlib.lines.Line2D at 0x7f350e111be0>,\n",
              " <matplotlib.lines.Line2D at 0x7f350e111ca0>,\n",
              " <matplotlib.lines.Line2D at 0x7f350e111d60>,\n",
              " <matplotlib.lines.Line2D at 0x7f350e111e20>,\n",
              " <matplotlib.lines.Line2D at 0x7f350e111ee0>,\n",
              " <matplotlib.lines.Line2D at 0x7f350e111fa0>,\n",
              " <matplotlib.lines.Line2D at 0x7f350e1140a0>,\n",
              " <matplotlib.lines.Line2D at 0x7f350e114160>,\n",
              " <matplotlib.lines.Line2D at 0x7f350e114220>,\n",
              " <matplotlib.lines.Line2D at 0x7f350e1142e0>,\n",
              " <matplotlib.lines.Line2D at 0x7f350e1143a0>,\n",
              " <matplotlib.lines.Line2D at 0x7f350e114460>,\n",
              " <matplotlib.lines.Line2D at 0x7f350e114520>,\n",
              " <matplotlib.lines.Line2D at 0x7f350e1145e0>,\n",
              " <matplotlib.lines.Line2D at 0x7f350e1146a0>,\n",
              " <matplotlib.lines.Line2D at 0x7f350e114760>,\n",
              " <matplotlib.lines.Line2D at 0x7f350e114820>,\n",
              " <matplotlib.lines.Line2D at 0x7f350e1148e0>,\n",
              " <matplotlib.lines.Line2D at 0x7f350e1149a0>,\n",
              " <matplotlib.lines.Line2D at 0x7f350e114a60>,\n",
              " <matplotlib.lines.Line2D at 0x7f350e114b20>,\n",
              " <matplotlib.lines.Line2D at 0x7f350e114be0>,\n",
              " <matplotlib.lines.Line2D at 0x7f350e114ca0>,\n",
              " <matplotlib.lines.Line2D at 0x7f350e114d60>,\n",
              " <matplotlib.lines.Line2D at 0x7f350e114e20>,\n",
              " <matplotlib.lines.Line2D at 0x7f350e114ee0>,\n",
              " <matplotlib.lines.Line2D at 0x7f350e114fa0>,\n",
              " <matplotlib.lines.Line2D at 0x7f350e0fd0a0>,\n",
              " <matplotlib.lines.Line2D at 0x7f350e0fd160>,\n",
              " <matplotlib.lines.Line2D at 0x7f350e0fd220>,\n",
              " <matplotlib.lines.Line2D at 0x7f350e0fd2e0>,\n",
              " <matplotlib.lines.Line2D at 0x7f350e0fd3a0>,\n",
              " <matplotlib.lines.Line2D at 0x7f350e0fd460>,\n",
              " <matplotlib.lines.Line2D at 0x7f350e0fd520>,\n",
              " <matplotlib.lines.Line2D at 0x7f350e0fd5e0>,\n",
              " <matplotlib.lines.Line2D at 0x7f350e0fd6a0>,\n",
              " <matplotlib.lines.Line2D at 0x7f350e0fd760>,\n",
              " <matplotlib.lines.Line2D at 0x7f350e0fd820>,\n",
              " <matplotlib.lines.Line2D at 0x7f350e0fd8e0>,\n",
              " <matplotlib.lines.Line2D at 0x7f350e0fd9a0>,\n",
              " <matplotlib.lines.Line2D at 0x7f350e0fda60>,\n",
              " <matplotlib.lines.Line2D at 0x7f350e0fdb20>,\n",
              " <matplotlib.lines.Line2D at 0x7f350e0fdbe0>,\n",
              " <matplotlib.lines.Line2D at 0x7f350e0fdca0>,\n",
              " <matplotlib.lines.Line2D at 0x7f350e0fdd60>,\n",
              " <matplotlib.lines.Line2D at 0x7f350e0fde20>,\n",
              " <matplotlib.lines.Line2D at 0x7f350e0fdee0>,\n",
              " <matplotlib.lines.Line2D at 0x7f350e0fdfa0>,\n",
              " <matplotlib.lines.Line2D at 0x7f350db450a0>,\n",
              " <matplotlib.lines.Line2D at 0x7f350db45160>,\n",
              " <matplotlib.lines.Line2D at 0x7f350db45220>,\n",
              " <matplotlib.lines.Line2D at 0x7f350db452e0>,\n",
              " <matplotlib.lines.Line2D at 0x7f350db453a0>,\n",
              " <matplotlib.lines.Line2D at 0x7f350db45460>,\n",
              " <matplotlib.lines.Line2D at 0x7f350db45520>,\n",
              " <matplotlib.lines.Line2D at 0x7f350db455e0>,\n",
              " <matplotlib.lines.Line2D at 0x7f350db456a0>,\n",
              " <matplotlib.lines.Line2D at 0x7f350db45760>,\n",
              " <matplotlib.lines.Line2D at 0x7f350db45820>,\n",
              " <matplotlib.lines.Line2D at 0x7f350db458e0>,\n",
              " <matplotlib.lines.Line2D at 0x7f350db459a0>,\n",
              " <matplotlib.lines.Line2D at 0x7f350db45a60>,\n",
              " <matplotlib.lines.Line2D at 0x7f350db45b20>,\n",
              " <matplotlib.lines.Line2D at 0x7f350db45be0>,\n",
              " <matplotlib.lines.Line2D at 0x7f350db45ca0>,\n",
              " <matplotlib.lines.Line2D at 0x7f350db45d60>,\n",
              " <matplotlib.lines.Line2D at 0x7f350db45e20>,\n",
              " <matplotlib.lines.Line2D at 0x7f350db45ee0>,\n",
              " <matplotlib.lines.Line2D at 0x7f350db45fa0>,\n",
              " <matplotlib.lines.Line2D at 0x7f350db260a0>,\n",
              " <matplotlib.lines.Line2D at 0x7f350db26160>,\n",
              " <matplotlib.lines.Line2D at 0x7f350db26220>,\n",
              " <matplotlib.lines.Line2D at 0x7f350db262e0>,\n",
              " <matplotlib.lines.Line2D at 0x7f350db263a0>,\n",
              " <matplotlib.lines.Line2D at 0x7f350db26460>,\n",
              " <matplotlib.lines.Line2D at 0x7f350db26520>,\n",
              " <matplotlib.lines.Line2D at 0x7f350db265e0>,\n",
              " <matplotlib.lines.Line2D at 0x7f350db266a0>,\n",
              " <matplotlib.lines.Line2D at 0x7f350db26760>,\n",
              " <matplotlib.lines.Line2D at 0x7f350db26820>,\n",
              " <matplotlib.lines.Line2D at 0x7f350db268e0>,\n",
              " <matplotlib.lines.Line2D at 0x7f350db269a0>,\n",
              " <matplotlib.lines.Line2D at 0x7f350db26a60>,\n",
              " <matplotlib.lines.Line2D at 0x7f350db26b20>,\n",
              " <matplotlib.lines.Line2D at 0x7f350db26be0>,\n",
              " <matplotlib.lines.Line2D at 0x7f350db26ca0>,\n",
              " <matplotlib.lines.Line2D at 0x7f350db26d60>,\n",
              " <matplotlib.lines.Line2D at 0x7f350db26e20>,\n",
              " <matplotlib.lines.Line2D at 0x7f350db26ee0>,\n",
              " <matplotlib.lines.Line2D at 0x7f350db26fa0>,\n",
              " <matplotlib.lines.Line2D at 0x7f350db4f0a0>,\n",
              " <matplotlib.lines.Line2D at 0x7f350db4f160>,\n",
              " <matplotlib.lines.Line2D at 0x7f350db4f220>,\n",
              " <matplotlib.lines.Line2D at 0x7f350db4f2e0>,\n",
              " <matplotlib.lines.Line2D at 0x7f350db4f3a0>,\n",
              " <matplotlib.lines.Line2D at 0x7f350db4f460>,\n",
              " <matplotlib.lines.Line2D at 0x7f350db4f520>,\n",
              " <matplotlib.lines.Line2D at 0x7f350db4f5e0>,\n",
              " <matplotlib.lines.Line2D at 0x7f350db4f6a0>,\n",
              " <matplotlib.lines.Line2D at 0x7f350db4f760>,\n",
              " <matplotlib.lines.Line2D at 0x7f350db4f820>,\n",
              " <matplotlib.lines.Line2D at 0x7f350db4f8e0>,\n",
              " <matplotlib.lines.Line2D at 0x7f350db4f9a0>,\n",
              " <matplotlib.lines.Line2D at 0x7f350db4fa60>,\n",
              " <matplotlib.lines.Line2D at 0x7f350db4fb20>,\n",
              " <matplotlib.lines.Line2D at 0x7f350db4fbe0>,\n",
              " <matplotlib.lines.Line2D at 0x7f350db4fca0>,\n",
              " <matplotlib.lines.Line2D at 0x7f350db4fd60>,\n",
              " <matplotlib.lines.Line2D at 0x7f350db4fe20>,\n",
              " <matplotlib.lines.Line2D at 0x7f350db4fee0>,\n",
              " <matplotlib.lines.Line2D at 0x7f350db4ffa0>,\n",
              " <matplotlib.lines.Line2D at 0x7f350db430a0>,\n",
              " <matplotlib.lines.Line2D at 0x7f350db43160>,\n",
              " <matplotlib.lines.Line2D at 0x7f350db43220>,\n",
              " <matplotlib.lines.Line2D at 0x7f350db432e0>,\n",
              " <matplotlib.lines.Line2D at 0x7f350db433a0>,\n",
              " <matplotlib.lines.Line2D at 0x7f350db43460>,\n",
              " <matplotlib.lines.Line2D at 0x7f350db43520>,\n",
              " <matplotlib.lines.Line2D at 0x7f350db435e0>,\n",
              " <matplotlib.lines.Line2D at 0x7f350db436a0>,\n",
              " <matplotlib.lines.Line2D at 0x7f350db43760>,\n",
              " <matplotlib.lines.Line2D at 0x7f350db43820>,\n",
              " <matplotlib.lines.Line2D at 0x7f350db438e0>,\n",
              " <matplotlib.lines.Line2D at 0x7f350db439a0>,\n",
              " <matplotlib.lines.Line2D at 0x7f350db43a60>,\n",
              " <matplotlib.lines.Line2D at 0x7f350db43b20>,\n",
              " <matplotlib.lines.Line2D at 0x7f350db43be0>,\n",
              " <matplotlib.lines.Line2D at 0x7f350db43ca0>,\n",
              " <matplotlib.lines.Line2D at 0x7f350db43d60>,\n",
              " <matplotlib.lines.Line2D at 0x7f350db43e20>,\n",
              " <matplotlib.lines.Line2D at 0x7f350db43ee0>,\n",
              " <matplotlib.lines.Line2D at 0x7f350db43fa0>,\n",
              " <matplotlib.lines.Line2D at 0x7f350db350a0>,\n",
              " <matplotlib.lines.Line2D at 0x7f350db35160>,\n",
              " <matplotlib.lines.Line2D at 0x7f350db35220>,\n",
              " <matplotlib.lines.Line2D at 0x7f350db352e0>,\n",
              " <matplotlib.lines.Line2D at 0x7f350db353a0>,\n",
              " <matplotlib.lines.Line2D at 0x7f350db35460>,\n",
              " <matplotlib.lines.Line2D at 0x7f350db35520>,\n",
              " <matplotlib.lines.Line2D at 0x7f350db355e0>,\n",
              " <matplotlib.lines.Line2D at 0x7f350db356a0>,\n",
              " <matplotlib.lines.Line2D at 0x7f350db35760>,\n",
              " <matplotlib.lines.Line2D at 0x7f350db35820>,\n",
              " <matplotlib.lines.Line2D at 0x7f350db358e0>,\n",
              " <matplotlib.lines.Line2D at 0x7f350db359a0>,\n",
              " <matplotlib.lines.Line2D at 0x7f350db35a60>,\n",
              " <matplotlib.lines.Line2D at 0x7f350db35b20>,\n",
              " <matplotlib.lines.Line2D at 0x7f350db35be0>,\n",
              " <matplotlib.lines.Line2D at 0x7f350db35ca0>,\n",
              " <matplotlib.lines.Line2D at 0x7f350db35d60>,\n",
              " <matplotlib.lines.Line2D at 0x7f350db35e20>,\n",
              " <matplotlib.lines.Line2D at 0x7f350db35ee0>,\n",
              " <matplotlib.lines.Line2D at 0x7f350db35fa0>,\n",
              " <matplotlib.lines.Line2D at 0x7f350b2d30a0>,\n",
              " <matplotlib.lines.Line2D at 0x7f350b2d3160>,\n",
              " <matplotlib.lines.Line2D at 0x7f350b2d3220>,\n",
              " <matplotlib.lines.Line2D at 0x7f350b2d32e0>,\n",
              " <matplotlib.lines.Line2D at 0x7f350b2d33a0>,\n",
              " <matplotlib.lines.Line2D at 0x7f350b2d3460>,\n",
              " <matplotlib.lines.Line2D at 0x7f350b2d3520>,\n",
              " <matplotlib.lines.Line2D at 0x7f350b2d35e0>,\n",
              " <matplotlib.lines.Line2D at 0x7f350b2d36a0>,\n",
              " <matplotlib.lines.Line2D at 0x7f350b2d3760>,\n",
              " <matplotlib.lines.Line2D at 0x7f350b2d3820>,\n",
              " <matplotlib.lines.Line2D at 0x7f350b2d38e0>,\n",
              " <matplotlib.lines.Line2D at 0x7f350b2d39a0>,\n",
              " <matplotlib.lines.Line2D at 0x7f350b2d3a60>,\n",
              " <matplotlib.lines.Line2D at 0x7f350b2d3b20>,\n",
              " <matplotlib.lines.Line2D at 0x7f350b2d3be0>,\n",
              " <matplotlib.lines.Line2D at 0x7f350b2d3ca0>,\n",
              " <matplotlib.lines.Line2D at 0x7f350b2d3d60>,\n",
              " <matplotlib.lines.Line2D at 0x7f350b2d3e20>,\n",
              " <matplotlib.lines.Line2D at 0x7f350b2d3ee0>,\n",
              " <matplotlib.lines.Line2D at 0x7f350b2d3fa0>,\n",
              " <matplotlib.lines.Line2D at 0x7f350b2b0c40>,\n",
              " <matplotlib.lines.Line2D at 0x7f350b2b0c70>,\n",
              " <matplotlib.lines.Line2D at 0x7f350b2b0c10>,\n",
              " <matplotlib.lines.Line2D at 0x7f350b2b0eb0>,\n",
              " <matplotlib.lines.Line2D at 0x7f350b2b0dc0>,\n",
              " <matplotlib.lines.Line2D at 0x7f350b2b0d30>,\n",
              " <matplotlib.lines.Line2D at 0x7f350b2b00a0>,\n",
              " <matplotlib.lines.Line2D at 0x7f350b2b0ee0>,\n",
              " <matplotlib.lines.Line2D at 0x7f350b2b0a00>,\n",
              " <matplotlib.lines.Line2D at 0x7f350b2b0970>,\n",
              " <matplotlib.lines.Line2D at 0x7f350b2b07f0>,\n",
              " <matplotlib.lines.Line2D at 0x7f350b2b07c0>,\n",
              " <matplotlib.lines.Line2D at 0x7f350b2b0640>,\n",
              " <matplotlib.lines.Line2D at 0x7f350b2b0610>,\n",
              " <matplotlib.lines.Line2D at 0x7f350b2b0130>,\n",
              " <matplotlib.lines.Line2D at 0x7f350b2b0100>,\n",
              " <matplotlib.lines.Line2D at 0x7f350b2b0550>,\n",
              " <matplotlib.lines.Line2D at 0x7f350b2b04f0>,\n",
              " <matplotlib.lines.Line2D at 0x7f350b2b03a0>,\n",
              " <matplotlib.lines.Line2D at 0x7f350b2b0340>,\n",
              " <matplotlib.lines.Line2D at 0x7f350b2b05b0>,\n",
              " <matplotlib.lines.Line2D at 0x7f350b2b70a0>,\n",
              " <matplotlib.lines.Line2D at 0x7f350b2b7160>,\n",
              " <matplotlib.lines.Line2D at 0x7f350b2b7220>,\n",
              " <matplotlib.lines.Line2D at 0x7f350b2b72e0>,\n",
              " <matplotlib.lines.Line2D at 0x7f350b2b73a0>,\n",
              " <matplotlib.lines.Line2D at 0x7f350b2b7460>,\n",
              " <matplotlib.lines.Line2D at 0x7f350b2b7520>,\n",
              " <matplotlib.lines.Line2D at 0x7f350b2b75e0>,\n",
              " <matplotlib.lines.Line2D at 0x7f350b2b76a0>,\n",
              " <matplotlib.lines.Line2D at 0x7f350b2b7760>,\n",
              " <matplotlib.lines.Line2D at 0x7f350b2b7820>,\n",
              " <matplotlib.lines.Line2D at 0x7f350b2b78e0>,\n",
              " <matplotlib.lines.Line2D at 0x7f350b2b79a0>,\n",
              " <matplotlib.lines.Line2D at 0x7f350b2b7a60>,\n",
              " <matplotlib.lines.Line2D at 0x7f350b2b7b20>,\n",
              " <matplotlib.lines.Line2D at 0x7f350b2b7be0>,\n",
              " <matplotlib.lines.Line2D at 0x7f350b2b7ca0>,\n",
              " <matplotlib.lines.Line2D at 0x7f350b2b7d60>,\n",
              " <matplotlib.lines.Line2D at 0x7f350b2b7e20>,\n",
              " <matplotlib.lines.Line2D at 0x7f350b2b7ee0>,\n",
              " <matplotlib.lines.Line2D at 0x7f350b2b7fa0>,\n",
              " <matplotlib.lines.Line2D at 0x7f350b2a40a0>,\n",
              " <matplotlib.lines.Line2D at 0x7f350b2a4160>,\n",
              " <matplotlib.lines.Line2D at 0x7f350b2a4220>,\n",
              " <matplotlib.lines.Line2D at 0x7f350b2a42e0>,\n",
              " <matplotlib.lines.Line2D at 0x7f350b2a43a0>,\n",
              " <matplotlib.lines.Line2D at 0x7f350b2a4460>,\n",
              " <matplotlib.lines.Line2D at 0x7f350b2a4520>,\n",
              " <matplotlib.lines.Line2D at 0x7f350b2a45e0>,\n",
              " <matplotlib.lines.Line2D at 0x7f350b2a46a0>,\n",
              " <matplotlib.lines.Line2D at 0x7f350b2a4760>,\n",
              " <matplotlib.lines.Line2D at 0x7f350b2a4820>,\n",
              " <matplotlib.lines.Line2D at 0x7f350b2a48e0>,\n",
              " <matplotlib.lines.Line2D at 0x7f350b2a49a0>,\n",
              " <matplotlib.lines.Line2D at 0x7f350b2a4a60>,\n",
              " <matplotlib.lines.Line2D at 0x7f350b2a4b20>,\n",
              " <matplotlib.lines.Line2D at 0x7f350b2a4be0>,\n",
              " <matplotlib.lines.Line2D at 0x7f350b2a4ca0>,\n",
              " <matplotlib.lines.Line2D at 0x7f350b2a4d60>,\n",
              " <matplotlib.lines.Line2D at 0x7f350b2a4e20>,\n",
              " <matplotlib.lines.Line2D at 0x7f350b2a4ee0>,\n",
              " <matplotlib.lines.Line2D at 0x7f350b2a4fa0>,\n",
              " <matplotlib.lines.Line2D at 0x7f350dbf70a0>,\n",
              " <matplotlib.lines.Line2D at 0x7f350dbf7160>,\n",
              " <matplotlib.lines.Line2D at 0x7f350dbf7220>,\n",
              " <matplotlib.lines.Line2D at 0x7f350dbf72e0>,\n",
              " <matplotlib.lines.Line2D at 0x7f350dbf73a0>,\n",
              " <matplotlib.lines.Line2D at 0x7f350dbf7460>,\n",
              " <matplotlib.lines.Line2D at 0x7f350dbf7520>,\n",
              " <matplotlib.lines.Line2D at 0x7f350dbf75e0>,\n",
              " <matplotlib.lines.Line2D at 0x7f350dbf76a0>,\n",
              " <matplotlib.lines.Line2D at 0x7f350dbf7760>,\n",
              " <matplotlib.lines.Line2D at 0x7f350dbf7820>,\n",
              " <matplotlib.lines.Line2D at 0x7f350dbf78e0>,\n",
              " <matplotlib.lines.Line2D at 0x7f350dbf79a0>,\n",
              " <matplotlib.lines.Line2D at 0x7f350dbf7a60>,\n",
              " <matplotlib.lines.Line2D at 0x7f350dbf7b20>,\n",
              " <matplotlib.lines.Line2D at 0x7f350dbf7be0>,\n",
              " <matplotlib.lines.Line2D at 0x7f350dbf7ca0>,\n",
              " <matplotlib.lines.Line2D at 0x7f350dbf7d60>,\n",
              " <matplotlib.lines.Line2D at 0x7f350dbf7e20>,\n",
              " <matplotlib.lines.Line2D at 0x7f350dbf7ee0>,\n",
              " <matplotlib.lines.Line2D at 0x7f350dbf7fa0>,\n",
              " <matplotlib.lines.Line2D at 0x7f350dbf30a0>,\n",
              " <matplotlib.lines.Line2D at 0x7f350dbf3160>,\n",
              " <matplotlib.lines.Line2D at 0x7f350dbf3220>,\n",
              " <matplotlib.lines.Line2D at 0x7f350dbf32e0>,\n",
              " <matplotlib.lines.Line2D at 0x7f350dbf33a0>,\n",
              " <matplotlib.lines.Line2D at 0x7f350dbf3460>,\n",
              " <matplotlib.lines.Line2D at 0x7f350dbf3520>,\n",
              " <matplotlib.lines.Line2D at 0x7f350dbf35e0>,\n",
              " <matplotlib.lines.Line2D at 0x7f350dbf36a0>,\n",
              " <matplotlib.lines.Line2D at 0x7f350dbf3760>,\n",
              " <matplotlib.lines.Line2D at 0x7f350dbf3820>,\n",
              " <matplotlib.lines.Line2D at 0x7f350dbf38e0>,\n",
              " <matplotlib.lines.Line2D at 0x7f350dbf39a0>,\n",
              " <matplotlib.lines.Line2D at 0x7f350dbf3a60>,\n",
              " <matplotlib.lines.Line2D at 0x7f350dbf3b20>,\n",
              " <matplotlib.lines.Line2D at 0x7f350dbf3be0>,\n",
              " <matplotlib.lines.Line2D at 0x7f350dbf3ca0>,\n",
              " <matplotlib.lines.Line2D at 0x7f350dbf3d60>,\n",
              " <matplotlib.lines.Line2D at 0x7f350dbf3e20>,\n",
              " <matplotlib.lines.Line2D at 0x7f350dbf3ee0>,\n",
              " <matplotlib.lines.Line2D at 0x7f350dbf3fa0>,\n",
              " <matplotlib.lines.Line2D at 0x7f350dc210a0>,\n",
              " <matplotlib.lines.Line2D at 0x7f350dc21160>,\n",
              " <matplotlib.lines.Line2D at 0x7f350dc21220>,\n",
              " <matplotlib.lines.Line2D at 0x7f350dc212e0>,\n",
              " <matplotlib.lines.Line2D at 0x7f350dc213a0>,\n",
              " <matplotlib.lines.Line2D at 0x7f350dc21460>,\n",
              " <matplotlib.lines.Line2D at 0x7f350dc21520>,\n",
              " <matplotlib.lines.Line2D at 0x7f350dc215e0>,\n",
              " <matplotlib.lines.Line2D at 0x7f350dc216a0>,\n",
              " <matplotlib.lines.Line2D at 0x7f350dc21760>,\n",
              " <matplotlib.lines.Line2D at 0x7f350dc21820>,\n",
              " <matplotlib.lines.Line2D at 0x7f350dc218e0>,\n",
              " <matplotlib.lines.Line2D at 0x7f350dc219a0>,\n",
              " <matplotlib.lines.Line2D at 0x7f350dc21a60>,\n",
              " <matplotlib.lines.Line2D at 0x7f350dc21b20>,\n",
              " <matplotlib.lines.Line2D at 0x7f350dc21be0>,\n",
              " <matplotlib.lines.Line2D at 0x7f350dc21ca0>,\n",
              " <matplotlib.lines.Line2D at 0x7f350dc21d60>,\n",
              " <matplotlib.lines.Line2D at 0x7f350dc21e20>,\n",
              " <matplotlib.lines.Line2D at 0x7f350dc21ee0>,\n",
              " <matplotlib.lines.Line2D at 0x7f350dc21fa0>,\n",
              " <matplotlib.lines.Line2D at 0x7f350dbeb0a0>,\n",
              " <matplotlib.lines.Line2D at 0x7f350dbeb160>,\n",
              " <matplotlib.lines.Line2D at 0x7f350dbeb220>,\n",
              " <matplotlib.lines.Line2D at 0x7f350dbeb2e0>,\n",
              " <matplotlib.lines.Line2D at 0x7f350dbeb3a0>,\n",
              " <matplotlib.lines.Line2D at 0x7f350dbeb460>,\n",
              " <matplotlib.lines.Line2D at 0x7f350dbeb520>,\n",
              " <matplotlib.lines.Line2D at 0x7f350dbeb5e0>,\n",
              " <matplotlib.lines.Line2D at 0x7f350dbeb6a0>,\n",
              " <matplotlib.lines.Line2D at 0x7f350dbeb760>,\n",
              " <matplotlib.lines.Line2D at 0x7f350dbeb820>,\n",
              " <matplotlib.lines.Line2D at 0x7f350dbeb8e0>,\n",
              " <matplotlib.lines.Line2D at 0x7f350dbeb9a0>,\n",
              " <matplotlib.lines.Line2D at 0x7f350dbeba60>,\n",
              " <matplotlib.lines.Line2D at 0x7f350dbebb20>,\n",
              " <matplotlib.lines.Line2D at 0x7f350dbebbe0>,\n",
              " <matplotlib.lines.Line2D at 0x7f350dbebca0>,\n",
              " <matplotlib.lines.Line2D at 0x7f350dbebd60>,\n",
              " <matplotlib.lines.Line2D at 0x7f350dbebe20>,\n",
              " <matplotlib.lines.Line2D at 0x7f350dbebee0>,\n",
              " <matplotlib.lines.Line2D at 0x7f350dbebfa0>,\n",
              " <matplotlib.lines.Line2D at 0x7f350dbe70a0>,\n",
              " <matplotlib.lines.Line2D at 0x7f350dbe7160>,\n",
              " <matplotlib.lines.Line2D at 0x7f350dbe7220>,\n",
              " <matplotlib.lines.Line2D at 0x7f350dbe72e0>,\n",
              " <matplotlib.lines.Line2D at 0x7f350dbe73a0>,\n",
              " <matplotlib.lines.Line2D at 0x7f350dbe7460>,\n",
              " <matplotlib.lines.Line2D at 0x7f350dbe7520>,\n",
              " <matplotlib.lines.Line2D at 0x7f350dbe75e0>,\n",
              " <matplotlib.lines.Line2D at 0x7f350dbe76a0>,\n",
              " <matplotlib.lines.Line2D at 0x7f350dbe7760>,\n",
              " <matplotlib.lines.Line2D at 0x7f350dbe7820>,\n",
              " <matplotlib.lines.Line2D at 0x7f350dbe78e0>,\n",
              " <matplotlib.lines.Line2D at 0x7f350dbe79a0>,\n",
              " <matplotlib.lines.Line2D at 0x7f350dbe7a60>,\n",
              " <matplotlib.lines.Line2D at 0x7f350dbe7b20>,\n",
              " <matplotlib.lines.Line2D at 0x7f350dbe7be0>,\n",
              " <matplotlib.lines.Line2D at 0x7f350dbe7ca0>,\n",
              " <matplotlib.lines.Line2D at 0x7f350dbe7d60>,\n",
              " <matplotlib.lines.Line2D at 0x7f350dbe7e20>,\n",
              " <matplotlib.lines.Line2D at 0x7f350dbe7ee0>,\n",
              " <matplotlib.lines.Line2D at 0x7f350dbe7fa0>,\n",
              " <matplotlib.lines.Line2D at 0x7f350dbca0a0>,\n",
              " <matplotlib.lines.Line2D at 0x7f350dbca160>,\n",
              " <matplotlib.lines.Line2D at 0x7f350dbca220>,\n",
              " <matplotlib.lines.Line2D at 0x7f350dbca2e0>,\n",
              " <matplotlib.lines.Line2D at 0x7f350dbca3a0>,\n",
              " <matplotlib.lines.Line2D at 0x7f350dbca460>,\n",
              " <matplotlib.lines.Line2D at 0x7f350dbca520>,\n",
              " <matplotlib.lines.Line2D at 0x7f350dbca5e0>,\n",
              " <matplotlib.lines.Line2D at 0x7f350dbca6a0>,\n",
              " <matplotlib.lines.Line2D at 0x7f350dbca760>,\n",
              " <matplotlib.lines.Line2D at 0x7f350dbca820>,\n",
              " <matplotlib.lines.Line2D at 0x7f350dbca8e0>,\n",
              " <matplotlib.lines.Line2D at 0x7f350dbca9a0>,\n",
              " <matplotlib.lines.Line2D at 0x7f350dbcaa60>,\n",
              " <matplotlib.lines.Line2D at 0x7f350dbcab20>,\n",
              " <matplotlib.lines.Line2D at 0x7f350dbcabe0>,\n",
              " <matplotlib.lines.Line2D at 0x7f350dbcaca0>,\n",
              " <matplotlib.lines.Line2D at 0x7f350dbcad60>,\n",
              " <matplotlib.lines.Line2D at 0x7f350dbcae20>,\n",
              " <matplotlib.lines.Line2D at 0x7f350dbcaee0>,\n",
              " <matplotlib.lines.Line2D at 0x7f350dbcafa0>,\n",
              " <matplotlib.lines.Line2D at 0x7f350dbc5190>,\n",
              " <matplotlib.lines.Line2D at 0x7f350dbc5370>,\n",
              " <matplotlib.lines.Line2D at 0x7f350dbc5640>,\n",
              " <matplotlib.lines.Line2D at 0x7f350dbc5610>,\n",
              " <matplotlib.lines.Line2D at 0x7f350dbc53d0>,\n",
              " <matplotlib.lines.Line2D at 0x7f350dbc57c0>,\n",
              " <matplotlib.lines.Line2D at 0x7f350dbc56d0>,\n",
              " <matplotlib.lines.Line2D at 0x7f350dbc5460>,\n",
              " <matplotlib.lines.Line2D at 0x7f350dbc5f10>,\n",
              " <matplotlib.lines.Line2D at 0x7f350dbc5af0>,\n",
              " <matplotlib.lines.Line2D at 0x7f350dbc5a00>,\n",
              " <matplotlib.lines.Line2D at 0x7f350dbc5940>,\n",
              " <matplotlib.lines.Line2D at 0x7f350dbc5820>,\n",
              " <matplotlib.lines.Line2D at 0x7f350dbc5e50>,\n",
              " <matplotlib.lines.Line2D at 0x7f350dbc5d60>,\n",
              " <matplotlib.lines.Line2D at 0x7f350dbc5ca0>,\n",
              " <matplotlib.lines.Line2D at 0x7f350dbc5bb0>,\n",
              " <matplotlib.lines.Line2D at 0x7f350dbc5b80>,\n",
              " <matplotlib.lines.Line2D at 0x7f350dbc50d0>,\n",
              " <matplotlib.lines.Line2D at 0x7f350dbc51f0>,\n",
              " <matplotlib.lines.Line2D at 0x7f350dbc5430>,\n",
              " <matplotlib.lines.Line2D at 0x7f350dbe00a0>,\n",
              " <matplotlib.lines.Line2D at 0x7f350dbe0160>,\n",
              " <matplotlib.lines.Line2D at 0x7f350dbe0220>,\n",
              " <matplotlib.lines.Line2D at 0x7f350dbe02e0>,\n",
              " <matplotlib.lines.Line2D at 0x7f350dbe03a0>,\n",
              " <matplotlib.lines.Line2D at 0x7f350dbe0460>,\n",
              " <matplotlib.lines.Line2D at 0x7f350dbe0520>,\n",
              " <matplotlib.lines.Line2D at 0x7f350dbe05e0>,\n",
              " <matplotlib.lines.Line2D at 0x7f350dbe06a0>,\n",
              " <matplotlib.lines.Line2D at 0x7f350dbe0760>,\n",
              " <matplotlib.lines.Line2D at 0x7f350dbe0820>,\n",
              " <matplotlib.lines.Line2D at 0x7f350dbe08e0>,\n",
              " <matplotlib.lines.Line2D at 0x7f350dbe09a0>,\n",
              " <matplotlib.lines.Line2D at 0x7f350dbe0a60>,\n",
              " <matplotlib.lines.Line2D at 0x7f350dbe0b20>,\n",
              " <matplotlib.lines.Line2D at 0x7f350dbe0be0>,\n",
              " <matplotlib.lines.Line2D at 0x7f350dbe0ca0>,\n",
              " <matplotlib.lines.Line2D at 0x7f350dbe0d60>,\n",
              " <matplotlib.lines.Line2D at 0x7f350dbe0e20>,\n",
              " <matplotlib.lines.Line2D at 0x7f350dbe0ee0>,\n",
              " <matplotlib.lines.Line2D at 0x7f350dbe0fa0>,\n",
              " <matplotlib.lines.Line2D at 0x7f350dbce0a0>,\n",
              " <matplotlib.lines.Line2D at 0x7f350db67640>,\n",
              " <matplotlib.lines.Line2D at 0x7f35010bfaf0>]"
            ]
          },
          "execution_count": 59,
          "metadata": {},
          "output_type": "execute_result"
        },
        {
          "data": {
            "image/png": "[encoded data removed]",
            "text/plain": [
              "<Figure size 432x288 with 1 Axes>"
            ]
          },
          "metadata": {},
          "output_type": "display_data"
        }
      ],
      "source": [
        "# Represento los nuevos price_generated\n",
        "plt.plot(prices_generated)"
      ]
    },
    {
      "cell_type": "markdown",
      "source": [
        "\n",
        "\n",
        "---\n",
        "\n",
        "\n",
        "\n",
        "---\n",
        "\n",
        "\n",
        "\n",
        "---\n",
        "\n",
        "\n",
        "\n",
        "---\n",
        "\n"
      ],
      "metadata": {
        "id": "WJcMFJrFbEcp"
      }
    },
    {
      "cell_type": "markdown",
      "metadata": {
        "id": "FxlUqngt9TAU"
      },
      "source": [
        "#TAREAS DEL MÓDULO DE RL\n"
      ]
    },
    {
      "cell_type": "markdown",
      "metadata": {
        "id": "WDke62kqvShF"
      },
      "source": [
        "##Ejercicio 1"
      ]
    },
    {
      "cell_type": "markdown",
      "metadata": {
        "id": "W5APfHdyeeXp"
      },
      "source": [
        "Utiliza el método de Q-learning usando una matriz para Q (no una función) para resolver el entorno del Black Jack de OpenAI Gym (“BlackjackEnv\"). Busca los valores de los 3 parámetros (discount_factor, alpha, y epsilon) que minimizan el número de iteraciones en el entrenamiento (num_episodes) necesarios para conseguir finalizar el juego satisfactoriamente el mayor número de veces. Representa la politica a partir de la matriz Q para las combinaciones de “suma actual” y “Carta del dealer”. ¿Se le puede ganar a la banca?\n"
      ]
    },
    {
      "cell_type": "code",
      "execution_count": null,
      "metadata": {
        "id": "2LUpGspo42C_"
      },
      "outputs": [],
      "source": [
        "envBJ = gym.make('Blackjack-v1') #donde se guarda el entorno"
      ]
    },
    {
      "cell_type": "code",
      "execution_count": null,
      "metadata": {
        "id": "gUeVqNmDSgxw"
      },
      "outputs": [],
      "source": [
        "def make_epsilon_greedy_policy(Q, epsilon, nA):\n",
        "    \"\"\"\n",
        "    Creates an epsilon-greedy policy based on a given Q-function and epsilon.\n",
        "    \n",
        "    Args:\n",
        "        Q: A dictionary that maps from state -> action-values.\n",
        "            Each value is a numpy array of length nA (see below)\n",
        "        epsilon: The probability to select a random action . float between 0 and 1.\n",
        "        nA: Number of actions in the environment.\n",
        "    \n",
        "    Returns:\n",
        "        A function that takes the observation as an argument and returns\n",
        "        the probabilities for each action in the form of a numpy array of length nA.\n",
        "    \n",
        "    \"\"\"\n",
        "    def policy_fn(observation):\n",
        "        A = np.ones(nA, dtype=float) * epsilon / nA\n",
        "        best_action = np.argmax(Q[observation])\n",
        "        A[best_action] += (1.0 - epsilon)\n",
        "        return A\n",
        "    return policy_fn"
      ]
    },
    {
      "cell_type": "code",
      "source": [
        "def q_learning(env, num_episodes, discount_factor=1.0, alpha=0.5, epsilon=0.1):\n",
        "    \"\"\"\n",
        "    Q-Learning algorithm: Off-policy TD control. Finds the optimal greedy policy\n",
        "    while following an epsilon-greedy policy\n",
        "    \n",
        "    Args:\n",
        "        env: OpenAI environment.\n",
        "        num_episodes: Number of episodes to run for.\n",
        "        discount_factor: Gamma discount factor.\n",
        "        alpha: TD learning rate.\n",
        "        epsilon: Chance the sample a random action. Float betwen 0 and 1.\n",
        "    \n",
        "    Returns:\n",
        "        A tuple (Q, episode_lengths).\n",
        "        Q is the optimal action-value function, a dictionary mapping state -> action values.\n",
        "        stats is an EpisodeStats object with two numpy arrays for episode_lengths and episode_rewards.\n",
        "    \"\"\"\n",
        "    \n",
        "    # The final action-value function.\n",
        "    # A nested dictionary that maps state -> (action -> action-value).\n",
        "    Q = defaultdict(lambda: np.zeros(env.action_space.n))\n",
        "\n",
        "    # Keeps track of useful statistics\n",
        "    \n",
        "    episode_lengths=np.zeros(num_episodes)\n",
        "    episode_rewards=np.zeros(num_episodes)   \n",
        "    \n",
        "    # The policy we're following\n",
        "    policy = make_epsilon_greedy_policy(Q, epsilon, env.action_space.n)\n",
        "    \n",
        "    for i_episode in range(num_episodes):\n",
        "        # Print out which episode we're on, useful for debugging.\n",
        "        if (i_episode + 1) % 100 == 0:\n",
        "            print(\"\\rEpisode {}/{}.\".format(i_episode + 1, num_episodes), end=\"\")\n",
        "            sys.stdout.flush()\n",
        "        \n",
        "        # Reset the environment and pick the first action\n",
        "        state = env.reset()\n",
        "        \n",
        "        # One step in the environment\n",
        "        # total_reward = 0.0\n",
        "        for t in itertools.count():\n",
        "            \n",
        "            # Take a step\n",
        "            action_probs = policy(state)\n",
        "            action = np.random.choice(np.arange(len(action_probs)), p=action_probs)\n",
        "            next_state, reward, done, _ = env.step(action)\n",
        "\n",
        "            # Update statistics\n",
        "            episode_rewards[i_episode] += reward\n",
        "            episode_lengths[i_episode] = t\n",
        "            \n",
        "            # TD Update\n",
        "            best_next_action = np.argmax(Q[next_state])    \n",
        "            td_target = reward + discount_factor * Q[next_state][best_next_action]\n",
        "            td_delta = td_target - Q[state][action]\n",
        "            Q[state][action] += alpha * td_delta\n",
        "                \n",
        "            if done:\n",
        "                break\n",
        "                \n",
        "            state = next_state\n",
        "    \n",
        "    return Q, episode_lengths, episode_rewards"
      ],
      "metadata": {
        "id": "aL6tB4Z7NrvA"
      },
      "execution_count": null,
      "outputs": []
    },
    {
      "cell_type": "code",
      "source": [
        "def evaluate_policy(Q, episodes=10000):\n",
        "    \"\"\"\n",
        "    Helper function which helps us evaluate how good our policy is.\n",
        "    \n",
        "    We do this by playing 10000 games of blackjack and returning the win ratio.\n",
        "    \"\"\"\n",
        "    wins = 0\n",
        "    for _ in range(episodes):\n",
        "        state = envBJ.reset()\n",
        "        \n",
        "        done = False\n",
        "        while not done:\n",
        "            action = np.argmax(Q[state])\n",
        "            \n",
        "            state, reward, done, _ = envBJ.step(action)\n",
        "            \n",
        "        if reward > 0:\n",
        "            wins += 1\n",
        "        \n",
        "    return wins/episodes"
      ],
      "metadata": {
        "id": "bMJ2oRScNrsf"
      },
      "execution_count": null,
      "outputs": []
    },
    {
      "cell_type": "code",
      "source": [
        "def plot_policy(policy):\n",
        "\n",
        "    def get_Z(player_hand, dealer_showing, usable_ace):\n",
        "        if (player_hand, dealer_showing, usable_ace) in policy:\n",
        "            return policy[player_hand, dealer_showing, usable_ace]\n",
        "        else:\n",
        "            return 1\n",
        "\n",
        "    def get_figure(usable_ace, ax):\n",
        "        x_range = np.arange(1, 11)\n",
        "        y_range = np.arange(11, 22)\n",
        "        X, Y = np.meshgrid(x_range, y_range)\n",
        "        Z = np.array([[get_Z(player_hand, dealer_showing, usable_ace) for dealer_showing in x_range] for player_hand in range(21, 10, -1)])\n",
        "        surf = ax.imshow(Z, cmap=plt.get_cmap('Accent', 2), vmin=0, vmax=1, extent=[0.5, 10.5, 10.5, 21.5])\n",
        "        plt.xticks(x_range, ('A', '2', '3', '4', '5', '6', '7', '8', '9', '10'))\n",
        "        plt.yticks(y_range)\n",
        "        ax.set_xlabel('Dealer Showing')\n",
        "        ax.set_ylabel('Player Hand')\n",
        "        ax.grid(color='black', linestyle='-', linewidth=1)\n",
        "        divider = make_axes_locatable(ax)\n",
        "        cax = divider.append_axes(\"right\", size=\"5%\", pad=0.1)\n",
        "        cbar = plt.colorbar(surf, ticks=[0, 1], cax=cax)\n",
        "        cbar.ax.set_yticklabels(['0 (STICK)','1 (HIT)'])\n",
        "        cbar.ax.invert_yaxis() \n",
        "            \n",
        "    fig = plt.figure(figsize=(12, 12))\n",
        "    ax = fig.add_subplot(121)\n",
        "    ax.set_title('Usable Ace', fontsize=16)\n",
        "    get_figure(True, ax)\n",
        "    ax = fig.add_subplot(122)\n",
        "    ax.set_title('No Usable Ace', fontsize=16)\n",
        "    get_figure(False, ax)\n",
        "    plt.show()"
      ],
      "metadata": {
        "id": "RMgPfbMaP4Tu"
      },
      "execution_count": null,
      "outputs": []
    },
    {
      "cell_type": "code",
      "source": [
        "Q, stats_episode_lengths, stats_episode_rewards = q_learning(envBJ, \n",
        "                                                            50_000\n",
        "                                                             )"
      ],
      "metadata": {
        "colab": {
          "base_uri": "https://localhost:8080/"
        },
        "id": "4aP2HV6eNrpy",
        "outputId": "5cccf8b2-ab36-4200-dcd1-38598fbc4c77"
      },
      "execution_count": null,
      "outputs": [
        {
          "output_type": "stream",
          "name": "stdout",
          "text": [
            "Episode 50000/50000."
          ]
        }
      ]
    },
    {
      "cell_type": "code",
      "source": [
        "evaluate = evaluate_policy(Q)\n",
        "evaluate"
      ],
      "metadata": {
        "colab": {
          "base_uri": "https://localhost:8080/"
        },
        "id": "DOA1FJU3Nrnc",
        "outputId": "db1c242f-e2d3-4dd9-b2c8-7f046e9bb2c0"
      },
      "execution_count": null,
      "outputs": [
        {
          "output_type": "execute_result",
          "data": {
            "text/plain": [
              "0.4027"
            ]
          },
          "metadata": {},
          "execution_count": 9
        }
      ]
    },
    {
      "cell_type": "code",
      "source": [
        "def busqueda_parametros(gamma, alpha, epsilon):\n",
        "  wins_rates = []\n",
        "  params = []\n",
        "  for d, a, e in itertools.product(gamma, alpha, epsilon):\n",
        "    Q, *_ = q_learning(envBJ, \n",
        "                      15_000, \n",
        "                      discount_factor=d, \n",
        "                      alpha=a, \n",
        "                      epsilon=e)\n",
        "    win_rate = evaluate_policy(Q)\n",
        "    wins_rates.append(win_rate)\n",
        "    params.append((d,a,e))\n",
        "    print(f' d.f. {d}, alpha {a}, epsilon {e}, win rate {win_rate}')\n",
        "  return wins_rates, params\n",
        "\n",
        "gamma = [0.1, 0.5, 0.9]\n",
        "alpha = [0.1, 0.5, 0.9]\n",
        "epsilon = [0.1, 0.5, 0.9]\n",
        "\n",
        "\n",
        "win_rates, params = busqueda_parametros(gamma, alpha, epsilon)\n"
      ],
      "metadata": {
        "colab": {
          "base_uri": "https://localhost:8080/"
        },
        "id": "mmlFGWhJPDKg",
        "outputId": "0eac403f-d22f-4df6-fbe9-75ebd7e44fbf"
      },
      "execution_count": null,
      "outputs": [
        {
          "output_type": "stream",
          "name": "stdout",
          "text": [
            "Episode 15000/15000. d.f. 0.1, alpha 0.1, epsilon 0.1, win rate 0.4243\n",
            "Episode 15000/15000. d.f. 0.1, alpha 0.1, epsilon 0.5, win rate 0.4222\n",
            "Episode 15000/15000. d.f. 0.1, alpha 0.1, epsilon 0.9, win rate 0.4268\n",
            "Episode 15000/15000. d.f. 0.1, alpha 0.5, epsilon 0.1, win rate 0.3835\n",
            "Episode 15000/15000. d.f. 0.1, alpha 0.5, epsilon 0.5, win rate 0.4075\n",
            "Episode 15000/15000. d.f. 0.1, alpha 0.5, epsilon 0.9, win rate 0.4077\n",
            "Episode 15000/15000. d.f. 0.1, alpha 0.9, epsilon 0.1, win rate 0.3198\n",
            "Episode 15000/15000. d.f. 0.1, alpha 0.9, epsilon 0.5, win rate 0.3509\n",
            "Episode 15000/15000. d.f. 0.1, alpha 0.9, epsilon 0.9, win rate 0.397\n",
            "Episode 15000/15000. d.f. 0.5, alpha 0.1, epsilon 0.1, win rate 0.413\n",
            "Episode 15000/15000. d.f. 0.5, alpha 0.1, epsilon 0.5, win rate 0.4111\n",
            "Episode 15000/15000. d.f. 0.5, alpha 0.1, epsilon 0.9, win rate 0.4149\n",
            "Episode 15000/15000. d.f. 0.5, alpha 0.5, epsilon 0.1, win rate 0.3805\n",
            "Episode 15000/15000. d.f. 0.5, alpha 0.5, epsilon 0.5, win rate 0.3781\n",
            "Episode 15000/15000. d.f. 0.5, alpha 0.5, epsilon 0.9, win rate 0.401\n",
            "Episode 15000/15000. d.f. 0.5, alpha 0.9, epsilon 0.1, win rate 0.347\n",
            "Episode 15000/15000. d.f. 0.5, alpha 0.9, epsilon 0.5, win rate 0.3739\n",
            "Episode 15000/15000. d.f. 0.5, alpha 0.9, epsilon 0.9, win rate 0.3956\n",
            "Episode 15000/15000. d.f. 0.9, alpha 0.1, epsilon 0.1, win rate 0.3931\n",
            "Episode 15000/15000. d.f. 0.9, alpha 0.1, epsilon 0.5, win rate 0.3745\n",
            "Episode 15000/15000. d.f. 0.9, alpha 0.1, epsilon 0.9, win rate 0.3903\n",
            "Episode 15000/15000. d.f. 0.9, alpha 0.5, epsilon 0.1, win rate 0.3958\n",
            "Episode 15000/15000. d.f. 0.9, alpha 0.5, epsilon 0.5, win rate 0.4031\n",
            "Episode 15000/15000. d.f. 0.9, alpha 0.5, epsilon 0.9, win rate 0.3996\n",
            "Episode 15000/15000. d.f. 0.9, alpha 0.9, epsilon 0.1, win rate 0.3958\n",
            "Episode 15000/15000. d.f. 0.9, alpha 0.9, epsilon 0.5, win rate 0.39\n",
            "Episode 15000/15000. d.f. 0.9, alpha 0.9, epsilon 0.9, win rate 0.394\n"
          ]
        }
      ]
    },
    {
      "cell_type": "code",
      "source": [
        "array_win_rate_ = np.array(win_rates)\n",
        "array_params = np.array(params)"
      ],
      "metadata": {
        "id": "XoM5w7sTPDE7"
      },
      "execution_count": null,
      "outputs": []
    },
    {
      "cell_type": "code",
      "source": [
        "idx_max = np.argmax(array_win_rate_)\n",
        "best_params = array_params[idx_max]\n",
        "gamma, alpha, epsilon = best_params"
      ],
      "metadata": {
        "id": "gjSYWQNVPDBu"
      },
      "execution_count": null,
      "outputs": []
    },
    {
      "cell_type": "code",
      "source": [
        "Q, stats_episode_lengths, stats_episode_rewards = q_learning(envBJ, \n",
        "                                                             50_000,\n",
        "                                                             gamma, \n",
        "                                                             alpha, \n",
        "                                                             epsilon\n",
        "                                                             )"
      ],
      "metadata": {
        "colab": {
          "base_uri": "https://localhost:8080/"
        },
        "id": "g7Q8QXs8Ns67",
        "outputId": "37b7ad7f-590d-48a8-d353-c419cab74ebd"
      },
      "execution_count": null,
      "outputs": [
        {
          "output_type": "stream",
          "name": "stdout",
          "text": [
            "Episode 50000/50000."
          ]
        }
      ]
    },
    {
      "cell_type": "code",
      "source": [
        "evaluate = evaluate_policy(Q)\n",
        "evaluate"
      ],
      "metadata": {
        "colab": {
          "base_uri": "https://localhost:8080/"
        },
        "id": "UQREkujiNs4y",
        "outputId": "a7664d0e-8f6f-44ae-9a38-8b707f973474"
      },
      "execution_count": null,
      "outputs": [
        {
          "output_type": "execute_result",
          "data": {
            "text/plain": [
              "0.4365"
            ]
          },
          "metadata": {},
          "execution_count": 20
        }
      ]
    },
    {
      "cell_type": "code",
      "source": [
        "policy = make_epsilon_greedy_policy(Q, epsilon, envBJ.action_space.n)\n",
        "policy_Q = {key: np.argmax(policy(key)) for key in Q.keys()}\n",
        "plot_policy(policy_Q)"
      ],
      "metadata": {
        "colab": {
          "base_uri": "https://localhost:8080/",
          "height": 391
        },
        "id": "aLbM7djOT_QB",
        "outputId": "e95d8330-5ddb-473d-81c5-74362b5ce505"
      },
      "execution_count": null,
      "outputs": [
        {
          "output_type": "display_data",
          "data": {
            "text/plain": [
              "<Figure size 864x864 with 4 Axes>"
            ],
            "image/png": "[encoded data removed]"
          },
          "metadata": {
            "needs_background": "light"
          }
        }
      ]
    },
    {
      "cell_type": "code",
      "source": [
        "cumulative_rewards = stats_episode_rewards.sum()\n",
        "cumulative_rewards"
      ],
      "metadata": {
        "colab": {
          "base_uri": "https://localhost:8080/"
        },
        "id": "vYYcnFg3UEk2",
        "outputId": "76925193-dc07-4eca-f2b5-6d7332cc7541"
      },
      "execution_count": null,
      "outputs": [
        {
          "output_type": "execute_result",
          "data": {
            "text/plain": [
              "-17933.0"
            ]
          },
          "metadata": {},
          "execution_count": 24
        }
      ]
    },
    {
      "cell_type": "markdown",
      "metadata": {
        "id": "vutL4Gx3vX2s"
      },
      "source": [
        "\n",
        "\n",
        "---\n",
        "\n",
        "\n",
        "\n",
        "---\n",
        "\n"
      ]
    },
    {
      "cell_type": "markdown",
      "metadata": {
        "id": "3aJ-O_oYvWAR"
      },
      "source": [
        "##Ejercicio 2"
      ]
    },
    {
      "cell_type": "markdown",
      "metadata": {
        "id": "-6AyvZS7e-0I"
      },
      "source": [
        "Resuelve el problema de 'Mountain Car' de OpenGym usando dos algoritmos de uno de los frameworks vistos en clase. Usa un algoritmo para el problema continuo (\"MountainCarContinuous-v0\") y otro para el problema discreto (\"MountainCar-v0\"). Compara los resultados."
      ]
    },
    {
      "cell_type": "code",
      "execution_count": null,
      "metadata": {
        "id": "asL4UEZBFJ5u"
      },
      "outputs": [],
      "source": [
        "#PRIMER ALGORITMO"
      ]
    },
    {
      "cell_type": "code",
      "execution_count": null,
      "metadata": {
        "id": "vR8Bw9yOD7CS"
      },
      "outputs": [],
      "source": [
        "envMCC = gym.make(\"MountainCarContinuous-v0\")"
      ]
    },
    {
      "cell_type": "code",
      "execution_count": null,
      "metadata": {
        "colab": {
          "base_uri": "https://localhost:8080/"
        },
        "id": "sh3vCe7bFdya",
        "outputId": "56e257b2-01a8-4b5d-92f4-0c0d5890e44c"
      },
      "outputs": [
        {
          "name": "stderr",
          "output_type": "stream",
          "text": [
            "/usr/local/lib/python3.8/dist-packages/stable_baselines3/ppo/ppo.py:151: UserWarning: You have specified a mini-batch size of 256, but because the `RolloutBuffer` is of size `n_steps * n_envs = 8`, after every 0 untruncated mini-batches, there will be a truncated mini-batch of size 8\n",
            "We recommend using a `batch_size` that is a factor of `n_steps * n_envs`.\n",
            "Info: (n_steps=8 and n_envs=1)\n",
            "  warnings.warn(\n"
          ]
        }
      ],
      "source": [
        "model1MCC1 = PPO('MlpPolicy',\n",
        "                envMCC,\n",
        "                batch_size= 256,\n",
        "                n_steps= 8,\n",
        "                gamma= 0.9999,\n",
        "                learning_rate= 7.77e-05,\n",
        "                ent_coef= 0.00429,\n",
        "                clip_range= 0.1,\n",
        "                n_epochs= 10,\n",
        "                gae_lambda= 0.9,\n",
        "                max_grad_norm= 5,\n",
        "                vf_coef= 0.19,\n",
        "                policy_kwargs= dict(log_std_init=-3.29, ortho_init=False)\n",
        "                  )"
      ]
    },
    {
      "cell_type": "code",
      "execution_count": null,
      "metadata": {
        "colab": {
          "base_uri": "https://localhost:8080/"
        },
        "id": "nNe7HtF8o6BF",
        "outputId": "60445f20-5f11-45aa-80b8-dd8b17a7bacd"
      },
      "outputs": [
        {
          "name": "stderr",
          "output_type": "stream",
          "text": [
            "/usr/local/lib/python3.8/dist-packages/stable_baselines3/common/evaluation.py:65: UserWarning: Evaluation environment is not wrapped with a ``Monitor`` wrapper. This may result in reporting modified episode lengths and rewards, if other wrappers happen to modify these. Consider wrapping environment first with ``Monitor`` wrapper.\n",
            "  warnings.warn(\n"
          ]
        },
        {
          "name": "stdout",
          "output_type": "stream",
          "text": [
            "{-1.2168873264454305}\n",
            "{0.002385627422273701}\n"
          ]
        }
      ],
      "source": [
        "mean_reward, std_reward = evaluate_policy(model = model1MCC1,\n",
        "                                          env = envMCC,\n",
        "                                          n_eval_episodes = 100)\n",
        "\n",
        "print({mean_reward})\n",
        "print({std_reward})"
      ]
    },
    {
      "cell_type": "code",
      "execution_count": null,
      "metadata": {
        "colab": {
          "base_uri": "https://localhost:8080/"
        },
        "id": "0mfe28GCGGcG",
        "outputId": "20a88773-1033-468a-f904-a23adcd52288"
      },
      "outputs": [
        {
          "data": {
            "text/plain": [
              "<stable_baselines3.ppo.ppo.PPO at 0x7f350182f730>"
            ]
          },
          "execution_count": 63,
          "metadata": {},
          "output_type": "execute_result"
        }
      ],
      "source": [
        "model1MCC1.learn(total_timesteps=120_000)"
      ]
    },
    {
      "cell_type": "code",
      "execution_count": null,
      "metadata": {
        "colab": {
          "base_uri": "https://localhost:8080/"
        },
        "id": "HpuXdRBTpkWl",
        "outputId": "fe0ae477-7c58-4eaa-fe95-270d9a8137ff"
      },
      "outputs": [
        {
          "name": "stdout",
          "output_type": "stream",
          "text": [
            "{-0.00475761835964519}\n",
            "{0.0006956621963009967}\n"
          ]
        }
      ],
      "source": [
        "mean_reward, std_reward = evaluate_policy(model = model1MCC1,\n",
        "                                          env = envMCC,\n",
        "                                          n_eval_episodes = 100)\n",
        "\n",
        "print({mean_reward})\n",
        "print({std_reward})"
      ]
    },
    {
      "cell_type": "code",
      "execution_count": null,
      "metadata": {
        "id": "YTZ5SjlXEKcl"
      },
      "outputs": [],
      "source": [
        "# SEGUNDO ALGORITMO"
      ]
    },
    {
      "cell_type": "code",
      "execution_count": null,
      "metadata": {
        "id": "V553wdyDF00T"
      },
      "outputs": [],
      "source": [
        "envMC = gym.make(\"MountainCar-v0\")"
      ]
    },
    {
      "cell_type": "code",
      "execution_count": null,
      "metadata": {
        "id": "IMLP6C-cGBUO"
      },
      "outputs": [],
      "source": [
        "modelMC = DQN(\"MlpPolicy\", \n",
        "              envMC,          \n",
        "              learning_rate = 4e-3,\n",
        "              batch_size= 128,\n",
        "              buffer_size= 10000,\n",
        "              learning_starts= 1000,\n",
        "              gamma =0.99,\n",
        "              target_update_interval= 700,\n",
        "              train_freq =15,\n",
        "              gradient_steps =7,\n",
        "              exploration_fraction= 0.2,\n",
        "              exploration_final_eps= 0.07,\n",
        "              policy_kwargs= dict(net_arch=[256, 256]),\n",
        "              )"
      ]
    },
    {
      "cell_type": "code",
      "execution_count": null,
      "metadata": {
        "colab": {
          "base_uri": "https://localhost:8080/"
        },
        "id": "XyOUPZ0iq3wB",
        "outputId": "1222883a-a513-4068-f4b9-a0d6515cf914"
      },
      "outputs": [
        {
          "name": "stdout",
          "output_type": "stream",
          "text": [
            "{-200.0}\n",
            "{0.0}\n"
          ]
        }
      ],
      "source": [
        "mean_reward, std_reward = evaluate_policy(model = modelMC,\n",
        "                                          env = envMC,\n",
        "                                          n_eval_episodes = 100)\n",
        "\n",
        "print({mean_reward})\n",
        "print({std_reward})"
      ]
    },
    {
      "cell_type": "code",
      "execution_count": null,
      "metadata": {
        "colab": {
          "base_uri": "https://localhost:8080/"
        },
        "id": "NIhBN3oiGJvm",
        "outputId": "aeb7f70f-5a6e-4631-fd09-2c5e79fea5a8"
      },
      "outputs": [
        {
          "data": {
            "text/plain": [
              "<stable_baselines3.dqn.dqn.DQN at 0x7f350175e2b0>"
            ]
          },
          "execution_count": 69,
          "metadata": {},
          "output_type": "execute_result"
        }
      ],
      "source": [
        "modelMC.learn(total_timesteps=120000)"
      ]
    },
    {
      "cell_type": "code",
      "execution_count": null,
      "metadata": {
        "colab": {
          "base_uri": "https://localhost:8080/"
        },
        "id": "fbqgpgpNq9G9",
        "outputId": "0a792620-e92b-4d43-d57c-82d3109c54fa"
      },
      "outputs": [
        {
          "name": "stdout",
          "output_type": "stream",
          "text": [
            "{-110.23}\n",
            "{18.937188281262877}\n"
          ]
        }
      ],
      "source": [
        "mean_reward, std_reward = evaluate_policy(model = modelMC,\n",
        "                                          env = envMC,\n",
        "                                          n_eval_episodes = 100)\n",
        "\n",
        "print({mean_reward})\n",
        "print({std_reward})"
      ]
    },
    {
      "cell_type": "code",
      "source": [
        "#En este ejercicio he creado un entorno tanto para (\"MountainCar-v0\")  como para  (\"MountainCarContinuous-v0\").\n",
        "# Seguidamente he creado 2 modelos (uno para cada entorno).\n",
        "#En el caso de (\"MountainCarContinuous-v0\") he utilizado el algoritmo PPO y para  (\"MountainCar-v0\").\n",
        "# Después los he evaluado antes y despues de entrenar para ver si han aprendido o no, y el resultado ha sido el siguiente:\n",
        "# En el caso de (\"MountainCarContinuous-v0\") con PPO no ha aprendido casi nada. En cambio, (\"MountainCar-v0\") con DQN si lo ha hecho notablemente."
      ],
      "metadata": {
        "id": "KJ9fAPY6XNG_"
      },
      "execution_count": null,
      "outputs": []
    },
    {
      "cell_type": "markdown",
      "metadata": {
        "id": "yqNmZpCPvdH_"
      },
      "source": [
        "\n",
        "\n",
        "---\n",
        "\n",
        "\n",
        "\n",
        "---\n",
        "\n"
      ]
    },
    {
      "cell_type": "markdown",
      "metadata": {
        "id": "AkP9kuz2vhbu"
      },
      "source": [
        "##Ejercicio 3"
      ]
    },
    {
      "cell_type": "markdown",
      "metadata": {
        "id": "o7k1YhKtDxMM"
      },
      "source": [
        "Resuelve el entorno de ATARI Boxing (\"ALE/Boxing-v5\"). Seleccciona uno de los algoritmos vistos en clase y entrenalo utilizando dos de los framework vistos en clase. Compara los resultados de los dos frameworks.\n"
      ]
    },
    {
      "cell_type": "code",
      "execution_count": null,
      "metadata": {
        "colab": {
          "base_uri": "https://localhost:8080/"
        },
        "id": "1hQ_iMaz1J6E",
        "outputId": "bfe29afe-5d0f-4865-b0d5-8751a89d4eda"
      },
      "outputs": [
        {
          "output_type": "stream",
          "name": "stdout",
          "text": [
            "Looking in indexes: https://pypi.org/simple, https://us-python.pkg.dev/colab-wheels/public/simple/\n",
            "Requirement already satisfied: stable-baselines3[extra] in /usr/local/lib/python3.8/dist-packages (1.6.2)\n",
            "Requirement already satisfied: ale-py==0.7.4 in /usr/local/lib/python3.8/dist-packages (0.7.4)\n",
            "Requirement already satisfied: importlib-metadata>=4.10.0 in /usr/local/lib/python3.8/dist-packages (from ale-py==0.7.4) (4.13.0)\n",
            "Requirement already satisfied: importlib-resources in /usr/local/lib/python3.8/dist-packages (from ale-py==0.7.4) (5.10.0)\n",
            "Requirement already satisfied: numpy in /usr/local/lib/python3.8/dist-packages (from ale-py==0.7.4) (1.21.6)\n",
            "Requirement already satisfied: zipp>=0.5 in /usr/local/lib/python3.8/dist-packages (from importlib-metadata>=4.10.0->ale-py==0.7.4) (3.11.0)\n",
            "Requirement already satisfied: matplotlib in /usr/local/lib/python3.8/dist-packages (from stable-baselines3[extra]) (3.2.2)\n",
            "Requirement already satisfied: gym==0.21 in /usr/local/lib/python3.8/dist-packages (from stable-baselines3[extra]) (0.21.0)\n",
            "Requirement already satisfied: cloudpickle in /usr/local/lib/python3.8/dist-packages (from stable-baselines3[extra]) (1.5.0)\n",
            "Requirement already satisfied: torch>=1.11 in /usr/local/lib/python3.8/dist-packages (from stable-baselines3[extra]) (1.13.0+cu116)\n",
            "Requirement already satisfied: pandas in /usr/local/lib/python3.8/dist-packages (from stable-baselines3[extra]) (1.3.5)\n",
            "Requirement already satisfied: opencv-python in /usr/local/lib/python3.8/dist-packages (from stable-baselines3[extra]) (4.6.0.66)\n",
            "Requirement already satisfied: pillow in /usr/local/lib/python3.8/dist-packages (from stable-baselines3[extra]) (7.1.2)\n",
            "Requirement already satisfied: rich in /usr/local/lib/python3.8/dist-packages (from stable-baselines3[extra]) (12.6.0)\n",
            "Requirement already satisfied: psutil in /usr/local/lib/python3.8/dist-packages (from stable-baselines3[extra]) (5.4.8)\n",
            "Requirement already satisfied: tensorboard>=2.9.1 in /usr/local/lib/python3.8/dist-packages (from stable-baselines3[extra]) (2.9.1)\n",
            "Requirement already satisfied: autorom[accept-rom-license]~=0.4.2 in /usr/local/lib/python3.8/dist-packages (from stable-baselines3[extra]) (0.4.2)\n",
            "Requirement already satisfied: tqdm in /usr/local/lib/python3.8/dist-packages (from stable-baselines3[extra]) (4.64.1)\n",
            "Requirement already satisfied: click in /usr/local/lib/python3.8/dist-packages (from autorom[accept-rom-license]~=0.4.2->stable-baselines3[extra]) (7.1.2)\n",
            "Requirement already satisfied: requests in /usr/local/lib/python3.8/dist-packages (from autorom[accept-rom-license]~=0.4.2->stable-baselines3[extra]) (2.23.0)\n",
            "Requirement already satisfied: AutoROM.accept-rom-license in /usr/local/lib/python3.8/dist-packages (from autorom[accept-rom-license]~=0.4.2->stable-baselines3[extra]) (0.4.2)\n",
            "Requirement already satisfied: markdown>=2.6.8 in /usr/local/lib/python3.8/dist-packages (from tensorboard>=2.9.1->stable-baselines3[extra]) (3.4.1)\n",
            "Requirement already satisfied: werkzeug>=1.0.1 in /usr/local/lib/python3.8/dist-packages (from tensorboard>=2.9.1->stable-baselines3[extra]) (1.0.1)\n",
            "Requirement already satisfied: wheel>=0.26 in /usr/local/lib/python3.8/dist-packages (from tensorboard>=2.9.1->stable-baselines3[extra]) (0.38.4)\n",
            "Requirement already satisfied: absl-py>=0.4 in /usr/local/lib/python3.8/dist-packages (from tensorboard>=2.9.1->stable-baselines3[extra]) (1.3.0)\n",
            "Requirement already satisfied: tensorboard-plugin-wit>=1.6.0 in /usr/local/lib/python3.8/dist-packages (from tensorboard>=2.9.1->stable-baselines3[extra]) (1.8.1)\n",
            "Requirement already satisfied: google-auth<3,>=1.6.3 in /usr/local/lib/python3.8/dist-packages (from tensorboard>=2.9.1->stable-baselines3[extra]) (2.15.0)\n",
            "Requirement already satisfied: protobuf<3.20,>=3.9.2 in /usr/local/lib/python3.8/dist-packages (from tensorboard>=2.9.1->stable-baselines3[extra]) (3.19.6)\n",
            "Requirement already satisfied: tensorboard-data-server<0.7.0,>=0.6.0 in /usr/local/lib/python3.8/dist-packages (from tensorboard>=2.9.1->stable-baselines3[extra]) (0.6.1)\n",
            "Requirement already satisfied: google-auth-oauthlib<0.5,>=0.4.1 in /usr/local/lib/python3.8/dist-packages (from tensorboard>=2.9.1->stable-baselines3[extra]) (0.4.6)\n",
            "Requirement already satisfied: setuptools>=41.0.0 in /usr/local/lib/python3.8/dist-packages (from tensorboard>=2.9.1->stable-baselines3[extra]) (57.4.0)\n",
            "Requirement already satisfied: grpcio>=1.24.3 in /usr/local/lib/python3.8/dist-packages (from tensorboard>=2.9.1->stable-baselines3[extra]) (1.51.1)\n",
            "Requirement already satisfied: rsa<5,>=3.1.4 in /usr/local/lib/python3.8/dist-packages (from google-auth<3,>=1.6.3->tensorboard>=2.9.1->stable-baselines3[extra]) (4.9)\n",
            "Requirement already satisfied: cachetools<6.0,>=2.0.0 in /usr/local/lib/python3.8/dist-packages (from google-auth<3,>=1.6.3->tensorboard>=2.9.1->stable-baselines3[extra]) (5.2.0)\n",
            "Requirement already satisfied: pyasn1-modules>=0.2.1 in /usr/local/lib/python3.8/dist-packages (from google-auth<3,>=1.6.3->tensorboard>=2.9.1->stable-baselines3[extra]) (0.2.8)\n",
            "Requirement already satisfied: six>=1.9.0 in /usr/local/lib/python3.8/dist-packages (from google-auth<3,>=1.6.3->tensorboard>=2.9.1->stable-baselines3[extra]) (1.15.0)\n",
            "Requirement already satisfied: requests-oauthlib>=0.7.0 in /usr/local/lib/python3.8/dist-packages (from google-auth-oauthlib<0.5,>=0.4.1->tensorboard>=2.9.1->stable-baselines3[extra]) (1.3.1)\n",
            "Requirement already satisfied: pyasn1<0.5.0,>=0.4.6 in /usr/local/lib/python3.8/dist-packages (from pyasn1-modules>=0.2.1->google-auth<3,>=1.6.3->tensorboard>=2.9.1->stable-baselines3[extra]) (0.4.8)\n",
            "Requirement already satisfied: idna<3,>=2.5 in /usr/local/lib/python3.8/dist-packages (from requests->autorom[accept-rom-license]~=0.4.2->stable-baselines3[extra]) (2.10)\n",
            "Requirement already satisfied: urllib3!=1.25.0,!=1.25.1,<1.26,>=1.21.1 in /usr/local/lib/python3.8/dist-packages (from requests->autorom[accept-rom-license]~=0.4.2->stable-baselines3[extra]) (1.24.3)\n",
            "Requirement already satisfied: certifi>=2017.4.17 in /usr/local/lib/python3.8/dist-packages (from requests->autorom[accept-rom-license]~=0.4.2->stable-baselines3[extra]) (2022.9.24)\n",
            "Requirement already satisfied: chardet<4,>=3.0.2 in /usr/local/lib/python3.8/dist-packages (from requests->autorom[accept-rom-license]~=0.4.2->stable-baselines3[extra]) (3.0.4)\n",
            "Requirement already satisfied: oauthlib>=3.0.0 in /usr/local/lib/python3.8/dist-packages (from requests-oauthlib>=0.7.0->google-auth-oauthlib<0.5,>=0.4.1->tensorboard>=2.9.1->stable-baselines3[extra]) (3.2.2)\n",
            "Requirement already satisfied: typing-extensions in /usr/local/lib/python3.8/dist-packages (from torch>=1.11->stable-baselines3[extra]) (4.4.0)\n",
            "Requirement already satisfied: kiwisolver>=1.0.1 in /usr/local/lib/python3.8/dist-packages (from matplotlib->stable-baselines3[extra]) (1.4.4)\n",
            "Requirement already satisfied: python-dateutil>=2.1 in /usr/local/lib/python3.8/dist-packages (from matplotlib->stable-baselines3[extra]) (2.8.2)\n",
            "Requirement already satisfied: cycler>=0.10 in /usr/local/lib/python3.8/dist-packages (from matplotlib->stable-baselines3[extra]) (0.11.0)\n",
            "Requirement already satisfied: pyparsing!=2.0.4,!=2.1.2,!=2.1.6,>=2.0.1 in /usr/local/lib/python3.8/dist-packages (from matplotlib->stable-baselines3[extra]) (3.0.9)\n",
            "Requirement already satisfied: pytz>=2017.3 in /usr/local/lib/python3.8/dist-packages (from pandas->stable-baselines3[extra]) (2022.6)\n",
            "Requirement already satisfied: commonmark<0.10.0,>=0.9.0 in /usr/local/lib/python3.8/dist-packages (from rich->stable-baselines3[extra]) (0.9.1)\n",
            "Requirement already satisfied: pygments<3.0.0,>=2.6.0 in /usr/local/lib/python3.8/dist-packages (from rich->stable-baselines3[extra]) (2.6.1)\n"
          ]
        }
      ],
      "source": [
        "#!pip install gym[atari,accept-rom-license]==0.21.0\n",
        "#!pip install stable-baselines3[extra] ale-py==0.7.4\n",
        "#!pip install gym[atari]\n",
        "#!pip install autorom[accept-rom-license]"
      ]
    },
    {
      "cell_type": "code",
      "execution_count": null,
      "metadata": {
        "id": "SLckVApEz34x"
      },
      "outputs": [],
      "source": [
        "# There already exists an environment generator that will make and wrap atari environments correctly.\n",
        "envB1 = make_atari_env('ALE/Boxing-v5', n_envs=4, seed=0)\n",
        "# Stack 4 frames\n",
        "envB1 = VecFrameStack(envB1, n_stack=4)"
      ]
    },
    {
      "cell_type": "code",
      "execution_count": null,
      "metadata": {
        "id": "xL-a1KJi0ll6"
      },
      "outputs": [],
      "source": [
        "#modelB1 = A2C('CnnPolicy', envB1, verbose=1) # Parametros\n",
        "#modelB1.learn(total_timesteps=10000)"
      ]
    },
    {
      "cell_type": "code",
      "execution_count": null,
      "metadata": {
        "id": "_vgMN_Ms7K3n"
      },
      "outputs": [],
      "source": [
        "#Primer Framework Stable_baseline3 DQN"
      ]
    },
    {
      "cell_type": "code",
      "execution_count": null,
      "metadata": {
        "id": "6wHZXWIc59vB"
      },
      "outputs": [],
      "source": [
        "model3B = DQN(\"MlpPolicy\", \n",
        "              envB1,          \n",
        "              learning_rate = 4e-3,\n",
        "              batch_size= 128,\n",
        "              buffer_size= 10000,\n",
        "              learning_starts= 1000,\n",
        "              gamma = 0.99,\n",
        "              target_update_interval= 700,\n",
        "              train_freq =15,\n",
        "              gradient_steps =7,\n",
        "              exploration_fraction= 0.2,\n",
        "              exploration_final_eps= 0.07,\n",
        "              policy_kwargs= dict(net_arch=[256, 256]),\n",
        "              )"
      ]
    },
    {
      "cell_type": "code",
      "execution_count": null,
      "metadata": {
        "colab": {
          "base_uri": "https://localhost:8080/"
        },
        "id": "upgsOIb66tPs",
        "outputId": "193da026-bb72-4dd8-b16c-1e514d352d34"
      },
      "outputs": [
        {
          "output_type": "stream",
          "name": "stdout",
          "text": [
            "{-46.8}\n",
            "{9.528903399657278}\n"
          ]
        }
      ],
      "source": [
        "mean_reward, std_reward = evaluate_policy(model = model3B,\n",
        "                                          env = envB1,\n",
        "                                          n_eval_episodes = 100)\n",
        "\n",
        "print({mean_reward})\n",
        "print({std_reward})"
      ]
    },
    {
      "cell_type": "code",
      "execution_count": null,
      "metadata": {
        "colab": {
          "base_uri": "https://localhost:8080/"
        },
        "id": "UL4Av3PG63Y2",
        "outputId": "907e9b75-01fa-4b84-e4f3-ffa1aec8daa1"
      },
      "outputs": [
        {
          "output_type": "execute_result",
          "data": {
            "text/plain": [
              "<stable_baselines3.dqn.dqn.DQN at 0x7f21011a3370>"
            ]
          },
          "metadata": {},
          "execution_count": 6
        }
      ],
      "source": [
        "model3B.learn(total_timesteps=80_000)"
      ]
    },
    {
      "cell_type": "code",
      "execution_count": null,
      "metadata": {
        "colab": {
          "base_uri": "https://localhost:8080/"
        },
        "id": "hfQ6ek0s8OHf",
        "outputId": "ef9debce-9715-42e8-a04a-47a247afc80a"
      },
      "outputs": [
        {
          "output_type": "stream",
          "name": "stdout",
          "text": [
            "{-25.09}\n",
            "{3.0036477822807393}\n"
          ]
        }
      ],
      "source": [
        "mean_reward, std_reward = evaluate_policy(model = model3B,\n",
        "                                          env = envB1,\n",
        "                                          n_eval_episodes = 100)\n",
        "\n",
        "print({mean_reward})\n",
        "print({std_reward})"
      ]
    },
    {
      "cell_type": "code",
      "execution_count": null,
      "metadata": {
        "id": "24L4lP7Y68Op"
      },
      "outputs": [],
      "source": [
        "#Segundo framework Dopamine DQN"
      ]
    },
    {
      "cell_type": "code",
      "execution_count": null,
      "metadata": {
        "id": "-Lnsb4UA7AM_",
        "colab": {
          "base_uri": "https://localhost:8080/"
        },
        "outputId": "5f04873c-4d9c-4fb7-f892-11e3352cf059"
      },
      "outputs": [
        {
          "output_type": "stream",
          "name": "stdout",
          "text": [
            "Looking in indexes: https://pypi.org/simple, https://us-python.pkg.dev/colab-wheels/public/simple/\n",
            "Requirement already satisfied: dopamine-rl in /usr/local/lib/python3.8/dist-packages (1.0.5)\n",
            "Requirement already satisfied: gym>=0.10.5 in /usr/local/lib/python3.8/dist-packages (from dopamine-rl) (0.21.0)\n",
            "Requirement already satisfied: absl-py>=0.2.2 in /usr/local/lib/python3.8/dist-packages (from dopamine-rl) (1.3.0)\n",
            "Requirement already satisfied: opencv-python>=3.4.1.15 in /usr/local/lib/python3.8/dist-packages (from dopamine-rl) (4.6.0.66)\n",
            "Requirement already satisfied: gin-config>=0.1.1 in /usr/local/lib/python3.8/dist-packages (from dopamine-rl) (0.5.0)\n",
            "Requirement already satisfied: numpy>=1.18.0 in /usr/local/lib/python3.8/dist-packages (from gym>=0.10.5->dopamine-rl) (1.21.6)\n",
            "Requirement already satisfied: cloudpickle>=1.2.0 in /usr/local/lib/python3.8/dist-packages (from gym>=0.10.5->dopamine-rl) (1.5.0)\n"
          ]
        }
      ],
      "source": [
        "!pip install dopamine-rl"
      ]
    },
    {
      "cell_type": "code",
      "execution_count": null,
      "metadata": {
        "id": "nsVP24Bp7_U9"
      },
      "outputs": [],
      "source": [
        "modelDQNDopa = DQN(\"MlpPolicy\", \n",
        "              envB1,\n",
        "              learning_rate = 4e-3,\n",
        "              batch_size= 128,\n",
        "              buffer_size= 10000,\n",
        "              learning_starts= 1000,\n",
        "              gamma = 0.99,\n",
        "              target_update_interval= 700,\n",
        "              train_freq =15,\n",
        "              gradient_steps =7,\n",
        "              exploration_fraction= 0.2,\n",
        "              exploration_final_eps= 0.07,\n",
        "              policy_kwargs= dict(net_arch=[256, 256]),\n",
        "              )"
      ]
    },
    {
      "cell_type": "code",
      "execution_count": null,
      "metadata": {
        "id": "tYz-zZ0zDPSc",
        "colab": {
          "base_uri": "https://localhost:8080/"
        },
        "outputId": "00ad34e7-982d-4aaa-c5ef-ba74d7250997"
      },
      "outputs": [
        {
          "output_type": "stream",
          "name": "stdout",
          "text": [
            "{-98.84}\n",
            "{7.117190456914864}\n"
          ]
        }
      ],
      "source": [
        "mean_reward, std_reward = evaluate_policy(model = modelDQNDopa,\n",
        "                                          env = envB1,\n",
        "                                          n_eval_episodes = 100)\n",
        "\n",
        "print({mean_reward})\n",
        "print({std_reward})"
      ]
    },
    {
      "cell_type": "code",
      "execution_count": null,
      "metadata": {
        "id": "zvSupxYaDPQF",
        "colab": {
          "base_uri": "https://localhost:8080/"
        },
        "outputId": "7557c035-fa3d-4780-9b91-e916a0703e54"
      },
      "outputs": [
        {
          "output_type": "execute_result",
          "data": {
            "text/plain": [
              "<stable_baselines3.dqn.dqn.DQN at 0x7f20f90398b0>"
            ]
          },
          "metadata": {},
          "execution_count": 12
        }
      ],
      "source": [
        "modelDQNDopa.learn(total_timesteps=80_000)"
      ]
    },
    {
      "cell_type": "code",
      "execution_count": null,
      "metadata": {
        "id": "UUj0Bc1-DPJ4",
        "colab": {
          "base_uri": "https://localhost:8080/"
        },
        "outputId": "7457a8a9-8f73-47af-8ca6-fc68e17b4df8"
      },
      "outputs": [
        {
          "output_type": "stream",
          "name": "stdout",
          "text": [
            "{-35.5}\n",
            "{7.461233142048304}\n"
          ]
        }
      ],
      "source": [
        "mean_reward, std_reward = evaluate_policy(model = modelDQNDopa,\n",
        "                                          env = envB1,\n",
        "                                          n_eval_episodes = 100)\n",
        "\n",
        "print({mean_reward})\n",
        "print({std_reward})"
      ]
    },
    {
      "cell_type": "code",
      "execution_count": null,
      "metadata": {
        "id": "KD8s4SCDDZkz"
      },
      "outputs": [],
      "source": [
        "# En este problema selecciono el algoritmo DQN utilizando 2 framework diferentes, el primero es el anteriormente utilizado Satable_baseline3 y el segundo Dopamine.\n",
        "# Siguiendo la metodologia del anterior ejercicio he creado 2 modelos  DQN con los mismos parametros para ver la diferencia.\n",
        "# Después los he entrenado antes y despues de entrenarlos y sacar el siguiente resultado:\n",
        "# Observamos que el primer algoritmo aprende mucho menos que el segundo utilizando los mismo parametros en 2 framework diferentes."
      ]
    },
    {
      "cell_type": "markdown",
      "metadata": {
        "id": "K6x8TlEXDbzq"
      },
      "source": [
        "\n",
        "\n",
        "---\n",
        "\n",
        "\n",
        "\n",
        "---\n",
        "\n"
      ]
    },
    {
      "cell_type": "code",
      "execution_count": null,
      "metadata": {
        "id": "_7j2FO0iDfDa"
      },
      "outputs": [],
      "source": []
    }
  ],
  "metadata": {
    "accelerator": "GPU",
    "colab": {
      "collapsed_sections": [
        "jlDngQ65WLxI",
        "S9JauNVNVsIW",
        "WDke62kqvShF",
        "3aJ-O_oYvWAR",
        "AkP9kuz2vhbu"
      ],
      "provenance": [],
      "toc_visible": true
    },
    "gpuClass": "standard",
    "kernelspec": {
      "display_name": "Python 3",
      "name": "python3"
    },
    "language_info": {
      "name": "python"
    }
  },
  "nbformat": 4,
  "nbformat_minor": 0
}