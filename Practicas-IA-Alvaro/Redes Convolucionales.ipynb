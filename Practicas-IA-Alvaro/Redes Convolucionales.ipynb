{
 "cells": [
  {
   "cell_type": "code",
   "execution_count": null,
   "metadata": {},
   "outputs": [],
   "source": [
    "from tensorflow.keras.models import Sequential\n",
    "from tensorflow.keras.layers import Dense, Conv1D, Conv2D, Flatten, LSTM, GRU, MaxPooling2D, BatchNormalization, Dropout\n",
    "from tensorflow.keras import regularizers, optimizers, initializers\n",
    "from tensorflow.keras.callbacks import EarlyStopping\n",
    "from tensorflow.keras.utils import to_categorical\n",
    "from tensorflow.keras.datasets import cifar100\n",
    "import numpy as np\n",
    "import pandas as pd\n",
    "import matplotlib.pyplot as plt"
   ]
  },
  {
   "cell_type": "markdown",
   "metadata": {
    "id": "ez9yQUoUQlVx"
   },
   "source": [
    "1.- Escribe un trozo de código que sirva para definir un modelo en Keras para solucionar cada uno de los siguientes problemas (solo tenéis que definir el modelo pero tiene que poder compilarse la celda, i.e. que no de error). Muestra el resumen del modelo por pantalla."
   ]
  },
  {
   "cell_type": "markdown",
   "metadata": {
    "id": "m64e806ATmaZ"
   },
   "source": [
    "- Tenemos un problema de clasificación de objetos donde tenemos 5000 imágenes de 28x28 en color. Para cada objeto tenemos una etiqueta numérica con valores de [0-19] (20 clases de objetos distintas). Propon un modelo teniendo en cuenta lo que has aprendido en clase."
   ]
  },
  {
   "cell_type": "code",
   "execution_count": null,
   "metadata": {
    "colab": {
     "base_uri": "https://localhost:8080/"
    },
    "executionInfo": {
     "elapsed": 380,
     "status": "ok",
     "timestamp": 1664132671157,
     "user": {
      "displayName": "Álvaro Blanes figuerola",
      "userId": "11042556642168442120"
     },
     "user_tz": -120
    },
    "id": "J7r3iC17OdMF",
    "outputId": "ae1c03a6-2bc2-4163-a452-da15b1c3571d"
   },
   "outputs": [
    {
     "name": "stdout",
     "output_type": "stream",
     "text": [
      "Model: \"sequential_29\"\n",
      "_________________________________________________________________\n",
      " Layer (type)                Output Shape              Param #   \n",
      "=================================================================\n",
      " conv2d_32 (Conv2D)          (None, 28, 28, 64)        1792      \n",
      "                                                                 \n",
      " max_pooling2d_32 (MaxPoolin  (None, 14, 14, 64)       0         \n",
      " g2D)                                                            \n",
      "                                                                 \n",
      " conv2d_33 (Conv2D)          (None, 14, 14, 32)        18464     \n",
      "                                                                 \n",
      " max_pooling2d_33 (MaxPoolin  (None, 7, 7, 32)         0         \n",
      " g2D)                                                            \n",
      "                                                                 \n",
      " flatten_26 (Flatten)        (None, 1568)              0         \n",
      "                                                                 \n",
      " dense_42 (Dense)            (None, 20)                31380     \n",
      "                                                                 \n",
      "=================================================================\n",
      "Total params: 51,636\n",
      "Trainable params: 51,636\n",
      "Non-trainable params: 0\n",
      "_________________________________________________________________\n"
     ]
    }
   ],
   "source": [
    "model_1 = Sequential()\n",
    "\n",
    "model_1.add(Conv2D(64, \n",
    "                 kernel_size=3,\n",
    "                 activation='relu',\n",
    "                 padding= 'same',\n",
    "                 input_shape=(28,28,3)))\n",
    "\n",
    "model_1.add(MaxPooling2D(2))\n",
    "\n",
    "model_1.add(Conv2D(32, \n",
    "                 kernel_size=3,\n",
    "                 activation='relu',\n",
    "                 padding='same'))\n",
    "model_1.add(MaxPooling2D(2))\n",
    "\n",
    "model_1.add(Flatten())\n",
    "\n",
    "model_1.add(Dense(20, \n",
    "                  activation='softmax'))\n",
    "\n",
    "model_1.summary()"
   ]
  },
  {
   "cell_type": "code",
   "execution_count": null,
   "metadata": {
    "id": "z6KvDK04YQv5"
   },
   "outputs": [],
   "source": []
  },
  {
   "cell_type": "markdown",
   "metadata": {
    "id": "9C7itcXAhfdR"
   },
   "source": [
    "- Tenemos 500 datos de series temporales de un activo financiero, cada dato tiene una longitud de 7. Las salidas son las predicciones para el instante temporal siguiente. Escribe un trozo de código que sirva para definir un modelo en Keras que tenga al menos dos capas LSTM, una capa GRU y una densa."
   ]
  },
  {
   "cell_type": "code",
   "execution_count": null,
   "metadata": {
    "colab": {
     "base_uri": "https://localhost:8080/"
    },
    "executionInfo": {
     "elapsed": 446,
     "status": "ok",
     "timestamp": 1664132793986,
     "user": {
      "displayName": "Álvaro Blanes figuerola",
      "userId": "11042556642168442120"
     },
     "user_tz": -120
    },
    "id": "3Bn5HqpYhgGz",
    "outputId": "1ff56ad3-ca4c-4927-8a50-2660775bf2cb"
   },
   "outputs": [
    {
     "name": "stdout",
     "output_type": "stream",
     "text": [
      "Model: \"sequential_30\"\n",
      "_________________________________________________________________\n",
      " Layer (type)                Output Shape              Param #   \n",
      "=================================================================\n",
      " lstm_19 (LSTM)              (None, 7, 64)             16896     \n",
      "                                                                 \n",
      " lstm_20 (LSTM)              (None, 7, 32)             12416     \n",
      "                                                                 \n",
      " gru_9 (GRU)                 (None, 32)                6336      \n",
      "                                                                 \n",
      " dense_43 (Dense)            (None, 1)                 33        \n",
      "                                                                 \n",
      "=================================================================\n",
      "Total params: 35,681\n",
      "Trainable params: 35,681\n",
      "Non-trainable params: 0\n",
      "_________________________________________________________________\n"
     ]
    }
   ],
   "source": [
    "model_2 = Sequential()\n",
    "\n",
    "model_2.add(LSTM(64,\n",
    "                  activation='relu',\n",
    "                  return_sequences = True,\n",
    "                  input_shape = (7,1)))\n",
    "\n",
    "model_2.add(LSTM(32,\n",
    "                 activation = 'relu',\n",
    "                 return_sequences = True))\n",
    "\n",
    "model_2.add(GRU(32, \n",
    "                 activation = 'relu'))\n",
    "\n",
    "model_2.add(Dense(1))\n",
    "\n",
    "model_2.summary()"
   ]
  },
  {
   "cell_type": "markdown",
   "metadata": {
    "id": "-l9iCYFNzcRu"
   },
   "source": [
    "- Tenemos 50000 datos de series temporales de 10 activos financieros de longitud 13, i.e. (50000, 13, 10). La salida son las 4 posibles fases del investment clock (reflation, recovery, overheat, y stagflation) para el instante temporal siguiente. Escribe un trozo de código que sirva para definir un modelo en Keras que combine al menos una capa LSTM, dos convolucionales y una densa."
   ]
  },
  {
   "cell_type": "code",
   "execution_count": null,
   "metadata": {
    "colab": {
     "base_uri": "https://localhost:8080/"
    },
    "executionInfo": {
     "elapsed": 413,
     "status": "ok",
     "timestamp": 1664126832883,
     "user": {
      "displayName": "Álvaro Blanes figuerola",
      "userId": "11042556642168442120"
     },
     "user_tz": -120
    },
    "id": "B9QjKafpzeec",
    "outputId": "6642b97e-9ca3-45ba-cc55-3009b29e1b09"
   },
   "outputs": [
    {
     "name": "stdout",
     "output_type": "stream",
     "text": [
      "Model: \"sequential_23\"\n",
      "_________________________________________________________________\n",
      " Layer (type)                Output Shape              Param #   \n",
      "=================================================================\n",
      " conv1d_12 (Conv1D)          (None, 13, 64)            1984      \n",
      "                                                                 \n",
      " conv1d_13 (Conv1D)          (None, 13, 32)            6176      \n",
      "                                                                 \n",
      " lstm_18 (LSTM)              (None, 32)                8320      \n",
      "                                                                 \n",
      " flatten_20 (Flatten)        (None, 32)                0         \n",
      "                                                                 \n",
      " dense_35 (Dense)            (None, 4)                 132       \n",
      "                                                                 \n",
      "=================================================================\n",
      "Total params: 16,612\n",
      "Trainable params: 16,612\n",
      "Non-trainable params: 0\n",
      "_________________________________________________________________\n"
     ]
    }
   ],
   "source": [
    "model_3 = Sequential()\n",
    "\n",
    "model_3.add(Conv1D(64,\n",
    "                    kernel_size = 3,\n",
    "                    activation = 'relu',\n",
    "                    padding = 'same',\n",
    "                    input_shape =(13, 10)))\n",
    "\n",
    "model_3.add(Conv1D(32,\n",
    "                    kernel_size= 3,\n",
    "                    activation = 'relu',\n",
    "                    padding = 'same'))\n",
    "\n",
    "model_3.add(LSTM(32,\n",
    "                  activation = 'relu'))\n",
    "\n",
    "model_3.add(Dense(4,\n",
    "                  activation = 'softmax'))\n",
    "\n",
    "model_3.summary()"
   ]
  },
  {
   "cell_type": "code",
   "execution_count": null,
   "metadata": {},
   "outputs": [],
   "source": []
  },
  {
   "cell_type": "markdown",
   "metadata": {
    "id": "ciFENH_Z1Yph"
   },
   "source": [
    "2.- Entrena un modelo en Keras que tenga al menos tres capas convolucionales, use regularización y early stopping para resolver el problema de clasificación con los datos CIFAR100 que están en Keras. Comprueba que el proceso de entrenamiento ha convergido mostrando las curvas de entrenamiento para entrenamiento y para validación.\n"
   ]
  },
  {
   "cell_type": "code",
   "execution_count": null,
   "metadata": {
    "id": "jgxzMpvX1ZXS"
   },
   "outputs": [],
   "source": [
    "(x_train, t_train), (x_test, t_test) = cifar100.load_data()"
   ]
  },
  {
   "cell_type": "code",
   "execution_count": null,
   "metadata": {
    "colab": {
     "base_uri": "https://localhost:8080/"
    },
    "executionInfo": {
     "elapsed": 7,
     "status": "ok",
     "timestamp": 1664138225146,
     "user": {
      "displayName": "Álvaro Blanes figuerola",
      "userId": "11042556642168442120"
     },
     "user_tz": -120
    },
    "id": "ck8sLCwAT7y2",
    "outputId": "55827c5a-4ab7-4979-8575-08dacd941419"
   },
   "outputs": [
    {
     "data": {
      "text/plain": [
       "(10000, 1)"
      ]
     },
     "execution_count": 3,
     "metadata": {},
     "output_type": "execute_result"
    }
   ],
   "source": [
    "x_train.shape\n",
    "x_test.shape\n",
    "t_test.shape"
   ]
  },
  {
   "cell_type": "code",
   "execution_count": null,
   "metadata": {
    "id": "kqLyWccf3g4u"
   },
   "outputs": [],
   "source": [
    "n = 255.0\n",
    "\n",
    "x_train = x_train.astype('float32')\n",
    "x_test = x_test.astype('float32')\n",
    "\n",
    "x_train = x_train/ n\n",
    "x_test = x_test/ n\n",
    "\n",
    "#one hot encoding en la 't'\n",
    "t_train = to_categorical(t_train)\n",
    "t_test = to_categorical(t_test)"
   ]
  },
  {
   "cell_type": "code",
   "execution_count": null,
   "metadata": {
    "colab": {
     "base_uri": "https://localhost:8080/"
    },
    "executionInfo": {
     "elapsed": 1531,
     "status": "ok",
     "timestamp": 1664138227493,
     "user": {
      "displayName": "Álvaro Blanes figuerola",
      "userId": "11042556642168442120"
     },
     "user_tz": -120
    },
    "id": "dqCURP1j4aVJ",
    "outputId": "cbd94113-c27a-4b54-b984-bcc4436a7b80"
   },
   "outputs": [
    {
     "name": "stdout",
     "output_type": "stream",
     "text": [
      "Model: \"sequential\"\n",
      "_________________________________________________________________\n",
      " Layer (type)                Output Shape              Param #   \n",
      "=================================================================\n",
      " conv2d (Conv2D)             (None, 30, 30, 64)        1792      \n",
      "                                                                 \n",
      " batch_normalization (BatchN  (None, 30, 30, 64)       256       \n",
      " ormalization)                                                   \n",
      "                                                                 \n",
      " dropout (Dropout)           (None, 30, 30, 64)        0         \n",
      "                                                                 \n",
      " max_pooling2d (MaxPooling2D  (None, 15, 15, 64)       0         \n",
      " )                                                               \n",
      "                                                                 \n",
      " conv2d_1 (Conv2D)           (None, 13, 13, 128)       73856     \n",
      "                                                                 \n",
      " batch_normalization_1 (Batc  (None, 13, 13, 128)      512       \n",
      " hNormalization)                                                 \n",
      "                                                                 \n",
      " dropout_1 (Dropout)         (None, 13, 13, 128)       0         \n",
      "                                                                 \n",
      " max_pooling2d_1 (MaxPooling  (None, 6, 6, 128)        0         \n",
      " 2D)                                                             \n",
      "                                                                 \n",
      " conv2d_2 (Conv2D)           (None, 4, 4, 32)          36896     \n",
      "                                                                 \n",
      " batch_normalization_2 (Batc  (None, 4, 4, 32)         128       \n",
      " hNormalization)                                                 \n",
      "                                                                 \n",
      " dropout_2 (Dropout)         (None, 4, 4, 32)          0         \n",
      "                                                                 \n",
      " max_pooling2d_2 (MaxPooling  (None, 2, 2, 32)         0         \n",
      " 2D)                                                             \n",
      "                                                                 \n",
      " flatten (Flatten)           (None, 128)               0         \n",
      "                                                                 \n",
      " dense (Dense)               (None, 256)               33024     \n",
      "                                                                 \n",
      " batch_normalization_3 (Batc  (None, 256)              1024      \n",
      " hNormalization)                                                 \n",
      "                                                                 \n",
      " dropout_3 (Dropout)         (None, 256)               0         \n",
      "                                                                 \n",
      " dense_1 (Dense)             (None, 100)               25700     \n",
      "                                                                 \n",
      "=================================================================\n",
      "Total params: 173,188\n",
      "Trainable params: 172,228\n",
      "Non-trainable params: 960\n",
      "_________________________________________________________________\n"
     ]
    }
   ],
   "source": [
    "model_ej2 = Sequential ()\n",
    "\n",
    "model_ej2.add(Conv2D(64, kernel_size = 3,\n",
    "                       activation = 'relu',\n",
    "                       input_shape = (32, 32, 3),\n",
    "                       kernel_regularizer = regularizers.l1(0.0001),\n",
    "                       kernel_initializer = initializers.GlorotNormal()))\n",
    "model_ej2.add(BatchNormalization())\n",
    "model_ej2.add(Dropout(0.3))\n",
    "model_ej2.add(MaxPooling2D())\n",
    "\n",
    "model_ej2.add(Conv2D(128,\n",
    "                   kernel_size = 3,\n",
    "                   activation = 'relu', \n",
    "                   kernel_regularizer = regularizers.l1(0.0001), \n",
    "                   kernel_initializer = initializers.GlorotNormal()))\n",
    "model_ej2.add(BatchNormalization())\n",
    "model_ej2.add(Dropout(0.3))\n",
    "model_ej2.add(MaxPooling2D())\n",
    "\n",
    "\n",
    "model_ej2.add(Conv2D(32, kernel_size = 3, activation = 'relu', \n",
    "                   kernel_regularizer = regularizers.l1(0.0001), \n",
    "                   kernel_initializer = initializers.GlorotNormal()))\n",
    "model_ej2.add(BatchNormalization())\n",
    "model_ej2.add(Dropout(0.3))\n",
    "model_ej2.add(MaxPooling2D())\n",
    "\n",
    "model_ej2.add(Flatten())\n",
    "\n",
    "model_ej2.add(Dense(256,\n",
    "                      activation = 'relu',\n",
    "                      kernel_regularizer = regularizers.l1(0.0001),\n",
    "                      kernel_initializer = initializers.GlorotNormal()))\n",
    "model_ej2.add(BatchNormalization())\n",
    "model_ej2.add(Dropout(0.3))\n",
    "\n",
    "model_ej2.add(Dense(100,\n",
    "                      activation = 'softmax'\n",
    "                      ))\n",
    "\n",
    "model_ej2.summary()"
   ]
  },
  {
   "cell_type": "code",
   "execution_count": null,
   "metadata": {
    "id": "FvC5zsMo4aSq"
   },
   "outputs": [],
   "source": [
    "model_ej2.compile(optimizer= optimizers.Adam(learning_rate = 0.0001),\n",
    "                  loss = 'categorical_crossentropy',\n",
    "                  metrics = ['accuracy'])"
   ]
  },
  {
   "cell_type": "code",
   "execution_count": null,
   "metadata": {
    "id": "h5PzLHZ3DdCM"
   },
   "outputs": [],
   "source": [
    "early_stopping = EarlyStopping(monitor = 'val_loss',\n",
    "                                patience = 25,\n",
    "                                min_delta = 0.01)"
   ]
  },
  {
   "cell_type": "code",
   "execution_count": null,
   "metadata": {
    "colab": {
     "base_uri": "https://localhost:8080/"
    },
    "executionInfo": {
     "elapsed": 53324,
     "status": "ok",
     "timestamp": 1664139046346,
     "user": {
      "displayName": "Álvaro Blanes figuerola",
      "userId": "11042556642168442120"
     },
     "user_tz": -120
    },
    "id": "vWhC9QZK8RdN",
    "outputId": "5e6ae335-6204-42cc-94fc-848020d2a5d1"
   },
   "outputs": [
    {
     "name": "stdout",
     "output_type": "stream",
     "text": [
      "Epoch 1/100\n",
      "1094/1094 [==============================] - 15s 8ms/step - loss: 5.3266 - accuracy: 0.0404 - val_loss: 4.9837 - val_accuracy: 0.0525\n",
      "Epoch 2/100\n",
      "1094/1094 [==============================] - 8s 7ms/step - loss: 4.7178 - accuracy: 0.0810 - val_loss: 4.7754 - val_accuracy: 0.0747\n",
      "Epoch 3/100\n",
      "1094/1094 [==============================] - 9s 8ms/step - loss: 4.4519 - accuracy: 0.1071 - val_loss: 4.6644 - val_accuracy: 0.0901\n",
      "Epoch 4/100\n",
      "1094/1094 [==============================] - 8s 7ms/step - loss: 4.2353 - accuracy: 0.1361 - val_loss: 4.4214 - val_accuracy: 0.1127\n",
      "Epoch 5/100\n",
      "1094/1094 [==============================] - 8s 7ms/step - loss: 4.0487 - accuracy: 0.1639 - val_loss: 4.1990 - val_accuracy: 0.1410\n",
      "Epoch 6/100\n",
      "1094/1094 [==============================] - 8s 7ms/step - loss: 3.9084 - accuracy: 0.1833 - val_loss: 4.0742 - val_accuracy: 0.1621\n",
      "Epoch 7/100\n",
      "1094/1094 [==============================] - 9s 8ms/step - loss: 3.7780 - accuracy: 0.2047 - val_loss: 3.9293 - val_accuracy: 0.1821\n",
      "Epoch 8/100\n",
      "1094/1094 [==============================] - 8s 7ms/step - loss: 3.6524 - accuracy: 0.2229 - val_loss: 3.9143 - val_accuracy: 0.1779\n",
      "Epoch 9/100\n",
      "1094/1094 [==============================] - 10s 9ms/step - loss: 3.5578 - accuracy: 0.2441 - val_loss: 3.9108 - val_accuracy: 0.1885\n",
      "Epoch 10/100\n",
      "1094/1094 [==============================] - 9s 9ms/step - loss: 3.4677 - accuracy: 0.2527 - val_loss: 3.7230 - val_accuracy: 0.2107\n",
      "Epoch 11/100\n",
      "1094/1094 [==============================] - 9s 8ms/step - loss: 3.3923 - accuracy: 0.2697 - val_loss: 3.6620 - val_accuracy: 0.2183\n",
      "Epoch 12/100\n",
      "1094/1094 [==============================] - 8s 7ms/step - loss: 3.3144 - accuracy: 0.2844 - val_loss: 3.6135 - val_accuracy: 0.2323\n",
      "Epoch 13/100\n",
      "1094/1094 [==============================] - 9s 8ms/step - loss: 3.2549 - accuracy: 0.2955 - val_loss: 3.5255 - val_accuracy: 0.2418\n",
      "Epoch 14/100\n",
      "1094/1094 [==============================] - 8s 7ms/step - loss: 3.1912 - accuracy: 0.3087 - val_loss: 3.5003 - val_accuracy: 0.2432\n",
      "Epoch 15/100\n",
      "1094/1094 [==============================] - 8s 7ms/step - loss: 3.1487 - accuracy: 0.3135 - val_loss: 3.4428 - val_accuracy: 0.2563\n",
      "Epoch 16/100\n",
      "1094/1094 [==============================] - 8s 7ms/step - loss: 3.1020 - accuracy: 0.3220 - val_loss: 3.5077 - val_accuracy: 0.2453\n",
      "Epoch 17/100\n",
      "1094/1094 [==============================] - 8s 7ms/step - loss: 3.0523 - accuracy: 0.3327 - val_loss: 3.4159 - val_accuracy: 0.2637\n",
      "Epoch 18/100\n",
      "1094/1094 [==============================] - 8s 7ms/step - loss: 3.0035 - accuracy: 0.3397 - val_loss: 3.3937 - val_accuracy: 0.2669\n",
      "Epoch 19/100\n",
      "1094/1094 [==============================] - 8s 7ms/step - loss: 2.9604 - accuracy: 0.3477 - val_loss: 3.5008 - val_accuracy: 0.2533\n",
      "Epoch 20/100\n",
      "1094/1094 [==============================] - 9s 8ms/step - loss: 2.9272 - accuracy: 0.3542 - val_loss: 3.4001 - val_accuracy: 0.2637\n",
      "Epoch 21/100\n",
      "1094/1094 [==============================] - 8s 7ms/step - loss: 2.8946 - accuracy: 0.3582 - val_loss: 3.3230 - val_accuracy: 0.2774\n",
      "Epoch 22/100\n",
      "1094/1094 [==============================] - 8s 7ms/step - loss: 2.8586 - accuracy: 0.3657 - val_loss: 3.3210 - val_accuracy: 0.2777\n",
      "Epoch 23/100\n",
      "1094/1094 [==============================] - 8s 7ms/step - loss: 2.8298 - accuracy: 0.3719 - val_loss: 3.3774 - val_accuracy: 0.2679\n",
      "Epoch 24/100\n",
      "1094/1094 [==============================] - 9s 8ms/step - loss: 2.8035 - accuracy: 0.3765 - val_loss: 3.3116 - val_accuracy: 0.2841\n",
      "Epoch 25/100\n",
      "1094/1094 [==============================] - 8s 7ms/step - loss: 2.7708 - accuracy: 0.3829 - val_loss: 3.1625 - val_accuracy: 0.3069\n",
      "Epoch 26/100\n",
      "1094/1094 [==============================] - 8s 7ms/step - loss: 2.7380 - accuracy: 0.3897 - val_loss: 3.1241 - val_accuracy: 0.3119\n",
      "Epoch 27/100\n",
      "1094/1094 [==============================] - 8s 7ms/step - loss: 2.7114 - accuracy: 0.3931 - val_loss: 3.4433 - val_accuracy: 0.2519\n",
      "Epoch 28/100\n",
      "1094/1094 [==============================] - 8s 7ms/step - loss: 2.6918 - accuracy: 0.4005 - val_loss: 3.1832 - val_accuracy: 0.2998\n",
      "Epoch 29/100\n",
      "1094/1094 [==============================] - 8s 7ms/step - loss: 2.6698 - accuracy: 0.3974 - val_loss: 3.1831 - val_accuracy: 0.2943\n",
      "Epoch 30/100\n",
      "1094/1094 [==============================] - 9s 8ms/step - loss: 2.6446 - accuracy: 0.4057 - val_loss: 3.1585 - val_accuracy: 0.3031\n",
      "Epoch 31/100\n",
      "1094/1094 [==============================] - 8s 7ms/step - loss: 2.6157 - accuracy: 0.4099 - val_loss: 3.3072 - val_accuracy: 0.2758\n",
      "Epoch 32/100\n",
      "1094/1094 [==============================] - 8s 7ms/step - loss: 2.5971 - accuracy: 0.4173 - val_loss: 3.1051 - val_accuracy: 0.3096\n",
      "Epoch 33/100\n",
      "1094/1094 [==============================] - 8s 7ms/step - loss: 2.5759 - accuracy: 0.4186 - val_loss: 3.2185 - val_accuracy: 0.2755\n",
      "Epoch 34/100\n",
      "1094/1094 [==============================] - 8s 7ms/step - loss: 2.5598 - accuracy: 0.4219 - val_loss: 3.1301 - val_accuracy: 0.2993\n",
      "Epoch 35/100\n",
      "1094/1094 [==============================] - 8s 7ms/step - loss: 2.5351 - accuracy: 0.4259 - val_loss: 3.0606 - val_accuracy: 0.3161\n",
      "Epoch 36/100\n",
      "1094/1094 [==============================] - 9s 8ms/step - loss: 2.5204 - accuracy: 0.4287 - val_loss: 3.2774 - val_accuracy: 0.2717\n",
      "Epoch 37/100\n",
      "1094/1094 [==============================] - 8s 7ms/step - loss: 2.4956 - accuracy: 0.4358 - val_loss: 3.2099 - val_accuracy: 0.2947\n",
      "Epoch 38/100\n",
      "1094/1094 [==============================] - 8s 7ms/step - loss: 2.4852 - accuracy: 0.4359 - val_loss: 3.2193 - val_accuracy: 0.2862\n",
      "Epoch 39/100\n",
      "1094/1094 [==============================] - 8s 7ms/step - loss: 2.4603 - accuracy: 0.4406 - val_loss: 2.9687 - val_accuracy: 0.3365\n",
      "Epoch 40/100\n",
      "1094/1094 [==============================] - 8s 7ms/step - loss: 2.4536 - accuracy: 0.4431 - val_loss: 3.2279 - val_accuracy: 0.2832\n",
      "Epoch 41/100\n",
      "1094/1094 [==============================] - 8s 7ms/step - loss: 2.4400 - accuracy: 0.4419 - val_loss: 3.2653 - val_accuracy: 0.2782\n",
      "Epoch 42/100\n",
      "1094/1094 [==============================] - 9s 8ms/step - loss: 2.4182 - accuracy: 0.4448 - val_loss: 2.8890 - val_accuracy: 0.3493\n",
      "Epoch 43/100\n",
      "1094/1094 [==============================] - 8s 7ms/step - loss: 2.4019 - accuracy: 0.4518 - val_loss: 3.0949 - val_accuracy: 0.3082\n",
      "Epoch 44/100\n",
      "1094/1094 [==============================] - 8s 7ms/step - loss: 2.3862 - accuracy: 0.4568 - val_loss: 3.1137 - val_accuracy: 0.3038\n",
      "Epoch 45/100\n",
      "1094/1094 [==============================] - 8s 7ms/step - loss: 2.3679 - accuracy: 0.4589 - val_loss: 3.1511 - val_accuracy: 0.3018\n",
      "Epoch 46/100\n",
      "1094/1094 [==============================] - 9s 8ms/step - loss: 2.3602 - accuracy: 0.4594 - val_loss: 2.9714 - val_accuracy: 0.3293\n",
      "Epoch 47/100\n",
      "1094/1094 [==============================] - 8s 7ms/step - loss: 2.3551 - accuracy: 0.4601 - val_loss: 3.0497 - val_accuracy: 0.3138\n",
      "Epoch 48/100\n",
      "1094/1094 [==============================] - 9s 8ms/step - loss: 2.3433 - accuracy: 0.4633 - val_loss: 2.9892 - val_accuracy: 0.3189\n",
      "Epoch 49/100\n",
      "1094/1094 [==============================] - 8s 7ms/step - loss: 2.3249 - accuracy: 0.4659 - val_loss: 3.1627 - val_accuracy: 0.3011\n",
      "Epoch 50/100\n",
      "1094/1094 [==============================] - 8s 7ms/step - loss: 2.3135 - accuracy: 0.4706 - val_loss: 2.9408 - val_accuracy: 0.3353\n",
      "Epoch 51/100\n",
      "1094/1094 [==============================] - 8s 7ms/step - loss: 2.3054 - accuracy: 0.4687 - val_loss: 2.9816 - val_accuracy: 0.3349\n",
      "Epoch 52/100\n",
      "1094/1094 [==============================] - 8s 7ms/step - loss: 2.2941 - accuracy: 0.4724 - val_loss: 2.9196 - val_accuracy: 0.3461\n",
      "Epoch 53/100\n",
      "1094/1094 [==============================] - 8s 7ms/step - loss: 2.2879 - accuracy: 0.4741 - val_loss: 3.1174 - val_accuracy: 0.3125\n",
      "Epoch 54/100\n",
      "1094/1094 [==============================] - 8s 7ms/step - loss: 2.2760 - accuracy: 0.4734 - val_loss: 2.9779 - val_accuracy: 0.3311\n",
      "Epoch 55/100\n",
      "1094/1094 [==============================] - 8s 7ms/step - loss: 2.2562 - accuracy: 0.4807 - val_loss: 2.7935 - val_accuracy: 0.3706\n",
      "Epoch 56/100\n",
      "1094/1094 [==============================] - 8s 7ms/step - loss: 2.2445 - accuracy: 0.4822 - val_loss: 3.2129 - val_accuracy: 0.2947\n",
      "Epoch 57/100\n",
      "1094/1094 [==============================] - 8s 7ms/step - loss: 2.2355 - accuracy: 0.4831 - val_loss: 2.9162 - val_accuracy: 0.3452\n",
      "Epoch 58/100\n",
      "1094/1094 [==============================] - 8s 7ms/step - loss: 2.2204 - accuracy: 0.4867 - val_loss: 2.8450 - val_accuracy: 0.3511\n",
      "Epoch 59/100\n",
      "1094/1094 [==============================] - 8s 7ms/step - loss: 2.2247 - accuracy: 0.4866 - val_loss: 2.9427 - val_accuracy: 0.3321\n",
      "Epoch 60/100\n",
      "1094/1094 [==============================] - 8s 7ms/step - loss: 2.2040 - accuracy: 0.4885 - val_loss: 2.9599 - val_accuracy: 0.3299\n",
      "Epoch 61/100\n",
      "1094/1094 [==============================] - 8s 7ms/step - loss: 2.1986 - accuracy: 0.4909 - val_loss: 3.0538 - val_accuracy: 0.3125\n",
      "Epoch 62/100\n",
      "1094/1094 [==============================] - 8s 7ms/step - loss: 2.1944 - accuracy: 0.4918 - val_loss: 2.9247 - val_accuracy: 0.3332\n",
      "Epoch 63/100\n",
      "1094/1094 [==============================] - 8s 7ms/step - loss: 2.1889 - accuracy: 0.4934 - val_loss: 2.9261 - val_accuracy: 0.3395\n",
      "Epoch 64/100\n",
      "1094/1094 [==============================] - 8s 7ms/step - loss: 2.1726 - accuracy: 0.4969 - val_loss: 2.8809 - val_accuracy: 0.3475\n",
      "Epoch 65/100\n",
      "1094/1094 [==============================] - 8s 7ms/step - loss: 2.1683 - accuracy: 0.4973 - val_loss: 2.8796 - val_accuracy: 0.3421\n",
      "Epoch 66/100\n",
      "1094/1094 [==============================] - 8s 7ms/step - loss: 2.1701 - accuracy: 0.4961 - val_loss: 2.9474 - val_accuracy: 0.3344\n",
      "Epoch 67/100\n",
      "1094/1094 [==============================] - 8s 7ms/step - loss: 2.1493 - accuracy: 0.5021 - val_loss: 2.9674 - val_accuracy: 0.3295\n",
      "Epoch 68/100\n",
      "1094/1094 [==============================] - 8s 7ms/step - loss: 2.1508 - accuracy: 0.4983 - val_loss: 2.9983 - val_accuracy: 0.3217\n",
      "Epoch 69/100\n",
      "1094/1094 [==============================] - 8s 7ms/step - loss: 2.1445 - accuracy: 0.5032 - val_loss: 2.7801 - val_accuracy: 0.3628\n",
      "Epoch 70/100\n",
      "1094/1094 [==============================] - 8s 7ms/step - loss: 2.1299 - accuracy: 0.5042 - val_loss: 2.9449 - val_accuracy: 0.3361\n",
      "Epoch 71/100\n",
      "1094/1094 [==============================] - 8s 7ms/step - loss: 2.1193 - accuracy: 0.5087 - val_loss: 2.9215 - val_accuracy: 0.3329\n",
      "Epoch 72/100\n",
      "1094/1094 [==============================] - 8s 7ms/step - loss: 2.1166 - accuracy: 0.5057 - val_loss: 2.9642 - val_accuracy: 0.3331\n",
      "Epoch 73/100\n",
      "1094/1094 [==============================] - 8s 7ms/step - loss: 2.1169 - accuracy: 0.5061 - val_loss: 3.0380 - val_accuracy: 0.3148\n",
      "Epoch 74/100\n",
      "1094/1094 [==============================] - 8s 7ms/step - loss: 2.1132 - accuracy: 0.5086 - val_loss: 2.9179 - val_accuracy: 0.3354\n",
      "Epoch 75/100\n",
      "1094/1094 [==============================] - 8s 7ms/step - loss: 2.0951 - accuracy: 0.5133 - val_loss: 2.9761 - val_accuracy: 0.3299\n",
      "Epoch 76/100\n",
      "1094/1094 [==============================] - 8s 7ms/step - loss: 2.0968 - accuracy: 0.5094 - val_loss: 3.1673 - val_accuracy: 0.2983\n",
      "Epoch 77/100\n",
      "1094/1094 [==============================] - 8s 7ms/step - loss: 2.0779 - accuracy: 0.5165 - val_loss: 2.8045 - val_accuracy: 0.3588\n",
      "Epoch 78/100\n",
      "1094/1094 [==============================] - 8s 7ms/step - loss: 2.0857 - accuracy: 0.5137 - val_loss: 2.8320 - val_accuracy: 0.3588\n",
      "Epoch 79/100\n",
      "1094/1094 [==============================] - 8s 7ms/step - loss: 2.0712 - accuracy: 0.5132 - val_loss: 2.8796 - val_accuracy: 0.3443\n",
      "Epoch 80/100\n",
      "1094/1094 [==============================] - 8s 7ms/step - loss: 2.0752 - accuracy: 0.5145 - val_loss: 2.9450 - val_accuracy: 0.3329\n",
      "Epoch 81/100\n",
      "1094/1094 [==============================] - 8s 7ms/step - loss: 2.0724 - accuracy: 0.5149 - val_loss: 2.8267 - val_accuracy: 0.3505\n",
      "Epoch 82/100\n",
      "1094/1094 [==============================] - 8s 7ms/step - loss: 2.0720 - accuracy: 0.5168 - val_loss: 2.7638 - val_accuracy: 0.3634\n",
      "Epoch 83/100\n",
      "1094/1094 [==============================] - 8s 7ms/step - loss: 2.0565 - accuracy: 0.5193 - val_loss: 2.7382 - val_accuracy: 0.3673\n",
      "Epoch 84/100\n",
      "1094/1094 [==============================] - 8s 7ms/step - loss: 2.0541 - accuracy: 0.5191 - val_loss: 2.8792 - val_accuracy: 0.3479\n",
      "Epoch 85/100\n",
      "1094/1094 [==============================] - 8s 7ms/step - loss: 2.0349 - accuracy: 0.5219 - val_loss: 2.8709 - val_accuracy: 0.3449\n",
      "Epoch 86/100\n",
      "1094/1094 [==============================] - 9s 8ms/step - loss: 2.0516 - accuracy: 0.5185 - val_loss: 2.6919 - val_accuracy: 0.3827\n",
      "Epoch 87/100\n",
      "1094/1094 [==============================] - 8s 7ms/step - loss: 2.0382 - accuracy: 0.5188 - val_loss: 2.8545 - val_accuracy: 0.3459\n",
      "Epoch 88/100\n",
      "1094/1094 [==============================] - 8s 7ms/step - loss: 2.0333 - accuracy: 0.5242 - val_loss: 2.6647 - val_accuracy: 0.3861\n",
      "Epoch 89/100\n",
      "1094/1094 [==============================] - 9s 8ms/step - loss: 2.0355 - accuracy: 0.5219 - val_loss: 2.9386 - val_accuracy: 0.3368\n",
      "Epoch 90/100\n",
      "1094/1094 [==============================] - 8s 7ms/step - loss: 2.0132 - accuracy: 0.5270 - val_loss: 2.9247 - val_accuracy: 0.3369\n",
      "Epoch 91/100\n",
      "1094/1094 [==============================] - 8s 7ms/step - loss: 2.0145 - accuracy: 0.5256 - val_loss: 2.7052 - val_accuracy: 0.3771\n",
      "Epoch 92/100\n",
      "1094/1094 [==============================] - 8s 7ms/step - loss: 2.0214 - accuracy: 0.5257 - val_loss: 3.2531 - val_accuracy: 0.2967\n",
      "Epoch 93/100\n",
      "1094/1094 [==============================] - 8s 7ms/step - loss: 2.0004 - accuracy: 0.5290 - val_loss: 2.8190 - val_accuracy: 0.3572\n",
      "Epoch 94/100\n",
      "1094/1094 [==============================] - 8s 7ms/step - loss: 2.0083 - accuracy: 0.5288 - val_loss: 2.7675 - val_accuracy: 0.3673\n",
      "Epoch 95/100\n",
      "1094/1094 [==============================] - 8s 7ms/step - loss: 2.0080 - accuracy: 0.5291 - val_loss: 2.7007 - val_accuracy: 0.3787\n",
      "Epoch 96/100\n",
      "1094/1094 [==============================] - 8s 7ms/step - loss: 2.0001 - accuracy: 0.5297 - val_loss: 2.7287 - val_accuracy: 0.3740\n",
      "Epoch 97/100\n",
      "1094/1094 [==============================] - 8s 7ms/step - loss: 1.9938 - accuracy: 0.5308 - val_loss: 2.7888 - val_accuracy: 0.3621\n",
      "Epoch 98/100\n",
      "1094/1094 [==============================] - 8s 7ms/step - loss: 1.9817 - accuracy: 0.5370 - val_loss: 2.7606 - val_accuracy: 0.3675\n",
      "Epoch 99/100\n",
      "1094/1094 [==============================] - 8s 7ms/step - loss: 1.9806 - accuracy: 0.5343 - val_loss: 2.7464 - val_accuracy: 0.3672\n",
      "Epoch 100/100\n",
      "1094/1094 [==============================] - 8s 7ms/step - loss: 1.9893 - accuracy: 0.5324 - val_loss: 2.7476 - val_accuracy: 0.3750\n"
     ]
    }
   ],
   "source": [
    "hist_ej2 = model_ej2.fit(x_train, t_train,\n",
    "              validation_split = 0.3, \n",
    "              epochs = 100,\n",
    "              callbacks = [early_stopping])\n",
    "\n",
    "#Por epoca tarda unos 9 segundos\n",
    "#Sin GPU 187s"
   ]
  },
  {
   "cell_type": "code",
   "execution_count": null,
   "metadata": {
    "colab": {
     "base_uri": "https://localhost:8080/"
    },
    "executionInfo": {
     "elapsed": 1290,
     "status": "ok",
     "timestamp": 1664139047629,
     "user": {
      "displayName": "Álvaro Blanes figuerola",
      "userId": "11042556642168442120"
     },
     "user_tz": -120
    },
    "id": "LlfTg3GM8Rag",
    "outputId": "40f53509-1de8-4422-9a91-027add6e1976"
   },
   "outputs": [
    {
     "name": "stdout",
     "output_type": "stream",
     "text": [
      "313/313 [==============================] - 1s 4ms/step - loss: 2.6951 - accuracy: 0.3861\n"
     ]
    },
    {
     "data": {
      "text/plain": [
       "[2.695096492767334, 0.38609999418258667]"
      ]
     },
     "execution_count": 9,
     "metadata": {},
     "output_type": "execute_result"
    }
   ],
   "source": [
    "score = model_ej2.evaluate(x_test, t_test)\n",
    "score"
   ]
  },
  {
   "cell_type": "code",
   "execution_count": null,
   "metadata": {
    "colab": {
     "base_uri": "https://localhost:8080/",
     "height": 312
    },
    "executionInfo": {
     "elapsed": 830,
     "status": "ok",
     "timestamp": 1664139048455,
     "user": {
      "displayName": "Álvaro Blanes figuerola",
      "userId": "11042556642168442120"
     },
     "user_tz": -120
    },
    "id": "hIzLC3or8RXR",
    "outputId": "5ac68929-6ad2-468e-b2bb-3f32d0a34150"
   },
   "outputs": [
    {
     "data": {
      "text/plain": [
       "<matplotlib.legend.Legend at 0x7f4cf006c810>"
      ]
     },
     "execution_count": 10,
     "metadata": {},
     "output_type": "execute_result"
    },
    {
     "data": {
      "image/png": "[encoded data removed]",
      "text/plain": [
       "<Figure size 1080x288 with 2 Axes>"
      ]
     },
     "metadata": {
      "needs_background": "light"
     },
     "output_type": "display_data"
    }
   ],
   "source": [
    "plt.figure(figsize = (15, 4))\n",
    "\n",
    "plt.subplot(1, 2, 1)\n",
    "plt.plot(hist_ej2.history ['loss'], label = \"train\")\n",
    "plt.plot(hist_ej2.history ['val_loss'], label = \"validation\")\n",
    "plt.title('Loss')\n",
    "plt.xlabel('epoch')\n",
    "plt.ylabel('loss')\n",
    "plt.legend()\n",
    "\n",
    "plt.subplot(1, 2, 2)\n",
    "plt.plot (hist_ej2.history['accuracy'], label = \"train\")\n",
    "plt.plot (hist_ej2.history['val_accuracy'], label = \"validation\")\n",
    "plt.title('Accuracy')\n",
    "plt.xlabel('epoch')\n",
    "plt.ylabel('accuracy')\n",
    "plt.legend()"
   ]
  },
  {
   "cell_type": "code",
   "execution_count": null,
   "metadata": {},
   "outputs": [],
   "source": []
  },
  {
   "cell_type": "markdown",
   "metadata": {
    "id": "39JhEuqEFmo1"
   },
   "source": [
    "3.- Entrena un modelo en Keras con capas convolucionales para predecir el valor diario de cierre de bolsa de Amazon (puedes usar los datos que vimos en clase y que están en kaggle). Utiliza de los datos de apertura de 4 días anteriores para predecir el valor del día actual. Compáralo con un modelo con una capa lineal."
   ]
  },
  {
   "cell_type": "code",
   "execution_count": 3,
   "metadata": {
    "colab": {
     "base_uri": "https://localhost:8080/",
     "height": 206
    },
    "executionInfo": {
     "elapsed": 264,
     "status": "ok",
     "timestamp": 1664140245753,
     "user": {
      "displayName": "Álvaro Blanes figuerola",
      "userId": "11042556642168442120"
     },
     "user_tz": -120
    },
    "id": "9q0zre098RUv",
    "outputId": "460191c6-68d7-46c7-d65c-b08ac4b1702f"
   },
   "outputs": [
    {
     "data": {
      "text/html": [
       "\n",
       "  <div id=\"df-a4e55559-ef27-4902-a590-2dbc08d14dfe\">\n",
       "    <div class=\"colab-df-container\">\n",
       "      <div>\n",
       "<style scoped>\n",
       "    .dataframe tbody tr th:only-of-type {\n",
       "        vertical-align: middle;\n",
       "    }\n",
       "\n",
       "    .dataframe tbody tr th {\n",
       "        vertical-align: top;\n",
       "    }\n",
       "\n",
       "    .dataframe thead th {\n",
       "        text-align: right;\n",
       "    }\n",
       "</style>\n",
       "<table border=\"1\" class=\"dataframe\">\n",
       "  <thead>\n",
       "    <tr style=\"text-align: right;\">\n",
       "      <th></th>\n",
       "      <th>Date</th>\n",
       "      <th>Open</th>\n",
       "      <th>High</th>\n",
       "      <th>Low</th>\n",
       "      <th>Close</th>\n",
       "      <th>Volume</th>\n",
       "      <th>OpenInt</th>\n",
       "    </tr>\n",
       "  </thead>\n",
       "  <tbody>\n",
       "    <tr>\n",
       "      <th>5148</th>\n",
       "      <td>2017-11-06</td>\n",
       "      <td>1109.15</td>\n",
       "      <td>1125.41</td>\n",
       "      <td>1108.77</td>\n",
       "      <td>1120.66</td>\n",
       "      <td>3331738</td>\n",
       "      <td>0</td>\n",
       "    </tr>\n",
       "    <tr>\n",
       "      <th>5149</th>\n",
       "      <td>2017-11-07</td>\n",
       "      <td>1124.74</td>\n",
       "      <td>1130.60</td>\n",
       "      <td>1117.50</td>\n",
       "      <td>1123.17</td>\n",
       "      <td>2684443</td>\n",
       "      <td>0</td>\n",
       "    </tr>\n",
       "    <tr>\n",
       "      <th>5150</th>\n",
       "      <td>2017-11-08</td>\n",
       "      <td>1122.82</td>\n",
       "      <td>1135.54</td>\n",
       "      <td>1119.11</td>\n",
       "      <td>1132.88</td>\n",
       "      <td>2576010</td>\n",
       "      <td>0</td>\n",
       "    </tr>\n",
       "    <tr>\n",
       "      <th>5151</th>\n",
       "      <td>2017-11-09</td>\n",
       "      <td>1125.96</td>\n",
       "      <td>1129.62</td>\n",
       "      <td>1115.77</td>\n",
       "      <td>1129.13</td>\n",
       "      <td>3729978</td>\n",
       "      <td>0</td>\n",
       "    </tr>\n",
       "    <tr>\n",
       "      <th>5152</th>\n",
       "      <td>2017-11-10</td>\n",
       "      <td>1126.10</td>\n",
       "      <td>1131.75</td>\n",
       "      <td>1124.06</td>\n",
       "      <td>1125.35</td>\n",
       "      <td>2179181</td>\n",
       "      <td>0</td>\n",
       "    </tr>\n",
       "  </tbody>\n",
       "</table>\n",
       "</div>\n",
       "      <button class=\"colab-df-convert\" onclick=\"convertToInteractive('df-a4e55559-ef27-4902-a590-2dbc08d14dfe')\"\n",
       "              title=\"Convert this dataframe to an interactive table.\"\n",
       "              style=\"display:none;\">\n",
       "        \n",
       "  <svg xmlns=\"http://www.w3.org/2000/svg\" height=\"24px\"viewBox=\"0 0 24 24\"\n",
       "       width=\"24px\">\n",
       "    <path d=\"M0 0h24v24H0V0z\" fill=\"none\"/>\n",
       "    <path d=\"M18.56 5.44l.94 2.06.94-2.06 2.06-.94-2.06-.94-.94-2.06-.94 2.06-2.06.94zm-11 1L8.5 8.5l.94-2.06 2.06-.94-2.06-.94L8.5 2.5l-.94 2.06-2.06.94zm10 10l.94 2.06.94-2.06 2.06-.94-2.06-.94-.94-2.06-.94 2.06-2.06.94z\"/><path d=\"M17.41 7.96l-1.37-1.37c-.4-.4-.92-.59-1.43-.59-.52 0-1.04.2-1.43.59L10.3 9.45l-7.72 7.72c-.78.78-.78 2.05 0 2.83L4 21.41c.39.39.9.59 1.41.59.51 0 1.02-.2 1.41-.59l7.78-7.78 2.81-2.81c.8-.78.8-2.07 0-2.86zM5.41 20L4 18.59l7.72-7.72 1.47 1.35L5.41 20z\"/>\n",
       "  </svg>\n",
       "      </button>\n",
       "      \n",
       "  <style>\n",
       "    .colab-df-container {\n",
       "      display:flex;\n",
       "      flex-wrap:wrap;\n",
       "      gap: 12px;\n",
       "    }\n",
       "\n",
       "    .colab-df-convert {\n",
       "      background-color: #E8F0FE;\n",
       "      border: none;\n",
       "      border-radius: 50%;\n",
       "      cursor: pointer;\n",
       "      display: none;\n",
       "      fill: #1967D2;\n",
       "      height: 32px;\n",
       "      padding: 0 0 0 0;\n",
       "      width: 32px;\n",
       "    }\n",
       "\n",
       "    .colab-df-convert:hover {\n",
       "      background-color: #E2EBFA;\n",
       "      box-shadow: 0px 1px 2px rgba(60, 64, 67, 0.3), 0px 1px 3px 1px rgba(60, 64, 67, 0.15);\n",
       "      fill: #174EA6;\n",
       "    }\n",
       "\n",
       "    [theme=dark] .colab-df-convert {\n",
       "      background-color: #3B4455;\n",
       "      fill: #D2E3FC;\n",
       "    }\n",
       "\n",
       "    [theme=dark] .colab-df-convert:hover {\n",
       "      background-color: #434B5C;\n",
       "      box-shadow: 0px 1px 3px 1px rgba(0, 0, 0, 0.15);\n",
       "      filter: drop-shadow(0px 1px 2px rgba(0, 0, 0, 0.3));\n",
       "      fill: #FFFFFF;\n",
       "    }\n",
       "  </style>\n",
       "\n",
       "      <script>\n",
       "        const buttonEl =\n",
       "          document.querySelector('#df-a4e55559-ef27-4902-a590-2dbc08d14dfe button.colab-df-convert');\n",
       "        buttonEl.style.display =\n",
       "          google.colab.kernel.accessAllowed ? 'block' : 'none';\n",
       "\n",
       "        async function convertToInteractive(key) {\n",
       "          const element = document.querySelector('#df-a4e55559-ef27-4902-a590-2dbc08d14dfe');\n",
       "          const dataTable =\n",
       "            await google.colab.kernel.invokeFunction('convertToInteractive',\n",
       "                                                     [key], {});\n",
       "          if (!dataTable) return;\n",
       "\n",
       "          const docLinkHtml = 'Like what you see? Visit the ' +\n",
       "            '<a target=\"_blank\" href=https://colab.research.google.com/notebooks/data_table.ipynb>data table notebook</a>'\n",
       "            + ' to learn more about interactive tables.';\n",
       "          element.innerHTML = '';\n",
       "          dataTable['output_type'] = 'display_data';\n",
       "          await google.colab.output.renderOutput(dataTable, element);\n",
       "          const docLink = document.createElement('div');\n",
       "          docLink.innerHTML = docLinkHtml;\n",
       "          element.appendChild(docLink);\n",
       "        }\n",
       "      </script>\n",
       "    </div>\n",
       "  </div>\n",
       "  "
      ],
      "text/plain": [
       "            Date     Open     High      Low    Close   Volume  OpenInt\n",
       "5148  2017-11-06  1109.15  1125.41  1108.77  1120.66  3331738        0\n",
       "5149  2017-11-07  1124.74  1130.60  1117.50  1123.17  2684443        0\n",
       "5150  2017-11-08  1122.82  1135.54  1119.11  1132.88  2576010        0\n",
       "5151  2017-11-09  1125.96  1129.62  1115.77  1129.13  3729978        0\n",
       "5152  2017-11-10  1126.10  1131.75  1124.06  1125.35  2179181        0"
      ]
     },
     "execution_count": 3,
     "metadata": {},
     "output_type": "execute_result"
    }
   ],
   "source": [
    "amz = pd.read_csv(\"amzn.us.txt\", delimiter = \",\")\n",
    "amz.tail()"
   ]
  },
  {
   "cell_type": "code",
   "execution_count": 4,
   "metadata": {
    "executionInfo": {
     "elapsed": 279,
     "status": "ok",
     "timestamp": 1664140248481,
     "user": {
      "displayName": "Álvaro Blanes figuerola",
      "userId": "11042556642168442120"
     },
     "user_tz": -120
    },
    "id": "ZB1n1Zd68RSS"
   },
   "outputs": [],
   "source": [
    "#Columnas open y Close\n",
    "amzn_open = amz['Open']\n",
    "amzn_close = amz['Close']"
   ]
  },
  {
   "cell_type": "code",
   "execution_count": 5,
   "metadata": {
    "executionInfo": {
     "elapsed": 254,
     "status": "ok",
     "timestamp": 1664140250148,
     "user": {
      "displayName": "Álvaro Blanes figuerola",
      "userId": "11042556642168442120"
     },
     "user_tz": -120
    },
    "id": "olJO6Quz6H17"
   },
   "outputs": [],
   "source": [
    "# Organizamos datos\n",
    "xx = amzn_open.values[0:4000]\n",
    "tt = amzn_close.values[0:4000]\n",
    "x_train = np.reshape(xx,(1000, 4, 1))\n",
    "t_train = tt[3:4000:4]\n",
    "\n",
    "xx = amzn_open.values[4000:5000]\n",
    "tt = amzn_close.values[4000:5000]\n",
    "x_test = np.reshape(xx,(250, 4, 1))\n",
    "t_test = tt[3:1000:4]"
   ]
  },
  {
   "cell_type": "code",
   "execution_count": 13,
   "metadata": {
    "colab": {
     "base_uri": "https://localhost:8080/"
    },
    "executionInfo": {
     "elapsed": 664,
     "status": "ok",
     "timestamp": 1664140317364,
     "user": {
      "displayName": "Álvaro Blanes figuerola",
      "userId": "11042556642168442120"
     },
     "user_tz": -120
    },
    "id": "PdKj3t1TIaU6",
    "outputId": "ceab38e7-a423-4da7-baa5-d5d8afd436d9"
   },
   "outputs": [
    {
     "name": "stdout",
     "output_type": "stream",
     "text": [
      "Model: \"sequential_1\"\n",
      "_________________________________________________________________\n",
      " Layer (type)                Output Shape              Param #   \n",
      "=================================================================\n",
      " conv1d_2 (Conv1D)           (None, 4, 64)             256       \n",
      "                                                                 \n",
      " conv1d_3 (Conv1D)           (None, 4, 32)             6176      \n",
      "                                                                 \n",
      " flatten_1 (Flatten)         (None, 128)               0         \n",
      "                                                                 \n",
      " dense_1 (Dense)             (None, 1)                 129       \n",
      "                                                                 \n",
      "=================================================================\n",
      "Total params: 6,561\n",
      "Trainable params: 6,561\n",
      "Non-trainable params: 0\n",
      "_________________________________________________________________\n"
     ]
    }
   ],
   "source": [
    "model_ej3 = Sequential()\n",
    "\n",
    "model_ej3.add (Conv1D(64, \n",
    "                       kernel_size = 3,\n",
    "                       activation = 'relu', \n",
    "                       input_shape = x_train.shape [1:],\n",
    "                       padding = 'same',\n",
    "                       ))\n",
    "model_ej3.add (Conv1D(32, \n",
    "                       kernel_size = 3,\n",
    "                       activation = 'relu', \n",
    "                       input_shape = x_train.shape [1:],\n",
    "                       padding = 'same',\n",
    "                       ))\n",
    "\n",
    "model_ej3.add (Flatten())\n",
    "model_ej3.add (Dense(1))\n",
    "\n",
    "model_ej3.summary()"
   ]
  },
  {
   "cell_type": "code",
   "execution_count": 14,
   "metadata": {
    "executionInfo": {
     "elapsed": 272,
     "status": "ok",
     "timestamp": 1664140319070,
     "user": {
      "displayName": "Álvaro Blanes figuerola",
      "userId": "11042556642168442120"
     },
     "user_tz": -120
    },
    "id": "AadaoEzDIaSi"
   },
   "outputs": [],
   "source": [
    "#Compilamos\n",
    "model_ej3.compile(optimizer = optimizers.Adam(learning_rate = 0.001), loss = 'mse')"
   ]
  },
  {
   "cell_type": "code",
   "execution_count": 15,
   "metadata": {
    "colab": {
     "base_uri": "https://localhost:8080/"
    },
    "executionInfo": {
     "elapsed": 5571,
     "status": "ok",
     "timestamp": 1664140325275,
     "user": {
      "displayName": "Álvaro Blanes figuerola",
      "userId": "11042556642168442120"
     },
     "user_tz": -120
    },
    "id": "R5Izq4yPvS8P",
    "outputId": "0edcf359-e5ec-4ddf-8143-0c626952012d"
   },
   "outputs": [
    {
     "name": "stdout",
     "output_type": "stream",
     "text": [
      "Epoch 1/50\n",
      "22/22 [==============================] - 1s 9ms/step - loss: 814.9099 - val_loss: 26.7304\n",
      "Epoch 2/50\n",
      "22/22 [==============================] - 0s 3ms/step - loss: 33.5023 - val_loss: 55.6838\n",
      "Epoch 3/50\n",
      "22/22 [==============================] - 0s 4ms/step - loss: 10.9439 - val_loss: 32.4933\n",
      "Epoch 4/50\n",
      "22/22 [==============================] - 0s 3ms/step - loss: 8.0523 - val_loss: 33.0208\n",
      "Epoch 5/50\n",
      "22/22 [==============================] - 0s 4ms/step - loss: 6.9392 - val_loss: 26.0483\n",
      "Epoch 6/50\n",
      "22/22 [==============================] - 0s 4ms/step - loss: 6.7984 - val_loss: 27.0625\n",
      "Epoch 7/50\n",
      "22/22 [==============================] - 0s 4ms/step - loss: 6.6641 - val_loss: 24.5260\n",
      "Epoch 8/50\n",
      "22/22 [==============================] - 0s 3ms/step - loss: 6.5569 - val_loss: 24.5128\n",
      "Epoch 9/50\n",
      "22/22 [==============================] - 0s 3ms/step - loss: 6.5145 - val_loss: 23.6938\n",
      "Epoch 10/50\n",
      "22/22 [==============================] - 0s 4ms/step - loss: 6.1071 - val_loss: 24.7928\n",
      "Epoch 11/50\n",
      "22/22 [==============================] - 0s 3ms/step - loss: 5.9764 - val_loss: 29.8866\n",
      "Epoch 12/50\n",
      "22/22 [==============================] - 0s 4ms/step - loss: 5.6605 - val_loss: 30.7728\n",
      "Epoch 13/50\n",
      "22/22 [==============================] - 0s 3ms/step - loss: 5.6420 - val_loss: 21.7517\n",
      "Epoch 14/50\n",
      "22/22 [==============================] - 0s 4ms/step - loss: 5.3488 - val_loss: 24.6242\n",
      "Epoch 15/50\n",
      "22/22 [==============================] - 0s 3ms/step - loss: 5.4978 - val_loss: 27.1833\n",
      "Epoch 16/50\n",
      "22/22 [==============================] - 0s 4ms/step - loss: 5.2580 - val_loss: 25.4282\n",
      "Epoch 17/50\n",
      "22/22 [==============================] - 0s 4ms/step - loss: 5.5734 - val_loss: 29.9978\n",
      "Epoch 18/50\n",
      "22/22 [==============================] - 0s 3ms/step - loss: 5.0188 - val_loss: 18.8008\n",
      "Epoch 19/50\n",
      "22/22 [==============================] - 0s 4ms/step - loss: 4.6966 - val_loss: 18.2956\n",
      "Epoch 20/50\n",
      "22/22 [==============================] - 0s 4ms/step - loss: 4.6443 - val_loss: 17.4152\n",
      "Epoch 21/50\n",
      "22/22 [==============================] - 0s 4ms/step - loss: 4.5016 - val_loss: 21.6522\n",
      "Epoch 22/50\n",
      "22/22 [==============================] - 0s 3ms/step - loss: 4.3060 - val_loss: 17.3448\n",
      "Epoch 23/50\n",
      "22/22 [==============================] - 0s 4ms/step - loss: 4.0886 - val_loss: 16.0122\n",
      "Epoch 24/50\n",
      "22/22 [==============================] - 0s 4ms/step - loss: 4.0657 - val_loss: 17.3535\n",
      "Epoch 25/50\n",
      "22/22 [==============================] - 0s 4ms/step - loss: 3.9132 - val_loss: 17.4069\n",
      "Epoch 26/50\n",
      "22/22 [==============================] - 0s 3ms/step - loss: 4.0116 - val_loss: 22.8454\n",
      "Epoch 27/50\n",
      "22/22 [==============================] - 0s 4ms/step - loss: 3.7903 - val_loss: 14.4647\n",
      "Epoch 28/50\n",
      "22/22 [==============================] - 0s 4ms/step - loss: 3.5621 - val_loss: 26.9247\n",
      "Epoch 29/50\n",
      "22/22 [==============================] - 0s 4ms/step - loss: 3.7071 - val_loss: 14.4667\n",
      "Epoch 30/50\n",
      "22/22 [==============================] - 0s 4ms/step - loss: 3.4488 - val_loss: 22.2090\n",
      "Epoch 31/50\n",
      "22/22 [==============================] - 0s 4ms/step - loss: 3.7221 - val_loss: 13.4771\n",
      "Epoch 32/50\n",
      "22/22 [==============================] - 0s 4ms/step - loss: 3.4407 - val_loss: 12.7998\n",
      "Epoch 33/50\n",
      "22/22 [==============================] - 0s 4ms/step - loss: 3.8548 - val_loss: 13.3904\n",
      "Epoch 34/50\n",
      "22/22 [==============================] - 0s 3ms/step - loss: 3.5081 - val_loss: 23.6836\n",
      "Epoch 35/50\n",
      "22/22 [==============================] - 0s 3ms/step - loss: 3.3691 - val_loss: 13.6412\n",
      "Epoch 36/50\n",
      "22/22 [==============================] - 0s 3ms/step - loss: 3.6548 - val_loss: 12.1177\n",
      "Epoch 37/50\n",
      "22/22 [==============================] - 0s 3ms/step - loss: 3.1990 - val_loss: 12.5674\n",
      "Epoch 38/50\n",
      "22/22 [==============================] - 0s 4ms/step - loss: 3.1425 - val_loss: 14.2235\n",
      "Epoch 39/50\n",
      "22/22 [==============================] - 0s 4ms/step - loss: 3.1102 - val_loss: 11.5488\n",
      "Epoch 40/50\n",
      "22/22 [==============================] - 0s 4ms/step - loss: 3.0016 - val_loss: 12.7944\n",
      "Epoch 41/50\n",
      "22/22 [==============================] - 0s 3ms/step - loss: 2.9526 - val_loss: 11.4752\n",
      "Epoch 42/50\n",
      "22/22 [==============================] - 0s 4ms/step - loss: 2.9807 - val_loss: 16.2135\n",
      "Epoch 43/50\n",
      "22/22 [==============================] - 0s 4ms/step - loss: 3.0858 - val_loss: 11.0388\n",
      "Epoch 44/50\n",
      "22/22 [==============================] - 0s 3ms/step - loss: 2.8560 - val_loss: 18.5351\n",
      "Epoch 45/50\n",
      "22/22 [==============================] - 0s 3ms/step - loss: 3.2513 - val_loss: 12.0883\n",
      "Epoch 46/50\n",
      "22/22 [==============================] - 0s 4ms/step - loss: 3.0126 - val_loss: 11.3580\n",
      "Epoch 47/50\n",
      "22/22 [==============================] - 0s 4ms/step - loss: 2.9808 - val_loss: 14.9641\n",
      "Epoch 48/50\n",
      "22/22 [==============================] - 0s 3ms/step - loss: 2.9601 - val_loss: 11.7146\n",
      "Epoch 49/50\n",
      "22/22 [==============================] - 0s 3ms/step - loss: 2.8660 - val_loss: 12.5877\n",
      "Epoch 50/50\n",
      "22/22 [==============================] - 0s 4ms/step - loss: 2.8721 - val_loss: 14.6372\n"
     ]
    }
   ],
   "source": [
    "hist_ej3 = model_ej3.fit(x_train, t_train, epochs = 50, validation_split = 0.3)"
   ]
  },
  {
   "cell_type": "code",
   "execution_count": 16,
   "metadata": {
    "colab": {
     "base_uri": "https://localhost:8080/",
     "height": 312
    },
    "executionInfo": {
     "elapsed": 539,
     "status": "ok",
     "timestamp": 1664140325810,
     "user": {
      "displayName": "Álvaro Blanes figuerola",
      "userId": "11042556642168442120"
     },
     "user_tz": -120
    },
    "id": "BVvng0O0JYdM",
    "outputId": "b70993d0-434a-402d-aea2-d783e2896a64"
   },
   "outputs": [
    {
     "data": {
      "text/plain": [
       "<matplotlib.legend.Legend at 0x7f3cd0ddfcd0>"
      ]
     },
     "execution_count": 16,
     "metadata": {},
     "output_type": "execute_result"
    },
    {
     "data": {
      "image/png": "[encoded data removed]",
      "text/plain": [
       "<Figure size 432x288 with 1 Axes>"
      ]
     },
     "metadata": {
      "needs_background": "light"
     },
     "output_type": "display_data"
    }
   ],
   "source": [
    "# Gráfico\n",
    "plt.plot(hist_ej3.history['loss'], label = \"entrenamiento\")\n",
    "plt.plot(hist_ej3.history['val_loss'], label = \"validación\")\n",
    "plt.title('Loss')\n",
    "plt.xlabel('epoch')\n",
    "plt.ylabel('loss')\n",
    "plt.legend()"
   ]
  },
  {
   "cell_type": "code",
   "execution_count": 17,
   "metadata": {
    "executionInfo": {
     "elapsed": 5,
     "status": "ok",
     "timestamp": 1664140325810,
     "user": {
      "displayName": "Álvaro Blanes figuerola",
      "userId": "11042556642168442120"
     },
     "user_tz": -120
    },
    "id": "lgHggvwCJYWi"
   },
   "outputs": [],
   "source": [
    "#Predicion\n",
    "y_pred = model_ej3.predict(x_test)"
   ]
  },
  {
   "cell_type": "code",
   "execution_count": 18,
   "metadata": {
    "colab": {
     "base_uri": "https://localhost:8080/",
     "height": 296
    },
    "executionInfo": {
     "elapsed": 542,
     "status": "ok",
     "timestamp": 1664140326347,
     "user": {
      "displayName": "Álvaro Blanes figuerola",
      "userId": "11042556642168442120"
     },
     "user_tz": -120
    },
    "id": "h4cFfEL_JeWF",
    "outputId": "671ab94e-1938-434b-c43d-cc475916cc3a"
   },
   "outputs": [
    {
     "data": {
      "text/plain": [
       "<matplotlib.legend.Legend at 0x7f3cd0d87690>"
      ]
     },
     "execution_count": 18,
     "metadata": {},
     "output_type": "execute_result"
    },
    {
     "data": {
      "image/png": "[encoded data removed]",
      "text/plain": [
       "<Figure size 432x288 with 1 Axes>"
      ]
     },
     "metadata": {
      "needs_background": "light"
     },
     "output_type": "display_data"
    }
   ],
   "source": [
    "# Grafica\n",
    "plt.figure()\n",
    "plt.plot (t_test, label = 'reales')\n",
    "plt.plot(y_pred, label = 'predicciones')\n",
    "plt.xlabel('tiempo')\n",
    "plt.ylabel('Precio')\n",
    "plt.legend()"
   ]
  },
  {
   "cell_type": "code",
   "execution_count": 19,
   "metadata": {
    "colab": {
     "base_uri": "https://localhost:8080/"
    },
    "executionInfo": {
     "elapsed": 11,
     "status": "ok",
     "timestamp": 1664140326347,
     "user": {
      "displayName": "Álvaro Blanes figuerola",
      "userId": "11042556642168442120"
     },
     "user_tz": -120
    },
    "id": "x1XE07kiJeTS",
    "outputId": "65a86db8-3b42-4857-fca1-b2fd96592b0b"
   },
   "outputs": [
    {
     "name": "stdout",
     "output_type": "stream",
     "text": [
      "8/8 [==============================] - 0s 2ms/step - loss: 70.8197\n"
     ]
    },
    {
     "data": {
      "text/plain": [
       "70.81971740722656"
      ]
     },
     "execution_count": 19,
     "metadata": {},
     "output_type": "execute_result"
    }
   ],
   "source": [
    "# Evaluacion\n",
    "score = model_ej3.evaluate(x_test, t_test)\n",
    "score"
   ]
  },
  {
   "cell_type": "markdown",
   "metadata": {
    "id": "TsJswXLkvxPX"
   },
   "source": [
    "Modelo capas densas"
   ]
  },
  {
   "cell_type": "code",
   "execution_count": 20,
   "metadata": {
    "colab": {
     "base_uri": "https://localhost:8080/"
    },
    "executionInfo": {
     "elapsed": 10,
     "status": "ok",
     "timestamp": 1664140326349,
     "user": {
      "displayName": "Álvaro Blanes figuerola",
      "userId": "11042556642168442120"
     },
     "user_tz": -120
    },
    "id": "OpHXyUhoJeQ3",
    "outputId": "05f19030-eea1-4112-8e0a-69bb04119e19"
   },
   "outputs": [
    {
     "name": "stdout",
     "output_type": "stream",
     "text": [
      "Model: \"sequential_2\"\n",
      "_________________________________________________________________\n",
      " Layer (type)                Output Shape              Param #   \n",
      "=================================================================\n",
      " dense_2 (Dense)             (None, 4, 64)             128       \n",
      "                                                                 \n",
      " flatten_2 (Flatten)         (None, 256)               0         \n",
      "                                                                 \n",
      " dense_3 (Dense)             (None, 1)                 257       \n",
      "                                                                 \n",
      "=================================================================\n",
      "Total params: 385\n",
      "Trainable params: 385\n",
      "Non-trainable params: 0\n",
      "_________________________________________________________________\n"
     ]
    }
   ],
   "source": [
    "# modelo capas densas\n",
    "model2_ej3 = Sequential()\n",
    "\n",
    "model2_ej3.add(Dense(64, \n",
    "                       activation = 'relu', \n",
    "                       input_shape = x_train.shape [1:]))\n",
    "model2_ej3.add(Flatten())\n",
    "model2_ej3.add(Dense(1))\n",
    "\n",
    "model2_ej3.summary()"
   ]
  },
  {
   "cell_type": "code",
   "execution_count": 21,
   "metadata": {
    "executionInfo": {
     "elapsed": 6,
     "status": "ok",
     "timestamp": 1664140326349,
     "user": {
      "displayName": "Álvaro Blanes figuerola",
      "userId": "11042556642168442120"
     },
     "user_tz": -120
    },
    "id": "ZfkDah-oFxP3"
   },
   "outputs": [],
   "source": [
    "# Compilo el modelo.\n",
    "model2_ej3.compile(optimizer = optimizers.Adam(learning_rate = 0.005), loss = 'mse')\n"
   ]
  },
  {
   "cell_type": "code",
   "execution_count": 22,
   "metadata": {
    "colab": {
     "base_uri": "https://localhost:8080/"
    },
    "executionInfo": {
     "elapsed": 4159,
     "status": "ok",
     "timestamp": 1664140330502,
     "user": {
      "displayName": "Álvaro Blanes figuerola",
      "userId": "11042556642168442120"
     },
     "user_tz": -120
    },
    "id": "-Uvgc-XNF0se",
    "outputId": "4f17f7bd-78d0-409b-be97-7dad9016bd27"
   },
   "outputs": [
    {
     "name": "stdout",
     "output_type": "stream",
     "text": [
      "Epoch 1/50\n",
      "22/22 [==============================] - 1s 16ms/step - loss: 281.0344 - val_loss: 57.5492\n",
      "Epoch 2/50\n",
      "22/22 [==============================] - 0s 3ms/step - loss: 23.1300 - val_loss: 178.8986\n",
      "Epoch 3/50\n",
      "22/22 [==============================] - 0s 3ms/step - loss: 9.3876 - val_loss: 31.0106\n",
      "Epoch 4/50\n",
      "22/22 [==============================] - 0s 3ms/step - loss: 6.5640 - val_loss: 28.5326\n",
      "Epoch 5/50\n",
      "22/22 [==============================] - 0s 3ms/step - loss: 6.2045 - val_loss: 33.1245\n",
      "Epoch 6/50\n",
      "22/22 [==============================] - 0s 3ms/step - loss: 6.2617 - val_loss: 23.3653\n",
      "Epoch 7/50\n",
      "22/22 [==============================] - 0s 3ms/step - loss: 6.4382 - val_loss: 27.4530\n",
      "Epoch 8/50\n",
      "22/22 [==============================] - 0s 3ms/step - loss: 5.8626 - val_loss: 22.6392\n",
      "Epoch 9/50\n",
      "22/22 [==============================] - 0s 3ms/step - loss: 5.7323 - val_loss: 25.8913\n",
      "Epoch 10/50\n",
      "22/22 [==============================] - 0s 3ms/step - loss: 5.9335 - val_loss: 32.6091\n",
      "Epoch 11/50\n",
      "22/22 [==============================] - 0s 3ms/step - loss: 5.6719 - val_loss: 22.6446\n",
      "Epoch 12/50\n",
      "22/22 [==============================] - 0s 3ms/step - loss: 5.4561 - val_loss: 21.1805\n",
      "Epoch 13/50\n",
      "22/22 [==============================] - 0s 3ms/step - loss: 5.2779 - val_loss: 21.6829\n",
      "Epoch 14/50\n",
      "22/22 [==============================] - 0s 3ms/step - loss: 5.3394 - val_loss: 21.4404\n",
      "Epoch 15/50\n",
      "22/22 [==============================] - 0s 4ms/step - loss: 5.2734 - val_loss: 21.6231\n",
      "Epoch 16/50\n",
      "22/22 [==============================] - 0s 3ms/step - loss: 5.1065 - val_loss: 28.1014\n",
      "Epoch 17/50\n",
      "22/22 [==============================] - 0s 3ms/step - loss: 4.8883 - val_loss: 33.4935\n",
      "Epoch 18/50\n",
      "22/22 [==============================] - 0s 3ms/step - loss: 5.1739 - val_loss: 36.3318\n",
      "Epoch 19/50\n",
      "22/22 [==============================] - 0s 4ms/step - loss: 5.1597 - val_loss: 18.2630\n",
      "Epoch 20/50\n",
      "22/22 [==============================] - 0s 3ms/step - loss: 4.5610 - val_loss: 22.3906\n",
      "Epoch 21/50\n",
      "22/22 [==============================] - 0s 3ms/step - loss: 4.9066 - val_loss: 33.1777\n",
      "Epoch 22/50\n",
      "22/22 [==============================] - 0s 3ms/step - loss: 4.8030 - val_loss: 20.0711\n",
      "Epoch 23/50\n",
      "22/22 [==============================] - 0s 3ms/step - loss: 4.2821 - val_loss: 21.2666\n",
      "Epoch 24/50\n",
      "22/22 [==============================] - 0s 3ms/step - loss: 4.2111 - val_loss: 19.4925\n",
      "Epoch 25/50\n",
      "22/22 [==============================] - 0s 3ms/step - loss: 3.9363 - val_loss: 16.6100\n",
      "Epoch 26/50\n",
      "22/22 [==============================] - 0s 3ms/step - loss: 3.9902 - val_loss: 22.7425\n",
      "Epoch 27/50\n",
      "22/22 [==============================] - 0s 3ms/step - loss: 4.0625 - val_loss: 20.8332\n",
      "Epoch 28/50\n",
      "22/22 [==============================] - 0s 3ms/step - loss: 4.1041 - val_loss: 15.6620\n",
      "Epoch 29/50\n",
      "22/22 [==============================] - 0s 3ms/step - loss: 3.8862 - val_loss: 15.1629\n",
      "Epoch 30/50\n",
      "22/22 [==============================] - 0s 3ms/step - loss: 3.9478 - val_loss: 25.1834\n",
      "Epoch 31/50\n",
      "22/22 [==============================] - 0s 3ms/step - loss: 3.7827 - val_loss: 20.0406\n",
      "Epoch 32/50\n",
      "22/22 [==============================] - 0s 3ms/step - loss: 3.9518 - val_loss: 34.0363\n",
      "Epoch 33/50\n",
      "22/22 [==============================] - 0s 3ms/step - loss: 4.0528 - val_loss: 15.5067\n",
      "Epoch 34/50\n",
      "22/22 [==============================] - 0s 3ms/step - loss: 3.4953 - val_loss: 17.4984\n",
      "Epoch 35/50\n",
      "22/22 [==============================] - 0s 3ms/step - loss: 3.5405 - val_loss: 13.8284\n",
      "Epoch 36/50\n",
      "22/22 [==============================] - 0s 3ms/step - loss: 3.4830 - val_loss: 15.7956\n",
      "Epoch 37/50\n",
      "22/22 [==============================] - 0s 3ms/step - loss: 3.3280 - val_loss: 13.5516\n",
      "Epoch 38/50\n",
      "22/22 [==============================] - 0s 3ms/step - loss: 3.4615 - val_loss: 13.7109\n",
      "Epoch 39/50\n",
      "22/22 [==============================] - 0s 3ms/step - loss: 3.2403 - val_loss: 18.9029\n",
      "Epoch 40/50\n",
      "22/22 [==============================] - 0s 3ms/step - loss: 3.3038 - val_loss: 18.8994\n",
      "Epoch 41/50\n",
      "22/22 [==============================] - 0s 3ms/step - loss: 3.4833 - val_loss: 13.1091\n",
      "Epoch 42/50\n",
      "22/22 [==============================] - 0s 3ms/step - loss: 3.6905 - val_loss: 21.7345\n",
      "Epoch 43/50\n",
      "22/22 [==============================] - 0s 3ms/step - loss: 3.1288 - val_loss: 20.1760\n",
      "Epoch 44/50\n",
      "22/22 [==============================] - 0s 3ms/step - loss: 3.2626 - val_loss: 12.5759\n",
      "Epoch 45/50\n",
      "22/22 [==============================] - 0s 3ms/step - loss: 3.5918 - val_loss: 14.5834\n",
      "Epoch 46/50\n",
      "22/22 [==============================] - 0s 3ms/step - loss: 3.5856 - val_loss: 17.7944\n",
      "Epoch 47/50\n",
      "22/22 [==============================] - 0s 3ms/step - loss: 3.4600 - val_loss: 15.2896\n",
      "Epoch 48/50\n",
      "22/22 [==============================] - 0s 3ms/step - loss: 3.0885 - val_loss: 14.9065\n",
      "Epoch 49/50\n",
      "22/22 [==============================] - 0s 3ms/step - loss: 3.2553 - val_loss: 12.1581\n",
      "Epoch 50/50\n",
      "22/22 [==============================] - 0s 3ms/step - loss: 3.1461 - val_loss: 11.9066\n"
     ]
    }
   ],
   "source": [
    "# Entreno el modelo.\n",
    "hist_ej3 = model2_ej3.fit(x_train, t_train, epochs = 50, validation_split = 0.3)"
   ]
  },
  {
   "cell_type": "code",
   "execution_count": 23,
   "metadata": {
    "colab": {
     "base_uri": "https://localhost:8080/",
     "height": 312
    },
    "executionInfo": {
     "elapsed": 512,
     "status": "ok",
     "timestamp": 1664140331003,
     "user": {
      "displayName": "Álvaro Blanes figuerola",
      "userId": "11042556642168442120"
     },
     "user_tz": -120
    },
    "id": "riPgIxC9JeOR",
    "outputId": "5cac47e9-7421-4f54-f789-15767028f4ae"
   },
   "outputs": [
    {
     "data": {
      "text/plain": [
       "<matplotlib.legend.Legend at 0x7f3ccfb88590>"
      ]
     },
     "execution_count": 23,
     "metadata": {},
     "output_type": "execute_result"
    },
    {
     "data": {
      "image/png": "[encoded data removed]",
      "text/plain": [
       "<Figure size 432x288 with 1 Axes>"
      ]
     },
     "metadata": {
      "needs_background": "light"
     },
     "output_type": "display_data"
    }
   ],
   "source": [
    "# Grafica curva loss\n",
    "plt.plot(hist_ej3.history['loss'], label = \"entrenamiento\")\n",
    "plt.plot(hist_ej3.history['val_loss'], label = \"validación\")\n",
    "plt.title('Loss')\n",
    "plt.xlabel('epoch')\n",
    "plt.ylabel('loss')\n",
    "plt.legend()"
   ]
  },
  {
   "cell_type": "code",
   "execution_count": 24,
   "metadata": {
    "executionInfo": {
     "elapsed": 4,
     "status": "ok",
     "timestamp": 1664140331003,
     "user": {
      "displayName": "Álvaro Blanes figuerola",
      "userId": "11042556642168442120"
     },
     "user_tz": -120
    },
    "id": "NTSpMUasJq2t"
   },
   "outputs": [],
   "source": [
    "# Predicción datos test\n",
    "y_pred = model2_ej3.predict(x_test)\n"
   ]
  },
  {
   "cell_type": "code",
   "execution_count": 25,
   "metadata": {
    "colab": {
     "base_uri": "https://localhost:8080/",
     "height": 312
    },
    "executionInfo": {
     "elapsed": 569,
     "status": "ok",
     "timestamp": 1664140331568,
     "user": {
      "displayName": "Álvaro Blanes figuerola",
      "userId": "11042556642168442120"
     },
     "user_tz": -120
    },
    "id": "lOvQ7_VQFmZj",
    "outputId": "6b5e51c1-7171-4722-ad4b-b340f3c1a9a2"
   },
   "outputs": [
    {
     "data": {
      "text/plain": [
       "<matplotlib.legend.Legend at 0x7f3cd159aad0>"
      ]
     },
     "execution_count": 25,
     "metadata": {},
     "output_type": "execute_result"
    },
    {
     "data": {
      "image/png": "[encoded data removed]",
      "text/plain": [
       "<Figure size 432x288 with 1 Axes>"
      ]
     },
     "metadata": {
      "needs_background": "light"
     },
     "output_type": "display_data"
    }
   ],
   "source": [
    "# Grafica\n",
    "plt.figure()\n",
    "plt.plot (t_test, label = 'reales')\n",
    "plt.plot (y_pred, label = 'predicciones')\n",
    "plt.title('Real vs Predicción Amazon')\n",
    "plt.xlabel('tiempo')\n",
    "plt.ylabel('Precio')\n",
    "plt.legend()"
   ]
  },
  {
   "cell_type": "code",
   "execution_count": 26,
   "metadata": {
    "colab": {
     "base_uri": "https://localhost:8080/"
    },
    "executionInfo": {
     "elapsed": 6,
     "status": "ok",
     "timestamp": 1664140331568,
     "user": {
      "displayName": "Álvaro Blanes figuerola",
      "userId": "11042556642168442120"
     },
     "user_tz": -120
    },
    "id": "RHHp8MybJq0L",
    "outputId": "2dec4601-6af5-4c8d-ee3e-e7ef8f5c6a04"
   },
   "outputs": [
    {
     "name": "stdout",
     "output_type": "stream",
     "text": [
      "8/8 [==============================] - 0s 2ms/step - loss: 48.2062\n"
     ]
    },
    {
     "data": {
      "text/plain": [
       "48.2061767578125"
      ]
     },
     "execution_count": 26,
     "metadata": {},
     "output_type": "execute_result"
    }
   ],
   "source": [
    "# Evaluacion con los datos de test.\n",
    "score = model2_ej3.evaluate(x_test, t_test)\n",
    "score"
   ]
  },
  {
   "cell_type": "code",
   "execution_count": 26,
   "metadata": {
    "executionInfo": {
     "elapsed": 4,
     "status": "ok",
     "timestamp": 1664140331568,
     "user": {
      "displayName": "Álvaro Blanes figuerola",
      "userId": "11042556642168442120"
     },
     "user_tz": -120
    },
    "id": "zUIwJNpn3TEx"
   },
   "outputs": [],
   "source": []
  },
  {
   "cell_type": "markdown",
   "metadata": {
    "id": "Xoneo_qwG62E"
   },
   "source": [
    "4.- Entrena un modelo en Keras que combine capas GRU y convolucionales para predecir los valores de cierre de Amazon utilizando como entrada únicamente los valores de apertura de los datos Amazon de los 4 días anteriores y que obtenga unos resultados en test mejores que los del apartado anterior."
   ]
  },
  {
   "cell_type": "code",
   "execution_count": 2,
   "metadata": {
    "colab": {
     "base_uri": "https://localhost:8080/",
     "height": 206
    },
    "executionInfo": {
     "elapsed": 8,
     "status": "ok",
     "timestamp": 1664141264834,
     "user": {
      "displayName": "Álvaro Blanes figuerola",
      "userId": "11042556642168442120"
     },
     "user_tz": -120
    },
    "id": "nHK8Oi2BMz_L",
    "outputId": "19409583-320a-4569-a59f-bac3ace51cc2"
   },
   "outputs": [
    {
     "data": {
      "text/html": [
       "\n",
       "  <div id=\"df-af666c33-595b-4a93-9a8b-88e298185707\">\n",
       "    <div class=\"colab-df-container\">\n",
       "      <div>\n",
       "<style scoped>\n",
       "    .dataframe tbody tr th:only-of-type {\n",
       "        vertical-align: middle;\n",
       "    }\n",
       "\n",
       "    .dataframe tbody tr th {\n",
       "        vertical-align: top;\n",
       "    }\n",
       "\n",
       "    .dataframe thead th {\n",
       "        text-align: right;\n",
       "    }\n",
       "</style>\n",
       "<table border=\"1\" class=\"dataframe\">\n",
       "  <thead>\n",
       "    <tr style=\"text-align: right;\">\n",
       "      <th></th>\n",
       "      <th>Date</th>\n",
       "      <th>Open</th>\n",
       "      <th>High</th>\n",
       "      <th>Low</th>\n",
       "      <th>Close</th>\n",
       "      <th>Volume</th>\n",
       "      <th>OpenInt</th>\n",
       "    </tr>\n",
       "  </thead>\n",
       "  <tbody>\n",
       "    <tr>\n",
       "      <th>5148</th>\n",
       "      <td>2017-11-06</td>\n",
       "      <td>1109.15</td>\n",
       "      <td>1125.41</td>\n",
       "      <td>1108.77</td>\n",
       "      <td>1120.66</td>\n",
       "      <td>3331738</td>\n",
       "      <td>0</td>\n",
       "    </tr>\n",
       "    <tr>\n",
       "      <th>5149</th>\n",
       "      <td>2017-11-07</td>\n",
       "      <td>1124.74</td>\n",
       "      <td>1130.60</td>\n",
       "      <td>1117.50</td>\n",
       "      <td>1123.17</td>\n",
       "      <td>2684443</td>\n",
       "      <td>0</td>\n",
       "    </tr>\n",
       "    <tr>\n",
       "      <th>5150</th>\n",
       "      <td>2017-11-08</td>\n",
       "      <td>1122.82</td>\n",
       "      <td>1135.54</td>\n",
       "      <td>1119.11</td>\n",
       "      <td>1132.88</td>\n",
       "      <td>2576010</td>\n",
       "      <td>0</td>\n",
       "    </tr>\n",
       "    <tr>\n",
       "      <th>5151</th>\n",
       "      <td>2017-11-09</td>\n",
       "      <td>1125.96</td>\n",
       "      <td>1129.62</td>\n",
       "      <td>1115.77</td>\n",
       "      <td>1129.13</td>\n",
       "      <td>3729978</td>\n",
       "      <td>0</td>\n",
       "    </tr>\n",
       "    <tr>\n",
       "      <th>5152</th>\n",
       "      <td>2017-11-10</td>\n",
       "      <td>1126.10</td>\n",
       "      <td>1131.75</td>\n",
       "      <td>1124.06</td>\n",
       "      <td>1125.35</td>\n",
       "      <td>2179181</td>\n",
       "      <td>0</td>\n",
       "    </tr>\n",
       "  </tbody>\n",
       "</table>\n",
       "</div>\n",
       "      <button class=\"colab-df-convert\" onclick=\"convertToInteractive('df-af666c33-595b-4a93-9a8b-88e298185707')\"\n",
       "              title=\"Convert this dataframe to an interactive table.\"\n",
       "              style=\"display:none;\">\n",
       "        \n",
       "  <svg xmlns=\"http://www.w3.org/2000/svg\" height=\"24px\"viewBox=\"0 0 24 24\"\n",
       "       width=\"24px\">\n",
       "    <path d=\"M0 0h24v24H0V0z\" fill=\"none\"/>\n",
       "    <path d=\"M18.56 5.44l.94 2.06.94-2.06 2.06-.94-2.06-.94-.94-2.06-.94 2.06-2.06.94zm-11 1L8.5 8.5l.94-2.06 2.06-.94-2.06-.94L8.5 2.5l-.94 2.06-2.06.94zm10 10l.94 2.06.94-2.06 2.06-.94-2.06-.94-.94-2.06-.94 2.06-2.06.94z\"/><path d=\"M17.41 7.96l-1.37-1.37c-.4-.4-.92-.59-1.43-.59-.52 0-1.04.2-1.43.59L10.3 9.45l-7.72 7.72c-.78.78-.78 2.05 0 2.83L4 21.41c.39.39.9.59 1.41.59.51 0 1.02-.2 1.41-.59l7.78-7.78 2.81-2.81c.8-.78.8-2.07 0-2.86zM5.41 20L4 18.59l7.72-7.72 1.47 1.35L5.41 20z\"/>\n",
       "  </svg>\n",
       "      </button>\n",
       "      \n",
       "  <style>\n",
       "    .colab-df-container {\n",
       "      display:flex;\n",
       "      flex-wrap:wrap;\n",
       "      gap: 12px;\n",
       "    }\n",
       "\n",
       "    .colab-df-convert {\n",
       "      background-color: #E8F0FE;\n",
       "      border: none;\n",
       "      border-radius: 50%;\n",
       "      cursor: pointer;\n",
       "      display: none;\n",
       "      fill: #1967D2;\n",
       "      height: 32px;\n",
       "      padding: 0 0 0 0;\n",
       "      width: 32px;\n",
       "    }\n",
       "\n",
       "    .colab-df-convert:hover {\n",
       "      background-color: #E2EBFA;\n",
       "      box-shadow: 0px 1px 2px rgba(60, 64, 67, 0.3), 0px 1px 3px 1px rgba(60, 64, 67, 0.15);\n",
       "      fill: #174EA6;\n",
       "    }\n",
       "\n",
       "    [theme=dark] .colab-df-convert {\n",
       "      background-color: #3B4455;\n",
       "      fill: #D2E3FC;\n",
       "    }\n",
       "\n",
       "    [theme=dark] .colab-df-convert:hover {\n",
       "      background-color: #434B5C;\n",
       "      box-shadow: 0px 1px 3px 1px rgba(0, 0, 0, 0.15);\n",
       "      filter: drop-shadow(0px 1px 2px rgba(0, 0, 0, 0.3));\n",
       "      fill: #FFFFFF;\n",
       "    }\n",
       "  </style>\n",
       "\n",
       "      <script>\n",
       "        const buttonEl =\n",
       "          document.querySelector('#df-af666c33-595b-4a93-9a8b-88e298185707 button.colab-df-convert');\n",
       "        buttonEl.style.display =\n",
       "          google.colab.kernel.accessAllowed ? 'block' : 'none';\n",
       "\n",
       "        async function convertToInteractive(key) {\n",
       "          const element = document.querySelector('#df-af666c33-595b-4a93-9a8b-88e298185707');\n",
       "          const dataTable =\n",
       "            await google.colab.kernel.invokeFunction('convertToInteractive',\n",
       "                                                     [key], {});\n",
       "          if (!dataTable) return;\n",
       "\n",
       "          const docLinkHtml = 'Like what you see? Visit the ' +\n",
       "            '<a target=\"_blank\" href=https://colab.research.google.com/notebooks/data_table.ipynb>data table notebook</a>'\n",
       "            + ' to learn more about interactive tables.';\n",
       "          element.innerHTML = '';\n",
       "          dataTable['output_type'] = 'display_data';\n",
       "          await google.colab.output.renderOutput(dataTable, element);\n",
       "          const docLink = document.createElement('div');\n",
       "          docLink.innerHTML = docLinkHtml;\n",
       "          element.appendChild(docLink);\n",
       "        }\n",
       "      </script>\n",
       "    </div>\n",
       "  </div>\n",
       "  "
      ],
      "text/plain": [
       "            Date     Open     High      Low    Close   Volume  OpenInt\n",
       "5148  2017-11-06  1109.15  1125.41  1108.77  1120.66  3331738        0\n",
       "5149  2017-11-07  1124.74  1130.60  1117.50  1123.17  2684443        0\n",
       "5150  2017-11-08  1122.82  1135.54  1119.11  1132.88  2576010        0\n",
       "5151  2017-11-09  1125.96  1129.62  1115.77  1129.13  3729978        0\n",
       "5152  2017-11-10  1126.10  1131.75  1124.06  1125.35  2179181        0"
      ]
     },
     "execution_count": 2,
     "metadata": {},
     "output_type": "execute_result"
    }
   ],
   "source": [
    "amz = pd.read_csv(\"amzn.us.txt\", delimiter = \",\")\n",
    "amz.tail()"
   ]
  },
  {
   "cell_type": "code",
   "execution_count": 3,
   "metadata": {
    "executionInfo": {
     "elapsed": 7,
     "status": "ok",
     "timestamp": 1664141264835,
     "user": {
      "displayName": "Álvaro Blanes figuerola",
      "userId": "11042556642168442120"
     },
     "user_tz": -120
    },
    "id": "VIcF8kihMz8r"
   },
   "outputs": [],
   "source": [
    "#Columnas open y Close\n",
    "amzn_open = amz['Open']\n",
    "amzn_close = amz['Close']"
   ]
  },
  {
   "cell_type": "code",
   "execution_count": 4,
   "metadata": {
    "executionInfo": {
     "elapsed": 7,
     "status": "ok",
     "timestamp": 1664141264835,
     "user": {
      "displayName": "Álvaro Blanes figuerola",
      "userId": "11042556642168442120"
     },
     "user_tz": -120
    },
    "id": "nkGkhgaIMz6O"
   },
   "outputs": [],
   "source": [
    "# Organizamos datos\n",
    "xx = amzn_open.values[0:4000]\n",
    "tt = amzn_close.values[0:4000]\n",
    "x_train = np.reshape(xx,(1000, 4, 1))\n",
    "t_train = tt[3:4000:4]\n",
    "\n",
    "xx = amzn_open.values[4000:5000]\n",
    "tt = amzn_close.values[4000:5000]\n",
    "x_test = np.reshape(xx,(250, 4, 1))\n",
    "t_test = tt[3:1000:4]"
   ]
  },
  {
   "cell_type": "code",
   "execution_count": 5,
   "metadata": {
    "colab": {
     "base_uri": "https://localhost:8080/"
    },
    "executionInfo": {
     "elapsed": 374,
     "status": "ok",
     "timestamp": 1664141265203,
     "user": {
      "displayName": "Álvaro Blanes figuerola",
      "userId": "11042556642168442120"
     },
     "user_tz": -120
    },
    "id": "7sv9A_-YG7lK",
    "outputId": "074e5eea-277a-4fe0-b0ea-16a50e96854d"
   },
   "outputs": [
    {
     "name": "stdout",
     "output_type": "stream",
     "text": [
      "Model: \"sequential\"\n",
      "_________________________________________________________________\n",
      " Layer (type)                Output Shape              Param #   \n",
      "=================================================================\n",
      " conv1d (Conv1D)             (None, 4, 64)             256       \n",
      "                                                                 \n",
      " gru (GRU)                   (None, 32)                9408      \n",
      "                                                                 \n",
      " flatten (Flatten)           (None, 32)                0         \n",
      "                                                                 \n",
      " dense (Dense)               (None, 1)                 33        \n",
      "                                                                 \n",
      "=================================================================\n",
      "Total params: 9,697\n",
      "Trainable params: 9,697\n",
      "Non-trainable params: 0\n",
      "_________________________________________________________________\n"
     ]
    }
   ],
   "source": [
    "model_ej4 = Sequential()\n",
    "\n",
    "model_ej4.add(Conv1D(64,\n",
    "                       kernel_size = 3, \n",
    "                       activation = 'relu', \n",
    "                       input_shape = x_train.shape [1:], \n",
    "                       padding = 'same'))\n",
    "\n",
    "model_ej4.add(GRU(32, \n",
    "                    return_sequences = False, \n",
    "                    activation = 'relu'))\n",
    "model_ej4.add(Flatten())\n",
    "model_ej4.add(Dense(1))\n",
    "\n",
    "model_ej4.summary()"
   ]
  },
  {
   "cell_type": "code",
   "execution_count": 6,
   "metadata": {
    "executionInfo": {
     "elapsed": 1,
     "status": "ok",
     "timestamp": 1664141265203,
     "user": {
      "displayName": "Álvaro Blanes figuerola",
      "userId": "11042556642168442120"
     },
     "user_tz": -120
    },
    "id": "W1C5GllKHL55"
   },
   "outputs": [],
   "source": [
    "model_ej4.compile(optimizer = optimizers.Adam(learning_rate = 0.005), loss = 'mse')"
   ]
  },
  {
   "cell_type": "code",
   "execution_count": 7,
   "metadata": {
    "colab": {
     "base_uri": "https://localhost:8080/"
    },
    "executionInfo": {
     "elapsed": 17281,
     "status": "ok",
     "timestamp": 1664141282483,
     "user": {
      "displayName": "Álvaro Blanes figuerola",
      "userId": "11042556642168442120"
     },
     "user_tz": -120
    },
    "id": "CUSQks-8HTjS",
    "outputId": "73ae4061-4e5b-497f-d239-db8bfe2f5e3b"
   },
   "outputs": [
    {
     "name": "stdout",
     "output_type": "stream",
     "text": [
      "Epoch 1/50\n",
      "22/22 [==============================] - 4s 36ms/step - loss: 331.1939 - val_loss: 105.0725\n",
      "Epoch 2/50\n",
      "22/22 [==============================] - 0s 12ms/step - loss: 6.9885 - val_loss: 28.9855\n",
      "Epoch 3/50\n",
      "22/22 [==============================] - 0s 14ms/step - loss: 5.0357 - val_loss: 18.9349\n",
      "Epoch 4/50\n",
      "22/22 [==============================] - 0s 12ms/step - loss: 4.7956 - val_loss: 20.7662\n",
      "Epoch 5/50\n",
      "22/22 [==============================] - 0s 17ms/step - loss: 5.4358 - val_loss: 28.7657\n",
      "Epoch 6/50\n",
      "22/22 [==============================] - 0s 11ms/step - loss: 4.6464 - val_loss: 45.0566\n",
      "Epoch 7/50\n",
      "22/22 [==============================] - 0s 11ms/step - loss: 4.4496 - val_loss: 29.7960\n",
      "Epoch 8/50\n",
      "22/22 [==============================] - 0s 11ms/step - loss: 4.3615 - val_loss: 18.8184\n",
      "Epoch 9/50\n",
      "22/22 [==============================] - 0s 13ms/step - loss: 3.9288 - val_loss: 18.1417\n",
      "Epoch 10/50\n",
      "22/22 [==============================] - 0s 13ms/step - loss: 4.0667 - val_loss: 25.6695\n",
      "Epoch 11/50\n",
      "22/22 [==============================] - 0s 12ms/step - loss: 4.3260 - val_loss: 14.7824\n",
      "Epoch 12/50\n",
      "22/22 [==============================] - 0s 15ms/step - loss: 3.7430 - val_loss: 14.3680\n",
      "Epoch 13/50\n",
      "22/22 [==============================] - 0s 14ms/step - loss: 3.9886 - val_loss: 26.7787\n",
      "Epoch 14/50\n",
      "22/22 [==============================] - 0s 11ms/step - loss: 4.1154 - val_loss: 19.6754\n",
      "Epoch 15/50\n",
      "22/22 [==============================] - 0s 11ms/step - loss: 3.4453 - val_loss: 16.5108\n",
      "Epoch 16/50\n",
      "22/22 [==============================] - 0s 12ms/step - loss: 3.3759 - val_loss: 13.8095\n",
      "Epoch 17/50\n",
      "22/22 [==============================] - 0s 14ms/step - loss: 3.3224 - val_loss: 14.3713\n",
      "Epoch 18/50\n",
      "22/22 [==============================] - 0s 14ms/step - loss: 3.1661 - val_loss: 16.0247\n",
      "Epoch 19/50\n",
      "22/22 [==============================] - 0s 12ms/step - loss: 3.2897 - val_loss: 21.4610\n",
      "Epoch 20/50\n",
      "22/22 [==============================] - 0s 13ms/step - loss: 3.1956 - val_loss: 14.1714\n",
      "Epoch 21/50\n",
      "22/22 [==============================] - 0s 13ms/step - loss: 3.3489 - val_loss: 12.8567\n",
      "Epoch 22/50\n",
      "22/22 [==============================] - 0s 15ms/step - loss: 4.1565 - val_loss: 20.2327\n",
      "Epoch 23/50\n",
      "22/22 [==============================] - 0s 15ms/step - loss: 3.2074 - val_loss: 37.1335\n",
      "Epoch 24/50\n",
      "22/22 [==============================] - 0s 14ms/step - loss: 3.5730 - val_loss: 12.1686\n",
      "Epoch 25/50\n",
      "22/22 [==============================] - 0s 15ms/step - loss: 3.1636 - val_loss: 21.7275\n",
      "Epoch 26/50\n",
      "22/22 [==============================] - 0s 12ms/step - loss: 3.4359 - val_loss: 24.1365\n",
      "Epoch 27/50\n",
      "22/22 [==============================] - 0s 12ms/step - loss: 3.0878 - val_loss: 12.8769\n",
      "Epoch 28/50\n",
      "22/22 [==============================] - 0s 12ms/step - loss: 3.1184 - val_loss: 12.8112\n",
      "Epoch 29/50\n",
      "22/22 [==============================] - 0s 14ms/step - loss: 2.9514 - val_loss: 11.2648\n",
      "Epoch 30/50\n",
      "22/22 [==============================] - 0s 11ms/step - loss: 3.0479 - val_loss: 17.6199\n",
      "Epoch 31/50\n",
      "22/22 [==============================] - 0s 14ms/step - loss: 3.2425 - val_loss: 12.1873\n",
      "Epoch 32/50\n",
      "22/22 [==============================] - 0s 13ms/step - loss: 3.6138 - val_loss: 20.2522\n",
      "Epoch 33/50\n",
      "22/22 [==============================] - 0s 10ms/step - loss: 3.3588 - val_loss: 11.1613\n",
      "Epoch 34/50\n",
      "22/22 [==============================] - 0s 14ms/step - loss: 3.2084 - val_loss: 11.5230\n",
      "Epoch 35/50\n",
      "22/22 [==============================] - 0s 13ms/step - loss: 3.1028 - val_loss: 12.3112\n",
      "Epoch 36/50\n",
      "22/22 [==============================] - 0s 12ms/step - loss: 3.1351 - val_loss: 43.5437\n",
      "Epoch 37/50\n",
      "22/22 [==============================] - 0s 10ms/step - loss: 3.0220 - val_loss: 28.8092\n",
      "Epoch 38/50\n",
      "22/22 [==============================] - 0s 11ms/step - loss: 3.1966 - val_loss: 11.4203\n",
      "Epoch 39/50\n",
      "22/22 [==============================] - 0s 19ms/step - loss: 3.9984 - val_loss: 56.1033\n",
      "Epoch 40/50\n",
      "22/22 [==============================] - 0s 15ms/step - loss: 3.7626 - val_loss: 16.5304\n",
      "Epoch 41/50\n",
      "22/22 [==============================] - 0s 13ms/step - loss: 3.0412 - val_loss: 23.9323\n",
      "Epoch 42/50\n",
      "22/22 [==============================] - 0s 13ms/step - loss: 3.7014 - val_loss: 22.7018\n",
      "Epoch 43/50\n",
      "22/22 [==============================] - 0s 6ms/step - loss: 3.0629 - val_loss: 13.3789\n",
      "Epoch 44/50\n",
      "22/22 [==============================] - 0s 6ms/step - loss: 2.9666 - val_loss: 13.1530\n",
      "Epoch 45/50\n",
      "22/22 [==============================] - 0s 6ms/step - loss: 3.1178 - val_loss: 10.9037\n",
      "Epoch 46/50\n",
      "22/22 [==============================] - 0s 6ms/step - loss: 3.4214 - val_loss: 11.8863\n",
      "Epoch 47/50\n",
      "22/22 [==============================] - 0s 6ms/step - loss: 3.1097 - val_loss: 30.2650\n",
      "Epoch 48/50\n",
      "22/22 [==============================] - 0s 6ms/step - loss: 2.9617 - val_loss: 10.9418\n",
      "Epoch 49/50\n",
      "22/22 [==============================] - 0s 6ms/step - loss: 3.1452 - val_loss: 13.2725\n",
      "Epoch 50/50\n",
      "22/22 [==============================] - 0s 6ms/step - loss: 3.3339 - val_loss: 14.2190\n"
     ]
    }
   ],
   "source": [
    "hist_ej4 = model_ej4.fit(x_train, t_train, epochs = 50, validation_split = 0.3)"
   ]
  },
  {
   "cell_type": "code",
   "execution_count": 8,
   "metadata": {
    "colab": {
     "base_uri": "https://localhost:8080/",
     "height": 312
    },
    "executionInfo": {
     "elapsed": 13,
     "status": "ok",
     "timestamp": 1664141282483,
     "user": {
      "displayName": "Álvaro Blanes figuerola",
      "userId": "11042556642168442120"
     },
     "user_tz": -120
    },
    "id": "TlR24wJoHVmn",
    "outputId": "45c19e4f-1d3b-42d6-f230-c6f334fcc93b"
   },
   "outputs": [
    {
     "data": {
      "text/plain": [
       "<matplotlib.legend.Legend at 0x7f92d013d2d0>"
      ]
     },
     "execution_count": 8,
     "metadata": {},
     "output_type": "execute_result"
    },
    {
     "data": {
      "image/png": "[encoded data removed]",
      "text/plain": [
       "<Figure size 432x288 with 1 Axes>"
      ]
     },
     "metadata": {
      "needs_background": "light"
     },
     "output_type": "display_data"
    }
   ],
   "source": [
    "plt.plot(hist_ej4.history['loss'], label = \"entrenamiento\")\n",
    "plt.plot(hist_ej4.history['val_loss'], label = \"validación\")\n",
    "plt.title('Loss')\n",
    "plt.xlabel('epoch')\n",
    "plt.ylabel('loss')\n",
    "plt.legend()"
   ]
  },
  {
   "cell_type": "code",
   "execution_count": 9,
   "metadata": {
    "executionInfo": {
     "elapsed": 399,
     "status": "ok",
     "timestamp": 1664141282873,
     "user": {
      "displayName": "Álvaro Blanes figuerola",
      "userId": "11042556642168442120"
     },
     "user_tz": -120
    },
    "id": "qz0CF-7FHVke"
   },
   "outputs": [],
   "source": [
    "y_pred = model_ej4.predict(x_test)"
   ]
  },
  {
   "cell_type": "code",
   "execution_count": 10,
   "metadata": {
    "colab": {
     "base_uri": "https://localhost:8080/",
     "height": 312
    },
    "executionInfo": {
     "elapsed": 570,
     "status": "ok",
     "timestamp": 1664141283440,
     "user": {
      "displayName": "Álvaro Blanes figuerola",
      "userId": "11042556642168442120"
     },
     "user_tz": -120
    },
    "id": "ZXoGjJTgHVh8",
    "outputId": "a7646db6-06bd-4054-c49e-7336fe694769"
   },
   "outputs": [
    {
     "data": {
      "text/plain": [
       "<matplotlib.legend.Legend at 0x7f92cfbb8e10>"
      ]
     },
     "execution_count": 10,
     "metadata": {},
     "output_type": "execute_result"
    },
    {
     "data": {
      "image/png": "[encoded data removed]",
      "text/plain": [
       "<Figure size 432x288 with 1 Axes>"
      ]
     },
     "metadata": {
      "needs_background": "light"
     },
     "output_type": "display_data"
    }
   ],
   "source": [
    "plt.figure()\n",
    "plt.plot(t_test, label = 'reales')\n",
    "plt.plot(y_pred, label = 'predicciones')\n",
    "plt.title('Real vs Predicción Amazon')\n",
    "plt.xlabel('tiempo')\n",
    "plt.ylabel('Precio')\n",
    "plt.legend()"
   ]
  },
  {
   "cell_type": "code",
   "execution_count": 11,
   "metadata": {
    "colab": {
     "base_uri": "https://localhost:8080/"
    },
    "executionInfo": {
     "elapsed": 5,
     "status": "ok",
     "timestamp": 1664141283440,
     "user": {
      "displayName": "Álvaro Blanes figuerola",
      "userId": "11042556642168442120"
     },
     "user_tz": -120
    },
    "id": "15u48LBFHayo",
    "outputId": "c5915e9d-510e-4c32-8f9b-8d66f442ae74"
   },
   "outputs": [
    {
     "name": "stdout",
     "output_type": "stream",
     "text": [
      "8/8 [==============================] - 0s 3ms/step - loss: 61.4623\n"
     ]
    },
    {
     "data": {
      "text/plain": [
       "61.4622802734375"
      ]
     },
     "execution_count": 11,
     "metadata": {},
     "output_type": "execute_result"
    }
   ],
   "source": [
    "score = model_ej4.evaluate(x_test, t_test)\n",
    "score"
   ]
  },
  {
   "cell_type": "code",
   "execution_count": null,
   "metadata": {},
   "outputs": [],
   "source": []
  },
  {
   "cell_type": "markdown",
   "metadata": {
    "id": "3t0aJy_5HmwS"
   },
   "source": [
    "5.- Diseña un modelo en Keras que utilice capas densas, LSTM, GRU, y convolucionales para predecir los valores de cierre Amazon utilizando como entrada los valores de apertura de los datos Amazon, Microsoft, Meta (facebook), Apple y Google de los 4 días anteriores. Compáralo con un modelo con una capa lineal."
   ]
  },
  {
   "cell_type": "code",
   "execution_count": 1,
   "metadata": {
    "executionInfo": {
     "elapsed": 3987,
     "status": "ok",
     "timestamp": 1664141996547,
     "user": {
      "displayName": "Álvaro Blanes figuerola",
      "userId": "11042556642168442120"
     },
     "user_tz": -120
    },
    "id": "PlVbmjRJPe81"
   },
   "outputs": [],
   "source": []
  },
  {
   "cell_type": "code",
   "execution_count": 2,
   "metadata": {
    "executionInfo": {
     "elapsed": 7,
     "status": "ok",
     "timestamp": 1664141996548,
     "user": {
      "displayName": "Álvaro Blanes figuerola",
      "userId": "11042556642168442120"
     },
     "user_tz": -120
    },
    "id": "ulWeZTWuHoLw"
   },
   "outputs": [],
   "source": [
    "amz = pd.read_csv(\"amzn.us.txt\", delimiter = \",\", index_col = 'Date')\n",
    "msft = pd.read_csv(\"msft.us.txt\", delimiter = \",\", index_col = 'Date')\n",
    "fb = pd.read_csv(\"fb.us.txt\", delimiter = \",\", index_col = 'Date')\n",
    "aapl = pd.read_csv(\"aapl.us.txt\", delimiter = \",\", index_col = 'Date')\n",
    "googl = pd.read_csv(\"googl.us.txt\", delimiter = \",\", index_col = 'Date')"
   ]
  },
  {
   "cell_type": "code",
   "execution_count": 3,
   "metadata": {
    "executionInfo": {
     "elapsed": 6,
     "status": "ok",
     "timestamp": 1664141996548,
     "user": {
      "displayName": "Álvaro Blanes figuerola",
      "userId": "11042556642168442120"
     },
     "user_tz": -120
    },
    "id": "1Iz0C9MrLBZg"
   },
   "outputs": [],
   "source": [
    "amzn_open = amz['Open']\n",
    "msft_open = msft['Open']\n",
    "fb_open = fb['Open']\n",
    "aapl_open = aapl['Open']\n",
    "googl_open = googl['Open']\n",
    "\n",
    "amzn_close = amz['Close']"
   ]
  },
  {
   "cell_type": "code",
   "execution_count": 4,
   "metadata": {
    "colab": {
     "base_uri": "https://localhost:8080/",
     "height": 238
    },
    "executionInfo": {
     "elapsed": 376,
     "status": "ok",
     "timestamp": 1664141996919,
     "user": {
      "displayName": "Álvaro Blanes figuerola",
      "userId": "11042556642168442120"
     },
     "user_tz": -120
    },
    "id": "q9qavb-SLYpW",
    "outputId": "a3cf72ab-1341-4702-8b26-126a0daec8a0"
   },
   "outputs": [
    {
     "data": {
      "text/html": [
       "\n",
       "  <div id=\"df-a1d4d75e-968d-4be6-95a8-b12e69e4ba2a\">\n",
       "    <div class=\"colab-df-container\">\n",
       "      <div>\n",
       "<style scoped>\n",
       "    .dataframe tbody tr th:only-of-type {\n",
       "        vertical-align: middle;\n",
       "    }\n",
       "\n",
       "    .dataframe tbody tr th {\n",
       "        vertical-align: top;\n",
       "    }\n",
       "\n",
       "    .dataframe thead th {\n",
       "        text-align: right;\n",
       "    }\n",
       "</style>\n",
       "<table border=\"1\" class=\"dataframe\">\n",
       "  <thead>\n",
       "    <tr style=\"text-align: right;\">\n",
       "      <th></th>\n",
       "      <th>amzn</th>\n",
       "      <th>msft</th>\n",
       "      <th>fb</th>\n",
       "      <th>aapl</th>\n",
       "      <th>googl</th>\n",
       "      <th>amzn_close</th>\n",
       "    </tr>\n",
       "    <tr>\n",
       "      <th>Date</th>\n",
       "      <th></th>\n",
       "      <th></th>\n",
       "      <th></th>\n",
       "      <th></th>\n",
       "      <th></th>\n",
       "      <th></th>\n",
       "    </tr>\n",
       "  </thead>\n",
       "  <tbody>\n",
       "    <tr>\n",
       "      <th>2017-11-06</th>\n",
       "      <td>1109.15</td>\n",
       "      <td>84.20</td>\n",
       "      <td>178.56</td>\n",
       "      <td>171.75</td>\n",
       "      <td>1049.10</td>\n",
       "      <td>1120.66</td>\n",
       "    </tr>\n",
       "    <tr>\n",
       "      <th>2017-11-07</th>\n",
       "      <td>1124.74</td>\n",
       "      <td>84.77</td>\n",
       "      <td>180.50</td>\n",
       "      <td>173.29</td>\n",
       "      <td>1049.65</td>\n",
       "      <td>1123.17</td>\n",
       "    </tr>\n",
       "    <tr>\n",
       "      <th>2017-11-08</th>\n",
       "      <td>1122.82</td>\n",
       "      <td>84.14</td>\n",
       "      <td>179.79</td>\n",
       "      <td>174.03</td>\n",
       "      <td>1050.05</td>\n",
       "      <td>1132.88</td>\n",
       "    </tr>\n",
       "    <tr>\n",
       "      <th>2017-11-09</th>\n",
       "      <td>1125.96</td>\n",
       "      <td>84.11</td>\n",
       "      <td>178.31</td>\n",
       "      <td>174.48</td>\n",
       "      <td>1048.00</td>\n",
       "      <td>1129.13</td>\n",
       "    </tr>\n",
       "    <tr>\n",
       "      <th>2017-11-10</th>\n",
       "      <td>1126.10</td>\n",
       "      <td>83.79</td>\n",
       "      <td>178.35</td>\n",
       "      <td>175.11</td>\n",
       "      <td>1043.87</td>\n",
       "      <td>1125.35</td>\n",
       "    </tr>\n",
       "  </tbody>\n",
       "</table>\n",
       "</div>\n",
       "      <button class=\"colab-df-convert\" onclick=\"convertToInteractive('df-a1d4d75e-968d-4be6-95a8-b12e69e4ba2a')\"\n",
       "              title=\"Convert this dataframe to an interactive table.\"\n",
       "              style=\"display:none;\">\n",
       "        \n",
       "  <svg xmlns=\"http://www.w3.org/2000/svg\" height=\"24px\"viewBox=\"0 0 24 24\"\n",
       "       width=\"24px\">\n",
       "    <path d=\"M0 0h24v24H0V0z\" fill=\"none\"/>\n",
       "    <path d=\"M18.56 5.44l.94 2.06.94-2.06 2.06-.94-2.06-.94-.94-2.06-.94 2.06-2.06.94zm-11 1L8.5 8.5l.94-2.06 2.06-.94-2.06-.94L8.5 2.5l-.94 2.06-2.06.94zm10 10l.94 2.06.94-2.06 2.06-.94-2.06-.94-.94-2.06-.94 2.06-2.06.94z\"/><path d=\"M17.41 7.96l-1.37-1.37c-.4-.4-.92-.59-1.43-.59-.52 0-1.04.2-1.43.59L10.3 9.45l-7.72 7.72c-.78.78-.78 2.05 0 2.83L4 21.41c.39.39.9.59 1.41.59.51 0 1.02-.2 1.41-.59l7.78-7.78 2.81-2.81c.8-.78.8-2.07 0-2.86zM5.41 20L4 18.59l7.72-7.72 1.47 1.35L5.41 20z\"/>\n",
       "  </svg>\n",
       "      </button>\n",
       "      \n",
       "  <style>\n",
       "    .colab-df-container {\n",
       "      display:flex;\n",
       "      flex-wrap:wrap;\n",
       "      gap: 12px;\n",
       "    }\n",
       "\n",
       "    .colab-df-convert {\n",
       "      background-color: #E8F0FE;\n",
       "      border: none;\n",
       "      border-radius: 50%;\n",
       "      cursor: pointer;\n",
       "      display: none;\n",
       "      fill: #1967D2;\n",
       "      height: 32px;\n",
       "      padding: 0 0 0 0;\n",
       "      width: 32px;\n",
       "    }\n",
       "\n",
       "    .colab-df-convert:hover {\n",
       "      background-color: #E2EBFA;\n",
       "      box-shadow: 0px 1px 2px rgba(60, 64, 67, 0.3), 0px 1px 3px 1px rgba(60, 64, 67, 0.15);\n",
       "      fill: #174EA6;\n",
       "    }\n",
       "\n",
       "    [theme=dark] .colab-df-convert {\n",
       "      background-color: #3B4455;\n",
       "      fill: #D2E3FC;\n",
       "    }\n",
       "\n",
       "    [theme=dark] .colab-df-convert:hover {\n",
       "      background-color: #434B5C;\n",
       "      box-shadow: 0px 1px 3px 1px rgba(0, 0, 0, 0.15);\n",
       "      filter: drop-shadow(0px 1px 2px rgba(0, 0, 0, 0.3));\n",
       "      fill: #FFFFFF;\n",
       "    }\n",
       "  </style>\n",
       "\n",
       "      <script>\n",
       "        const buttonEl =\n",
       "          document.querySelector('#df-a1d4d75e-968d-4be6-95a8-b12e69e4ba2a button.colab-df-convert');\n",
       "        buttonEl.style.display =\n",
       "          google.colab.kernel.accessAllowed ? 'block' : 'none';\n",
       "\n",
       "        async function convertToInteractive(key) {\n",
       "          const element = document.querySelector('#df-a1d4d75e-968d-4be6-95a8-b12e69e4ba2a');\n",
       "          const dataTable =\n",
       "            await google.colab.kernel.invokeFunction('convertToInteractive',\n",
       "                                                     [key], {});\n",
       "          if (!dataTable) return;\n",
       "\n",
       "          const docLinkHtml = 'Like what you see? Visit the ' +\n",
       "            '<a target=\"_blank\" href=https://colab.research.google.com/notebooks/data_table.ipynb>data table notebook</a>'\n",
       "            + ' to learn more about interactive tables.';\n",
       "          element.innerHTML = '';\n",
       "          dataTable['output_type'] = 'display_data';\n",
       "          await google.colab.output.renderOutput(dataTable, element);\n",
       "          const docLink = document.createElement('div');\n",
       "          docLink.innerHTML = docLinkHtml;\n",
       "          element.appendChild(docLink);\n",
       "        }\n",
       "      </script>\n",
       "    </div>\n",
       "  </div>\n",
       "  "
      ],
      "text/plain": [
       "               amzn   msft      fb    aapl    googl  amzn_close\n",
       "Date                                                           \n",
       "2017-11-06  1109.15  84.20  178.56  171.75  1049.10     1120.66\n",
       "2017-11-07  1124.74  84.77  180.50  173.29  1049.65     1123.17\n",
       "2017-11-08  1122.82  84.14  179.79  174.03  1050.05     1132.88\n",
       "2017-11-09  1125.96  84.11  178.31  174.48  1048.00     1129.13\n",
       "2017-11-10  1126.10  83.79  178.35  175.11  1043.87     1125.35"
      ]
     },
     "execution_count": 4,
     "metadata": {},
     "output_type": "execute_result"
    }
   ],
   "source": [
    "df = pd.DataFrame(data = [amzn_open, msft_open, fb_open, aapl_open, googl_open, amzn_close])\n",
    "df = df.T\n",
    "df.columns = ['amzn', 'msft', 'fb', 'aapl', 'googl', 'amzn_close']\n",
    "df = df.dropna ()\n",
    "df.tail()"
   ]
  },
  {
   "cell_type": "code",
   "execution_count": 5,
   "metadata": {
    "executionInfo": {
     "elapsed": 3,
     "status": "ok",
     "timestamp": 1664141996919,
     "user": {
      "displayName": "Álvaro Blanes figuerola",
      "userId": "11042556642168442120"
     },
     "user_tz": -120
    },
    "id": "stgdp4hYL1Fa"
   },
   "outputs": [],
   "source": [
    "xx = df.values[0:1000, 0:5]\n",
    "tt = df.values[0:1000, 5]\n",
    "x_train = np.reshape (xx, (250, 4, 5))# , 1\n",
    "t_train = tt [3:1000:4]\n",
    "\n",
    "xx = df.values[1000:1380, 0:5]\n",
    "tt = df.values[1000:1380, 5]\n",
    "x_test = np.reshape (xx,(95, 4, 5))\n",
    "t_test = tt [3:380:4]"
   ]
  },
  {
   "cell_type": "code",
   "execution_count": 6,
   "metadata": {
    "colab": {
     "base_uri": "https://localhost:8080/"
    },
    "executionInfo": {
     "elapsed": 657,
     "status": "ok",
     "timestamp": 1664141997574,
     "user": {
      "displayName": "Álvaro Blanes figuerola",
      "userId": "11042556642168442120"
     },
     "user_tz": -120
    },
    "id": "bHGCwj0oL3qU",
    "outputId": "5f1658a0-6dbc-45f5-c508-64dba12b1a88"
   },
   "outputs": [
    {
     "name": "stdout",
     "output_type": "stream",
     "text": [
      "Model: \"sequential\"\n",
      "_________________________________________________________________\n",
      " Layer (type)                Output Shape              Param #   \n",
      "=================================================================\n",
      " conv1d (Conv1D)             (None, 4, 64)             1024      \n",
      "                                                                 \n",
      " conv1d_1 (Conv1D)           (None, 4, 32)             6176      \n",
      "                                                                 \n",
      " lstm (LSTM)                 (None, 4, 10)             1720      \n",
      "                                                                 \n",
      " gru (GRU)                   (None, 10)                660       \n",
      "                                                                 \n",
      " flatten (Flatten)           (None, 10)                0         \n",
      "                                                                 \n",
      " dense (Dense)               (None, 1)                 11        \n",
      "                                                                 \n",
      "=================================================================\n",
      "Total params: 9,591\n",
      "Trainable params: 9,591\n",
      "Non-trainable params: 0\n",
      "_________________________________________________________________\n"
     ]
    }
   ],
   "source": [
    "#Modelo\n",
    "model_ej5 = Sequential()\n",
    "\n",
    "model_ej5.add(Conv1D(64, \n",
    "                   kernel_size = 3, \n",
    "                   activation = 'relu', \n",
    "                   input_shape = x_train.shape [1:], \n",
    "                   padding = 'same'))\n",
    "\n",
    "model_ej5.add(Conv1D(32, kernel_size = 3, \n",
    "                   activation = 'relu', \n",
    "                   padding = 'same'))\n",
    "\n",
    "model_ej5.add(LSTM(10, \n",
    "                 return_sequences = True, \n",
    "                 activation = 'relu'))\n",
    "\n",
    "model_ej5.add(GRU(10,\n",
    "                return_sequences = False, \n",
    "                activation = 'relu'))\n",
    "\n",
    "model_ej5.add(Flatten())\n",
    "\n",
    "model_ej5.add(Dense(1))\n",
    "\n",
    "model_ej5.summary()"
   ]
  },
  {
   "cell_type": "code",
   "execution_count": 7,
   "metadata": {
    "executionInfo": {
     "elapsed": 4,
     "status": "ok",
     "timestamp": 1664141997574,
     "user": {
      "displayName": "Álvaro Blanes figuerola",
      "userId": "11042556642168442120"
     },
     "user_tz": -120
    },
    "id": "G67VSJ2GL8J2"
   },
   "outputs": [],
   "source": [
    "# Compilo\n",
    "\n",
    "model_ej5.compile(optimizer = optimizers.Adam(learning_rate = 0.001), loss = 'mse')"
   ]
  },
  {
   "cell_type": "code",
   "execution_count": 8,
   "metadata": {
    "colab": {
     "base_uri": "https://localhost:8080/"
    },
    "executionInfo": {
     "elapsed": 38702,
     "status": "ok",
     "timestamp": 1664142036272,
     "user": {
      "displayName": "Álvaro Blanes figuerola",
      "userId": "11042556642168442120"
     },
     "user_tz": -120
    },
    "id": "5KpFqJFrMACE",
    "outputId": "dd7586db-2c43-4784-d16a-b6f16c5844c3"
   },
   "outputs": [
    {
     "name": "stdout",
     "output_type": "stream",
     "text": [
      "Epoch 1/350\n",
      "6/6 [==============================] - 6s 183ms/step - loss: 74550.3203 - val_loss: 188552.7812\n",
      "Epoch 2/350\n",
      "6/6 [==============================] - 0s 30ms/step - loss: 52371.4688 - val_loss: 162360.0000\n",
      "Epoch 3/350\n",
      "6/6 [==============================] - 0s 34ms/step - loss: 39717.0820 - val_loss: 98969.0547\n",
      "Epoch 4/350\n",
      "6/6 [==============================] - 0s 21ms/step - loss: 22835.4941 - val_loss: 32804.0820\n",
      "Epoch 5/350\n",
      "6/6 [==============================] - 0s 22ms/step - loss: 3082.9707 - val_loss: 10801.7197\n",
      "Epoch 6/350\n",
      "6/6 [==============================] - 0s 18ms/step - loss: 832.7086 - val_loss: 2960.4709\n",
      "Epoch 7/350\n",
      "6/6 [==============================] - 0s 18ms/step - loss: 551.3546 - val_loss: 1200.3854\n",
      "Epoch 8/350\n",
      "6/6 [==============================] - 0s 16ms/step - loss: 921.8036 - val_loss: 1364.2461\n",
      "Epoch 9/350\n",
      "6/6 [==============================] - 0s 22ms/step - loss: 625.9815 - val_loss: 2945.2366\n",
      "Epoch 10/350\n",
      "6/6 [==============================] - 0s 31ms/step - loss: 353.3754 - val_loss: 5093.5059\n",
      "Epoch 11/350\n",
      "6/6 [==============================] - 0s 21ms/step - loss: 384.2301 - val_loss: 5829.7241\n",
      "Epoch 12/350\n",
      "6/6 [==============================] - 0s 25ms/step - loss: 344.1274 - val_loss: 4344.3525\n",
      "Epoch 13/350\n",
      "6/6 [==============================] - 0s 32ms/step - loss: 280.2272 - val_loss: 3508.7295\n",
      "Epoch 14/350\n",
      "6/6 [==============================] - 0s 19ms/step - loss: 227.2156 - val_loss: 2881.1750\n",
      "Epoch 15/350\n",
      "6/6 [==============================] - 0s 21ms/step - loss: 213.7288 - val_loss: 2364.8374\n",
      "Epoch 16/350\n",
      "6/6 [==============================] - 0s 27ms/step - loss: 163.6301 - val_loss: 1812.3320\n",
      "Epoch 17/350\n",
      "6/6 [==============================] - 0s 29ms/step - loss: 164.7696 - val_loss: 1723.8672\n",
      "Epoch 18/350\n",
      "6/6 [==============================] - 0s 19ms/step - loss: 147.6895 - val_loss: 1826.2244\n",
      "Epoch 19/350\n",
      "6/6 [==============================] - 0s 33ms/step - loss: 132.8580 - val_loss: 1725.8517\n",
      "Epoch 20/350\n",
      "6/6 [==============================] - 0s 25ms/step - loss: 117.9614 - val_loss: 1774.6108\n",
      "Epoch 21/350\n",
      "6/6 [==============================] - 0s 39ms/step - loss: 107.5228 - val_loss: 1720.8315\n",
      "Epoch 22/350\n",
      "6/6 [==============================] - 0s 42ms/step - loss: 103.3875 - val_loss: 1643.4059\n",
      "Epoch 23/350\n",
      "6/6 [==============================] - 0s 18ms/step - loss: 101.7697 - val_loss: 1646.6309\n",
      "Epoch 24/350\n",
      "6/6 [==============================] - 0s 31ms/step - loss: 92.8358 - val_loss: 1552.5096\n",
      "Epoch 25/350\n",
      "6/6 [==============================] - 0s 22ms/step - loss: 87.1937 - val_loss: 1524.9042\n",
      "Epoch 26/350\n",
      "6/6 [==============================] - 0s 27ms/step - loss: 84.7294 - val_loss: 1504.7872\n",
      "Epoch 27/350\n",
      "6/6 [==============================] - 0s 28ms/step - loss: 82.1358 - val_loss: 1411.3782\n",
      "Epoch 28/350\n",
      "6/6 [==============================] - 0s 21ms/step - loss: 79.1739 - val_loss: 1381.1631\n",
      "Epoch 29/350\n",
      "6/6 [==============================] - 0s 31ms/step - loss: 77.3598 - val_loss: 1288.5913\n",
      "Epoch 30/350\n",
      "6/6 [==============================] - 0s 18ms/step - loss: 72.2999 - val_loss: 1360.5498\n",
      "Epoch 31/350\n",
      "6/6 [==============================] - 0s 24ms/step - loss: 75.1868 - val_loss: 1188.6160\n",
      "Epoch 32/350\n",
      "6/6 [==============================] - 0s 21ms/step - loss: 78.5327 - val_loss: 1240.9343\n",
      "Epoch 33/350\n",
      "6/6 [==============================] - 0s 18ms/step - loss: 68.9580 - val_loss: 1140.9684\n",
      "Epoch 34/350\n",
      "6/6 [==============================] - 0s 40ms/step - loss: 67.5508 - val_loss: 1229.4081\n",
      "Epoch 35/350\n",
      "6/6 [==============================] - 0s 26ms/step - loss: 69.6692 - val_loss: 1196.4270\n",
      "Epoch 36/350\n",
      "6/6 [==============================] - 0s 26ms/step - loss: 70.5125 - val_loss: 1284.8484\n",
      "Epoch 37/350\n",
      "6/6 [==============================] - 0s 25ms/step - loss: 67.9927 - val_loss: 1111.4136\n",
      "Epoch 38/350\n",
      "6/6 [==============================] - 0s 32ms/step - loss: 70.7422 - val_loss: 1220.2408\n",
      "Epoch 39/350\n",
      "6/6 [==============================] - 0s 21ms/step - loss: 71.2595 - val_loss: 1045.0377\n",
      "Epoch 40/350\n",
      "6/6 [==============================] - 0s 23ms/step - loss: 65.3826 - val_loss: 1116.7823\n",
      "Epoch 41/350\n",
      "6/6 [==============================] - 0s 18ms/step - loss: 63.9234 - val_loss: 1090.0264\n",
      "Epoch 42/350\n",
      "6/6 [==============================] - 0s 18ms/step - loss: 66.0485 - val_loss: 1101.2227\n",
      "Epoch 43/350\n",
      "6/6 [==============================] - 0s 21ms/step - loss: 60.9925 - val_loss: 1056.4036\n",
      "Epoch 44/350\n",
      "6/6 [==============================] - 0s 19ms/step - loss: 59.5623 - val_loss: 1033.6534\n",
      "Epoch 45/350\n",
      "6/6 [==============================] - 0s 22ms/step - loss: 58.4358 - val_loss: 982.2081\n",
      "Epoch 46/350\n",
      "6/6 [==============================] - 0s 24ms/step - loss: 59.7729 - val_loss: 988.6194\n",
      "Epoch 47/350\n",
      "6/6 [==============================] - 0s 15ms/step - loss: 57.2316 - val_loss: 985.0102\n",
      "Epoch 48/350\n",
      "6/6 [==============================] - 0s 16ms/step - loss: 59.6956 - val_loss: 1046.9811\n",
      "Epoch 49/350\n",
      "6/6 [==============================] - 0s 26ms/step - loss: 60.5225 - val_loss: 1046.4331\n",
      "Epoch 50/350\n",
      "6/6 [==============================] - 0s 20ms/step - loss: 59.5436 - val_loss: 1047.5104\n",
      "Epoch 51/350\n",
      "6/6 [==============================] - 0s 20ms/step - loss: 59.3010 - val_loss: 972.4384\n",
      "Epoch 52/350\n",
      "6/6 [==============================] - 0s 30ms/step - loss: 59.9008 - val_loss: 1022.9623\n",
      "Epoch 53/350\n",
      "6/6 [==============================] - 0s 18ms/step - loss: 61.4649 - val_loss: 918.3106\n",
      "Epoch 54/350\n",
      "6/6 [==============================] - 0s 24ms/step - loss: 58.7507 - val_loss: 958.2037\n",
      "Epoch 55/350\n",
      "6/6 [==============================] - 0s 37ms/step - loss: 58.8186 - val_loss: 942.7552\n",
      "Epoch 56/350\n",
      "6/6 [==============================] - 0s 34ms/step - loss: 59.2812 - val_loss: 964.1188\n",
      "Epoch 57/350\n",
      "6/6 [==============================] - 0s 21ms/step - loss: 55.1466 - val_loss: 951.5525\n",
      "Epoch 58/350\n",
      "6/6 [==============================] - 0s 28ms/step - loss: 56.4605 - val_loss: 930.5311\n",
      "Epoch 59/350\n",
      "6/6 [==============================] - 0s 19ms/step - loss: 58.6996 - val_loss: 891.6642\n",
      "Epoch 60/350\n",
      "6/6 [==============================] - 0s 19ms/step - loss: 56.8265 - val_loss: 966.3318\n",
      "Epoch 61/350\n",
      "6/6 [==============================] - 0s 10ms/step - loss: 56.3297 - val_loss: 881.3735\n",
      "Epoch 62/350\n",
      "6/6 [==============================] - 0s 11ms/step - loss: 56.1769 - val_loss: 933.5324\n",
      "Epoch 63/350\n",
      "6/6 [==============================] - 0s 14ms/step - loss: 60.3324 - val_loss: 855.4726\n",
      "Epoch 64/350\n",
      "6/6 [==============================] - 0s 10ms/step - loss: 55.3122 - val_loss: 902.7673\n",
      "Epoch 65/350\n",
      "6/6 [==============================] - 0s 14ms/step - loss: 55.4175 - val_loss: 902.2302\n",
      "Epoch 66/350\n",
      "6/6 [==============================] - 0s 13ms/step - loss: 59.6097 - val_loss: 879.6586\n",
      "Epoch 67/350\n",
      "6/6 [==============================] - 0s 11ms/step - loss: 55.9198 - val_loss: 909.5696\n",
      "Epoch 68/350\n",
      "6/6 [==============================] - 0s 11ms/step - loss: 53.9771 - val_loss: 918.9918\n",
      "Epoch 69/350\n",
      "6/6 [==============================] - 0s 10ms/step - loss: 55.3415 - val_loss: 894.6064\n",
      "Epoch 70/350\n",
      "6/6 [==============================] - 0s 10ms/step - loss: 54.1917 - val_loss: 833.7458\n",
      "Epoch 71/350\n",
      "6/6 [==============================] - 0s 11ms/step - loss: 55.3094 - val_loss: 903.9537\n",
      "Epoch 72/350\n",
      "6/6 [==============================] - 0s 10ms/step - loss: 55.2057 - val_loss: 836.9803\n",
      "Epoch 73/350\n",
      "6/6 [==============================] - 0s 10ms/step - loss: 62.6496 - val_loss: 951.2556\n",
      "Epoch 74/350\n",
      "6/6 [==============================] - 0s 11ms/step - loss: 75.1943 - val_loss: 788.4178\n",
      "Epoch 75/350\n",
      "6/6 [==============================] - 0s 10ms/step - loss: 65.1521 - val_loss: 887.3426\n",
      "Epoch 76/350\n",
      "6/6 [==============================] - 0s 10ms/step - loss: 56.0802 - val_loss: 800.5928\n",
      "Epoch 77/350\n",
      "6/6 [==============================] - 0s 10ms/step - loss: 57.8074 - val_loss: 851.7653\n",
      "Epoch 78/350\n",
      "6/6 [==============================] - 0s 10ms/step - loss: 54.8894 - val_loss: 785.1716\n",
      "Epoch 79/350\n",
      "6/6 [==============================] - 0s 11ms/step - loss: 59.5741 - val_loss: 796.7019\n",
      "Epoch 80/350\n",
      "6/6 [==============================] - 0s 11ms/step - loss: 61.8610 - val_loss: 833.9882\n",
      "Epoch 81/350\n",
      "6/6 [==============================] - 0s 10ms/step - loss: 62.5015 - val_loss: 774.4930\n",
      "Epoch 82/350\n",
      "6/6 [==============================] - 0s 10ms/step - loss: 53.9473 - val_loss: 806.3340\n",
      "Epoch 83/350\n",
      "6/6 [==============================] - 0s 10ms/step - loss: 50.3838 - val_loss: 800.1213\n",
      "Epoch 84/350\n",
      "6/6 [==============================] - 0s 11ms/step - loss: 51.0491 - val_loss: 830.6092\n",
      "Epoch 85/350\n",
      "6/6 [==============================] - 0s 10ms/step - loss: 51.4476 - val_loss: 817.4855\n",
      "Epoch 86/350\n",
      "6/6 [==============================] - 0s 13ms/step - loss: 51.8088 - val_loss: 818.2832\n",
      "Epoch 87/350\n",
      "6/6 [==============================] - 0s 10ms/step - loss: 49.6727 - val_loss: 789.1692\n",
      "Epoch 88/350\n",
      "6/6 [==============================] - 0s 11ms/step - loss: 50.4864 - val_loss: 742.2607\n",
      "Epoch 89/350\n",
      "6/6 [==============================] - 0s 10ms/step - loss: 50.3845 - val_loss: 828.9982\n",
      "Epoch 90/350\n",
      "6/6 [==============================] - 0s 10ms/step - loss: 52.5973 - val_loss: 726.4611\n",
      "Epoch 91/350\n",
      "6/6 [==============================] - 0s 10ms/step - loss: 51.6310 - val_loss: 752.5133\n",
      "Epoch 92/350\n",
      "6/6 [==============================] - 0s 11ms/step - loss: 49.5424 - val_loss: 686.4510\n",
      "Epoch 93/350\n",
      "6/6 [==============================] - 0s 11ms/step - loss: 48.5812 - val_loss: 748.8968\n",
      "Epoch 94/350\n",
      "6/6 [==============================] - 0s 10ms/step - loss: 50.8726 - val_loss: 712.2559\n",
      "Epoch 95/350\n",
      "6/6 [==============================] - 0s 10ms/step - loss: 48.4685 - val_loss: 717.1896\n",
      "Epoch 96/350\n",
      "6/6 [==============================] - 0s 10ms/step - loss: 48.0922 - val_loss: 729.5529\n",
      "Epoch 97/350\n",
      "6/6 [==============================] - 0s 11ms/step - loss: 49.9433 - val_loss: 677.4265\n",
      "Epoch 98/350\n",
      "6/6 [==============================] - 0s 10ms/step - loss: 45.8859 - val_loss: 655.1995\n",
      "Epoch 99/350\n",
      "6/6 [==============================] - 0s 10ms/step - loss: 45.2851 - val_loss: 636.2452\n",
      "Epoch 100/350\n",
      "6/6 [==============================] - 0s 10ms/step - loss: 44.6254 - val_loss: 657.8973\n",
      "Epoch 101/350\n",
      "6/6 [==============================] - 0s 13ms/step - loss: 45.2004 - val_loss: 605.2308\n",
      "Epoch 102/350\n",
      "6/6 [==============================] - 0s 11ms/step - loss: 46.5021 - val_loss: 653.2058\n",
      "Epoch 103/350\n",
      "6/6 [==============================] - 0s 11ms/step - loss: 47.5835 - val_loss: 554.8478\n",
      "Epoch 104/350\n",
      "6/6 [==============================] - 0s 10ms/step - loss: 45.1011 - val_loss: 617.9203\n",
      "Epoch 105/350\n",
      "6/6 [==============================] - 0s 10ms/step - loss: 45.6943 - val_loss: 602.1085\n",
      "Epoch 106/350\n",
      "6/6 [==============================] - 0s 10ms/step - loss: 46.7419 - val_loss: 574.5886\n",
      "Epoch 107/350\n",
      "6/6 [==============================] - 0s 10ms/step - loss: 49.1004 - val_loss: 537.2859\n",
      "Epoch 108/350\n",
      "6/6 [==============================] - 0s 10ms/step - loss: 51.6922 - val_loss: 589.7556\n",
      "Epoch 109/350\n",
      "6/6 [==============================] - 0s 13ms/step - loss: 48.8792 - val_loss: 543.8254\n",
      "Epoch 110/350\n",
      "6/6 [==============================] - 0s 11ms/step - loss: 44.7587 - val_loss: 636.7592\n",
      "Epoch 111/350\n",
      "6/6 [==============================] - 0s 11ms/step - loss: 42.2436 - val_loss: 565.9099\n",
      "Epoch 112/350\n",
      "6/6 [==============================] - 0s 13ms/step - loss: 42.9720 - val_loss: 522.8187\n",
      "Epoch 113/350\n",
      "6/6 [==============================] - 0s 11ms/step - loss: 51.8849 - val_loss: 519.2904\n",
      "Epoch 114/350\n",
      "6/6 [==============================] - 0s 10ms/step - loss: 44.2161 - val_loss: 571.5934\n",
      "Epoch 115/350\n",
      "6/6 [==============================] - 0s 10ms/step - loss: 42.1052 - val_loss: 529.4235\n",
      "Epoch 116/350\n",
      "6/6 [==============================] - 0s 13ms/step - loss: 59.6764 - val_loss: 589.5408\n",
      "Epoch 117/350\n",
      "6/6 [==============================] - 0s 10ms/step - loss: 50.5737 - val_loss: 572.4792\n",
      "Epoch 118/350\n",
      "6/6 [==============================] - 0s 10ms/step - loss: 45.5458 - val_loss: 495.4859\n",
      "Epoch 119/350\n",
      "6/6 [==============================] - 0s 14ms/step - loss: 46.9097 - val_loss: 546.0637\n",
      "Epoch 120/350\n",
      "6/6 [==============================] - 0s 10ms/step - loss: 40.8844 - val_loss: 555.1572\n",
      "Epoch 121/350\n",
      "6/6 [==============================] - 0s 10ms/step - loss: 40.2573 - val_loss: 527.1524\n",
      "Epoch 122/350\n",
      "6/6 [==============================] - 0s 10ms/step - loss: 38.5100 - val_loss: 495.1708\n",
      "Epoch 123/350\n",
      "6/6 [==============================] - 0s 11ms/step - loss: 41.3093 - val_loss: 470.4886\n",
      "Epoch 124/350\n",
      "6/6 [==============================] - 0s 10ms/step - loss: 51.8324 - val_loss: 476.6666\n",
      "Epoch 125/350\n",
      "6/6 [==============================] - 0s 10ms/step - loss: 44.4746 - val_loss: 515.6075\n",
      "Epoch 126/350\n",
      "6/6 [==============================] - 0s 12ms/step - loss: 45.2487 - val_loss: 516.1586\n",
      "Epoch 127/350\n",
      "6/6 [==============================] - 0s 11ms/step - loss: 51.1533 - val_loss: 463.7973\n",
      "Epoch 128/350\n",
      "6/6 [==============================] - 0s 10ms/step - loss: 52.3895 - val_loss: 644.9533\n",
      "Epoch 129/350\n",
      "6/6 [==============================] - 0s 13ms/step - loss: 67.0626 - val_loss: 550.8052\n",
      "Epoch 130/350\n",
      "6/6 [==============================] - 0s 12ms/step - loss: 66.2016 - val_loss: 435.3683\n",
      "Epoch 131/350\n",
      "6/6 [==============================] - 0s 10ms/step - loss: 70.2575 - val_loss: 636.3672\n",
      "Epoch 132/350\n",
      "6/6 [==============================] - 0s 10ms/step - loss: 59.3026 - val_loss: 510.2352\n",
      "Epoch 133/350\n",
      "6/6 [==============================] - 0s 10ms/step - loss: 52.9484 - val_loss: 538.6788\n",
      "Epoch 134/350\n",
      "6/6 [==============================] - 0s 10ms/step - loss: 55.8204 - val_loss: 457.5276\n",
      "Epoch 135/350\n",
      "6/6 [==============================] - 0s 10ms/step - loss: 52.1700 - val_loss: 481.8564\n",
      "Epoch 136/350\n",
      "6/6 [==============================] - 0s 11ms/step - loss: 55.1149 - val_loss: 622.1725\n",
      "Epoch 137/350\n",
      "6/6 [==============================] - 0s 11ms/step - loss: 55.8121 - val_loss: 516.4295\n",
      "Epoch 138/350\n",
      "6/6 [==============================] - 0s 13ms/step - loss: 47.1036 - val_loss: 602.3070\n",
      "Epoch 139/350\n",
      "6/6 [==============================] - 0s 11ms/step - loss: 40.3354 - val_loss: 522.6725\n",
      "Epoch 140/350\n",
      "6/6 [==============================] - 0s 11ms/step - loss: 44.1350 - val_loss: 527.2124\n",
      "Epoch 141/350\n",
      "6/6 [==============================] - 0s 11ms/step - loss: 41.3757 - val_loss: 497.2065\n",
      "Epoch 142/350\n",
      "6/6 [==============================] - 0s 10ms/step - loss: 38.9104 - val_loss: 495.9868\n",
      "Epoch 143/350\n",
      "6/6 [==============================] - 0s 10ms/step - loss: 37.9587 - val_loss: 467.3708\n",
      "Epoch 144/350\n",
      "6/6 [==============================] - 0s 10ms/step - loss: 40.8827 - val_loss: 498.7784\n",
      "Epoch 145/350\n",
      "6/6 [==============================] - 0s 13ms/step - loss: 43.9578 - val_loss: 506.8081\n",
      "Epoch 146/350\n",
      "6/6 [==============================] - 0s 14ms/step - loss: 43.9797 - val_loss: 469.5298\n",
      "Epoch 147/350\n",
      "6/6 [==============================] - 0s 10ms/step - loss: 39.3676 - val_loss: 451.8379\n",
      "Epoch 148/350\n",
      "6/6 [==============================] - 0s 11ms/step - loss: 38.0471 - val_loss: 461.5231\n",
      "Epoch 149/350\n",
      "6/6 [==============================] - 0s 10ms/step - loss: 37.0502 - val_loss: 487.5116\n",
      "Epoch 150/350\n",
      "6/6 [==============================] - 0s 14ms/step - loss: 40.9624 - val_loss: 501.8395\n",
      "Epoch 151/350\n",
      "6/6 [==============================] - 0s 11ms/step - loss: 39.3764 - val_loss: 448.3769\n",
      "Epoch 152/350\n",
      "6/6 [==============================] - 0s 11ms/step - loss: 38.7924 - val_loss: 428.1509\n",
      "Epoch 153/350\n",
      "6/6 [==============================] - 0s 10ms/step - loss: 45.0284 - val_loss: 466.8291\n",
      "Epoch 154/350\n",
      "6/6 [==============================] - 0s 10ms/step - loss: 42.5468 - val_loss: 494.7944\n",
      "Epoch 155/350\n",
      "6/6 [==============================] - 0s 10ms/step - loss: 49.2045 - val_loss: 485.7918\n",
      "Epoch 156/350\n",
      "6/6 [==============================] - 0s 11ms/step - loss: 43.8697 - val_loss: 443.7210\n",
      "Epoch 157/350\n",
      "6/6 [==============================] - 0s 10ms/step - loss: 38.4218 - val_loss: 423.6591\n",
      "Epoch 158/350\n",
      "6/6 [==============================] - 0s 10ms/step - loss: 51.1420 - val_loss: 484.0068\n",
      "Epoch 159/350\n",
      "6/6 [==============================] - 0s 12ms/step - loss: 49.7008 - val_loss: 489.4278\n",
      "Epoch 160/350\n",
      "6/6 [==============================] - 0s 10ms/step - loss: 45.7441 - val_loss: 428.1027\n",
      "Epoch 161/350\n",
      "6/6 [==============================] - 0s 10ms/step - loss: 52.6308 - val_loss: 492.4368\n",
      "Epoch 162/350\n",
      "6/6 [==============================] - 0s 15ms/step - loss: 41.3815 - val_loss: 440.7058\n",
      "Epoch 163/350\n",
      "6/6 [==============================] - 0s 11ms/step - loss: 45.0976 - val_loss: 431.5931\n",
      "Epoch 164/350\n",
      "6/6 [==============================] - 0s 11ms/step - loss: 47.7880 - val_loss: 493.1972\n",
      "Epoch 165/350\n",
      "6/6 [==============================] - 0s 11ms/step - loss: 46.4451 - val_loss: 506.1466\n",
      "Epoch 166/350\n",
      "6/6 [==============================] - 0s 13ms/step - loss: 45.1083 - val_loss: 401.2570\n",
      "Epoch 167/350\n",
      "6/6 [==============================] - 0s 11ms/step - loss: 39.1798 - val_loss: 465.8575\n",
      "Epoch 168/350\n",
      "6/6 [==============================] - 0s 10ms/step - loss: 41.1147 - val_loss: 445.4952\n",
      "Epoch 169/350\n",
      "6/6 [==============================] - 0s 13ms/step - loss: 36.7790 - val_loss: 463.4874\n",
      "Epoch 170/350\n",
      "6/6 [==============================] - 0s 11ms/step - loss: 36.3366 - val_loss: 444.3825\n",
      "Epoch 171/350\n",
      "6/6 [==============================] - 0s 11ms/step - loss: 78.1829 - val_loss: 33608.1523\n",
      "Epoch 172/350\n",
      "6/6 [==============================] - 0s 10ms/step - loss: 10637.3066 - val_loss: 8018.2017\n",
      "Epoch 173/350\n",
      "6/6 [==============================] - 0s 15ms/step - loss: 596.3235 - val_loss: 537.7074\n",
      "Epoch 174/350\n",
      "6/6 [==============================] - 0s 10ms/step - loss: 2008.9513 - val_loss: 6646.9448\n",
      "Epoch 175/350\n",
      "6/6 [==============================] - 0s 10ms/step - loss: 969.5297 - val_loss: 2912.3567\n",
      "Epoch 176/350\n",
      "6/6 [==============================] - 0s 10ms/step - loss: 322.8380 - val_loss: 1524.0039\n",
      "Epoch 177/350\n",
      "6/6 [==============================] - 0s 12ms/step - loss: 333.9949 - val_loss: 3624.5642\n",
      "Epoch 178/350\n",
      "6/6 [==============================] - 0s 14ms/step - loss: 317.7920 - val_loss: 3739.9182\n",
      "Epoch 179/350\n",
      "6/6 [==============================] - 0s 11ms/step - loss: 271.3776 - val_loss: 2408.4563\n",
      "Epoch 180/350\n",
      "6/6 [==============================] - 0s 10ms/step - loss: 290.0495 - val_loss: 2685.8318\n",
      "Epoch 181/350\n",
      "6/6 [==============================] - 0s 11ms/step - loss: 275.3375 - val_loss: 3470.1968\n",
      "Epoch 182/350\n",
      "6/6 [==============================] - 0s 12ms/step - loss: 275.4465 - val_loss: 2832.2808\n",
      "Epoch 183/350\n",
      "6/6 [==============================] - 0s 10ms/step - loss: 263.4513 - val_loss: 2793.3162\n",
      "Epoch 184/350\n",
      "6/6 [==============================] - 0s 10ms/step - loss: 260.0169 - val_loss: 2748.5083\n",
      "Epoch 185/350\n",
      "6/6 [==============================] - 0s 10ms/step - loss: 256.3206 - val_loss: 2862.6121\n",
      "Epoch 186/350\n",
      "6/6 [==============================] - 0s 11ms/step - loss: 252.9715 - val_loss: 2660.5835\n",
      "Epoch 187/350\n",
      "6/6 [==============================] - 0s 21ms/step - loss: 250.8708 - val_loss: 2908.0481\n",
      "Epoch 188/350\n",
      "6/6 [==============================] - 0s 13ms/step - loss: 244.7145 - val_loss: 2524.0647\n",
      "Epoch 189/350\n",
      "6/6 [==============================] - 0s 13ms/step - loss: 242.5484 - val_loss: 2623.4595\n",
      "Epoch 190/350\n",
      "6/6 [==============================] - 0s 12ms/step - loss: 238.4842 - val_loss: 2667.8896\n",
      "Epoch 191/350\n",
      "6/6 [==============================] - 0s 15ms/step - loss: 235.1819 - val_loss: 2756.2192\n",
      "Epoch 192/350\n",
      "6/6 [==============================] - 0s 12ms/step - loss: 232.6031 - val_loss: 2474.1909\n",
      "Epoch 193/350\n",
      "6/6 [==============================] - 0s 12ms/step - loss: 231.8822 - val_loss: 2495.4880\n",
      "Epoch 194/350\n",
      "6/6 [==============================] - 0s 15ms/step - loss: 231.2635 - val_loss: 2953.5378\n",
      "Epoch 195/350\n",
      "6/6 [==============================] - 0s 13ms/step - loss: 228.7346 - val_loss: 2295.9512\n",
      "Epoch 196/350\n",
      "6/6 [==============================] - 0s 16ms/step - loss: 220.4386 - val_loss: 2515.6150\n",
      "Epoch 197/350\n",
      "6/6 [==============================] - 0s 11ms/step - loss: 217.9506 - val_loss: 2732.8845\n",
      "Epoch 198/350\n",
      "6/6 [==============================] - 0s 11ms/step - loss: 218.1935 - val_loss: 2303.3206\n",
      "Epoch 199/350\n",
      "6/6 [==============================] - 0s 11ms/step - loss: 211.1178 - val_loss: 2436.3423\n",
      "Epoch 200/350\n",
      "6/6 [==============================] - 0s 11ms/step - loss: 207.9243 - val_loss: 2321.8330\n",
      "Epoch 201/350\n",
      "6/6 [==============================] - 0s 11ms/step - loss: 204.8927 - val_loss: 2361.8254\n",
      "Epoch 202/350\n",
      "6/6 [==============================] - 0s 10ms/step - loss: 201.9575 - val_loss: 2365.3582\n",
      "Epoch 203/350\n",
      "6/6 [==============================] - 0s 10ms/step - loss: 198.9568 - val_loss: 2214.7300\n",
      "Epoch 204/350\n",
      "6/6 [==============================] - 0s 11ms/step - loss: 194.6159 - val_loss: 2303.7046\n",
      "Epoch 205/350\n",
      "6/6 [==============================] - 0s 11ms/step - loss: 191.8267 - val_loss: 2312.0588\n",
      "Epoch 206/350\n",
      "6/6 [==============================] - 0s 10ms/step - loss: 189.1896 - val_loss: 2249.6106\n",
      "Epoch 207/350\n",
      "6/6 [==============================] - 0s 11ms/step - loss: 186.9924 - val_loss: 2253.8386\n",
      "Epoch 208/350\n",
      "6/6 [==============================] - 0s 10ms/step - loss: 183.4151 - val_loss: 2068.7515\n",
      "Epoch 209/350\n",
      "6/6 [==============================] - 0s 11ms/step - loss: 174.9434 - val_loss: 2211.6985\n",
      "Epoch 210/350\n",
      "6/6 [==============================] - 0s 11ms/step - loss: 173.0976 - val_loss: 2017.7986\n",
      "Epoch 211/350\n",
      "6/6 [==============================] - 0s 10ms/step - loss: 166.7535 - val_loss: 1854.1979\n",
      "Epoch 212/350\n",
      "6/6 [==============================] - 0s 10ms/step - loss: 164.0786 - val_loss: 1956.1683\n",
      "Epoch 213/350\n",
      "6/6 [==============================] - 0s 13ms/step - loss: 161.3897 - val_loss: 1920.2731\n",
      "Epoch 214/350\n",
      "6/6 [==============================] - 0s 10ms/step - loss: 159.6630 - val_loss: 1815.5685\n",
      "Epoch 215/350\n",
      "6/6 [==============================] - 0s 10ms/step - loss: 158.7485 - val_loss: 2061.0225\n",
      "Epoch 216/350\n",
      "6/6 [==============================] - 0s 10ms/step - loss: 148.2192 - val_loss: 1626.3071\n",
      "Epoch 217/350\n",
      "6/6 [==============================] - 0s 12ms/step - loss: 150.3542 - val_loss: 1742.8121\n",
      "Epoch 218/350\n",
      "6/6 [==============================] - 0s 11ms/step - loss: 143.8695 - val_loss: 1834.7754\n",
      "Epoch 219/350\n",
      "6/6 [==============================] - 0s 10ms/step - loss: 141.5669 - val_loss: 1691.1157\n",
      "Epoch 220/350\n",
      "6/6 [==============================] - 0s 11ms/step - loss: 137.7738 - val_loss: 1701.9232\n",
      "Epoch 221/350\n",
      "6/6 [==============================] - 0s 13ms/step - loss: 134.3571 - val_loss: 1794.8925\n",
      "Epoch 222/350\n",
      "6/6 [==============================] - 0s 11ms/step - loss: 131.8482 - val_loss: 1649.1750\n",
      "Epoch 223/350\n",
      "6/6 [==============================] - 0s 10ms/step - loss: 127.9937 - val_loss: 1628.5573\n",
      "Epoch 224/350\n",
      "6/6 [==============================] - 0s 11ms/step - loss: 125.2959 - val_loss: 1587.6083\n",
      "Epoch 225/350\n",
      "6/6 [==============================] - 0s 10ms/step - loss: 121.5874 - val_loss: 1562.9681\n",
      "Epoch 226/350\n",
      "6/6 [==============================] - 0s 10ms/step - loss: 118.6842 - val_loss: 1529.5946\n",
      "Epoch 227/350\n",
      "6/6 [==============================] - 0s 10ms/step - loss: 115.6761 - val_loss: 1485.4156\n",
      "Epoch 228/350\n",
      "6/6 [==============================] - 0s 11ms/step - loss: 113.5823 - val_loss: 1487.0563\n",
      "Epoch 229/350\n",
      "6/6 [==============================] - 0s 10ms/step - loss: 110.3749 - val_loss: 1407.0798\n",
      "Epoch 230/350\n",
      "6/6 [==============================] - 0s 11ms/step - loss: 110.1456 - val_loss: 1306.9087\n",
      "Epoch 231/350\n",
      "6/6 [==============================] - 0s 12ms/step - loss: 105.7982 - val_loss: 1490.4696\n",
      "Epoch 232/350\n",
      "6/6 [==============================] - 0s 10ms/step - loss: 102.6252 - val_loss: 1257.3441\n",
      "Epoch 233/350\n",
      "6/6 [==============================] - 0s 10ms/step - loss: 100.3652 - val_loss: 1262.7592\n",
      "Epoch 234/350\n",
      "6/6 [==============================] - 0s 14ms/step - loss: 97.3089 - val_loss: 1290.8031\n",
      "Epoch 235/350\n",
      "6/6 [==============================] - 0s 11ms/step - loss: 95.4488 - val_loss: 1168.8973\n",
      "Epoch 236/350\n",
      "6/6 [==============================] - 0s 10ms/step - loss: 92.0497 - val_loss: 1214.3384\n",
      "Epoch 237/350\n",
      "6/6 [==============================] - 0s 10ms/step - loss: 89.9842 - val_loss: 1155.3054\n",
      "Epoch 238/350\n",
      "6/6 [==============================] - 0s 10ms/step - loss: 87.2253 - val_loss: 1112.7617\n",
      "Epoch 239/350\n",
      "6/6 [==============================] - 0s 10ms/step - loss: 84.7127 - val_loss: 1105.3143\n",
      "Epoch 240/350\n",
      "6/6 [==============================] - 0s 11ms/step - loss: 82.3019 - val_loss: 1101.4124\n",
      "Epoch 241/350\n",
      "6/6 [==============================] - 0s 11ms/step - loss: 80.5769 - val_loss: 1059.4709\n",
      "Epoch 242/350\n",
      "6/6 [==============================] - 0s 13ms/step - loss: 78.8437 - val_loss: 1070.3798\n",
      "Epoch 243/350\n",
      "6/6 [==============================] - 0s 10ms/step - loss: 76.4807 - val_loss: 943.6290\n",
      "Epoch 244/350\n",
      "6/6 [==============================] - 0s 10ms/step - loss: 76.5024 - val_loss: 929.5419\n",
      "Epoch 245/350\n",
      "6/6 [==============================] - 0s 11ms/step - loss: 72.2828 - val_loss: 1064.0206\n",
      "Epoch 246/350\n",
      "6/6 [==============================] - 0s 12ms/step - loss: 71.7721 - val_loss: 893.3524\n",
      "Epoch 247/350\n",
      "6/6 [==============================] - 0s 10ms/step - loss: 70.4264 - val_loss: 929.0283\n",
      "Epoch 248/350\n",
      "6/6 [==============================] - 0s 10ms/step - loss: 68.5926 - val_loss: 928.5957\n",
      "Epoch 249/350\n",
      "6/6 [==============================] - 0s 15ms/step - loss: 67.4902 - val_loss: 858.7389\n",
      "Epoch 250/350\n",
      "6/6 [==============================] - 0s 11ms/step - loss: 66.7514 - val_loss: 907.9247\n",
      "Epoch 251/350\n",
      "6/6 [==============================] - 0s 10ms/step - loss: 68.2889 - val_loss: 898.6569\n",
      "Epoch 252/350\n",
      "6/6 [==============================] - 0s 10ms/step - loss: 64.5441 - val_loss: 730.6934\n",
      "Epoch 253/350\n",
      "6/6 [==============================] - 0s 11ms/step - loss: 64.3745 - val_loss: 912.1133\n",
      "Epoch 254/350\n",
      "6/6 [==============================] - 0s 10ms/step - loss: 64.6558 - val_loss: 762.1950\n",
      "Epoch 255/350\n",
      "6/6 [==============================] - 0s 11ms/step - loss: 60.8327 - val_loss: 874.5607\n",
      "Epoch 256/350\n",
      "6/6 [==============================] - 0s 16ms/step - loss: 61.7352 - val_loss: 787.4889\n",
      "Epoch 257/350\n",
      "6/6 [==============================] - 0s 13ms/step - loss: 62.3741 - val_loss: 730.2896\n",
      "Epoch 258/350\n",
      "6/6 [==============================] - 0s 12ms/step - loss: 59.9086 - val_loss: 828.7225\n",
      "Epoch 259/350\n",
      "6/6 [==============================] - 0s 11ms/step - loss: 58.8956 - val_loss: 698.3969\n",
      "Epoch 260/350\n",
      "6/6 [==============================] - 0s 14ms/step - loss: 60.6178 - val_loss: 727.1248\n",
      "Epoch 261/350\n",
      "6/6 [==============================] - 0s 16ms/step - loss: 58.6654 - val_loss: 838.1973\n",
      "Epoch 262/350\n",
      "6/6 [==============================] - 0s 15ms/step - loss: 59.4564 - val_loss: 626.5389\n",
      "Epoch 263/350\n",
      "6/6 [==============================] - 0s 11ms/step - loss: 57.0021 - val_loss: 794.2885\n",
      "Epoch 264/350\n",
      "6/6 [==============================] - 0s 12ms/step - loss: 58.3433 - val_loss: 697.5340\n",
      "Epoch 265/350\n",
      "6/6 [==============================] - 0s 11ms/step - loss: 57.5029 - val_loss: 672.6313\n",
      "Epoch 266/350\n",
      "6/6 [==============================] - 0s 14ms/step - loss: 55.4604 - val_loss: 680.3523\n",
      "Epoch 267/350\n",
      "6/6 [==============================] - 0s 13ms/step - loss: 55.0316 - val_loss: 654.0052\n",
      "Epoch 268/350\n",
      "6/6 [==============================] - 0s 12ms/step - loss: 54.9518 - val_loss: 667.1262\n",
      "Epoch 269/350\n",
      "6/6 [==============================] - 0s 11ms/step - loss: 54.9026 - val_loss: 680.6401\n",
      "Epoch 270/350\n",
      "6/6 [==============================] - 0s 14ms/step - loss: 53.6023 - val_loss: 580.3617\n",
      "Epoch 271/350\n",
      "6/6 [==============================] - 0s 11ms/step - loss: 56.0701 - val_loss: 634.8857\n",
      "Epoch 272/350\n",
      "6/6 [==============================] - 0s 11ms/step - loss: 55.7188 - val_loss: 649.8300\n",
      "Epoch 273/350\n",
      "6/6 [==============================] - 0s 13ms/step - loss: 53.6025 - val_loss: 545.8063\n",
      "Epoch 274/350\n",
      "6/6 [==============================] - 0s 11ms/step - loss: 53.9268 - val_loss: 631.1647\n",
      "Epoch 275/350\n",
      "6/6 [==============================] - 0s 11ms/step - loss: 53.8772 - val_loss: 609.1783\n",
      "Epoch 276/350\n",
      "6/6 [==============================] - 0s 10ms/step - loss: 52.8168 - val_loss: 573.0826\n",
      "Epoch 277/350\n",
      "6/6 [==============================] - 0s 11ms/step - loss: 52.8064 - val_loss: 613.1455\n",
      "Epoch 278/350\n",
      "6/6 [==============================] - 0s 10ms/step - loss: 53.8497 - val_loss: 576.5543\n",
      "Epoch 279/350\n",
      "6/6 [==============================] - 0s 10ms/step - loss: 52.1903 - val_loss: 625.3877\n",
      "Epoch 280/350\n",
      "6/6 [==============================] - 0s 12ms/step - loss: 52.6487 - val_loss: 547.6521\n",
      "Epoch 281/350\n",
      "6/6 [==============================] - 0s 10ms/step - loss: 52.1344 - val_loss: 554.1026\n",
      "Epoch 282/350\n",
      "6/6 [==============================] - 0s 12ms/step - loss: 51.7196 - val_loss: 565.2618\n",
      "Epoch 283/350\n",
      "6/6 [==============================] - 0s 14ms/step - loss: 51.6337 - val_loss: 538.8589\n",
      "Epoch 284/350\n",
      "6/6 [==============================] - 0s 11ms/step - loss: 51.7044 - val_loss: 549.2844\n",
      "Epoch 285/350\n",
      "6/6 [==============================] - 0s 12ms/step - loss: 53.3679 - val_loss: 512.3304\n",
      "Epoch 286/350\n",
      "6/6 [==============================] - 0s 10ms/step - loss: 51.2486 - val_loss: 610.9227\n",
      "Epoch 287/350\n",
      "6/6 [==============================] - 0s 11ms/step - loss: 52.8342 - val_loss: 510.1611\n",
      "Epoch 288/350\n",
      "6/6 [==============================] - 0s 12ms/step - loss: 51.4644 - val_loss: 563.3949\n",
      "Epoch 289/350\n",
      "6/6 [==============================] - 0s 11ms/step - loss: 52.1541 - val_loss: 518.6629\n",
      "Epoch 290/350\n",
      "6/6 [==============================] - 0s 11ms/step - loss: 51.0222 - val_loss: 550.9720\n",
      "Epoch 291/350\n",
      "6/6 [==============================] - 0s 10ms/step - loss: 51.0913 - val_loss: 453.7743\n",
      "Epoch 292/350\n",
      "6/6 [==============================] - 0s 11ms/step - loss: 50.4078 - val_loss: 575.3231\n",
      "Epoch 293/350\n",
      "6/6 [==============================] - 0s 11ms/step - loss: 50.9293 - val_loss: 475.0949\n",
      "Epoch 294/350\n",
      "6/6 [==============================] - 0s 10ms/step - loss: 49.5389 - val_loss: 549.8049\n",
      "Epoch 295/350\n",
      "6/6 [==============================] - 0s 10ms/step - loss: 52.8649 - val_loss: 511.5171\n",
      "Epoch 296/350\n",
      "6/6 [==============================] - 0s 13ms/step - loss: 50.8228 - val_loss: 462.5702\n",
      "Epoch 297/350\n",
      "6/6 [==============================] - 0s 10ms/step - loss: 50.7411 - val_loss: 528.2307\n",
      "Epoch 298/350\n",
      "6/6 [==============================] - 0s 11ms/step - loss: 49.2821 - val_loss: 438.3889\n",
      "Epoch 299/350\n",
      "6/6 [==============================] - 0s 10ms/step - loss: 52.7561 - val_loss: 471.9682\n",
      "Epoch 300/350\n",
      "6/6 [==============================] - 0s 13ms/step - loss: 49.1505 - val_loss: 505.9207\n",
      "Epoch 301/350\n",
      "6/6 [==============================] - 0s 11ms/step - loss: 49.4956 - val_loss: 457.7251\n",
      "Epoch 302/350\n",
      "6/6 [==============================] - 0s 11ms/step - loss: 50.7740 - val_loss: 471.2860\n",
      "Epoch 303/350\n",
      "6/6 [==============================] - 0s 10ms/step - loss: 49.1219 - val_loss: 440.6147\n",
      "Epoch 304/350\n",
      "6/6 [==============================] - 0s 10ms/step - loss: 49.4090 - val_loss: 473.9968\n",
      "Epoch 305/350\n",
      "6/6 [==============================] - 0s 11ms/step - loss: 49.1391 - val_loss: 467.6759\n",
      "Epoch 306/350\n",
      "6/6 [==============================] - 0s 11ms/step - loss: 48.9277 - val_loss: 452.6053\n",
      "Epoch 307/350\n",
      "6/6 [==============================] - 0s 11ms/step - loss: 49.5702 - val_loss: 456.2030\n",
      "Epoch 308/350\n",
      "6/6 [==============================] - 0s 11ms/step - loss: 49.3315 - val_loss: 451.9237\n",
      "Epoch 309/350\n",
      "6/6 [==============================] - 0s 15ms/step - loss: 50.6647 - val_loss: 448.2023\n",
      "Epoch 310/350\n",
      "6/6 [==============================] - 0s 15ms/step - loss: 50.0311 - val_loss: 513.7913\n",
      "Epoch 311/350\n",
      "6/6 [==============================] - 0s 14ms/step - loss: 48.7561 - val_loss: 389.9250\n",
      "Epoch 312/350\n",
      "6/6 [==============================] - 0s 13ms/step - loss: 50.0641 - val_loss: 508.7718\n",
      "Epoch 313/350\n",
      "6/6 [==============================] - 0s 16ms/step - loss: 49.9218 - val_loss: 423.5127\n",
      "Epoch 314/350\n",
      "6/6 [==============================] - 0s 14ms/step - loss: 48.6839 - val_loss: 456.6794\n",
      "Epoch 315/350\n",
      "6/6 [==============================] - 0s 12ms/step - loss: 49.3266 - val_loss: 412.6767\n",
      "Epoch 316/350\n",
      "6/6 [==============================] - 0s 11ms/step - loss: 48.8677 - val_loss: 431.5168\n",
      "Epoch 317/350\n",
      "6/6 [==============================] - 0s 11ms/step - loss: 49.7703 - val_loss: 444.0293\n",
      "Epoch 318/350\n",
      "6/6 [==============================] - 0s 12ms/step - loss: 48.4389 - val_loss: 446.6403\n",
      "Epoch 319/350\n",
      "6/6 [==============================] - 0s 11ms/step - loss: 50.6349 - val_loss: 454.0834\n",
      "Epoch 320/350\n",
      "6/6 [==============================] - 0s 14ms/step - loss: 51.8676 - val_loss: 445.8023\n",
      "Epoch 321/350\n",
      "6/6 [==============================] - 0s 13ms/step - loss: 48.8755 - val_loss: 382.0981\n",
      "Epoch 322/350\n",
      "6/6 [==============================] - 0s 12ms/step - loss: 48.6747 - val_loss: 459.4814\n",
      "Epoch 323/350\n",
      "6/6 [==============================] - 0s 11ms/step - loss: 48.4083 - val_loss: 400.0267\n",
      "Epoch 324/350\n",
      "6/6 [==============================] - 0s 13ms/step - loss: 48.3195 - val_loss: 424.5954\n",
      "Epoch 325/350\n",
      "6/6 [==============================] - 0s 14ms/step - loss: 48.7370 - val_loss: 404.6687\n",
      "Epoch 326/350\n",
      "6/6 [==============================] - 0s 13ms/step - loss: 50.5918 - val_loss: 415.4056\n",
      "Epoch 327/350\n",
      "6/6 [==============================] - 0s 21ms/step - loss: 48.2778 - val_loss: 449.1858\n",
      "Epoch 328/350\n",
      "6/6 [==============================] - 0s 30ms/step - loss: 48.0525 - val_loss: 382.1011\n",
      "Epoch 329/350\n",
      "6/6 [==============================] - 0s 34ms/step - loss: 49.1835 - val_loss: 404.2241\n",
      "Epoch 330/350\n",
      "6/6 [==============================] - 0s 19ms/step - loss: 47.5121 - val_loss: 364.8440\n",
      "Epoch 331/350\n",
      "6/6 [==============================] - 0s 44ms/step - loss: 47.7449 - val_loss: 438.4992\n",
      "Epoch 332/350\n",
      "6/6 [==============================] - 0s 29ms/step - loss: 49.0966 - val_loss: 393.9817\n",
      "Epoch 333/350\n",
      "6/6 [==============================] - 0s 27ms/step - loss: 48.0769 - val_loss: 399.8516\n",
      "Epoch 334/350\n",
      "6/6 [==============================] - 0s 33ms/step - loss: 50.4987 - val_loss: 409.7701\n",
      "Epoch 335/350\n",
      "6/6 [==============================] - 0s 26ms/step - loss: 49.7756 - val_loss: 399.0874\n",
      "Epoch 336/350\n",
      "6/6 [==============================] - 0s 26ms/step - loss: 50.0865 - val_loss: 374.3984\n",
      "Epoch 337/350\n",
      "6/6 [==============================] - 0s 29ms/step - loss: 52.3269 - val_loss: 427.7465\n",
      "Epoch 338/350\n",
      "6/6 [==============================] - 0s 27ms/step - loss: 55.8729 - val_loss: 351.2003\n",
      "Epoch 339/350\n",
      "6/6 [==============================] - 0s 18ms/step - loss: 52.5388 - val_loss: 453.4921\n",
      "Epoch 340/350\n",
      "6/6 [==============================] - 0s 24ms/step - loss: 50.2436 - val_loss: 305.9491\n",
      "Epoch 341/350\n",
      "6/6 [==============================] - 0s 24ms/step - loss: 52.1486 - val_loss: 475.8468\n",
      "Epoch 342/350\n",
      "6/6 [==============================] - 0s 23ms/step - loss: 53.3907 - val_loss: 341.4805\n",
      "Epoch 343/350\n",
      "6/6 [==============================] - 0s 24ms/step - loss: 49.6160 - val_loss: 411.1150\n",
      "Epoch 344/350\n",
      "6/6 [==============================] - 0s 45ms/step - loss: 47.6564 - val_loss: 368.4884\n",
      "Epoch 345/350\n",
      "6/6 [==============================] - 0s 14ms/step - loss: 48.1480 - val_loss: 372.7417\n",
      "Epoch 346/350\n",
      "6/6 [==============================] - 0s 23ms/step - loss: 50.3215 - val_loss: 381.1558\n",
      "Epoch 347/350\n",
      "6/6 [==============================] - 0s 21ms/step - loss: 50.1166 - val_loss: 407.6924\n",
      "Epoch 348/350\n",
      "6/6 [==============================] - 0s 29ms/step - loss: 50.3010 - val_loss: 361.5699\n",
      "Epoch 349/350\n",
      "6/6 [==============================] - 0s 29ms/step - loss: 47.7680 - val_loss: 410.1084\n",
      "Epoch 350/350\n",
      "6/6 [==============================] - 0s 24ms/step - loss: 50.2949 - val_loss: 346.6070\n"
     ]
    }
   ],
   "source": [
    "hist_ej5 = model_ej5.fit(x_train, t_train, epochs = 350, validation_split = 0.3)"
   ]
  },
  {
   "cell_type": "code",
   "execution_count": 9,
   "metadata": {
    "colab": {
     "base_uri": "https://localhost:8080/",
     "height": 313
    },
    "executionInfo": {
     "elapsed": 489,
     "status": "ok",
     "timestamp": 1664142036751,
     "user": {
      "displayName": "Álvaro Blanes figuerola",
      "userId": "11042556642168442120"
     },
     "user_tz": -120
    },
    "id": "ToNCJsgsMCWY",
    "outputId": "9ecbd063-2600-44a2-fed5-49005007aeba"
   },
   "outputs": [
    {
     "data": {
      "text/plain": [
       "<matplotlib.legend.Legend at 0x7fad2d6c93d0>"
      ]
     },
     "execution_count": 9,
     "metadata": {},
     "output_type": "execute_result"
    },
    {
     "data": {
      "image/png": "[encoded data removed]",
      "text/plain": [
       "<Figure size 432x288 with 1 Axes>"
      ]
     },
     "metadata": {
      "needs_background": "light"
     },
     "output_type": "display_data"
    }
   ],
   "source": [
    "plt.plot(hist_ej5.history['loss'], label = \"entrenamiento\")\n",
    "plt.plot(hist_ej5.history['val_loss'], label = \"validación\")\n",
    "plt.title('Loss')\n",
    "plt.xlabel('epoch')\n",
    "plt.ylabel('loss')\n",
    "plt.legend()"
   ]
  },
  {
   "cell_type": "code",
   "execution_count": 10,
   "metadata": {
    "executionInfo": {
     "elapsed": 511,
     "status": "ok",
     "timestamp": 1664142037260,
     "user": {
      "displayName": "Álvaro Blanes figuerola",
      "userId": "11042556642168442120"
     },
     "user_tz": -120
    },
    "id": "k8LbrhQaMF0V"
   },
   "outputs": [],
   "source": [
    "y_pred = model_ej5.predict(x_test)"
   ]
  },
  {
   "cell_type": "code",
   "execution_count": 11,
   "metadata": {
    "colab": {
     "base_uri": "https://localhost:8080/",
     "height": 313
    },
    "executionInfo": {
     "elapsed": 584,
     "status": "ok",
     "timestamp": 1664142037841,
     "user": {
      "displayName": "Álvaro Blanes figuerola",
      "userId": "11042556642168442120"
     },
     "user_tz": -120
    },
    "id": "i21ph8X5MHc6",
    "outputId": "83cbc330-990a-437c-ee93-36d1da2f3d24"
   },
   "outputs": [
    {
     "data": {
      "text/plain": [
       "<matplotlib.legend.Legend at 0x7fad291693d0>"
      ]
     },
     "execution_count": 11,
     "metadata": {},
     "output_type": "execute_result"
    },
    {
     "data": {
      "image/png": "[encoded data removed]",
      "text/plain": [
       "<Figure size 432x288 with 1 Axes>"
      ]
     },
     "metadata": {
      "needs_background": "light"
     },
     "output_type": "display_data"
    }
   ],
   "source": [
    "plt.figure()\n",
    "plt.plot(t_test, label = 'reales')\n",
    "plt.plot(y_pred, label = 'predicciones')\n",
    "plt.title('Real vs Predicción Amazon')\n",
    "plt.xlabel('tiempo')\n",
    "plt.ylabel('Precio')\n",
    "plt.legend()"
   ]
  },
  {
   "cell_type": "code",
   "execution_count": 12,
   "metadata": {
    "colab": {
     "base_uri": "https://localhost:8080/"
    },
    "executionInfo": {
     "elapsed": 5,
     "status": "ok",
     "timestamp": 1664142037841,
     "user": {
      "displayName": "Álvaro Blanes figuerola",
      "userId": "11042556642168442120"
     },
     "user_tz": -120
    },
    "id": "u1gLHPQXMJRL",
    "outputId": "b568b5cb-d050-43a6-fc68-1ce04a511366"
   },
   "outputs": [
    {
     "name": "stdout",
     "output_type": "stream",
     "text": [
      "3/3 [==============================] - 0s 9ms/step - loss: 3717.2461\n"
     ]
    },
    {
     "data": {
      "text/plain": [
       "3717.24609375"
      ]
     },
     "execution_count": 12,
     "metadata": {},
     "output_type": "execute_result"
    }
   ],
   "source": [
    "# Evaluamos\n",
    "\n",
    "score = model_ej5.evaluate(x_test, t_test)\n",
    "score"
   ]
  },
  {
   "cell_type": "code",
   "execution_count": 12,
   "metadata": {
    "executionInfo": {
     "elapsed": 3,
     "status": "ok",
     "timestamp": 1664142037841,
     "user": {
      "displayName": "Álvaro Blanes figuerola",
      "userId": "11042556642168442120"
     },
     "user_tz": -120
    },
    "id": "9rXiPgMhSgdx"
   },
   "outputs": [],
   "source": []
  },
  {
   "cell_type": "markdown",
   "metadata": {},
   "source": [
    "6.- Compara el modelo anterior con un modelo que use convoluciones 2D. Ten en cuenta que has de reordenar los datos para poder usar convoluciones 2D. Compara el resultado en unos datos de test con el resultado del modelo anterior. ¿Obtienes mejoras al utilizar las convoluciones 2D?"
   ]
  },
  {
   "cell_type": "code",
   "execution_count": 2,
   "metadata": {
    "executionInfo": {
     "elapsed": 5,
     "status": "ok",
     "timestamp": 1664142665826,
     "user": {
      "displayName": "Álvaro Blanes figuerola",
      "userId": "11042556642168442120"
     },
     "user_tz": -120
    },
    "id": "ulWeZTWuHoLw"
   },
   "outputs": [],
   "source": [
    "amz = pd.read_csv(\"amzn.us.txt\", delimiter = \",\", index_col = 'Date')\n",
    "msft = pd.read_csv(\"msft.us.txt\", delimiter = \",\", index_col = 'Date')\n",
    "fb = pd.read_csv(\"fb.us.txt\", delimiter = \",\", index_col = 'Date')\n",
    "aapl = pd.read_csv(\"aapl.us.txt\", delimiter = \",\", index_col = 'Date')\n",
    "googl = pd.read_csv(\"googl.us.txt\", delimiter = \",\", index_col = 'Date')"
   ]
  },
  {
   "cell_type": "code",
   "execution_count": 3,
   "metadata": {
    "executionInfo": {
     "elapsed": 6,
     "status": "ok",
     "timestamp": 1664142665827,
     "user": {
      "displayName": "Álvaro Blanes figuerola",
      "userId": "11042556642168442120"
     },
     "user_tz": -120
    },
    "id": "1Iz0C9MrLBZg"
   },
   "outputs": [],
   "source": [
    "amzn_open = amz['Open']\n",
    "msft_open = msft['Open']\n",
    "fb_open = fb['Open']\n",
    "aapl_open = aapl['Open']\n",
    "googl_open = googl['Open']\n",
    "\n",
    "amzn_close = amz['Close']"
   ]
  },
  {
   "cell_type": "code",
   "execution_count": 4,
   "metadata": {
    "colab": {
     "base_uri": "https://localhost:8080/",
     "height": 455
    },
    "executionInfo": {
     "elapsed": 373,
     "status": "ok",
     "timestamp": 1664142666195,
     "user": {
      "displayName": "Álvaro Blanes figuerola",
      "userId": "11042556642168442120"
     },
     "user_tz": -120
    },
    "id": "q9qavb-SLYpW",
    "outputId": "9d8b8ca6-3262-469d-9daf-5620760ec24a"
   },
   "outputs": [
    {
     "data": {
      "text/html": [
       "\n",
       "  <div id=\"df-d702dc7b-70fa-4992-90e7-396a20e6263a\">\n",
       "    <div class=\"colab-df-container\">\n",
       "      <div>\n",
       "<style scoped>\n",
       "    .dataframe tbody tr th:only-of-type {\n",
       "        vertical-align: middle;\n",
       "    }\n",
       "\n",
       "    .dataframe tbody tr th {\n",
       "        vertical-align: top;\n",
       "    }\n",
       "\n",
       "    .dataframe thead th {\n",
       "        text-align: right;\n",
       "    }\n",
       "</style>\n",
       "<table border=\"1\" class=\"dataframe\">\n",
       "  <thead>\n",
       "    <tr style=\"text-align: right;\">\n",
       "      <th></th>\n",
       "      <th>amzn</th>\n",
       "      <th>msft</th>\n",
       "      <th>fb</th>\n",
       "      <th>aapl</th>\n",
       "      <th>googl</th>\n",
       "      <th>amzn_close</th>\n",
       "    </tr>\n",
       "    <tr>\n",
       "      <th>Date</th>\n",
       "      <th></th>\n",
       "      <th></th>\n",
       "      <th></th>\n",
       "      <th></th>\n",
       "      <th></th>\n",
       "      <th></th>\n",
       "    </tr>\n",
       "  </thead>\n",
       "  <tbody>\n",
       "    <tr>\n",
       "      <th>2012-05-18</th>\n",
       "      <td>219.41</td>\n",
       "      <td>25.831</td>\n",
       "      <td>42.05</td>\n",
       "      <td>68.381</td>\n",
       "      <td>312.55</td>\n",
       "      <td>213.85</td>\n",
       "    </tr>\n",
       "    <tr>\n",
       "      <th>2012-05-21</th>\n",
       "      <td>214.03</td>\n",
       "      <td>25.233</td>\n",
       "      <td>36.53</td>\n",
       "      <td>68.449</td>\n",
       "      <td>300.26</td>\n",
       "      <td>218.11</td>\n",
       "    </tr>\n",
       "    <tr>\n",
       "      <th>2012-05-22</th>\n",
       "      <td>218.31</td>\n",
       "      <td>25.745</td>\n",
       "      <td>32.61</td>\n",
       "      <td>72.939</td>\n",
       "      <td>306.72</td>\n",
       "      <td>215.33</td>\n",
       "    </tr>\n",
       "    <tr>\n",
       "      <th>2012-05-23</th>\n",
       "      <td>214.71</td>\n",
       "      <td>25.449</td>\n",
       "      <td>31.37</td>\n",
       "      <td>71.396</td>\n",
       "      <td>300.82</td>\n",
       "      <td>217.28</td>\n",
       "    </tr>\n",
       "    <tr>\n",
       "      <th>2012-05-24</th>\n",
       "      <td>217.00</td>\n",
       "      <td>25.285</td>\n",
       "      <td>32.95</td>\n",
       "      <td>73.748</td>\n",
       "      <td>304.58</td>\n",
       "      <td>215.24</td>\n",
       "    </tr>\n",
       "    <tr>\n",
       "      <th>...</th>\n",
       "      <td>...</td>\n",
       "      <td>...</td>\n",
       "      <td>...</td>\n",
       "      <td>...</td>\n",
       "      <td>...</td>\n",
       "      <td>...</td>\n",
       "    </tr>\n",
       "    <tr>\n",
       "      <th>2017-11-06</th>\n",
       "      <td>1109.15</td>\n",
       "      <td>84.200</td>\n",
       "      <td>178.56</td>\n",
       "      <td>171.750</td>\n",
       "      <td>1049.10</td>\n",
       "      <td>1120.66</td>\n",
       "    </tr>\n",
       "    <tr>\n",
       "      <th>2017-11-07</th>\n",
       "      <td>1124.74</td>\n",
       "      <td>84.770</td>\n",
       "      <td>180.50</td>\n",
       "      <td>173.290</td>\n",
       "      <td>1049.65</td>\n",
       "      <td>1123.17</td>\n",
       "    </tr>\n",
       "    <tr>\n",
       "      <th>2017-11-08</th>\n",
       "      <td>1122.82</td>\n",
       "      <td>84.140</td>\n",
       "      <td>179.79</td>\n",
       "      <td>174.030</td>\n",
       "      <td>1050.05</td>\n",
       "      <td>1132.88</td>\n",
       "    </tr>\n",
       "    <tr>\n",
       "      <th>2017-11-09</th>\n",
       "      <td>1125.96</td>\n",
       "      <td>84.110</td>\n",
       "      <td>178.31</td>\n",
       "      <td>174.480</td>\n",
       "      <td>1048.00</td>\n",
       "      <td>1129.13</td>\n",
       "    </tr>\n",
       "    <tr>\n",
       "      <th>2017-11-10</th>\n",
       "      <td>1126.10</td>\n",
       "      <td>83.790</td>\n",
       "      <td>178.35</td>\n",
       "      <td>175.110</td>\n",
       "      <td>1043.87</td>\n",
       "      <td>1125.35</td>\n",
       "    </tr>\n",
       "  </tbody>\n",
       "</table>\n",
       "<p>1381 rows × 6 columns</p>\n",
       "</div>\n",
       "      <button class=\"colab-df-convert\" onclick=\"convertToInteractive('df-d702dc7b-70fa-4992-90e7-396a20e6263a')\"\n",
       "              title=\"Convert this dataframe to an interactive table.\"\n",
       "              style=\"display:none;\">\n",
       "        \n",
       "  <svg xmlns=\"http://www.w3.org/2000/svg\" height=\"24px\"viewBox=\"0 0 24 24\"\n",
       "       width=\"24px\">\n",
       "    <path d=\"M0 0h24v24H0V0z\" fill=\"none\"/>\n",
       "    <path d=\"M18.56 5.44l.94 2.06.94-2.06 2.06-.94-2.06-.94-.94-2.06-.94 2.06-2.06.94zm-11 1L8.5 8.5l.94-2.06 2.06-.94-2.06-.94L8.5 2.5l-.94 2.06-2.06.94zm10 10l.94 2.06.94-2.06 2.06-.94-2.06-.94-.94-2.06-.94 2.06-2.06.94z\"/><path d=\"M17.41 7.96l-1.37-1.37c-.4-.4-.92-.59-1.43-.59-.52 0-1.04.2-1.43.59L10.3 9.45l-7.72 7.72c-.78.78-.78 2.05 0 2.83L4 21.41c.39.39.9.59 1.41.59.51 0 1.02-.2 1.41-.59l7.78-7.78 2.81-2.81c.8-.78.8-2.07 0-2.86zM5.41 20L4 18.59l7.72-7.72 1.47 1.35L5.41 20z\"/>\n",
       "  </svg>\n",
       "      </button>\n",
       "      \n",
       "  <style>\n",
       "    .colab-df-container {\n",
       "      display:flex;\n",
       "      flex-wrap:wrap;\n",
       "      gap: 12px;\n",
       "    }\n",
       "\n",
       "    .colab-df-convert {\n",
       "      background-color: #E8F0FE;\n",
       "      border: none;\n",
       "      border-radius: 50%;\n",
       "      cursor: pointer;\n",
       "      display: none;\n",
       "      fill: #1967D2;\n",
       "      height: 32px;\n",
       "      padding: 0 0 0 0;\n",
       "      width: 32px;\n",
       "    }\n",
       "\n",
       "    .colab-df-convert:hover {\n",
       "      background-color: #E2EBFA;\n",
       "      box-shadow: 0px 1px 2px rgba(60, 64, 67, 0.3), 0px 1px 3px 1px rgba(60, 64, 67, 0.15);\n",
       "      fill: #174EA6;\n",
       "    }\n",
       "\n",
       "    [theme=dark] .colab-df-convert {\n",
       "      background-color: #3B4455;\n",
       "      fill: #D2E3FC;\n",
       "    }\n",
       "\n",
       "    [theme=dark] .colab-df-convert:hover {\n",
       "      background-color: #434B5C;\n",
       "      box-shadow: 0px 1px 3px 1px rgba(0, 0, 0, 0.15);\n",
       "      filter: drop-shadow(0px 1px 2px rgba(0, 0, 0, 0.3));\n",
       "      fill: #FFFFFF;\n",
       "    }\n",
       "  </style>\n",
       "\n",
       "      <script>\n",
       "        const buttonEl =\n",
       "          document.querySelector('#df-d702dc7b-70fa-4992-90e7-396a20e6263a button.colab-df-convert');\n",
       "        buttonEl.style.display =\n",
       "          google.colab.kernel.accessAllowed ? 'block' : 'none';\n",
       "\n",
       "        async function convertToInteractive(key) {\n",
       "          const element = document.querySelector('#df-d702dc7b-70fa-4992-90e7-396a20e6263a');\n",
       "          const dataTable =\n",
       "            await google.colab.kernel.invokeFunction('convertToInteractive',\n",
       "                                                     [key], {});\n",
       "          if (!dataTable) return;\n",
       "\n",
       "          const docLinkHtml = 'Like what you see? Visit the ' +\n",
       "            '<a target=\"_blank\" href=https://colab.research.google.com/notebooks/data_table.ipynb>data table notebook</a>'\n",
       "            + ' to learn more about interactive tables.';\n",
       "          element.innerHTML = '';\n",
       "          dataTable['output_type'] = 'display_data';\n",
       "          await google.colab.output.renderOutput(dataTable, element);\n",
       "          const docLink = document.createElement('div');\n",
       "          docLink.innerHTML = docLinkHtml;\n",
       "          element.appendChild(docLink);\n",
       "        }\n",
       "      </script>\n",
       "    </div>\n",
       "  </div>\n",
       "  "
      ],
      "text/plain": [
       "               amzn    msft      fb     aapl    googl  amzn_close\n",
       "Date                                                             \n",
       "2012-05-18   219.41  25.831   42.05   68.381   312.55      213.85\n",
       "2012-05-21   214.03  25.233   36.53   68.449   300.26      218.11\n",
       "2012-05-22   218.31  25.745   32.61   72.939   306.72      215.33\n",
       "2012-05-23   214.71  25.449   31.37   71.396   300.82      217.28\n",
       "2012-05-24   217.00  25.285   32.95   73.748   304.58      215.24\n",
       "...             ...     ...     ...      ...      ...         ...\n",
       "2017-11-06  1109.15  84.200  178.56  171.750  1049.10     1120.66\n",
       "2017-11-07  1124.74  84.770  180.50  173.290  1049.65     1123.17\n",
       "2017-11-08  1122.82  84.140  179.79  174.030  1050.05     1132.88\n",
       "2017-11-09  1125.96  84.110  178.31  174.480  1048.00     1129.13\n",
       "2017-11-10  1126.10  83.790  178.35  175.110  1043.87     1125.35\n",
       "\n",
       "[1381 rows x 6 columns]"
      ]
     },
     "execution_count": 4,
     "metadata": {},
     "output_type": "execute_result"
    }
   ],
   "source": [
    "df = pd.DataFrame(data = [amzn_open, msft_open, fb_open, aapl_open, googl_open, amzn_close])\n",
    "df = df.T\n",
    "df.columns = ['amzn', 'msft', 'fb', 'aapl', 'googl', 'amzn_close']\n",
    "df = df.dropna()\n",
    "df"
   ]
  },
  {
   "cell_type": "code",
   "execution_count": 5,
   "metadata": {
    "executionInfo": {
     "elapsed": 5,
     "status": "ok",
     "timestamp": 1664142666196,
     "user": {
      "displayName": "Álvaro Blanes figuerola",
      "userId": "11042556642168442120"
     },
     "user_tz": -120
    },
    "id": "stgdp4hYL1Fa"
   },
   "outputs": [],
   "source": [
    "xx = df.values[0:1000, 0:5]\n",
    "tt = df.values[0:1000, 5]\n",
    "x_train = np.reshape (xx, (250, 4, 5, 1))\n",
    "t_train = tt[3:1000:4]\n",
    "\n",
    "xx = df.values[1000:1380, 0:5]\n",
    "tt = df.values[1000:1380, 5]\n",
    "x_test = np.reshape (xx, (95, 4, 5, 1))\n",
    "t_test = tt[3:380:4]"
   ]
  },
  {
   "cell_type": "code",
   "execution_count": 6,
   "metadata": {
    "colab": {
     "base_uri": "https://localhost:8080/"
    },
    "executionInfo": {
     "elapsed": 593,
     "status": "ok",
     "timestamp": 1664142666784,
     "user": {
      "displayName": "Álvaro Blanes figuerola",
      "userId": "11042556642168442120"
     },
     "user_tz": -120
    },
    "id": "bHGCwj0oL3qU",
    "outputId": "220cd2ed-2343-4749-9dbe-c79c37319cee"
   },
   "outputs": [
    {
     "name": "stdout",
     "output_type": "stream",
     "text": [
      "Model: \"sequential\"\n",
      "_________________________________________________________________\n",
      " Layer (type)                Output Shape              Param #   \n",
      "=================================================================\n",
      " conv2d (Conv2D)             (None, 4, 5, 64)          640       \n",
      "                                                                 \n",
      " conv2d_1 (Conv2D)           (None, 4, 5, 32)          18464     \n",
      "                                                                 \n",
      " time_distributed (TimeDistr  (None, 4, 160)           0         \n",
      " ibuted)                                                         \n",
      "                                                                 \n",
      " time_distributed_1 (TimeDis  (None, 4, 160)           0         \n",
      " tributed)                                                       \n",
      "                                                                 \n",
      " lstm (LSTM)                 (None, 4, 10)             6840      \n",
      "                                                                 \n",
      " gru (GRU)                   (None, 10)                660       \n",
      "                                                                 \n",
      " flatten_2 (Flatten)         (None, 10)                0         \n",
      "                                                                 \n",
      " dense (Dense)               (None, 1)                 11        \n",
      "                                                                 \n",
      "=================================================================\n",
      "Total params: 26,615\n",
      "Trainable params: 26,615\n",
      "Non-trainable params: 0\n",
      "_________________________________________________________________\n"
     ]
    }
   ],
   "source": [
    "#Modelo\n",
    "model_ej6 = Sequential()\n",
    "\n",
    "model_ej6.add(Conv2D(64, \n",
    "                   kernel_size = 3, \n",
    "                   activation = 'relu', \n",
    "                   input_shape = x_train.shape [1:], \n",
    "                   padding = 'same'))\n",
    "\n",
    "model_ej6.add(Conv2D(32, kernel_size = 3, \n",
    "                   activation = 'relu', \n",
    "                   padding = 'same'))\n",
    "\n",
    "model_ej6.add(TimeDistributed(Flatten()))\n",
    "model_ej6.add(TimeDistributed(Flatten()))\n",
    "\n",
    "model_ej6.add(LSTM(10, \n",
    "                 return_sequences = True, \n",
    "                 activation = 'relu'))\n",
    "\n",
    "model_ej6.add(GRU(10,\n",
    "                return_sequences = False, \n",
    "                activation = 'relu'))\n",
    "\n",
    "model_ej6.add(Flatten())\n",
    "\n",
    "model_ej6.add(Dense(1))\n",
    "\n",
    "model_ej6.summary()"
   ]
  },
  {
   "cell_type": "code",
   "execution_count": 7,
   "metadata": {
    "executionInfo": {
     "elapsed": 3,
     "status": "ok",
     "timestamp": 1664142666785,
     "user": {
      "displayName": "Álvaro Blanes figuerola",
      "userId": "11042556642168442120"
     },
     "user_tz": -120
    },
    "id": "G67VSJ2GL8J2"
   },
   "outputs": [],
   "source": [
    "# Compilo\n",
    "\n",
    "model_ej6.compile(optimizer = optimizers.Adam(learning_rate = 0.001), loss = 'mse')"
   ]
  },
  {
   "cell_type": "code",
   "execution_count": 8,
   "metadata": {
    "colab": {
     "base_uri": "https://localhost:8080/"
    },
    "executionInfo": {
     "elapsed": 87846,
     "status": "ok",
     "timestamp": 1664142754628,
     "user": {
      "displayName": "Álvaro Blanes figuerola",
      "userId": "11042556642168442120"
     },
     "user_tz": -120
    },
    "id": "5KpFqJFrMACE",
    "outputId": "d789a625-20e7-4f51-ece5-b268c99336b9"
   },
   "outputs": [
    {
     "name": "stdout",
     "output_type": "stream",
     "text": [
      "Epoch 1/350\n",
      "6/6 [==============================] - 7s 177ms/step - loss: 92103.7500 - val_loss: 273144.2812\n",
      "Epoch 2/350\n",
      "6/6 [==============================] - 0s 55ms/step - loss: 72807.9688 - val_loss: 193078.5312\n",
      "Epoch 3/350\n",
      "6/6 [==============================] - 0s 31ms/step - loss: 50962.8242 - val_loss: 145555.8438\n",
      "Epoch 4/350\n",
      "6/6 [==============================] - 0s 38ms/step - loss: 32969.8164 - val_loss: 83592.2031\n",
      "Epoch 5/350\n",
      "6/6 [==============================] - 0s 42ms/step - loss: 13541.9326 - val_loss: 30261.9141\n",
      "Epoch 6/350\n",
      "6/6 [==============================] - 0s 28ms/step - loss: 2138.3062 - val_loss: 2716.1594\n",
      "Epoch 7/350\n",
      "6/6 [==============================] - 0s 47ms/step - loss: 1827.3098 - val_loss: 868.2620\n",
      "Epoch 8/350\n",
      "6/6 [==============================] - 0s 33ms/step - loss: 1915.5768 - val_loss: 3564.5361\n",
      "Epoch 9/350\n",
      "6/6 [==============================] - 0s 41ms/step - loss: 580.3153 - val_loss: 10514.6562\n",
      "Epoch 10/350\n",
      "6/6 [==============================] - 0s 28ms/step - loss: 817.2562 - val_loss: 10448.5586\n",
      "Epoch 11/350\n",
      "6/6 [==============================] - 0s 28ms/step - loss: 589.0382 - val_loss: 6093.1743\n",
      "Epoch 12/350\n",
      "6/6 [==============================] - 0s 38ms/step - loss: 478.4700 - val_loss: 4141.5430\n",
      "Epoch 13/350\n",
      "6/6 [==============================] - 0s 48ms/step - loss: 526.3570 - val_loss: 4732.2534\n",
      "Epoch 14/350\n",
      "6/6 [==============================] - 0s 44ms/step - loss: 440.6577 - val_loss: 6318.2729\n",
      "Epoch 15/350\n",
      "6/6 [==============================] - 0s 39ms/step - loss: 452.8822 - val_loss: 7040.4473\n",
      "Epoch 16/350\n",
      "6/6 [==============================] - 0s 38ms/step - loss: 443.8261 - val_loss: 6056.9966\n",
      "Epoch 17/350\n",
      "6/6 [==============================] - 0s 26ms/step - loss: 414.9415 - val_loss: 5392.3765\n",
      "Epoch 18/350\n",
      "6/6 [==============================] - 0s 32ms/step - loss: 420.2929 - val_loss: 5108.1001\n",
      "Epoch 19/350\n",
      "6/6 [==============================] - 0s 27ms/step - loss: 410.1698 - val_loss: 5735.5396\n",
      "Epoch 20/350\n",
      "6/6 [==============================] - 0s 45ms/step - loss: 399.1664 - val_loss: 5657.8560\n",
      "Epoch 21/350\n",
      "6/6 [==============================] - 0s 39ms/step - loss: 391.9492 - val_loss: 5647.4448\n",
      "Epoch 22/350\n",
      "6/6 [==============================] - 0s 36ms/step - loss: 385.5182 - val_loss: 5481.0894\n",
      "Epoch 23/350\n",
      "6/6 [==============================] - 0s 26ms/step - loss: 381.7519 - val_loss: 5242.7422\n",
      "Epoch 24/350\n",
      "6/6 [==============================] - 0s 32ms/step - loss: 374.2901 - val_loss: 5557.6973\n",
      "Epoch 25/350\n",
      "6/6 [==============================] - 0s 29ms/step - loss: 366.9245 - val_loss: 5233.0327\n",
      "Epoch 26/350\n",
      "6/6 [==============================] - 0s 28ms/step - loss: 362.2498 - val_loss: 5121.1250\n",
      "Epoch 27/350\n",
      "6/6 [==============================] - 0s 32ms/step - loss: 352.5052 - val_loss: 5561.3535\n",
      "Epoch 28/350\n",
      "6/6 [==============================] - 0s 36ms/step - loss: 351.9408 - val_loss: 5399.6777\n",
      "Epoch 29/350\n",
      "6/6 [==============================] - 0s 29ms/step - loss: 341.8138 - val_loss: 5061.9678\n",
      "Epoch 30/350\n",
      "6/6 [==============================] - 0s 31ms/step - loss: 335.6828 - val_loss: 4881.6016\n",
      "Epoch 31/350\n",
      "6/6 [==============================] - 0s 45ms/step - loss: 328.4491 - val_loss: 5145.8735\n",
      "Epoch 32/350\n",
      "6/6 [==============================] - 0s 54ms/step - loss: 323.0301 - val_loss: 4934.6821\n",
      "Epoch 33/350\n",
      "6/6 [==============================] - 0s 37ms/step - loss: 315.1690 - val_loss: 4814.6816\n",
      "Epoch 34/350\n",
      "6/6 [==============================] - 0s 35ms/step - loss: 311.3226 - val_loss: 4968.1016\n",
      "Epoch 35/350\n",
      "6/6 [==============================] - 0s 29ms/step - loss: 301.7209 - val_loss: 4655.4741\n",
      "Epoch 36/350\n",
      "6/6 [==============================] - 0s 26ms/step - loss: 304.8103 - val_loss: 4355.9902\n",
      "Epoch 37/350\n",
      "6/6 [==============================] - 0s 23ms/step - loss: 308.6164 - val_loss: 5213.6064\n",
      "Epoch 38/350\n",
      "6/6 [==============================] - 0s 35ms/step - loss: 289.3872 - val_loss: 4130.8594\n",
      "Epoch 39/350\n",
      "6/6 [==============================] - 0s 26ms/step - loss: 284.6959 - val_loss: 4495.5566\n",
      "Epoch 40/350\n",
      "6/6 [==============================] - 0s 40ms/step - loss: 269.9361 - val_loss: 4480.2153\n",
      "Epoch 41/350\n",
      "6/6 [==============================] - 0s 33ms/step - loss: 263.4960 - val_loss: 4411.1133\n",
      "Epoch 42/350\n",
      "6/6 [==============================] - 0s 46ms/step - loss: 254.8943 - val_loss: 4485.6382\n",
      "Epoch 43/350\n",
      "6/6 [==============================] - 0s 35ms/step - loss: 250.3320 - val_loss: 4281.4526\n",
      "Epoch 44/350\n",
      "6/6 [==============================] - 0s 49ms/step - loss: 242.8517 - val_loss: 3968.8149\n",
      "Epoch 45/350\n",
      "6/6 [==============================] - 0s 29ms/step - loss: 233.7580 - val_loss: 4504.6123\n",
      "Epoch 46/350\n",
      "6/6 [==============================] - 0s 44ms/step - loss: 226.3650 - val_loss: 4015.2100\n",
      "Epoch 47/350\n",
      "6/6 [==============================] - 0s 41ms/step - loss: 217.6058 - val_loss: 3761.0449\n",
      "Epoch 48/350\n",
      "6/6 [==============================] - 0s 38ms/step - loss: 210.2726 - val_loss: 4191.0830\n",
      "Epoch 49/350\n",
      "6/6 [==============================] - 0s 31ms/step - loss: 204.0640 - val_loss: 3816.7104\n",
      "Epoch 50/350\n",
      "6/6 [==============================] - 0s 15ms/step - loss: 195.0449 - val_loss: 3610.9841\n",
      "Epoch 51/350\n",
      "6/6 [==============================] - 0s 15ms/step - loss: 187.7614 - val_loss: 3875.7212\n",
      "Epoch 52/350\n",
      "6/6 [==============================] - 0s 22ms/step - loss: 183.4839 - val_loss: 3821.2366\n",
      "Epoch 53/350\n",
      "6/6 [==============================] - 0s 16ms/step - loss: 176.3509 - val_loss: 3625.6733\n",
      "Epoch 54/350\n",
      "6/6 [==============================] - 0s 18ms/step - loss: 169.4380 - val_loss: 3498.4458\n",
      "Epoch 55/350\n",
      "6/6 [==============================] - 0s 20ms/step - loss: 162.1612 - val_loss: 3331.2700\n",
      "Epoch 56/350\n",
      "6/6 [==============================] - 0s 18ms/step - loss: 157.0136 - val_loss: 3190.0376\n",
      "Epoch 57/350\n",
      "6/6 [==============================] - 0s 19ms/step - loss: 152.5790 - val_loss: 3322.5732\n",
      "Epoch 58/350\n",
      "6/6 [==============================] - 0s 15ms/step - loss: 146.4786 - val_loss: 2981.9802\n",
      "Epoch 59/350\n",
      "6/6 [==============================] - 0s 15ms/step - loss: 141.9344 - val_loss: 3099.0063\n",
      "Epoch 60/350\n",
      "6/6 [==============================] - 0s 17ms/step - loss: 137.2327 - val_loss: 2948.4155\n",
      "Epoch 61/350\n",
      "6/6 [==============================] - 0s 15ms/step - loss: 131.5058 - val_loss: 3187.8367\n",
      "Epoch 62/350\n",
      "6/6 [==============================] - 0s 17ms/step - loss: 131.8735 - val_loss: 2694.5164\n",
      "Epoch 63/350\n",
      "6/6 [==============================] - 0s 14ms/step - loss: 127.2616 - val_loss: 3008.2793\n",
      "Epoch 64/350\n",
      "6/6 [==============================] - 0s 17ms/step - loss: 126.4733 - val_loss: 2511.8899\n",
      "Epoch 65/350\n",
      "6/6 [==============================] - 0s 17ms/step - loss: 122.0177 - val_loss: 2935.6243\n",
      "Epoch 66/350\n",
      "6/6 [==============================] - 0s 17ms/step - loss: 113.9043 - val_loss: 2376.5701\n",
      "Epoch 67/350\n",
      "6/6 [==============================] - 0s 17ms/step - loss: 114.3905 - val_loss: 2629.9580\n",
      "Epoch 68/350\n",
      "6/6 [==============================] - 0s 19ms/step - loss: 114.1423 - val_loss: 2566.7871\n",
      "Epoch 69/350\n",
      "6/6 [==============================] - 0s 14ms/step - loss: 107.0547 - val_loss: 2241.8445\n",
      "Epoch 70/350\n",
      "6/6 [==============================] - 0s 15ms/step - loss: 106.9169 - val_loss: 2435.8689\n",
      "Epoch 71/350\n",
      "6/6 [==============================] - 0s 18ms/step - loss: 102.2109 - val_loss: 2105.0276\n",
      "Epoch 72/350\n",
      "6/6 [==============================] - 0s 19ms/step - loss: 103.6936 - val_loss: 2343.0701\n",
      "Epoch 73/350\n",
      "6/6 [==============================] - 0s 14ms/step - loss: 99.0011 - val_loss: 2055.8992\n",
      "Epoch 74/350\n",
      "6/6 [==============================] - 0s 14ms/step - loss: 99.8690 - val_loss: 2127.0227\n",
      "Epoch 75/350\n",
      "6/6 [==============================] - 0s 14ms/step - loss: 95.4297 - val_loss: 2028.7408\n",
      "Epoch 76/350\n",
      "6/6 [==============================] - 0s 14ms/step - loss: 94.8931 - val_loss: 2056.6428\n",
      "Epoch 77/350\n",
      "6/6 [==============================] - 0s 14ms/step - loss: 92.0706 - val_loss: 2103.7483\n",
      "Epoch 78/350\n",
      "6/6 [==============================] - 0s 17ms/step - loss: 91.0174 - val_loss: 1873.3479\n",
      "Epoch 79/350\n",
      "6/6 [==============================] - 0s 17ms/step - loss: 91.0267 - val_loss: 1982.6913\n",
      "Epoch 80/350\n",
      "6/6 [==============================] - 0s 14ms/step - loss: 90.5406 - val_loss: 1835.5242\n",
      "Epoch 81/350\n",
      "6/6 [==============================] - 0s 15ms/step - loss: 87.4272 - val_loss: 1908.3726\n",
      "Epoch 82/350\n",
      "6/6 [==============================] - 0s 17ms/step - loss: 87.5581 - val_loss: 1758.8540\n",
      "Epoch 83/350\n",
      "6/6 [==============================] - 0s 17ms/step - loss: 85.5909 - val_loss: 1661.2319\n",
      "Epoch 84/350\n",
      "6/6 [==============================] - 0s 14ms/step - loss: 84.5212 - val_loss: 1741.2875\n",
      "Epoch 85/350\n",
      "6/6 [==============================] - 0s 19ms/step - loss: 86.1011 - val_loss: 1609.3462\n",
      "Epoch 86/350\n",
      "6/6 [==============================] - 0s 17ms/step - loss: 91.8682 - val_loss: 1687.7931\n",
      "Epoch 87/350\n",
      "6/6 [==============================] - 0s 15ms/step - loss: 91.0014 - val_loss: 1481.6052\n",
      "Epoch 88/350\n",
      "6/6 [==============================] - 0s 14ms/step - loss: 83.0467 - val_loss: 1607.5574\n",
      "Epoch 89/350\n",
      "6/6 [==============================] - 0s 15ms/step - loss: 82.1578 - val_loss: 1555.3679\n",
      "Epoch 90/350\n",
      "6/6 [==============================] - 0s 16ms/step - loss: 83.2490 - val_loss: 1507.8051\n",
      "Epoch 91/350\n",
      "6/6 [==============================] - 0s 17ms/step - loss: 80.4628 - val_loss: 1432.7688\n",
      "Epoch 92/350\n",
      "6/6 [==============================] - 0s 17ms/step - loss: 77.5806 - val_loss: 1511.2726\n",
      "Epoch 93/350\n",
      "6/6 [==============================] - 0s 19ms/step - loss: 77.9396 - val_loss: 1338.1868\n",
      "Epoch 94/350\n",
      "6/6 [==============================] - 0s 17ms/step - loss: 76.4707 - val_loss: 1339.0138\n",
      "Epoch 95/350\n",
      "6/6 [==============================] - 0s 17ms/step - loss: 74.6215 - val_loss: 1217.2811\n",
      "Epoch 96/350\n",
      "6/6 [==============================] - 0s 14ms/step - loss: 75.7742 - val_loss: 1419.2340\n",
      "Epoch 97/350\n",
      "6/6 [==============================] - 0s 14ms/step - loss: 75.4940 - val_loss: 1168.4681\n",
      "Epoch 98/350\n",
      "6/6 [==============================] - 0s 14ms/step - loss: 73.8207 - val_loss: 1299.7269\n",
      "Epoch 99/350\n",
      "6/6 [==============================] - 0s 16ms/step - loss: 71.4590 - val_loss: 1122.1187\n",
      "Epoch 100/350\n",
      "6/6 [==============================] - 0s 16ms/step - loss: 73.0820 - val_loss: 1465.4362\n",
      "Epoch 101/350\n",
      "6/6 [==============================] - 0s 17ms/step - loss: 77.7231 - val_loss: 1028.1172\n",
      "Epoch 102/350\n",
      "6/6 [==============================] - 0s 17ms/step - loss: 73.0212 - val_loss: 1435.3224\n",
      "Epoch 103/350\n",
      "6/6 [==============================] - 0s 14ms/step - loss: 74.6833 - val_loss: 926.4135\n",
      "Epoch 104/350\n",
      "6/6 [==============================] - 0s 14ms/step - loss: 73.4218 - val_loss: 1366.1923\n",
      "Epoch 105/350\n",
      "6/6 [==============================] - 0s 14ms/step - loss: 69.8725 - val_loss: 956.4639\n",
      "Epoch 106/350\n",
      "6/6 [==============================] - 0s 14ms/step - loss: 68.4463 - val_loss: 1230.8534\n",
      "Epoch 107/350\n",
      "6/6 [==============================] - 0s 15ms/step - loss: 68.5030 - val_loss: 870.1154\n",
      "Epoch 108/350\n",
      "6/6 [==============================] - 0s 17ms/step - loss: 68.7403 - val_loss: 1300.6221\n",
      "Epoch 109/350\n",
      "6/6 [==============================] - 0s 14ms/step - loss: 71.9201 - val_loss: 930.0967\n",
      "Epoch 110/350\n",
      "6/6 [==============================] - 0s 17ms/step - loss: 67.4926 - val_loss: 1047.2852\n",
      "Epoch 111/350\n",
      "6/6 [==============================] - 0s 15ms/step - loss: 64.1987 - val_loss: 848.7408\n",
      "Epoch 112/350\n",
      "6/6 [==============================] - 0s 16ms/step - loss: 69.4637 - val_loss: 1246.7126\n",
      "Epoch 113/350\n",
      "6/6 [==============================] - 0s 20ms/step - loss: 66.0934 - val_loss: 688.6433\n",
      "Epoch 114/350\n",
      "6/6 [==============================] - 0s 17ms/step - loss: 75.1932 - val_loss: 1130.1372\n",
      "Epoch 115/350\n",
      "6/6 [==============================] - 0s 14ms/step - loss: 64.4513 - val_loss: 778.7551\n",
      "Epoch 116/350\n",
      "6/6 [==============================] - 0s 16ms/step - loss: 65.4293 - val_loss: 1040.3237\n",
      "Epoch 117/350\n",
      "6/6 [==============================] - 0s 14ms/step - loss: 62.6301 - val_loss: 833.0359\n",
      "Epoch 118/350\n",
      "6/6 [==============================] - 0s 15ms/step - loss: 61.7258 - val_loss: 887.9282\n",
      "Epoch 119/350\n",
      "6/6 [==============================] - 0s 15ms/step - loss: 60.4398 - val_loss: 814.0156\n",
      "Epoch 120/350\n",
      "6/6 [==============================] - 0s 14ms/step - loss: 59.6968 - val_loss: 910.4098\n",
      "Epoch 121/350\n",
      "6/6 [==============================] - 0s 14ms/step - loss: 59.9704 - val_loss: 726.3239\n",
      "Epoch 122/350\n",
      "6/6 [==============================] - 0s 15ms/step - loss: 61.0531 - val_loss: 792.9717\n",
      "Epoch 123/350\n",
      "6/6 [==============================] - 0s 15ms/step - loss: 58.5792 - val_loss: 778.5872\n",
      "Epoch 124/350\n",
      "6/6 [==============================] - 0s 15ms/step - loss: 59.0919 - val_loss: 642.7025\n",
      "Epoch 125/350\n",
      "6/6 [==============================] - 0s 17ms/step - loss: 58.9493 - val_loss: 826.4088\n",
      "Epoch 126/350\n",
      "6/6 [==============================] - 0s 14ms/step - loss: 58.6529 - val_loss: 680.0494\n",
      "Epoch 127/350\n",
      "6/6 [==============================] - 0s 14ms/step - loss: 58.7019 - val_loss: 708.9856\n",
      "Epoch 128/350\n",
      "6/6 [==============================] - 0s 14ms/step - loss: 58.5468 - val_loss: 831.0987\n",
      "Epoch 129/350\n",
      "6/6 [==============================] - 0s 15ms/step - loss: 60.7788 - val_loss: 594.1119\n",
      "Epoch 130/350\n",
      "6/6 [==============================] - 0s 14ms/step - loss: 56.8989 - val_loss: 675.0916\n",
      "Epoch 131/350\n",
      "6/6 [==============================] - 0s 15ms/step - loss: 57.4122 - val_loss: 867.0823\n",
      "Epoch 132/350\n",
      "6/6 [==============================] - 0s 21ms/step - loss: 68.6342 - val_loss: 392.3835\n",
      "Epoch 133/350\n",
      "6/6 [==============================] - 0s 17ms/step - loss: 65.9650 - val_loss: 922.9312\n",
      "Epoch 134/350\n",
      "6/6 [==============================] - 0s 18ms/step - loss: 66.4040 - val_loss: 574.4949\n",
      "Epoch 135/350\n",
      "6/6 [==============================] - 0s 17ms/step - loss: 62.9755 - val_loss: 510.0517\n",
      "Epoch 136/350\n",
      "6/6 [==============================] - 0s 16ms/step - loss: 59.3830 - val_loss: 722.0026\n",
      "Epoch 137/350\n",
      "6/6 [==============================] - 0s 15ms/step - loss: 54.9710 - val_loss: 531.6922\n",
      "Epoch 138/350\n",
      "6/6 [==============================] - 0s 14ms/step - loss: 54.3684 - val_loss: 647.4324\n",
      "Epoch 139/350\n",
      "6/6 [==============================] - 0s 14ms/step - loss: 52.9537 - val_loss: 510.4992\n",
      "Epoch 140/350\n",
      "6/6 [==============================] - 0s 14ms/step - loss: 54.0530 - val_loss: 531.5784\n",
      "Epoch 141/350\n",
      "6/6 [==============================] - 0s 14ms/step - loss: 54.9037 - val_loss: 715.4897\n",
      "Epoch 142/350\n",
      "6/6 [==============================] - 0s 14ms/step - loss: 53.2126 - val_loss: 342.9278\n",
      "Epoch 143/350\n",
      "6/6 [==============================] - 0s 19ms/step - loss: 62.5932 - val_loss: 767.7505\n",
      "Epoch 144/350\n",
      "6/6 [==============================] - 0s 14ms/step - loss: 55.7609 - val_loss: 409.2408\n",
      "Epoch 145/350\n",
      "6/6 [==============================] - 0s 15ms/step - loss: 55.7220 - val_loss: 539.3623\n",
      "Epoch 146/350\n",
      "6/6 [==============================] - 0s 17ms/step - loss: 53.7347 - val_loss: 522.5756\n",
      "Epoch 147/350\n",
      "6/6 [==============================] - 0s 14ms/step - loss: 52.3003 - val_loss: 459.1236\n",
      "Epoch 148/350\n",
      "6/6 [==============================] - 0s 15ms/step - loss: 52.6329 - val_loss: 476.9834\n",
      "Epoch 149/350\n",
      "6/6 [==============================] - 0s 14ms/step - loss: 50.5827 - val_loss: 422.5300\n",
      "Epoch 150/350\n",
      "6/6 [==============================] - 0s 14ms/step - loss: 51.4664 - val_loss: 511.0027\n",
      "Epoch 151/350\n",
      "6/6 [==============================] - 0s 14ms/step - loss: 51.1476 - val_loss: 383.0349\n",
      "Epoch 152/350\n",
      "6/6 [==============================] - 0s 14ms/step - loss: 57.3864 - val_loss: 837.8770\n",
      "Epoch 153/350\n",
      "6/6 [==============================] - 0s 14ms/step - loss: 74.5112 - val_loss: 349.9518\n",
      "Epoch 154/350\n",
      "6/6 [==============================] - 0s 14ms/step - loss: 48.7314 - val_loss: 581.7234\n",
      "Epoch 155/350\n",
      "6/6 [==============================] - 0s 14ms/step - loss: 57.7773 - val_loss: 585.3595\n",
      "Epoch 156/350\n",
      "6/6 [==============================] - 0s 16ms/step - loss: 58.1054 - val_loss: 436.5573\n",
      "Epoch 157/350\n",
      "6/6 [==============================] - 0s 14ms/step - loss: 50.6155 - val_loss: 408.9344\n",
      "Epoch 158/350\n",
      "6/6 [==============================] - 0s 14ms/step - loss: 54.0665 - val_loss: 475.3347\n",
      "Epoch 159/350\n",
      "6/6 [==============================] - 0s 14ms/step - loss: 49.5775 - val_loss: 465.7954\n",
      "Epoch 160/350\n",
      "6/6 [==============================] - 0s 16ms/step - loss: 61.6333 - val_loss: 293.9046\n",
      "Epoch 161/350\n",
      "6/6 [==============================] - 0s 14ms/step - loss: 61.0556 - val_loss: 421.3431\n",
      "Epoch 162/350\n",
      "6/6 [==============================] - 0s 14ms/step - loss: 48.8518 - val_loss: 369.0015\n",
      "Epoch 163/350\n",
      "6/6 [==============================] - 0s 14ms/step - loss: 49.5695 - val_loss: 466.5428\n",
      "Epoch 164/350\n",
      "6/6 [==============================] - 0s 17ms/step - loss: 50.8243 - val_loss: 492.0618\n",
      "Epoch 165/350\n",
      "6/6 [==============================] - 0s 18ms/step - loss: 49.5263 - val_loss: 387.9211\n",
      "Epoch 166/350\n",
      "6/6 [==============================] - 0s 18ms/step - loss: 47.9496 - val_loss: 476.9799\n",
      "Epoch 167/350\n",
      "6/6 [==============================] - 0s 14ms/step - loss: 47.4326 - val_loss: 296.3962\n",
      "Epoch 168/350\n",
      "6/6 [==============================] - 0s 14ms/step - loss: 55.0601 - val_loss: 427.4750\n",
      "Epoch 169/350\n",
      "6/6 [==============================] - 0s 14ms/step - loss: 52.3450 - val_loss: 507.1140\n",
      "Epoch 170/350\n",
      "6/6 [==============================] - 0s 16ms/step - loss: 50.6169 - val_loss: 279.8213\n",
      "Epoch 171/350\n",
      "6/6 [==============================] - 0s 14ms/step - loss: 55.1877 - val_loss: 371.1421\n",
      "Epoch 172/350\n",
      "6/6 [==============================] - 0s 14ms/step - loss: 48.3972 - val_loss: 446.2819\n",
      "Epoch 173/350\n",
      "6/6 [==============================] - 0s 16ms/step - loss: 48.4437 - val_loss: 290.7946\n",
      "Epoch 174/350\n",
      "6/6 [==============================] - 0s 17ms/step - loss: 50.9132 - val_loss: 378.1270\n",
      "Epoch 175/350\n",
      "6/6 [==============================] - 0s 20ms/step - loss: 47.4887 - val_loss: 439.9694\n",
      "Epoch 176/350\n",
      "6/6 [==============================] - 0s 14ms/step - loss: 50.3701 - val_loss: 347.6524\n",
      "Epoch 177/350\n",
      "6/6 [==============================] - 0s 17ms/step - loss: 52.4152 - val_loss: 249.1700\n",
      "Epoch 178/350\n",
      "6/6 [==============================] - 0s 15ms/step - loss: 49.4411 - val_loss: 474.7620\n",
      "Epoch 179/350\n",
      "6/6 [==============================] - 0s 15ms/step - loss: 49.8046 - val_loss: 308.3801\n",
      "Epoch 180/350\n",
      "6/6 [==============================] - 0s 14ms/step - loss: 52.7250 - val_loss: 273.4276\n",
      "Epoch 181/350\n",
      "6/6 [==============================] - 0s 16ms/step - loss: 49.4508 - val_loss: 385.4940\n",
      "Epoch 182/350\n",
      "6/6 [==============================] - 0s 19ms/step - loss: 46.4185 - val_loss: 301.6516\n",
      "Epoch 183/350\n",
      "6/6 [==============================] - 0s 17ms/step - loss: 46.4755 - val_loss: 353.1938\n",
      "Epoch 184/350\n",
      "6/6 [==============================] - 0s 14ms/step - loss: 47.3835 - val_loss: 428.8742\n",
      "Epoch 185/350\n",
      "6/6 [==============================] - 0s 17ms/step - loss: 52.9580 - val_loss: 257.6928\n",
      "Epoch 186/350\n",
      "6/6 [==============================] - 0s 14ms/step - loss: 52.4441 - val_loss: 316.6789\n",
      "Epoch 187/350\n",
      "6/6 [==============================] - 0s 22ms/step - loss: 45.4516 - val_loss: 375.8523\n",
      "Epoch 188/350\n",
      "6/6 [==============================] - 0s 14ms/step - loss: 47.8181 - val_loss: 404.8627\n",
      "Epoch 189/350\n",
      "6/6 [==============================] - 0s 17ms/step - loss: 51.2746 - val_loss: 246.1120\n",
      "Epoch 190/350\n",
      "6/6 [==============================] - 0s 16ms/step - loss: 50.2673 - val_loss: 348.8565\n",
      "Epoch 191/350\n",
      "6/6 [==============================] - 0s 14ms/step - loss: 47.0262 - val_loss: 405.4366\n",
      "Epoch 192/350\n",
      "6/6 [==============================] - 0s 26ms/step - loss: 45.1055 - val_loss: 230.1855\n",
      "Epoch 193/350\n",
      "6/6 [==============================] - 0s 21ms/step - loss: 53.3276 - val_loss: 441.4757\n",
      "Epoch 194/350\n",
      "6/6 [==============================] - 0s 16ms/step - loss: 51.0237 - val_loss: 373.8860\n",
      "Epoch 195/350\n",
      "6/6 [==============================] - 0s 20ms/step - loss: 64.6847 - val_loss: 209.2559\n",
      "Epoch 196/350\n",
      "6/6 [==============================] - 0s 19ms/step - loss: 59.0995 - val_loss: 370.4431\n",
      "Epoch 197/350\n",
      "6/6 [==============================] - 0s 20ms/step - loss: 51.5478 - val_loss: 409.1850\n",
      "Epoch 198/350\n",
      "6/6 [==============================] - 0s 17ms/step - loss: 46.2538 - val_loss: 276.2770\n",
      "Epoch 199/350\n",
      "6/6 [==============================] - 0s 18ms/step - loss: 46.2115 - val_loss: 343.4171\n",
      "Epoch 200/350\n",
      "6/6 [==============================] - 0s 15ms/step - loss: 45.3700 - val_loss: 293.6389\n",
      "Epoch 201/350\n",
      "6/6 [==============================] - 0s 15ms/step - loss: 44.3222 - val_loss: 345.7783\n",
      "Epoch 202/350\n",
      "6/6 [==============================] - 0s 17ms/step - loss: 44.3833 - val_loss: 260.6873\n",
      "Epoch 203/350\n",
      "6/6 [==============================] - 0s 15ms/step - loss: 47.1918 - val_loss: 276.8507\n",
      "Epoch 204/350\n",
      "6/6 [==============================] - 0s 17ms/step - loss: 47.4141 - val_loss: 309.1304\n",
      "Epoch 205/350\n",
      "6/6 [==============================] - 0s 20ms/step - loss: 45.8873 - val_loss: 365.6505\n",
      "Epoch 206/350\n",
      "6/6 [==============================] - 0s 15ms/step - loss: 45.9743 - val_loss: 251.7042\n",
      "Epoch 207/350\n",
      "6/6 [==============================] - 0s 16ms/step - loss: 46.6825 - val_loss: 250.7000\n",
      "Epoch 208/350\n",
      "6/6 [==============================] - 0s 18ms/step - loss: 47.1322 - val_loss: 343.0640\n",
      "Epoch 209/350\n",
      "6/6 [==============================] - 0s 15ms/step - loss: 44.3318 - val_loss: 285.8225\n",
      "Epoch 210/350\n",
      "6/6 [==============================] - 0s 20ms/step - loss: 45.0699 - val_loss: 238.5164\n",
      "Epoch 211/350\n",
      "6/6 [==============================] - 0s 20ms/step - loss: 46.1444 - val_loss: 333.5465\n",
      "Epoch 212/350\n",
      "6/6 [==============================] - 0s 21ms/step - loss: 45.3360 - val_loss: 258.1366\n",
      "Epoch 213/350\n",
      "6/6 [==============================] - 0s 15ms/step - loss: 46.3321 - val_loss: 231.6521\n",
      "Epoch 214/350\n",
      "6/6 [==============================] - 0s 19ms/step - loss: 47.0993 - val_loss: 271.6693\n",
      "Epoch 215/350\n",
      "6/6 [==============================] - 0s 18ms/step - loss: 51.2772 - val_loss: 386.7049\n",
      "Epoch 216/350\n",
      "6/6 [==============================] - 0s 15ms/step - loss: 44.3994 - val_loss: 255.7020\n",
      "Epoch 217/350\n",
      "6/6 [==============================] - 0s 19ms/step - loss: 45.5712 - val_loss: 244.8190\n",
      "Epoch 218/350\n",
      "6/6 [==============================] - 0s 17ms/step - loss: 48.1123 - val_loss: 299.6261\n",
      "Epoch 219/350\n",
      "6/6 [==============================] - 0s 18ms/step - loss: 44.5769 - val_loss: 331.5331\n",
      "Epoch 220/350\n",
      "6/6 [==============================] - 0s 18ms/step - loss: 43.7773 - val_loss: 280.7522\n",
      "Epoch 221/350\n",
      "6/6 [==============================] - 0s 20ms/step - loss: 45.3181 - val_loss: 247.8269\n",
      "Epoch 222/350\n",
      "6/6 [==============================] - 0s 20ms/step - loss: 43.0505 - val_loss: 344.5695\n",
      "Epoch 223/350\n",
      "6/6 [==============================] - 0s 19ms/step - loss: 46.6267 - val_loss: 290.5718\n",
      "Epoch 224/350\n",
      "6/6 [==============================] - 0s 21ms/step - loss: 45.1086 - val_loss: 215.2421\n",
      "Epoch 225/350\n",
      "6/6 [==============================] - 0s 19ms/step - loss: 45.6552 - val_loss: 294.3652\n",
      "Epoch 226/350\n",
      "6/6 [==============================] - 0s 18ms/step - loss: 43.9587 - val_loss: 299.3723\n",
      "Epoch 227/350\n",
      "6/6 [==============================] - 0s 17ms/step - loss: 42.7793 - val_loss: 232.7495\n",
      "Epoch 228/350\n",
      "6/6 [==============================] - 0s 18ms/step - loss: 44.6495 - val_loss: 291.4141\n",
      "Epoch 229/350\n",
      "6/6 [==============================] - 0s 18ms/step - loss: 42.7363 - val_loss: 252.1587\n",
      "Epoch 230/350\n",
      "6/6 [==============================] - 0s 19ms/step - loss: 43.6679 - val_loss: 244.4686\n",
      "Epoch 231/350\n",
      "6/6 [==============================] - 0s 21ms/step - loss: 45.0879 - val_loss: 199.7018\n",
      "Epoch 232/350\n",
      "6/6 [==============================] - 0s 22ms/step - loss: 58.5541 - val_loss: 271.9646\n",
      "Epoch 233/350\n",
      "6/6 [==============================] - 0s 19ms/step - loss: 48.0530 - val_loss: 525.8026\n",
      "Epoch 234/350\n",
      "6/6 [==============================] - 0s 21ms/step - loss: 58.2038 - val_loss: 269.7237\n",
      "Epoch 235/350\n",
      "6/6 [==============================] - 0s 19ms/step - loss: 54.2672 - val_loss: 212.4538\n",
      "Epoch 236/350\n",
      "6/6 [==============================] - 0s 22ms/step - loss: 50.4972 - val_loss: 256.3158\n",
      "Epoch 237/350\n",
      "6/6 [==============================] - 0s 16ms/step - loss: 60.5728 - val_loss: 423.0834\n",
      "Epoch 238/350\n",
      "6/6 [==============================] - 0s 18ms/step - loss: 44.8041 - val_loss: 319.4041\n",
      "Epoch 239/350\n",
      "6/6 [==============================] - 0s 18ms/step - loss: 46.5658 - val_loss: 251.9875\n",
      "Epoch 240/350\n",
      "6/6 [==============================] - 0s 21ms/step - loss: 45.7114 - val_loss: 217.6289\n",
      "Epoch 241/350\n",
      "6/6 [==============================] - 0s 17ms/step - loss: 56.9168 - val_loss: 417.3391\n",
      "Epoch 242/350\n",
      "6/6 [==============================] - 0s 21ms/step - loss: 50.4759 - val_loss: 455.0411\n",
      "Epoch 243/350\n",
      "6/6 [==============================] - 0s 15ms/step - loss: 64.9699 - val_loss: 300.7222\n",
      "Epoch 244/350\n",
      "6/6 [==============================] - 0s 20ms/step - loss: 72.6301 - val_loss: 199.9447\n",
      "Epoch 245/350\n",
      "6/6 [==============================] - 0s 20ms/step - loss: 65.5803 - val_loss: 300.6404\n",
      "Epoch 246/350\n",
      "6/6 [==============================] - 0s 20ms/step - loss: 45.1891 - val_loss: 236.5788\n",
      "Epoch 247/350\n",
      "6/6 [==============================] - 0s 19ms/step - loss: 49.1970 - val_loss: 333.0083\n",
      "Epoch 248/350\n",
      "6/6 [==============================] - 0s 20ms/step - loss: 42.4162 - val_loss: 355.4296\n",
      "Epoch 249/350\n",
      "6/6 [==============================] - 0s 21ms/step - loss: 45.5936 - val_loss: 381.5730\n",
      "Epoch 250/350\n",
      "6/6 [==============================] - 0s 20ms/step - loss: 44.3890 - val_loss: 246.0928\n",
      "Epoch 251/350\n",
      "6/6 [==============================] - 0s 22ms/step - loss: 42.8388 - val_loss: 247.1462\n",
      "Epoch 252/350\n",
      "6/6 [==============================] - 0s 18ms/step - loss: 49.8038 - val_loss: 314.9999\n",
      "Epoch 253/350\n",
      "6/6 [==============================] - 0s 21ms/step - loss: 52.6017 - val_loss: 360.5584\n",
      "Epoch 254/350\n",
      "6/6 [==============================] - 0s 17ms/step - loss: 46.3580 - val_loss: 362.0091\n",
      "Epoch 255/350\n",
      "6/6 [==============================] - 0s 17ms/step - loss: 57.3282 - val_loss: 226.3457\n",
      "Epoch 256/350\n",
      "6/6 [==============================] - 0s 16ms/step - loss: 48.5561 - val_loss: 198.2953\n",
      "Epoch 257/350\n",
      "6/6 [==============================] - 0s 14ms/step - loss: 52.1514 - val_loss: 257.6645\n",
      "Epoch 258/350\n",
      "6/6 [==============================] - 0s 20ms/step - loss: 49.7307 - val_loss: 419.9462\n",
      "Epoch 259/350\n",
      "6/6 [==============================] - 0s 17ms/step - loss: 48.6386 - val_loss: 330.7371\n",
      "Epoch 260/350\n",
      "6/6 [==============================] - 0s 17ms/step - loss: 54.3769 - val_loss: 232.0241\n",
      "Epoch 261/350\n",
      "6/6 [==============================] - 0s 15ms/step - loss: 48.3813 - val_loss: 193.0111\n",
      "Epoch 262/350\n",
      "6/6 [==============================] - 0s 15ms/step - loss: 59.5634 - val_loss: 284.7066\n",
      "Epoch 263/350\n",
      "6/6 [==============================] - 0s 15ms/step - loss: 46.9517 - val_loss: 381.3830\n",
      "Epoch 264/350\n",
      "6/6 [==============================] - 0s 15ms/step - loss: 47.1768 - val_loss: 369.9783\n",
      "Epoch 265/350\n",
      "6/6 [==============================] - 0s 16ms/step - loss: 44.6485 - val_loss: 337.3915\n",
      "Epoch 266/350\n",
      "6/6 [==============================] - 0s 15ms/step - loss: 44.3469 - val_loss: 214.2321\n",
      "Epoch 267/350\n",
      "6/6 [==============================] - 0s 20ms/step - loss: 43.5894 - val_loss: 281.0943\n",
      "Epoch 268/350\n",
      "6/6 [==============================] - 0s 19ms/step - loss: 40.5685 - val_loss: 337.6312\n",
      "Epoch 269/350\n",
      "6/6 [==============================] - 0s 14ms/step - loss: 42.4548 - val_loss: 263.9250\n",
      "Epoch 270/350\n",
      "6/6 [==============================] - 0s 17ms/step - loss: 40.5694 - val_loss: 257.2226\n",
      "Epoch 271/350\n",
      "6/6 [==============================] - 0s 16ms/step - loss: 40.9930 - val_loss: 218.5278\n",
      "Epoch 272/350\n",
      "6/6 [==============================] - 0s 15ms/step - loss: 39.6278 - val_loss: 358.5573\n",
      "Epoch 273/350\n",
      "6/6 [==============================] - 0s 16ms/step - loss: 46.8707 - val_loss: 271.1823\n",
      "Epoch 274/350\n",
      "6/6 [==============================] - 0s 17ms/step - loss: 41.0334 - val_loss: 276.2759\n",
      "Epoch 275/350\n",
      "6/6 [==============================] - 0s 17ms/step - loss: 42.1620 - val_loss: 211.0054\n",
      "Epoch 276/350\n",
      "6/6 [==============================] - 0s 15ms/step - loss: 44.9003 - val_loss: 200.6557\n",
      "Epoch 277/350\n",
      "6/6 [==============================] - 0s 16ms/step - loss: 47.1517 - val_loss: 285.7370\n",
      "Epoch 278/350\n",
      "6/6 [==============================] - 0s 18ms/step - loss: 43.7715 - val_loss: 309.6114\n",
      "Epoch 279/350\n",
      "6/6 [==============================] - 0s 17ms/step - loss: 39.6486 - val_loss: 243.3188\n",
      "Epoch 280/350\n",
      "6/6 [==============================] - 0s 17ms/step - loss: 42.4030 - val_loss: 215.8343\n",
      "Epoch 281/350\n",
      "6/6 [==============================] - 0s 14ms/step - loss: 40.7144 - val_loss: 231.4054\n",
      "Epoch 282/350\n",
      "6/6 [==============================] - 0s 15ms/step - loss: 46.9708 - val_loss: 253.4895\n",
      "Epoch 283/350\n",
      "6/6 [==============================] - 0s 19ms/step - loss: 41.2710 - val_loss: 210.3785\n",
      "Epoch 284/350\n",
      "6/6 [==============================] - 0s 19ms/step - loss: 44.0148 - val_loss: 207.0936\n",
      "Epoch 285/350\n",
      "6/6 [==============================] - 0s 18ms/step - loss: 41.1809 - val_loss: 208.3507\n",
      "Epoch 286/350\n",
      "6/6 [==============================] - 0s 17ms/step - loss: 43.2399 - val_loss: 264.1269\n",
      "Epoch 287/350\n",
      "6/6 [==============================] - 0s 21ms/step - loss: 40.9967 - val_loss: 422.5550\n",
      "Epoch 288/350\n",
      "6/6 [==============================] - 0s 19ms/step - loss: 59.3948 - val_loss: 320.3948\n",
      "Epoch 289/350\n",
      "6/6 [==============================] - 0s 22ms/step - loss: 44.7789 - val_loss: 194.1220\n",
      "Epoch 290/350\n",
      "6/6 [==============================] - 0s 18ms/step - loss: 40.2652 - val_loss: 320.1245\n",
      "Epoch 291/350\n",
      "6/6 [==============================] - 0s 21ms/step - loss: 44.3599 - val_loss: 388.5637\n",
      "Epoch 292/350\n",
      "6/6 [==============================] - 0s 19ms/step - loss: 45.7132 - val_loss: 193.8778\n",
      "Epoch 293/350\n",
      "6/6 [==============================] - 0s 17ms/step - loss: 43.8147 - val_loss: 187.0225\n",
      "Epoch 294/350\n",
      "6/6 [==============================] - 0s 20ms/step - loss: 48.7077 - val_loss: 261.1143\n",
      "Epoch 295/350\n",
      "6/6 [==============================] - 0s 20ms/step - loss: 42.5896 - val_loss: 349.6744\n",
      "Epoch 296/350\n",
      "6/6 [==============================] - 0s 21ms/step - loss: 41.6864 - val_loss: 219.3821\n",
      "Epoch 297/350\n",
      "6/6 [==============================] - 0s 18ms/step - loss: 41.9208 - val_loss: 234.6626\n",
      "Epoch 298/350\n",
      "6/6 [==============================] - 0s 20ms/step - loss: 38.9250 - val_loss: 213.2275\n",
      "Epoch 299/350\n",
      "6/6 [==============================] - 0s 17ms/step - loss: 39.0009 - val_loss: 240.3899\n",
      "Epoch 300/350\n",
      "6/6 [==============================] - 0s 18ms/step - loss: 38.9006 - val_loss: 214.7673\n",
      "Epoch 301/350\n",
      "6/6 [==============================] - 0s 17ms/step - loss: 39.6247 - val_loss: 386.8224\n",
      "Epoch 302/350\n",
      "6/6 [==============================] - 0s 19ms/step - loss: 44.8826 - val_loss: 288.9374\n",
      "Epoch 303/350\n",
      "6/6 [==============================] - 0s 17ms/step - loss: 45.8256 - val_loss: 245.8262\n",
      "Epoch 304/350\n",
      "6/6 [==============================] - 0s 17ms/step - loss: 45.7734 - val_loss: 198.4317\n",
      "Epoch 305/350\n",
      "6/6 [==============================] - 0s 19ms/step - loss: 39.1774 - val_loss: 194.6502\n",
      "Epoch 306/350\n",
      "6/6 [==============================] - 0s 20ms/step - loss: 43.2349 - val_loss: 266.3425\n",
      "Epoch 307/350\n",
      "6/6 [==============================] - 0s 20ms/step - loss: 42.6990 - val_loss: 275.2777\n",
      "Epoch 308/350\n",
      "6/6 [==============================] - 0s 18ms/step - loss: 38.9742 - val_loss: 317.9905\n",
      "Epoch 309/350\n",
      "6/6 [==============================] - 0s 16ms/step - loss: 45.9353 - val_loss: 361.5645\n",
      "Epoch 310/350\n",
      "6/6 [==============================] - 0s 15ms/step - loss: 49.4613 - val_loss: 239.2306\n",
      "Epoch 311/350\n",
      "6/6 [==============================] - 0s 14ms/step - loss: 37.1666 - val_loss: 465.4836\n",
      "Epoch 312/350\n",
      "6/6 [==============================] - 0s 14ms/step - loss: 64.0392 - val_loss: 478.1470\n",
      "Epoch 313/350\n",
      "6/6 [==============================] - 0s 14ms/step - loss: 58.5894 - val_loss: 217.8307\n",
      "Epoch 314/350\n",
      "6/6 [==============================] - 0s 16ms/step - loss: 40.2361 - val_loss: 176.3850\n",
      "Epoch 315/350\n",
      "6/6 [==============================] - 0s 18ms/step - loss: 48.4116 - val_loss: 202.6975\n",
      "Epoch 316/350\n",
      "6/6 [==============================] - 0s 17ms/step - loss: 40.8749 - val_loss: 180.9675\n",
      "Epoch 317/350\n",
      "6/6 [==============================] - 0s 15ms/step - loss: 40.4631 - val_loss: 278.3967\n",
      "Epoch 318/350\n",
      "6/6 [==============================] - 0s 16ms/step - loss: 36.9290 - val_loss: 274.6119\n",
      "Epoch 319/350\n",
      "6/6 [==============================] - 0s 14ms/step - loss: 42.9506 - val_loss: 343.9170\n",
      "Epoch 320/350\n",
      "6/6 [==============================] - 0s 14ms/step - loss: 45.3989 - val_loss: 336.9366\n",
      "Epoch 321/350\n",
      "6/6 [==============================] - 0s 14ms/step - loss: 44.5459 - val_loss: 230.8297\n",
      "Epoch 322/350\n",
      "6/6 [==============================] - 0s 17ms/step - loss: 37.1779 - val_loss: 236.6403\n",
      "Epoch 323/350\n",
      "6/6 [==============================] - 0s 14ms/step - loss: 36.3087 - val_loss: 214.4259\n",
      "Epoch 324/350\n",
      "6/6 [==============================] - 0s 14ms/step - loss: 38.0137 - val_loss: 245.8064\n",
      "Epoch 325/350\n",
      "6/6 [==============================] - 0s 17ms/step - loss: 38.0661 - val_loss: 340.6132\n",
      "Epoch 326/350\n",
      "6/6 [==============================] - 0s 17ms/step - loss: 39.6151 - val_loss: 283.6153\n",
      "Epoch 327/350\n",
      "6/6 [==============================] - 0s 17ms/step - loss: 39.5923 - val_loss: 228.7476\n",
      "Epoch 328/350\n",
      "6/6 [==============================] - 0s 15ms/step - loss: 37.2484 - val_loss: 214.1735\n",
      "Epoch 329/350\n",
      "6/6 [==============================] - 0s 15ms/step - loss: 36.2366 - val_loss: 268.9191\n",
      "Epoch 330/350\n",
      "6/6 [==============================] - 0s 15ms/step - loss: 37.9288 - val_loss: 194.3360\n",
      "Epoch 331/350\n",
      "6/6 [==============================] - 0s 15ms/step - loss: 39.1306 - val_loss: 189.5757\n",
      "Epoch 332/350\n",
      "6/6 [==============================] - 0s 15ms/step - loss: 38.7593 - val_loss: 162.3695\n",
      "Epoch 333/350\n",
      "6/6 [==============================] - 0s 17ms/step - loss: 40.2670 - val_loss: 198.6909\n",
      "Epoch 334/350\n",
      "6/6 [==============================] - 0s 15ms/step - loss: 38.0277 - val_loss: 170.7431\n",
      "Epoch 335/350\n",
      "6/6 [==============================] - 0s 20ms/step - loss: 43.6281 - val_loss: 215.0372\n",
      "Epoch 336/350\n",
      "6/6 [==============================] - 0s 14ms/step - loss: 42.9804 - val_loss: 172.8046\n",
      "Epoch 337/350\n",
      "6/6 [==============================] - 0s 18ms/step - loss: 42.7513 - val_loss: 173.1817\n",
      "Epoch 338/350\n",
      "6/6 [==============================] - 0s 14ms/step - loss: 42.1506 - val_loss: 175.5025\n",
      "Epoch 339/350\n",
      "6/6 [==============================] - 0s 14ms/step - loss: 44.1009 - val_loss: 169.1268\n",
      "Epoch 340/350\n",
      "6/6 [==============================] - 0s 17ms/step - loss: 45.2539 - val_loss: 193.5502\n",
      "Epoch 341/350\n",
      "6/6 [==============================] - 0s 17ms/step - loss: 48.1228 - val_loss: 231.6271\n",
      "Epoch 342/350\n",
      "6/6 [==============================] - 0s 14ms/step - loss: 49.6833 - val_loss: 303.0585\n",
      "Epoch 343/350\n",
      "6/6 [==============================] - 0s 16ms/step - loss: 40.7166 - val_loss: 458.0651\n",
      "Epoch 344/350\n",
      "6/6 [==============================] - 0s 14ms/step - loss: 62.7112 - val_loss: 449.5109\n",
      "Epoch 345/350\n",
      "6/6 [==============================] - 0s 17ms/step - loss: 41.7409 - val_loss: 221.2238\n",
      "Epoch 346/350\n",
      "6/6 [==============================] - 0s 16ms/step - loss: 48.6503 - val_loss: 165.4902\n",
      "Epoch 347/350\n",
      "6/6 [==============================] - 0s 17ms/step - loss: 40.7270 - val_loss: 226.5406\n",
      "Epoch 348/350\n",
      "6/6 [==============================] - 0s 16ms/step - loss: 36.2052 - val_loss: 234.6701\n",
      "Epoch 349/350\n",
      "6/6 [==============================] - 0s 15ms/step - loss: 34.6962 - val_loss: 301.7705\n",
      "Epoch 350/350\n",
      "6/6 [==============================] - 0s 17ms/step - loss: 36.4526 - val_loss: 224.0259\n"
     ]
    }
   ],
   "source": [
    "hist_ej6 = model_ej6.fit (x_train, t_train, epochs = 350, validation_split = 0.3)"
   ]
  },
  {
   "cell_type": "code",
   "execution_count": 9,
   "metadata": {
    "colab": {
     "base_uri": "https://localhost:8080/",
     "height": 0
    },
    "executionInfo": {
     "elapsed": 7,
     "status": "ok",
     "timestamp": 1664142754630,
     "user": {
      "displayName": "Álvaro Blanes figuerola",
      "userId": "11042556642168442120"
     },
     "user_tz": -120
    },
    "id": "ToNCJsgsMCWY",
    "outputId": "c3decb10-22b8-4fb6-d7ef-2ea6f3868816"
   },
   "outputs": [
    {
     "data": {
      "text/plain": [
       "<matplotlib.legend.Legend at 0x7f3bffbd1810>"
      ]
     },
     "execution_count": 9,
     "metadata": {},
     "output_type": "execute_result"
    },
    {
     "data": {
      "image/png": "[encoded data removed]",
      "text/plain": [
       "<Figure size 432x288 with 1 Axes>"
      ]
     },
     "metadata": {
      "needs_background": "light"
     },
     "output_type": "display_data"
    }
   ],
   "source": [
    "plt.plot(hist_ej6.history['loss'], label = \"entrenamiento\")\n",
    "plt.plot(hist_ej6.history['val_loss'], label = \"validación\")\n",
    "plt.title('Loss')\n",
    "plt.xlabel('epoch')\n",
    "plt.ylabel('loss')\n",
    "plt.legend()"
   ]
  },
  {
   "cell_type": "code",
   "execution_count": 10,
   "metadata": {
    "executionInfo": {
     "elapsed": 2,
     "status": "ok",
     "timestamp": 1664142755026,
     "user": {
      "displayName": "Álvaro Blanes figuerola",
      "userId": "11042556642168442120"
     },
     "user_tz": -120
    },
    "id": "k8LbrhQaMF0V"
   },
   "outputs": [],
   "source": [
    "y_pred = model_ej6.predict(x_test)"
   ]
  },
  {
   "cell_type": "code",
   "execution_count": 11,
   "metadata": {
    "colab": {
     "base_uri": "https://localhost:8080/",
     "height": 0
    },
    "executionInfo": {
     "elapsed": 438,
     "status": "ok",
     "timestamp": 1664142755462,
     "user": {
      "displayName": "Álvaro Blanes figuerola",
      "userId": "11042556642168442120"
     },
     "user_tz": -120
    },
    "id": "i21ph8X5MHc6",
    "outputId": "3eb622b7-1a1f-4d28-c8ba-b57c52c43504"
   },
   "outputs": [
    {
     "data": {
      "text/plain": [
       "<matplotlib.legend.Legend at 0x7f3c042a2a10>"
      ]
     },
     "execution_count": 11,
     "metadata": {},
     "output_type": "execute_result"
    },
    {
     "data": {
      "image/png": "[encoded data removed]",
      "text/plain": [
       "<Figure size 432x288 with 1 Axes>"
      ]
     },
     "metadata": {
      "needs_background": "light"
     },
     "output_type": "display_data"
    }
   ],
   "source": [
    "plt.figure()\n",
    "plt.plot (t_test, label = 'reales')\n",
    "plt.plot (y_pred, label = 'predicciones')\n",
    "plt.title('Real vs Predicción Amazon')\n",
    "plt.xlabel('tiempo')\n",
    "plt.ylabel('Precio')\n",
    "plt.legend()"
   ]
  },
  {
   "cell_type": "code",
   "execution_count": 12,
   "metadata": {
    "colab": {
     "base_uri": "https://localhost:8080/"
    },
    "executionInfo": {
     "elapsed": 259,
     "status": "ok",
     "timestamp": 1664142755717,
     "user": {
      "displayName": "Álvaro Blanes figuerola",
      "userId": "11042556642168442120"
     },
     "user_tz": -120
    },
    "id": "u1gLHPQXMJRL",
    "outputId": "c4091cf8-7479-451e-e300-d2c136721b82"
   },
   "outputs": [
    {
     "name": "stdout",
     "output_type": "stream",
     "text": [
      "3/3 [==============================] - 0s 6ms/step - loss: 6074.5088\n"
     ]
    },
    {
     "data": {
      "text/plain": [
       "6074.5087890625"
      ]
     },
     "execution_count": 12,
     "metadata": {},
     "output_type": "execute_result"
    }
   ],
   "source": [
    "# Evaluamos\n",
    "\n",
    "score = model_ej6.evaluate(x_test, t_test)\n",
    "score"
   ]
  }
 ],
 "metadata": {
  "colab": {
   "authorship_tag": "ABX9TyPWey6G4XZ634HuvyEdKfpP",
   "collapsed_sections": [],
   "provenance": []
  },
  "kernelspec": {
   "display_name": "Python 3 (ipykernel)",
   "language": "python",
   "name": "python3"
  },
  "language_info": {
   "codemirror_mode": {
    "name": "ipython",
    "version": 3
   },
   "file_extension": ".py",
   "mimetype": "text/x-python",
   "name": "python",
   "nbconvert_exporter": "python",
   "pygments_lexer": "ipython3",
   "version": "3.9.13"
  }
 },
 "nbformat": 4,
 "nbformat_minor": 4
}
