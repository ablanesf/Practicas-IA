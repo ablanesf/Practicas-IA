{
  "nbformat": 4,
  "nbformat_minor": 0,
  "metadata": {
    "colab": {
      "provenance": []
    },
    "kernelspec": {
      "name": "python3",
      "display_name": "Python 3"
    },
    "language_info": {
      "name": "python"
    },
    "accelerator": "GPU",
    "gpuClass": "standard"
  },
  "cells": [
    {
      "cell_type": "markdown",
      "source": [
        "1. Procesamiento del Lenguaje Natural"
      ],
      "metadata": {
        "id": "SNHvS7Mvw1US"
      }
    },
    {
      "cell_type": "code",
      "source": [
        "#LIBRERIAS\n",
        "\n",
        "import pandas as pd\n",
        "import numpy as np\n",
        "import nltk\n",
        "from sklearn.feature_extraction.text import CountVectorizer\n",
        "from nltk.tokenize import RegexpTokenizer\n",
        "from sklearn.feature_extraction.text import TfidfVectorizer\n",
        "from gensim.models import Word2Vec\n",
        "from sklearn.decomposition import PCA\n",
        "import matplotlib.pyplot as plt\n",
        "from sklearn.model_selection import train_test_split\n",
        "#from tensorflow.keras.preprocessing import text          ESTA LIBRERIA FUNCIONA HASTA LA RED CONVOLUCIONAL Y HABRIA DE DESCOMENTARLA. PARA EL TRANSFORMER TENGO QUE COMENTAR ESTA Y \n",
        "#DESCOMENTAR LA SEÑALADA EN LA CELDA EN LA CELDA DE LIBRERIAS MAS ABAJO. NO ENCONTRÉ EL FALLO.\n",
        "from sklearn import preprocessing\n",
        "from keras.utils import pad_sequences\n",
        "from tensorflow.keras.layers import Dense, Conv1D, GRU\n",
        "import tensorflow_hub as hub"
      ],
      "metadata": {
        "id": "cNY1EzC7Emuu"
      },
      "execution_count": null,
      "outputs": []
    },
    {
      "cell_type": "markdown",
      "source": [
        "1. A partir del dataset FinancialPhraseBank utilizando unicamente las frases financieras\n",
        "con un 100% de coincidencia en la etiqueta realizar las siguientes tareas:\n",
        "· Bag of words\n",
        "· TF-IDF\n",
        "· Word-to-vect\n"
      ],
      "metadata": {
        "id": "LhiLy-Svw9yU"
      }
    },
    {
      "cell_type": "code",
      "source": [
        "#Leer csv y cambio nombre columnas\n",
        "data = pd.read_csv('Sentences_AllAgree.csv', \n",
        "                   names = ['phrase', 'label', 'new_phrase', 'new_label'])\n",
        "data.isnull().sum() # Buscamos si hay NAN\n",
        "\n",
        "nan_rows = data[data.isnull().any(1)]\n",
        "nan_rows\n",
        "new_data = data.dropna()\n",
        "new_data.index = range(new_data.shape[0])\n",
        "new_data"
      ],
      "metadata": {
        "colab": {
          "base_uri": "https://localhost:8080/",
          "height": 424
        },
        "id": "lKBOOJetx8SE",
        "outputId": "9cb2a73a-66e9-4729-ddaa-092b843c0b20"
      },
      "execution_count": null,
      "outputs": [
        {
          "output_type": "execute_result",
          "data": {
            "text/plain": [
              "                                                 phrase     label  \\\n",
              "0     According to Gran , the company has no plans t...   neutral   \n",
              "1     For the last quarter of 2010 , Componenta 's n...  positive   \n",
              "2     In the third quarter of 2010 , net sales incre...  positive   \n",
              "3     Operating profit rose to EUR 13.1 mn from EUR ...  positive   \n",
              "4     Operating profit totalled EUR 21.1 mn , up fro...  positive   \n",
              "...                                                 ...       ...   \n",
              "2257  Operating result for the 12-month period decre...  negative   \n",
              "2258  HELSINKI Thomson Financial - Shares in Cargote...  negative   \n",
              "2259  LONDON MarketWatch -- Share prices ended lower...  negative   \n",
              "2260  Operating profit fell to EUR 35.4 mn from EUR ...  negative   \n",
              "2261  Sales in Finland decreased by 10.5 % in Januar...  negative   \n",
              "\n",
              "                                             new_phrase  new_label  \n",
              "0     accord gran  company ha plan move production r...          1  \n",
              "1     last quarter 2010  componenta net sale double ...          2  \n",
              "2     third quarter 2010  net sale increase 52  eur ...          2  \n",
              "3     operate profit rise eur 131 mn eur 87 mn corre...          2  \n",
              "4     operate profit total eur 211 mn  eur 186 mn 20...          2  \n",
              "...                                                 ...        ...  \n",
              "2257  operate result 12month period decrease profit ...          0  \n",
              "2258  helsinki thomson financial  share cargotec fel...          0  \n",
              "2259  london marketwatch  share price end lower lond...          0  \n",
              "2260  operate profit fell eur 354 mn eur 688 mn 2007...          0  \n",
              "2261  sale finland decrease 105  january  sale outsi...          0  \n",
              "\n",
              "[2262 rows x 4 columns]"
            ],
            "text/html": [
              "\n",
              "  <div id=\"df-6d627c95-ee09-46f2-b0cc-f3b4427a6191\">\n",
              "    <div class=\"colab-df-container\">\n",
              "      <div>\n",
              "<style scoped>\n",
              "    .dataframe tbody tr th:only-of-type {\n",
              "        vertical-align: middle;\n",
              "    }\n",
              "\n",
              "    .dataframe tbody tr th {\n",
              "        vertical-align: top;\n",
              "    }\n",
              "\n",
              "    .dataframe thead th {\n",
              "        text-align: right;\n",
              "    }\n",
              "</style>\n",
              "<table border=\"1\" class=\"dataframe\">\n",
              "  <thead>\n",
              "    <tr style=\"text-align: right;\">\n",
              "      <th></th>\n",
              "      <th>phrase</th>\n",
              "      <th>label</th>\n",
              "      <th>new_phrase</th>\n",
              "      <th>new_label</th>\n",
              "    </tr>\n",
              "  </thead>\n",
              "  <tbody>\n",
              "    <tr>\n",
              "      <th>0</th>\n",
              "      <td>According to Gran , the company has no plans t...</td>\n",
              "      <td>neutral</td>\n",
              "      <td>accord gran  company ha plan move production r...</td>\n",
              "      <td>1</td>\n",
              "    </tr>\n",
              "    <tr>\n",
              "      <th>1</th>\n",
              "      <td>For the last quarter of 2010 , Componenta 's n...</td>\n",
              "      <td>positive</td>\n",
              "      <td>last quarter 2010  componenta net sale double ...</td>\n",
              "      <td>2</td>\n",
              "    </tr>\n",
              "    <tr>\n",
              "      <th>2</th>\n",
              "      <td>In the third quarter of 2010 , net sales incre...</td>\n",
              "      <td>positive</td>\n",
              "      <td>third quarter 2010  net sale increase 52  eur ...</td>\n",
              "      <td>2</td>\n",
              "    </tr>\n",
              "    <tr>\n",
              "      <th>3</th>\n",
              "      <td>Operating profit rose to EUR 13.1 mn from EUR ...</td>\n",
              "      <td>positive</td>\n",
              "      <td>operate profit rise eur 131 mn eur 87 mn corre...</td>\n",
              "      <td>2</td>\n",
              "    </tr>\n",
              "    <tr>\n",
              "      <th>4</th>\n",
              "      <td>Operating profit totalled EUR 21.1 mn , up fro...</td>\n",
              "      <td>positive</td>\n",
              "      <td>operate profit total eur 211 mn  eur 186 mn 20...</td>\n",
              "      <td>2</td>\n",
              "    </tr>\n",
              "    <tr>\n",
              "      <th>...</th>\n",
              "      <td>...</td>\n",
              "      <td>...</td>\n",
              "      <td>...</td>\n",
              "      <td>...</td>\n",
              "    </tr>\n",
              "    <tr>\n",
              "      <th>2257</th>\n",
              "      <td>Operating result for the 12-month period decre...</td>\n",
              "      <td>negative</td>\n",
              "      <td>operate result 12month period decrease profit ...</td>\n",
              "      <td>0</td>\n",
              "    </tr>\n",
              "    <tr>\n",
              "      <th>2258</th>\n",
              "      <td>HELSINKI Thomson Financial - Shares in Cargote...</td>\n",
              "      <td>negative</td>\n",
              "      <td>helsinki thomson financial  share cargotec fel...</td>\n",
              "      <td>0</td>\n",
              "    </tr>\n",
              "    <tr>\n",
              "      <th>2259</th>\n",
              "      <td>LONDON MarketWatch -- Share prices ended lower...</td>\n",
              "      <td>negative</td>\n",
              "      <td>london marketwatch  share price end lower lond...</td>\n",
              "      <td>0</td>\n",
              "    </tr>\n",
              "    <tr>\n",
              "      <th>2260</th>\n",
              "      <td>Operating profit fell to EUR 35.4 mn from EUR ...</td>\n",
              "      <td>negative</td>\n",
              "      <td>operate profit fell eur 354 mn eur 688 mn 2007...</td>\n",
              "      <td>0</td>\n",
              "    </tr>\n",
              "    <tr>\n",
              "      <th>2261</th>\n",
              "      <td>Sales in Finland decreased by 10.5 % in Januar...</td>\n",
              "      <td>negative</td>\n",
              "      <td>sale finland decrease 105  january  sale outsi...</td>\n",
              "      <td>0</td>\n",
              "    </tr>\n",
              "  </tbody>\n",
              "</table>\n",
              "<p>2262 rows × 4 columns</p>\n",
              "</div>\n",
              "      <button class=\"colab-df-convert\" onclick=\"convertToInteractive('df-6d627c95-ee09-46f2-b0cc-f3b4427a6191')\"\n",
              "              title=\"Convert this dataframe to an interactive table.\"\n",
              "              style=\"display:none;\">\n",
              "        \n",
              "  <svg xmlns=\"http://www.w3.org/2000/svg\" height=\"24px\"viewBox=\"0 0 24 24\"\n",
              "       width=\"24px\">\n",
              "    <path d=\"M0 0h24v24H0V0z\" fill=\"none\"/>\n",
              "    <path d=\"M18.56 5.44l.94 2.06.94-2.06 2.06-.94-2.06-.94-.94-2.06-.94 2.06-2.06.94zm-11 1L8.5 8.5l.94-2.06 2.06-.94-2.06-.94L8.5 2.5l-.94 2.06-2.06.94zm10 10l.94 2.06.94-2.06 2.06-.94-2.06-.94-.94-2.06-.94 2.06-2.06.94z\"/><path d=\"M17.41 7.96l-1.37-1.37c-.4-.4-.92-.59-1.43-.59-.52 0-1.04.2-1.43.59L10.3 9.45l-7.72 7.72c-.78.78-.78 2.05 0 2.83L4 21.41c.39.39.9.59 1.41.59.51 0 1.02-.2 1.41-.59l7.78-7.78 2.81-2.81c.8-.78.8-2.07 0-2.86zM5.41 20L4 18.59l7.72-7.72 1.47 1.35L5.41 20z\"/>\n",
              "  </svg>\n",
              "      </button>\n",
              "      \n",
              "  <style>\n",
              "    .colab-df-container {\n",
              "      display:flex;\n",
              "      flex-wrap:wrap;\n",
              "      gap: 12px;\n",
              "    }\n",
              "\n",
              "    .colab-df-convert {\n",
              "      background-color: #E8F0FE;\n",
              "      border: none;\n",
              "      border-radius: 50%;\n",
              "      cursor: pointer;\n",
              "      display: none;\n",
              "      fill: #1967D2;\n",
              "      height: 32px;\n",
              "      padding: 0 0 0 0;\n",
              "      width: 32px;\n",
              "    }\n",
              "\n",
              "    .colab-df-convert:hover {\n",
              "      background-color: #E2EBFA;\n",
              "      box-shadow: 0px 1px 2px rgba(60, 64, 67, 0.3), 0px 1px 3px 1px rgba(60, 64, 67, 0.15);\n",
              "      fill: #174EA6;\n",
              "    }\n",
              "\n",
              "    [theme=dark] .colab-df-convert {\n",
              "      background-color: #3B4455;\n",
              "      fill: #D2E3FC;\n",
              "    }\n",
              "\n",
              "    [theme=dark] .colab-df-convert:hover {\n",
              "      background-color: #434B5C;\n",
              "      box-shadow: 0px 1px 3px 1px rgba(0, 0, 0, 0.15);\n",
              "      filter: drop-shadow(0px 1px 2px rgba(0, 0, 0, 0.3));\n",
              "      fill: #FFFFFF;\n",
              "    }\n",
              "  </style>\n",
              "\n",
              "      <script>\n",
              "        const buttonEl =\n",
              "          document.querySelector('#df-6d627c95-ee09-46f2-b0cc-f3b4427a6191 button.colab-df-convert');\n",
              "        buttonEl.style.display =\n",
              "          google.colab.kernel.accessAllowed ? 'block' : 'none';\n",
              "\n",
              "        async function convertToInteractive(key) {\n",
              "          const element = document.querySelector('#df-6d627c95-ee09-46f2-b0cc-f3b4427a6191');\n",
              "          const dataTable =\n",
              "            await google.colab.kernel.invokeFunction('convertToInteractive',\n",
              "                                                     [key], {});\n",
              "          if (!dataTable) return;\n",
              "\n",
              "          const docLinkHtml = 'Like what you see? Visit the ' +\n",
              "            '<a target=\"_blank\" href=https://colab.research.google.com/notebooks/data_table.ipynb>data table notebook</a>'\n",
              "            + ' to learn more about interactive tables.';\n",
              "          element.innerHTML = '';\n",
              "          dataTable['output_type'] = 'display_data';\n",
              "          await google.colab.output.renderOutput(dataTable, element);\n",
              "          const docLink = document.createElement('div');\n",
              "          docLink.innerHTML = docLinkHtml;\n",
              "          element.appendChild(docLink);\n",
              "        }\n",
              "      </script>\n",
              "    </div>\n",
              "  </div>\n",
              "  "
            ]
          },
          "metadata": {},
          "execution_count": 2
        }
      ]
    },
    {
      "cell_type": "code",
      "source": [],
      "metadata": {
        "id": "D07wguRE3Tre"
      },
      "execution_count": null,
      "outputs": []
    },
    {
      "cell_type": "markdown",
      "source": [
        "BAG OF WORD"
      ],
      "metadata": {
        "id": "PByQXJDX1cUv"
      }
    },
    {
      "cell_type": "code",
      "source": [
        "token = RegexpTokenizer(r'[a-zA-Z0-9]+')\n",
        "cv = CountVectorizer(lowercase=True, # convierto a minuscula\n",
        "                     ngram_range= (1,1), # palabra por palabra\n",
        "                     tokenizer = token.tokenize)\n",
        "text_counts = cv.fit_transform(new_data['new_phrase']) # entreno\n",
        "dense_matrix = pd.DataFrame(text_counts.todense()) # transformo a df\n",
        "dense_matrix.head()\n",
        "\n",
        "# En el primer momento pensé en hacer un for por todas las palabras de cada fila y ver cuantas veces se repite. \n",
        "# Finalmente cogí la opción mas facil y rápida utilizando RegexpTokenizer y Countvectorizer. Trás convertirlo a minuscula y hacer el proceso de contar las veces que se repite cada palabra,\n",
        "# entreno el modelo y lo transfomo en un DataFrame"
      ],
      "metadata": {
        "id": "DWDkGt5Ly_4q",
        "colab": {
          "base_uri": "https://localhost:8080/",
          "height": 236
        },
        "outputId": "3b2b624c-6258-4c24-d8b5-6523643450c4"
      },
      "execution_count": null,
      "outputs": [
        {
          "output_type": "execute_result",
          "data": {
            "text/plain": [
              "   0     1     2     3     4     5     6     7     8     9     ...  5695  \\\n",
              "0     0     0     0     0     0     0     0     0     0     0  ...     0   \n",
              "1     0     0     0     0     0     0     0     0     0     0  ...     0   \n",
              "2     0     0     0     0     0     0     0     0     0     0  ...     0   \n",
              "3     0     0     0     0     0     0     0     0     0     0  ...     0   \n",
              "4     0     0     0     0     0     0     0     0     0     0  ...     0   \n",
              "\n",
              "   5696  5697  5698  5699  5700  5701  5702  5703  5704  \n",
              "0     0     0     0     0     0     0     0     0     0  \n",
              "1     0     0     0     1     0     0     0     0     0  \n",
              "2     0     0     0     0     0     0     0     0     0  \n",
              "3     0     0     0     0     0     0     0     0     0  \n",
              "4     0     0     0     0     0     0     0     0     0  \n",
              "\n",
              "[5 rows x 5705 columns]"
            ],
            "text/html": [
              "\n",
              "  <div id=\"df-21fcdfdf-d65b-40b8-97a4-2168f0904d93\">\n",
              "    <div class=\"colab-df-container\">\n",
              "      <div>\n",
              "<style scoped>\n",
              "    .dataframe tbody tr th:only-of-type {\n",
              "        vertical-align: middle;\n",
              "    }\n",
              "\n",
              "    .dataframe tbody tr th {\n",
              "        vertical-align: top;\n",
              "    }\n",
              "\n",
              "    .dataframe thead th {\n",
              "        text-align: right;\n",
              "    }\n",
              "</style>\n",
              "<table border=\"1\" class=\"dataframe\">\n",
              "  <thead>\n",
              "    <tr style=\"text-align: right;\">\n",
              "      <th></th>\n",
              "      <th>0</th>\n",
              "      <th>1</th>\n",
              "      <th>2</th>\n",
              "      <th>3</th>\n",
              "      <th>4</th>\n",
              "      <th>5</th>\n",
              "      <th>6</th>\n",
              "      <th>7</th>\n",
              "      <th>8</th>\n",
              "      <th>9</th>\n",
              "      <th>...</th>\n",
              "      <th>5695</th>\n",
              "      <th>5696</th>\n",
              "      <th>5697</th>\n",
              "      <th>5698</th>\n",
              "      <th>5699</th>\n",
              "      <th>5700</th>\n",
              "      <th>5701</th>\n",
              "      <th>5702</th>\n",
              "      <th>5703</th>\n",
              "      <th>5704</th>\n",
              "    </tr>\n",
              "  </thead>\n",
              "  <tbody>\n",
              "    <tr>\n",
              "      <th>0</th>\n",
              "      <td>0</td>\n",
              "      <td>0</td>\n",
              "      <td>0</td>\n",
              "      <td>0</td>\n",
              "      <td>0</td>\n",
              "      <td>0</td>\n",
              "      <td>0</td>\n",
              "      <td>0</td>\n",
              "      <td>0</td>\n",
              "      <td>0</td>\n",
              "      <td>...</td>\n",
              "      <td>0</td>\n",
              "      <td>0</td>\n",
              "      <td>0</td>\n",
              "      <td>0</td>\n",
              "      <td>0</td>\n",
              "      <td>0</td>\n",
              "      <td>0</td>\n",
              "      <td>0</td>\n",
              "      <td>0</td>\n",
              "      <td>0</td>\n",
              "    </tr>\n",
              "    <tr>\n",
              "      <th>1</th>\n",
              "      <td>0</td>\n",
              "      <td>0</td>\n",
              "      <td>0</td>\n",
              "      <td>0</td>\n",
              "      <td>0</td>\n",
              "      <td>0</td>\n",
              "      <td>0</td>\n",
              "      <td>0</td>\n",
              "      <td>0</td>\n",
              "      <td>0</td>\n",
              "      <td>...</td>\n",
              "      <td>0</td>\n",
              "      <td>0</td>\n",
              "      <td>0</td>\n",
              "      <td>0</td>\n",
              "      <td>1</td>\n",
              "      <td>0</td>\n",
              "      <td>0</td>\n",
              "      <td>0</td>\n",
              "      <td>0</td>\n",
              "      <td>0</td>\n",
              "    </tr>\n",
              "    <tr>\n",
              "      <th>2</th>\n",
              "      <td>0</td>\n",
              "      <td>0</td>\n",
              "      <td>0</td>\n",
              "      <td>0</td>\n",
              "      <td>0</td>\n",
              "      <td>0</td>\n",
              "      <td>0</td>\n",
              "      <td>0</td>\n",
              "      <td>0</td>\n",
              "      <td>0</td>\n",
              "      <td>...</td>\n",
              "      <td>0</td>\n",
              "      <td>0</td>\n",
              "      <td>0</td>\n",
              "      <td>0</td>\n",
              "      <td>0</td>\n",
              "      <td>0</td>\n",
              "      <td>0</td>\n",
              "      <td>0</td>\n",
              "      <td>0</td>\n",
              "      <td>0</td>\n",
              "    </tr>\n",
              "    <tr>\n",
              "      <th>3</th>\n",
              "      <td>0</td>\n",
              "      <td>0</td>\n",
              "      <td>0</td>\n",
              "      <td>0</td>\n",
              "      <td>0</td>\n",
              "      <td>0</td>\n",
              "      <td>0</td>\n",
              "      <td>0</td>\n",
              "      <td>0</td>\n",
              "      <td>0</td>\n",
              "      <td>...</td>\n",
              "      <td>0</td>\n",
              "      <td>0</td>\n",
              "      <td>0</td>\n",
              "      <td>0</td>\n",
              "      <td>0</td>\n",
              "      <td>0</td>\n",
              "      <td>0</td>\n",
              "      <td>0</td>\n",
              "      <td>0</td>\n",
              "      <td>0</td>\n",
              "    </tr>\n",
              "    <tr>\n",
              "      <th>4</th>\n",
              "      <td>0</td>\n",
              "      <td>0</td>\n",
              "      <td>0</td>\n",
              "      <td>0</td>\n",
              "      <td>0</td>\n",
              "      <td>0</td>\n",
              "      <td>0</td>\n",
              "      <td>0</td>\n",
              "      <td>0</td>\n",
              "      <td>0</td>\n",
              "      <td>...</td>\n",
              "      <td>0</td>\n",
              "      <td>0</td>\n",
              "      <td>0</td>\n",
              "      <td>0</td>\n",
              "      <td>0</td>\n",
              "      <td>0</td>\n",
              "      <td>0</td>\n",
              "      <td>0</td>\n",
              "      <td>0</td>\n",
              "      <td>0</td>\n",
              "    </tr>\n",
              "  </tbody>\n",
              "</table>\n",
              "<p>5 rows × 5705 columns</p>\n",
              "</div>\n",
              "      <button class=\"colab-df-convert\" onclick=\"convertToInteractive('df-21fcdfdf-d65b-40b8-97a4-2168f0904d93')\"\n",
              "              title=\"Convert this dataframe to an interactive table.\"\n",
              "              style=\"display:none;\">\n",
              "        \n",
              "  <svg xmlns=\"http://www.w3.org/2000/svg\" height=\"24px\"viewBox=\"0 0 24 24\"\n",
              "       width=\"24px\">\n",
              "    <path d=\"M0 0h24v24H0V0z\" fill=\"none\"/>\n",
              "    <path d=\"M18.56 5.44l.94 2.06.94-2.06 2.06-.94-2.06-.94-.94-2.06-.94 2.06-2.06.94zm-11 1L8.5 8.5l.94-2.06 2.06-.94-2.06-.94L8.5 2.5l-.94 2.06-2.06.94zm10 10l.94 2.06.94-2.06 2.06-.94-2.06-.94-.94-2.06-.94 2.06-2.06.94z\"/><path d=\"M17.41 7.96l-1.37-1.37c-.4-.4-.92-.59-1.43-.59-.52 0-1.04.2-1.43.59L10.3 9.45l-7.72 7.72c-.78.78-.78 2.05 0 2.83L4 21.41c.39.39.9.59 1.41.59.51 0 1.02-.2 1.41-.59l7.78-7.78 2.81-2.81c.8-.78.8-2.07 0-2.86zM5.41 20L4 18.59l7.72-7.72 1.47 1.35L5.41 20z\"/>\n",
              "  </svg>\n",
              "      </button>\n",
              "      \n",
              "  <style>\n",
              "    .colab-df-container {\n",
              "      display:flex;\n",
              "      flex-wrap:wrap;\n",
              "      gap: 12px;\n",
              "    }\n",
              "\n",
              "    .colab-df-convert {\n",
              "      background-color: #E8F0FE;\n",
              "      border: none;\n",
              "      border-radius: 50%;\n",
              "      cursor: pointer;\n",
              "      display: none;\n",
              "      fill: #1967D2;\n",
              "      height: 32px;\n",
              "      padding: 0 0 0 0;\n",
              "      width: 32px;\n",
              "    }\n",
              "\n",
              "    .colab-df-convert:hover {\n",
              "      background-color: #E2EBFA;\n",
              "      box-shadow: 0px 1px 2px rgba(60, 64, 67, 0.3), 0px 1px 3px 1px rgba(60, 64, 67, 0.15);\n",
              "      fill: #174EA6;\n",
              "    }\n",
              "\n",
              "    [theme=dark] .colab-df-convert {\n",
              "      background-color: #3B4455;\n",
              "      fill: #D2E3FC;\n",
              "    }\n",
              "\n",
              "    [theme=dark] .colab-df-convert:hover {\n",
              "      background-color: #434B5C;\n",
              "      box-shadow: 0px 1px 3px 1px rgba(0, 0, 0, 0.15);\n",
              "      filter: drop-shadow(0px 1px 2px rgba(0, 0, 0, 0.3));\n",
              "      fill: #FFFFFF;\n",
              "    }\n",
              "  </style>\n",
              "\n",
              "      <script>\n",
              "        const buttonEl =\n",
              "          document.querySelector('#df-21fcdfdf-d65b-40b8-97a4-2168f0904d93 button.colab-df-convert');\n",
              "        buttonEl.style.display =\n",
              "          google.colab.kernel.accessAllowed ? 'block' : 'none';\n",
              "\n",
              "        async function convertToInteractive(key) {\n",
              "          const element = document.querySelector('#df-21fcdfdf-d65b-40b8-97a4-2168f0904d93');\n",
              "          const dataTable =\n",
              "            await google.colab.kernel.invokeFunction('convertToInteractive',\n",
              "                                                     [key], {});\n",
              "          if (!dataTable) return;\n",
              "\n",
              "          const docLinkHtml = 'Like what you see? Visit the ' +\n",
              "            '<a target=\"_blank\" href=https://colab.research.google.com/notebooks/data_table.ipynb>data table notebook</a>'\n",
              "            + ' to learn more about interactive tables.';\n",
              "          element.innerHTML = '';\n",
              "          dataTable['output_type'] = 'display_data';\n",
              "          await google.colab.output.renderOutput(dataTable, element);\n",
              "          const docLink = document.createElement('div');\n",
              "          docLink.innerHTML = docLinkHtml;\n",
              "          element.appendChild(docLink);\n",
              "        }\n",
              "      </script>\n",
              "    </div>\n",
              "  </div>\n",
              "  "
            ]
          },
          "metadata": {},
          "execution_count": 3
        }
      ]
    },
    {
      "cell_type": "code",
      "source": [
        "dense_matrix.sum()"
      ],
      "metadata": {
        "colab": {
          "base_uri": "https://localhost:8080/"
        },
        "id": "B9n8jcxiJQxS",
        "outputId": "76ba423e-4feb-4224-a715-b5d48221b675"
      },
      "execution_count": null,
      "outputs": [
        {
          "output_type": "execute_result",
          "data": {
            "text/plain": [
              "0        8\n",
              "1        3\n",
              "2       20\n",
              "3        1\n",
              "4        1\n",
              "        ..\n",
              "5700     1\n",
              "5701     1\n",
              "5702     1\n",
              "5703     1\n",
              "5704     1\n",
              "Length: 5705, dtype: int64"
            ]
          },
          "metadata": {},
          "execution_count": 4
        }
      ]
    },
    {
      "cell_type": "markdown",
      "source": [
        "TF-IDF"
      ],
      "metadata": {
        "id": "Ia6mW_UWKV5i"
      }
    },
    {
      "cell_type": "code",
      "source": [
        "tf = TfidfVectorizer()\n",
        "text_tf = tf.fit_transform(new_data['new_phrase'])\n",
        "dense_matrix2 = pd.DataFrame(text_tf.todense()).round(5)\n",
        "dense_matrix2.head()\n",
        "\n",
        "# Entreno el modelo con la columna nueva de frases y la convierto en Densa con 5 decimales para ver si gay diferentes a 0"
      ],
      "metadata": {
        "id": "38bUkaJX47Sw",
        "colab": {
          "base_uri": "https://localhost:8080/",
          "height": 236
        },
        "outputId": "c42b6e6f-ad18-45dc-ba6e-b5a4c6729ee3"
      },
      "execution_count": null,
      "outputs": [
        {
          "output_type": "execute_result",
          "data": {
            "text/plain": [
              "   0     1     2     3     4     5     6     7     8     9     ...     5669  \\\n",
              "0   0.0   0.0   0.0   0.0   0.0   0.0   0.0   0.0   0.0   0.0  ...  0.00000   \n",
              "1   0.0   0.0   0.0   0.0   0.0   0.0   0.0   0.0   0.0   0.0  ...  0.32007   \n",
              "2   0.0   0.0   0.0   0.0   0.0   0.0   0.0   0.0   0.0   0.0  ...  0.00000   \n",
              "3   0.0   0.0   0.0   0.0   0.0   0.0   0.0   0.0   0.0   0.0  ...  0.00000   \n",
              "4   0.0   0.0   0.0   0.0   0.0   0.0   0.0   0.0   0.0   0.0  ...  0.00000   \n",
              "\n",
              "   5670  5671  5672  5673  5674  5675  5676  5677  5678  \n",
              "0   0.0   0.0   0.0   0.0   0.0   0.0   0.0   0.0   0.0  \n",
              "1   0.0   0.0   0.0   0.0   0.0   0.0   0.0   0.0   0.0  \n",
              "2   0.0   0.0   0.0   0.0   0.0   0.0   0.0   0.0   0.0  \n",
              "3   0.0   0.0   0.0   0.0   0.0   0.0   0.0   0.0   0.0  \n",
              "4   0.0   0.0   0.0   0.0   0.0   0.0   0.0   0.0   0.0  \n",
              "\n",
              "[5 rows x 5679 columns]"
            ],
            "text/html": [
              "\n",
              "  <div id=\"df-2b69fac1-d770-4954-9395-1ca200adb080\">\n",
              "    <div class=\"colab-df-container\">\n",
              "      <div>\n",
              "<style scoped>\n",
              "    .dataframe tbody tr th:only-of-type {\n",
              "        vertical-align: middle;\n",
              "    }\n",
              "\n",
              "    .dataframe tbody tr th {\n",
              "        vertical-align: top;\n",
              "    }\n",
              "\n",
              "    .dataframe thead th {\n",
              "        text-align: right;\n",
              "    }\n",
              "</style>\n",
              "<table border=\"1\" class=\"dataframe\">\n",
              "  <thead>\n",
              "    <tr style=\"text-align: right;\">\n",
              "      <th></th>\n",
              "      <th>0</th>\n",
              "      <th>1</th>\n",
              "      <th>2</th>\n",
              "      <th>3</th>\n",
              "      <th>4</th>\n",
              "      <th>5</th>\n",
              "      <th>6</th>\n",
              "      <th>7</th>\n",
              "      <th>8</th>\n",
              "      <th>9</th>\n",
              "      <th>...</th>\n",
              "      <th>5669</th>\n",
              "      <th>5670</th>\n",
              "      <th>5671</th>\n",
              "      <th>5672</th>\n",
              "      <th>5673</th>\n",
              "      <th>5674</th>\n",
              "      <th>5675</th>\n",
              "      <th>5676</th>\n",
              "      <th>5677</th>\n",
              "      <th>5678</th>\n",
              "    </tr>\n",
              "  </thead>\n",
              "  <tbody>\n",
              "    <tr>\n",
              "      <th>0</th>\n",
              "      <td>0.0</td>\n",
              "      <td>0.0</td>\n",
              "      <td>0.0</td>\n",
              "      <td>0.0</td>\n",
              "      <td>0.0</td>\n",
              "      <td>0.0</td>\n",
              "      <td>0.0</td>\n",
              "      <td>0.0</td>\n",
              "      <td>0.0</td>\n",
              "      <td>0.0</td>\n",
              "      <td>...</td>\n",
              "      <td>0.00000</td>\n",
              "      <td>0.0</td>\n",
              "      <td>0.0</td>\n",
              "      <td>0.0</td>\n",
              "      <td>0.0</td>\n",
              "      <td>0.0</td>\n",
              "      <td>0.0</td>\n",
              "      <td>0.0</td>\n",
              "      <td>0.0</td>\n",
              "      <td>0.0</td>\n",
              "    </tr>\n",
              "    <tr>\n",
              "      <th>1</th>\n",
              "      <td>0.0</td>\n",
              "      <td>0.0</td>\n",
              "      <td>0.0</td>\n",
              "      <td>0.0</td>\n",
              "      <td>0.0</td>\n",
              "      <td>0.0</td>\n",
              "      <td>0.0</td>\n",
              "      <td>0.0</td>\n",
              "      <td>0.0</td>\n",
              "      <td>0.0</td>\n",
              "      <td>...</td>\n",
              "      <td>0.32007</td>\n",
              "      <td>0.0</td>\n",
              "      <td>0.0</td>\n",
              "      <td>0.0</td>\n",
              "      <td>0.0</td>\n",
              "      <td>0.0</td>\n",
              "      <td>0.0</td>\n",
              "      <td>0.0</td>\n",
              "      <td>0.0</td>\n",
              "      <td>0.0</td>\n",
              "    </tr>\n",
              "    <tr>\n",
              "      <th>2</th>\n",
              "      <td>0.0</td>\n",
              "      <td>0.0</td>\n",
              "      <td>0.0</td>\n",
              "      <td>0.0</td>\n",
              "      <td>0.0</td>\n",
              "      <td>0.0</td>\n",
              "      <td>0.0</td>\n",
              "      <td>0.0</td>\n",
              "      <td>0.0</td>\n",
              "      <td>0.0</td>\n",
              "      <td>...</td>\n",
              "      <td>0.00000</td>\n",
              "      <td>0.0</td>\n",
              "      <td>0.0</td>\n",
              "      <td>0.0</td>\n",
              "      <td>0.0</td>\n",
              "      <td>0.0</td>\n",
              "      <td>0.0</td>\n",
              "      <td>0.0</td>\n",
              "      <td>0.0</td>\n",
              "      <td>0.0</td>\n",
              "    </tr>\n",
              "    <tr>\n",
              "      <th>3</th>\n",
              "      <td>0.0</td>\n",
              "      <td>0.0</td>\n",
              "      <td>0.0</td>\n",
              "      <td>0.0</td>\n",
              "      <td>0.0</td>\n",
              "      <td>0.0</td>\n",
              "      <td>0.0</td>\n",
              "      <td>0.0</td>\n",
              "      <td>0.0</td>\n",
              "      <td>0.0</td>\n",
              "      <td>...</td>\n",
              "      <td>0.00000</td>\n",
              "      <td>0.0</td>\n",
              "      <td>0.0</td>\n",
              "      <td>0.0</td>\n",
              "      <td>0.0</td>\n",
              "      <td>0.0</td>\n",
              "      <td>0.0</td>\n",
              "      <td>0.0</td>\n",
              "      <td>0.0</td>\n",
              "      <td>0.0</td>\n",
              "    </tr>\n",
              "    <tr>\n",
              "      <th>4</th>\n",
              "      <td>0.0</td>\n",
              "      <td>0.0</td>\n",
              "      <td>0.0</td>\n",
              "      <td>0.0</td>\n",
              "      <td>0.0</td>\n",
              "      <td>0.0</td>\n",
              "      <td>0.0</td>\n",
              "      <td>0.0</td>\n",
              "      <td>0.0</td>\n",
              "      <td>0.0</td>\n",
              "      <td>...</td>\n",
              "      <td>0.00000</td>\n",
              "      <td>0.0</td>\n",
              "      <td>0.0</td>\n",
              "      <td>0.0</td>\n",
              "      <td>0.0</td>\n",
              "      <td>0.0</td>\n",
              "      <td>0.0</td>\n",
              "      <td>0.0</td>\n",
              "      <td>0.0</td>\n",
              "      <td>0.0</td>\n",
              "    </tr>\n",
              "  </tbody>\n",
              "</table>\n",
              "<p>5 rows × 5679 columns</p>\n",
              "</div>\n",
              "      <button class=\"colab-df-convert\" onclick=\"convertToInteractive('df-2b69fac1-d770-4954-9395-1ca200adb080')\"\n",
              "              title=\"Convert this dataframe to an interactive table.\"\n",
              "              style=\"display:none;\">\n",
              "        \n",
              "  <svg xmlns=\"http://www.w3.org/2000/svg\" height=\"24px\"viewBox=\"0 0 24 24\"\n",
              "       width=\"24px\">\n",
              "    <path d=\"M0 0h24v24H0V0z\" fill=\"none\"/>\n",
              "    <path d=\"M18.56 5.44l.94 2.06.94-2.06 2.06-.94-2.06-.94-.94-2.06-.94 2.06-2.06.94zm-11 1L8.5 8.5l.94-2.06 2.06-.94-2.06-.94L8.5 2.5l-.94 2.06-2.06.94zm10 10l.94 2.06.94-2.06 2.06-.94-2.06-.94-.94-2.06-.94 2.06-2.06.94z\"/><path d=\"M17.41 7.96l-1.37-1.37c-.4-.4-.92-.59-1.43-.59-.52 0-1.04.2-1.43.59L10.3 9.45l-7.72 7.72c-.78.78-.78 2.05 0 2.83L4 21.41c.39.39.9.59 1.41.59.51 0 1.02-.2 1.41-.59l7.78-7.78 2.81-2.81c.8-.78.8-2.07 0-2.86zM5.41 20L4 18.59l7.72-7.72 1.47 1.35L5.41 20z\"/>\n",
              "  </svg>\n",
              "      </button>\n",
              "      \n",
              "  <style>\n",
              "    .colab-df-container {\n",
              "      display:flex;\n",
              "      flex-wrap:wrap;\n",
              "      gap: 12px;\n",
              "    }\n",
              "\n",
              "    .colab-df-convert {\n",
              "      background-color: #E8F0FE;\n",
              "      border: none;\n",
              "      border-radius: 50%;\n",
              "      cursor: pointer;\n",
              "      display: none;\n",
              "      fill: #1967D2;\n",
              "      height: 32px;\n",
              "      padding: 0 0 0 0;\n",
              "      width: 32px;\n",
              "    }\n",
              "\n",
              "    .colab-df-convert:hover {\n",
              "      background-color: #E2EBFA;\n",
              "      box-shadow: 0px 1px 2px rgba(60, 64, 67, 0.3), 0px 1px 3px 1px rgba(60, 64, 67, 0.15);\n",
              "      fill: #174EA6;\n",
              "    }\n",
              "\n",
              "    [theme=dark] .colab-df-convert {\n",
              "      background-color: #3B4455;\n",
              "      fill: #D2E3FC;\n",
              "    }\n",
              "\n",
              "    [theme=dark] .colab-df-convert:hover {\n",
              "      background-color: #434B5C;\n",
              "      box-shadow: 0px 1px 3px 1px rgba(0, 0, 0, 0.15);\n",
              "      filter: drop-shadow(0px 1px 2px rgba(0, 0, 0, 0.3));\n",
              "      fill: #FFFFFF;\n",
              "    }\n",
              "  </style>\n",
              "\n",
              "      <script>\n",
              "        const buttonEl =\n",
              "          document.querySelector('#df-2b69fac1-d770-4954-9395-1ca200adb080 button.colab-df-convert');\n",
              "        buttonEl.style.display =\n",
              "          google.colab.kernel.accessAllowed ? 'block' : 'none';\n",
              "\n",
              "        async function convertToInteractive(key) {\n",
              "          const element = document.querySelector('#df-2b69fac1-d770-4954-9395-1ca200adb080');\n",
              "          const dataTable =\n",
              "            await google.colab.kernel.invokeFunction('convertToInteractive',\n",
              "                                                     [key], {});\n",
              "          if (!dataTable) return;\n",
              "\n",
              "          const docLinkHtml = 'Like what you see? Visit the ' +\n",
              "            '<a target=\"_blank\" href=https://colab.research.google.com/notebooks/data_table.ipynb>data table notebook</a>'\n",
              "            + ' to learn more about interactive tables.';\n",
              "          element.innerHTML = '';\n",
              "          dataTable['output_type'] = 'display_data';\n",
              "          await google.colab.output.renderOutput(dataTable, element);\n",
              "          const docLink = document.createElement('div');\n",
              "          docLink.innerHTML = docLinkHtml;\n",
              "          element.appendChild(docLink);\n",
              "        }\n",
              "      </script>\n",
              "    </div>\n",
              "  </div>\n",
              "  "
            ]
          },
          "metadata": {},
          "execution_count": 5
        }
      ]
    },
    {
      "cell_type": "code",
      "source": [
        "dense_matrix2.sum()"
      ],
      "metadata": {
        "colab": {
          "base_uri": "https://localhost:8080/"
        },
        "id": "p8nK6SYPH0oW",
        "outputId": "71285e31-0950-4f15-c265-1ce1372b96c0"
      },
      "execution_count": null,
      "outputs": [
        {
          "output_type": "execute_result",
          "data": {
            "text/plain": [
              "0       1.00731\n",
              "1       5.08194\n",
              "2       0.34850\n",
              "3       0.38797\n",
              "4       0.56333\n",
              "         ...   \n",
              "5674    0.21449\n",
              "5675    2.27294\n",
              "5676    0.99250\n",
              "5677    0.49766\n",
              "5678    0.33130\n",
              "Length: 5679, dtype: float64"
            ]
          },
          "metadata": {},
          "execution_count": 6
        }
      ]
    },
    {
      "cell_type": "markdown",
      "source": [
        "Word-to-Vect"
      ],
      "metadata": {
        "id": "-71yfRoIyB8H"
      }
    },
    {
      "cell_type": "code",
      "source": [
        "data_new_phrase = new_data['new_phrase']\n",
        "data_new_phrase\n",
        "\n",
        "#Selecciono la columna que necesito"
      ],
      "metadata": {
        "colab": {
          "base_uri": "https://localhost:8080/"
        },
        "id": "Dyb1H2mQ57PV",
        "outputId": "1320e6a6-038b-4cec-d480-8c17c7db8bf9"
      },
      "execution_count": null,
      "outputs": [
        {
          "output_type": "execute_result",
          "data": {
            "text/plain": [
              "0       accord gran  company ha plan move production r...\n",
              "1       last quarter 2010  componenta net sale double ...\n",
              "2       third quarter 2010  net sale increase 52  eur ...\n",
              "3       operate profit rise eur 131 mn eur 87 mn corre...\n",
              "4       operate profit total eur 211 mn  eur 186 mn 20...\n",
              "                              ...                        \n",
              "2257    operate result 12month period decrease profit ...\n",
              "2258    helsinki thomson financial  share cargotec fel...\n",
              "2259    london marketwatch  share price end lower lond...\n",
              "2260    operate profit fell eur 354 mn eur 688 mn 2007...\n",
              "2261    sale finland decrease 105  january  sale outsi...\n",
              "Name: new_phrase, Length: 2262, dtype: object"
            ]
          },
          "metadata": {},
          "execution_count": 7
        }
      ]
    },
    {
      "cell_type": "code",
      "source": [
        "list_data_new_phrase = data_new_phrase.to_numpy().tolist()\n",
        "# Transformo la columna anterior en una lista y lo meto en una variable"
      ],
      "metadata": {
        "id": "fetFcNSR65aY"
      },
      "execution_count": null,
      "outputs": []
    },
    {
      "cell_type": "code",
      "source": [
        "list_token = []\n",
        "for i in np.arange(len(list_data_new_phrase)):\n",
        "  phrase = token.tokenize(list_data_new_phrase[i])\n",
        "  list_token.append(phrase)\n",
        "\n",
        "  # Hago un for a la variable anteriormente definida y que la tokenize palabra por palabra y lo agrego a una lista. Obteniendo una lista de listas."
      ],
      "metadata": {
        "id": "WTaiHmSK8jfx"
      },
      "execution_count": null,
      "outputs": []
    },
    {
      "cell_type": "code",
      "source": [
        "type(list_token)"
      ],
      "metadata": {
        "colab": {
          "base_uri": "https://localhost:8080/"
        },
        "id": "27kQm0MX_sF8",
        "outputId": "8ff08fd2-f6cf-4758-aaec-55d3ff0553a2"
      },
      "execution_count": null,
      "outputs": [
        {
          "output_type": "execute_result",
          "data": {
            "text/plain": [
              "list"
            ]
          },
          "metadata": {},
          "execution_count": 10
        }
      ]
    },
    {
      "cell_type": "code",
      "source": [
        "model = Word2Vec(sentences = list_token,\n",
        "                 batch_words=15)\n",
        "model\n",
        "\n",
        "# Aplico el word2vec a la lista de listas que he metido en la varibale list_toke."
      ],
      "metadata": {
        "colab": {
          "base_uri": "https://localhost:8080/"
        },
        "id": "dcqpvsco-4gF",
        "outputId": "66235dd6-671f-4301-efca-91af98f9348f"
      },
      "execution_count": null,
      "outputs": [
        {
          "output_type": "execute_result",
          "data": {
            "text/plain": [
              "<gensim.models.word2vec.Word2Vec at 0x7f64959eb690>"
            ]
          },
          "metadata": {},
          "execution_count": 11
        }
      ]
    },
    {
      "cell_type": "code",
      "source": [
        "X=model[model.wv.vocab]\n",
        "df=pd.DataFrame(X, index=model.wv.vocab)\n",
        "df.head()"
      ],
      "metadata": {
        "colab": {
          "base_uri": "https://localhost:8080/",
          "height": 334
        },
        "id": "8DVswpc6Db7k",
        "outputId": "10232d95-0871-4411-a6dc-1254fc588f12"
      },
      "execution_count": null,
      "outputs": [
        {
          "output_type": "stream",
          "name": "stderr",
          "text": [
            "/usr/local/lib/python3.7/dist-packages/ipykernel_launcher.py:1: DeprecationWarning: Call to deprecated `__getitem__` (Method will be removed in 4.0.0, use self.wv.__getitem__() instead).\n",
            "  \"\"\"Entry point for launching an IPython kernel.\n"
          ]
        },
        {
          "output_type": "execute_result",
          "data": {
            "text/plain": [
              "               0         1         2         3         4         5         6   \\\n",
              "accord   0.054131  0.144866 -0.042151 -0.094070 -0.278253 -0.029878  0.106025   \n",
              "company  0.131216  0.378040 -0.099386 -0.234960 -0.708164 -0.069964  0.262776   \n",
              "ha       0.117255  0.329789 -0.088003 -0.208013 -0.623343 -0.067470  0.229130   \n",
              "plan     0.048741  0.128585 -0.034159 -0.079583 -0.254172 -0.027394  0.089148   \n",
              "move     0.021666  0.064521 -0.017181 -0.045787 -0.122815 -0.017496  0.044130   \n",
              "\n",
              "               7         8         9   ...        90        91        92  \\\n",
              "accord  -0.251583  0.069588 -0.031832  ...  0.327839  0.064705  0.048471   \n",
              "company -0.643718  0.190382 -0.096455  ...  0.857023  0.166895  0.123595   \n",
              "ha      -0.575575  0.167898 -0.081749  ...  0.760263  0.147539  0.105412   \n",
              "plan    -0.224847  0.063533 -0.032146  ...  0.297119  0.061896  0.040369   \n",
              "move    -0.119058  0.035872 -0.019832  ...  0.145960  0.034154  0.019226   \n",
              "\n",
              "               93        94        95        96        97        98        99  \n",
              "accord   0.061560 -0.199367  0.290576 -0.095604  0.392089 -0.137236  0.251410  \n",
              "company  0.158887 -0.505630  0.756447 -0.246921  1.011545 -0.345945  0.639058  \n",
              "ha       0.137753 -0.454218  0.671103 -0.214550  0.896852 -0.298330  0.566395  \n",
              "plan     0.059968 -0.180424  0.261398 -0.083551  0.357025 -0.122432  0.230536  \n",
              "move     0.033405 -0.094183  0.129522 -0.047543  0.175237 -0.063794  0.118300  \n",
              "\n",
              "[5 rows x 100 columns]"
            ],
            "text/html": [
              "\n",
              "  <div id=\"df-57047c3e-e386-4ddc-8db3-b2ee8e266e2d\">\n",
              "    <div class=\"colab-df-container\">\n",
              "      <div>\n",
              "<style scoped>\n",
              "    .dataframe tbody tr th:only-of-type {\n",
              "        vertical-align: middle;\n",
              "    }\n",
              "\n",
              "    .dataframe tbody tr th {\n",
              "        vertical-align: top;\n",
              "    }\n",
              "\n",
              "    .dataframe thead th {\n",
              "        text-align: right;\n",
              "    }\n",
              "</style>\n",
              "<table border=\"1\" class=\"dataframe\">\n",
              "  <thead>\n",
              "    <tr style=\"text-align: right;\">\n",
              "      <th></th>\n",
              "      <th>0</th>\n",
              "      <th>1</th>\n",
              "      <th>2</th>\n",
              "      <th>3</th>\n",
              "      <th>4</th>\n",
              "      <th>5</th>\n",
              "      <th>6</th>\n",
              "      <th>7</th>\n",
              "      <th>8</th>\n",
              "      <th>9</th>\n",
              "      <th>...</th>\n",
              "      <th>90</th>\n",
              "      <th>91</th>\n",
              "      <th>92</th>\n",
              "      <th>93</th>\n",
              "      <th>94</th>\n",
              "      <th>95</th>\n",
              "      <th>96</th>\n",
              "      <th>97</th>\n",
              "      <th>98</th>\n",
              "      <th>99</th>\n",
              "    </tr>\n",
              "  </thead>\n",
              "  <tbody>\n",
              "    <tr>\n",
              "      <th>accord</th>\n",
              "      <td>0.054131</td>\n",
              "      <td>0.144866</td>\n",
              "      <td>-0.042151</td>\n",
              "      <td>-0.094070</td>\n",
              "      <td>-0.278253</td>\n",
              "      <td>-0.029878</td>\n",
              "      <td>0.106025</td>\n",
              "      <td>-0.251583</td>\n",
              "      <td>0.069588</td>\n",
              "      <td>-0.031832</td>\n",
              "      <td>...</td>\n",
              "      <td>0.327839</td>\n",
              "      <td>0.064705</td>\n",
              "      <td>0.048471</td>\n",
              "      <td>0.061560</td>\n",
              "      <td>-0.199367</td>\n",
              "      <td>0.290576</td>\n",
              "      <td>-0.095604</td>\n",
              "      <td>0.392089</td>\n",
              "      <td>-0.137236</td>\n",
              "      <td>0.251410</td>\n",
              "    </tr>\n",
              "    <tr>\n",
              "      <th>company</th>\n",
              "      <td>0.131216</td>\n",
              "      <td>0.378040</td>\n",
              "      <td>-0.099386</td>\n",
              "      <td>-0.234960</td>\n",
              "      <td>-0.708164</td>\n",
              "      <td>-0.069964</td>\n",
              "      <td>0.262776</td>\n",
              "      <td>-0.643718</td>\n",
              "      <td>0.190382</td>\n",
              "      <td>-0.096455</td>\n",
              "      <td>...</td>\n",
              "      <td>0.857023</td>\n",
              "      <td>0.166895</td>\n",
              "      <td>0.123595</td>\n",
              "      <td>0.158887</td>\n",
              "      <td>-0.505630</td>\n",
              "      <td>0.756447</td>\n",
              "      <td>-0.246921</td>\n",
              "      <td>1.011545</td>\n",
              "      <td>-0.345945</td>\n",
              "      <td>0.639058</td>\n",
              "    </tr>\n",
              "    <tr>\n",
              "      <th>ha</th>\n",
              "      <td>0.117255</td>\n",
              "      <td>0.329789</td>\n",
              "      <td>-0.088003</td>\n",
              "      <td>-0.208013</td>\n",
              "      <td>-0.623343</td>\n",
              "      <td>-0.067470</td>\n",
              "      <td>0.229130</td>\n",
              "      <td>-0.575575</td>\n",
              "      <td>0.167898</td>\n",
              "      <td>-0.081749</td>\n",
              "      <td>...</td>\n",
              "      <td>0.760263</td>\n",
              "      <td>0.147539</td>\n",
              "      <td>0.105412</td>\n",
              "      <td>0.137753</td>\n",
              "      <td>-0.454218</td>\n",
              "      <td>0.671103</td>\n",
              "      <td>-0.214550</td>\n",
              "      <td>0.896852</td>\n",
              "      <td>-0.298330</td>\n",
              "      <td>0.566395</td>\n",
              "    </tr>\n",
              "    <tr>\n",
              "      <th>plan</th>\n",
              "      <td>0.048741</td>\n",
              "      <td>0.128585</td>\n",
              "      <td>-0.034159</td>\n",
              "      <td>-0.079583</td>\n",
              "      <td>-0.254172</td>\n",
              "      <td>-0.027394</td>\n",
              "      <td>0.089148</td>\n",
              "      <td>-0.224847</td>\n",
              "      <td>0.063533</td>\n",
              "      <td>-0.032146</td>\n",
              "      <td>...</td>\n",
              "      <td>0.297119</td>\n",
              "      <td>0.061896</td>\n",
              "      <td>0.040369</td>\n",
              "      <td>0.059968</td>\n",
              "      <td>-0.180424</td>\n",
              "      <td>0.261398</td>\n",
              "      <td>-0.083551</td>\n",
              "      <td>0.357025</td>\n",
              "      <td>-0.122432</td>\n",
              "      <td>0.230536</td>\n",
              "    </tr>\n",
              "    <tr>\n",
              "      <th>move</th>\n",
              "      <td>0.021666</td>\n",
              "      <td>0.064521</td>\n",
              "      <td>-0.017181</td>\n",
              "      <td>-0.045787</td>\n",
              "      <td>-0.122815</td>\n",
              "      <td>-0.017496</td>\n",
              "      <td>0.044130</td>\n",
              "      <td>-0.119058</td>\n",
              "      <td>0.035872</td>\n",
              "      <td>-0.019832</td>\n",
              "      <td>...</td>\n",
              "      <td>0.145960</td>\n",
              "      <td>0.034154</td>\n",
              "      <td>0.019226</td>\n",
              "      <td>0.033405</td>\n",
              "      <td>-0.094183</td>\n",
              "      <td>0.129522</td>\n",
              "      <td>-0.047543</td>\n",
              "      <td>0.175237</td>\n",
              "      <td>-0.063794</td>\n",
              "      <td>0.118300</td>\n",
              "    </tr>\n",
              "  </tbody>\n",
              "</table>\n",
              "<p>5 rows × 100 columns</p>\n",
              "</div>\n",
              "      <button class=\"colab-df-convert\" onclick=\"convertToInteractive('df-57047c3e-e386-4ddc-8db3-b2ee8e266e2d')\"\n",
              "              title=\"Convert this dataframe to an interactive table.\"\n",
              "              style=\"display:none;\">\n",
              "        \n",
              "  <svg xmlns=\"http://www.w3.org/2000/svg\" height=\"24px\"viewBox=\"0 0 24 24\"\n",
              "       width=\"24px\">\n",
              "    <path d=\"M0 0h24v24H0V0z\" fill=\"none\"/>\n",
              "    <path d=\"M18.56 5.44l.94 2.06.94-2.06 2.06-.94-2.06-.94-.94-2.06-.94 2.06-2.06.94zm-11 1L8.5 8.5l.94-2.06 2.06-.94-2.06-.94L8.5 2.5l-.94 2.06-2.06.94zm10 10l.94 2.06.94-2.06 2.06-.94-2.06-.94-.94-2.06-.94 2.06-2.06.94z\"/><path d=\"M17.41 7.96l-1.37-1.37c-.4-.4-.92-.59-1.43-.59-.52 0-1.04.2-1.43.59L10.3 9.45l-7.72 7.72c-.78.78-.78 2.05 0 2.83L4 21.41c.39.39.9.59 1.41.59.51 0 1.02-.2 1.41-.59l7.78-7.78 2.81-2.81c.8-.78.8-2.07 0-2.86zM5.41 20L4 18.59l7.72-7.72 1.47 1.35L5.41 20z\"/>\n",
              "  </svg>\n",
              "      </button>\n",
              "      \n",
              "  <style>\n",
              "    .colab-df-container {\n",
              "      display:flex;\n",
              "      flex-wrap:wrap;\n",
              "      gap: 12px;\n",
              "    }\n",
              "\n",
              "    .colab-df-convert {\n",
              "      background-color: #E8F0FE;\n",
              "      border: none;\n",
              "      border-radius: 50%;\n",
              "      cursor: pointer;\n",
              "      display: none;\n",
              "      fill: #1967D2;\n",
              "      height: 32px;\n",
              "      padding: 0 0 0 0;\n",
              "      width: 32px;\n",
              "    }\n",
              "\n",
              "    .colab-df-convert:hover {\n",
              "      background-color: #E2EBFA;\n",
              "      box-shadow: 0px 1px 2px rgba(60, 64, 67, 0.3), 0px 1px 3px 1px rgba(60, 64, 67, 0.15);\n",
              "      fill: #174EA6;\n",
              "    }\n",
              "\n",
              "    [theme=dark] .colab-df-convert {\n",
              "      background-color: #3B4455;\n",
              "      fill: #D2E3FC;\n",
              "    }\n",
              "\n",
              "    [theme=dark] .colab-df-convert:hover {\n",
              "      background-color: #434B5C;\n",
              "      box-shadow: 0px 1px 3px 1px rgba(0, 0, 0, 0.15);\n",
              "      filter: drop-shadow(0px 1px 2px rgba(0, 0, 0, 0.3));\n",
              "      fill: #FFFFFF;\n",
              "    }\n",
              "  </style>\n",
              "\n",
              "      <script>\n",
              "        const buttonEl =\n",
              "          document.querySelector('#df-57047c3e-e386-4ddc-8db3-b2ee8e266e2d button.colab-df-convert');\n",
              "        buttonEl.style.display =\n",
              "          google.colab.kernel.accessAllowed ? 'block' : 'none';\n",
              "\n",
              "        async function convertToInteractive(key) {\n",
              "          const element = document.querySelector('#df-57047c3e-e386-4ddc-8db3-b2ee8e266e2d');\n",
              "          const dataTable =\n",
              "            await google.colab.kernel.invokeFunction('convertToInteractive',\n",
              "                                                     [key], {});\n",
              "          if (!dataTable) return;\n",
              "\n",
              "          const docLinkHtml = 'Like what you see? Visit the ' +\n",
              "            '<a target=\"_blank\" href=https://colab.research.google.com/notebooks/data_table.ipynb>data table notebook</a>'\n",
              "            + ' to learn more about interactive tables.';\n",
              "          element.innerHTML = '';\n",
              "          dataTable['output_type'] = 'display_data';\n",
              "          await google.colab.output.renderOutput(dataTable, element);\n",
              "          const docLink = document.createElement('div');\n",
              "          docLink.innerHTML = docLinkHtml;\n",
              "          element.appendChild(docLink);\n",
              "        }\n",
              "      </script>\n",
              "    </div>\n",
              "  </div>\n",
              "  "
            ]
          },
          "metadata": {},
          "execution_count": 12
        }
      ]
    },
    {
      "cell_type": "code",
      "source": [],
      "metadata": {
        "id": "GgEpqkzbEjQR"
      },
      "execution_count": null,
      "outputs": []
    },
    {
      "cell_type": "markdown",
      "source": [
        "2. Visualizar los resultados obtenidos en el ejercicio 1 mediante alguna técnica de reducción dimensional si fuera necesario."
      ],
      "metadata": {
        "id": "deAK62czETFw"
      }
    },
    {
      "cell_type": "markdown",
      "source": [
        "Bag of words"
      ],
      "metadata": {
        "id": "GsY27n48GeeP"
      }
    },
    {
      "cell_type": "code",
      "source": [
        "tsne = PCA(n_components=100, svd_solver='full')\n",
        "np.set_printoptions(suppress=True)\n",
        "weights = tsne.fit_transform(dense_matrix)"
      ],
      "metadata": {
        "id": "hKNXMqFzGWwh"
      },
      "execution_count": null,
      "outputs": []
    },
    {
      "cell_type": "code",
      "source": [
        "tsne.explained_variance_\n",
        "\n",
        "plt.scatter(weights[:,0], weights[:,1], c = new_data.new_label, alpha=0.5)\n"
      ],
      "metadata": {
        "colab": {
          "base_uri": "https://localhost:8080/",
          "height": 282
        },
        "id": "e8sRHGtfIn0B",
        "outputId": "c3feea1d-88c2-41eb-fa32-d14867fef56a"
      },
      "execution_count": null,
      "outputs": [
        {
          "output_type": "execute_result",
          "data": {
            "text/plain": [
              "<matplotlib.collections.PathCollection at 0x7f64953f7f90>"
            ]
          },
          "metadata": {},
          "execution_count": 14
        },
        {
          "output_type": "display_data",
          "data": {
            "text/plain": [
              "<Figure size 432x288 with 1 Axes>"
            ],
            "image/png": "[encoded data removed]"
          },
          "metadata": {
            "needs_background": "light"
          }
        }
      ]
    },
    {
      "cell_type": "code",
      "source": [
        "fig = plt.figure()\n",
        "ax = fig.add_subplot(111, projection='3d')\n",
        "ax.scatter(weights[:,0],\n",
        "           weights[:,1],\n",
        "           weights[:,2],\n",
        "           c=new_data.new_label)\n",
        "\n",
        "ax.set_xlabel('X Label')\n",
        "ax.set_ylabel('Y Label')\n",
        "ax.set_zlabel('Z Label')\n",
        "\n",
        "plt.show()"
      ],
      "metadata": {
        "colab": {
          "base_uri": "https://localhost:8080/",
          "height": 248
        },
        "id": "6esIn62uJF9a",
        "outputId": "de9c58ed-0669-461a-b103-5776de533753"
      },
      "execution_count": null,
      "outputs": [
        {
          "output_type": "display_data",
          "data": {
            "text/plain": [
              "<Figure size 432x288 with 1 Axes>"
            ],
            "image/png": "[encoded data removed]"
          },
          "metadata": {
            "needs_background": "light"
          }
        }
      ]
    },
    {
      "cell_type": "markdown",
      "source": [
        "TF-IDF"
      ],
      "metadata": {
        "id": "RSVacP3Eb3si"
      }
    },
    {
      "cell_type": "code",
      "source": [
        "tsne2 = PCA(n_components=100, svd_solver='full')\n",
        "np.set_printoptions(suppress=True)\n",
        "weights = tsne.fit_transform(dense_matrix2)"
      ],
      "metadata": {
        "id": "lVm84LOHNN12"
      },
      "execution_count": null,
      "outputs": []
    },
    {
      "cell_type": "code",
      "source": [
        "\n",
        "\n",
        "plt.scatter(weights[:,0], weights[:,1], c = new_data.new_label, alpha=0.5)"
      ],
      "metadata": {
        "colab": {
          "base_uri": "https://localhost:8080/",
          "height": 282
        },
        "id": "QtCxRoUNb98j",
        "outputId": "c8193fb7-aaba-4e83-8f41-fe6e6c1e72ce"
      },
      "execution_count": null,
      "outputs": [
        {
          "output_type": "execute_result",
          "data": {
            "text/plain": [
              "<matplotlib.collections.PathCollection at 0x7f64954521d0>"
            ]
          },
          "metadata": {},
          "execution_count": 17
        },
        {
          "output_type": "display_data",
          "data": {
            "text/plain": [
              "<Figure size 432x288 with 1 Axes>"
            ],
            "image/png": "[encoded data removed]"
          },
          "metadata": {
            "needs_background": "light"
          }
        }
      ]
    },
    {
      "cell_type": "code",
      "source": [
        "fig = plt.figure()\n",
        "ax = fig.add_subplot(111, projection='3d')\n",
        "ax.scatter(weights[:,0],\n",
        "           weights[:,1],\n",
        "           weights[:,2],\n",
        "           c=new_data.new_label)\n",
        "\n",
        "ax.set_xlabel('X Label')\n",
        "ax.set_ylabel('Y Label')\n",
        "ax.set_zlabel('Z Label')\n",
        "\n",
        "plt.show()"
      ],
      "metadata": {
        "colab": {
          "base_uri": "https://localhost:8080/",
          "height": 248
        },
        "id": "VKUiZ9tjb_3u",
        "outputId": "50fdf570-f7de-469e-cd97-e36764ef0e48"
      },
      "execution_count": null,
      "outputs": [
        {
          "output_type": "display_data",
          "data": {
            "text/plain": [
              "<Figure size 432x288 with 1 Axes>"
            ],
            "image/png": "[encoded data removed]"
          },
          "metadata": {
            "needs_background": "light"
          }
        }
      ]
    },
    {
      "cell_type": "markdown",
      "source": [
        "word to vect"
      ],
      "metadata": {
        "id": "DviDFUDYGajL"
      }
    },
    {
      "cell_type": "code",
      "source": [
        "PCA = PCA(n_components=2, svd_solver='full')\n",
        "weights = PCA.fit_transform(df)\n",
        "labels = df.index"
      ],
      "metadata": {
        "id": "Lq5kKTss-W6l"
      },
      "execution_count": null,
      "outputs": []
    },
    {
      "cell_type": "code",
      "source": [
        "plt.figure(figsize=(10, 8))\n",
        "plt.scatter(weights[:, 0], weights[:, 1], c='steelblue', edgecolors='k')\n",
        "for label, x, y in zip(labels, weights[:, 0], weights[:, 1]):\n",
        "    plt.annotate(label, xy=(x, y), ha= 'center')\n",
        "plt.show()"
      ],
      "metadata": {
        "colab": {
          "base_uri": "https://localhost:8080/",
          "height": 483
        },
        "id": "wzWtD_RlFtaY",
        "outputId": "c32eed17-ff1a-4e43-ef13-269c7772dce1"
      },
      "execution_count": null,
      "outputs": [
        {
          "output_type": "display_data",
          "data": {
            "text/plain": [
              "<Figure size 720x576 with 1 Axes>"
            ],
            "image/png": "[encoded data removed]"
          },
          "metadata": {
            "needs_background": "light"
          }
        }
      ]
    },
    {
      "cell_type": "markdown",
      "source": [
        "3 Mediante el dataset Financial PhraseBank (para\n",
        "las frases 100% agree con el dataset de clase) construir un clasificador de sentimientos con las \n",
        "siguientes técnicas. Comparar sobre test los resultados de vuestro modelo con algún modelo de \n",
        "análisis de sentimiento ya implementado como nltk y etc:\n",
        "\n",
        "Se evaluarán los resultados en función de la distancia al benchmark 0.98 acc(allagree), la \n",
        "complejidad de la solución (embeddings utilizados y entrenados, etc) y la\n",
        "explicación del proceso.\n",
        "\n",
        "• Redes recurrentes\n",
        "\n",
        "• Redes convolucionales\n",
        "\n",
        "• transformers"
      ],
      "metadata": {
        "id": "-iEwdNTOKD1H"
      }
    },
    {
      "cell_type": "code",
      "source": [
        "def tokenize_documents(corpus):\n",
        "    tokenizer = text.Tokenizer()\n",
        "    tokenizer.fit_on_texts(corpus)\n",
        "    word2id = tokenizer.word_index\n",
        "    id2word = {v: k for k, v in word2id.items()}\n",
        "    int_corpus = [\n",
        "        [word2id[w] for w in text.text_to_word_sequence(doc)] for doc in corpus\n",
        "    ]\n",
        "    word_corpus = [\n",
        "        [w for w in text.text_to_word_sequence(doc)] for doc in corpus\n",
        "    ]\n",
        "\n",
        "    return int_corpus, word_corpus, word2id, id2word"
      ],
      "metadata": {
        "id": "QvPAMnb89tSQ"
      },
      "execution_count": null,
      "outputs": []
    },
    {
      "cell_type": "code",
      "source": [
        "corpus = new_data[\"new_phrase\"].values # Seleccionamos la columna que nos interesa y vemos que todo está todo en minuscula\n",
        "corpus = tokenize_documents(corpus) # tokenizamos el corpus con la función de arriba dada en clase\n",
        "\n",
        "labels = new_data[\"new_label\"] # Utilizo la columna 'new_labels' como labels"
      ],
      "metadata": {
        "id": "8BEXWt8u9tPs"
      },
      "execution_count": null,
      "outputs": []
    },
    {
      "cell_type": "code",
      "source": [
        "# Vemos la longitud de los corpus y nos da que vamos a tener descripciones desde 2 tokens hasta 36 tokens\n",
        "#y la mayoria de las descripciones estan entre 5 y 15 tokens\n",
        "plt.hist([len(i) for i in corpus[0]])\n",
        "plt.show()"
      ],
      "metadata": {
        "colab": {
          "base_uri": "https://localhost:8080/",
          "height": 265
        },
        "id": "vL91mxs69tNO",
        "outputId": "9e6e73cb-882a-49ab-9af0-dc003460e962"
      },
      "execution_count": null,
      "outputs": [
        {
          "output_type": "display_data",
          "data": {
            "text/plain": [
              "<Figure size 432x288 with 1 Axes>"
            ],
            "image/png": "[encoded data removed]"
          },
          "metadata": {
            "needs_background": "light"
          }
        }
      ]
    },
    {
      "cell_type": "code",
      "source": [
        "maxlen = 36\n",
        "textos = pad_sequences(corpus[0], maxlen=maxlen, dtype='int32',\n",
        "                                padding='pre',\n",
        "                                truncating='pre',\n",
        "                                value=0.0)\n",
        "\n",
        "# Ponemos padding y truncating como 'pre' para que los 0 me aparezcan al principio para tratar de poner la informacion lo mas cerca posible de la zona donde \n",
        "#vamos a realizar la predicción final para no introducir ruido sobre los calculos donde hay información"
      ],
      "metadata": {
        "id": "ht2qZDwcGtoX"
      },
      "execution_count": null,
      "outputs": []
    },
    {
      "cell_type": "code",
      "source": [
        "textos"
      ],
      "metadata": {
        "colab": {
          "base_uri": "https://localhost:8080/"
        },
        "id": "hUuixTZHK9p_",
        "outputId": "c5cad011-e9b9-4038-9109-0ec0452fe1aa"
      },
      "execution_count": null,
      "outputs": [
        {
          "output_type": "execute_result",
          "data": {
            "text/plain": [
              "array([[   0,    0,    0, ..., 1664,    3,  104],\n",
              "       [   0,    0,    0, ...,  133,   30, 1665],\n",
              "       [   0,    0,    0, ...,    1, 1066,    2],\n",
              "       ...,\n",
              "       [   0,    0,    0, ..., 2104, 1328,  410],\n",
              "       [   0,    0,    0, ...,    1, 2342,    2],\n",
              "       [   0,    0,    0, ...,   27,  247,  235]], dtype=int32)"
            ]
          },
          "metadata": {},
          "execution_count": 25
        }
      ]
    },
    {
      "cell_type": "code",
      "source": [
        "labels.unique()"
      ],
      "metadata": {
        "colab": {
          "base_uri": "https://localhost:8080/"
        },
        "id": "Ks7K49IeVNi1",
        "outputId": "1f57c40f-96da-48e0-9aa3-b2daddf85bf7"
      },
      "execution_count": null,
      "outputs": [
        {
          "output_type": "execute_result",
          "data": {
            "text/plain": [
              "array([1, 2, 0])"
            ]
          },
          "metadata": {},
          "execution_count": 26
        }
      ]
    },
    {
      "cell_type": "code",
      "source": [
        "#Partición de los datos\n",
        "only_new_labels = new_data.new_label.to_numpy() \n",
        "x_train, x_test, y_train, y_test = train_test_split(textos, only_new_labels, test_size= 0.2)"
      ],
      "metadata": {
        "id": "eba4-LQRtIQd"
      },
      "execution_count": null,
      "outputs": []
    },
    {
      "cell_type": "code",
      "source": [
        "type(only_new_labels)\n"
      ],
      "metadata": {
        "colab": {
          "base_uri": "https://localhost:8080/"
        },
        "id": "litfNPNE1SBH",
        "outputId": "43eab447-f926-4250-ccfe-5761d2e3e8df"
      },
      "execution_count": null,
      "outputs": [
        {
          "output_type": "execute_result",
          "data": {
            "text/plain": [
              "numpy.ndarray"
            ]
          },
          "metadata": {},
          "execution_count": 28
        }
      ]
    },
    {
      "cell_type": "code",
      "source": [
        "textos.shape"
      ],
      "metadata": {
        "colab": {
          "base_uri": "https://localhost:8080/"
        },
        "id": "6uPp2utXu-yJ",
        "outputId": "1810badf-413d-467d-93d3-2629464f7383"
      },
      "execution_count": null,
      "outputs": [
        {
          "output_type": "execute_result",
          "data": {
            "text/plain": [
              "(2262, 36)"
            ]
          },
          "metadata": {},
          "execution_count": 29
        }
      ]
    },
    {
      "cell_type": "code",
      "source": [
        "print(len(x_train))\n",
        "print(len(x_test))\n",
        "print(len(y_train))\n",
        "print(len(y_test))"
      ],
      "metadata": {
        "colab": {
          "base_uri": "https://localhost:8080/"
        },
        "id": "-LCQS2uKysSH",
        "outputId": "47902eeb-64d7-496c-a420-4081c0a73ecd"
      },
      "execution_count": null,
      "outputs": [
        {
          "output_type": "stream",
          "name": "stdout",
          "text": [
            "1809\n",
            "453\n",
            "1809\n",
            "453\n"
          ]
        }
      ]
    },
    {
      "cell_type": "code",
      "source": [
        "from keras.models import Sequential"
      ],
      "metadata": {
        "id": "QIvQsfffUc0m"
      },
      "execution_count": null,
      "outputs": []
    },
    {
      "cell_type": "code",
      "source": [
        "from keras.layers import Dense, Dropout, Embedding, LSTM, Bidirectional, SimpleRNN, Flatten"
      ],
      "metadata": {
        "id": "IRRqKecr0fQi"
      },
      "execution_count": null,
      "outputs": []
    },
    {
      "cell_type": "code",
      "source": [
        "input_dim = len(textos)\n",
        "input_dim"
      ],
      "metadata": {
        "colab": {
          "base_uri": "https://localhost:8080/"
        },
        "id": "VASUUPmRvzFa",
        "outputId": "dbf5c079-5ee0-48ce-8a55-141f2b2c35b7"
      },
      "execution_count": null,
      "outputs": [
        {
          "output_type": "execute_result",
          "data": {
            "text/plain": [
              "2262"
            ]
          },
          "metadata": {},
          "execution_count": 33
        }
      ]
    },
    {
      "cell_type": "markdown",
      "source": [
        "REDES RECURRENTES"
      ],
      "metadata": {
        "id": "0IIzFIEc_Qgy"
      }
    },
    {
      "cell_type": "code",
      "source": [
        "model = Sequential()\n",
        "\n",
        "model.add(Embedding(input_dim = len(corpus[2])+1,\n",
        "                    output_dim = 128,\n",
        "                    input_length = maxlen))\n",
        "#model.add(SimpleRNN(64)) \n",
        "model.add(LSTM(64))\n",
        "#model.add(Bidirectional(SimpleRNN(64)))\n",
        "model.add(Dropout(0.5))\n",
        "model.add(Dense(3, \n",
        "                activation='softmax'))\n",
        "\n",
        "model.compile('adam',\n",
        "              'sparse_categorical_crossentropy',\n",
        "              metrics=['accuracy'])\n",
        "\n",
        "hist = model.fit(x_train, y_train,\n",
        "          batch_size=128,\n",
        "          epochs=30,\n",
        "          validation_split=0.2)\n",
        "\n",
        "model.evaluate(x_test, y_test)"
      ],
      "metadata": {
        "id": "B2Otr1r2LJ-g",
        "colab": {
          "base_uri": "https://localhost:8080/"
        },
        "outputId": "3de40b2a-fe0a-4eca-eae6-500fb5332550"
      },
      "execution_count": null,
      "outputs": [
        {
          "output_type": "stream",
          "name": "stdout",
          "text": [
            "Epoch 1/30\n",
            "12/12 [==============================] - 5s 208ms/step - loss: 1.0142 - accuracy: 0.5764 - val_loss: 0.8508 - val_accuracy: 0.6271\n",
            "Epoch 2/30\n",
            "12/12 [==============================] - 1s 93ms/step - loss: 0.8548 - accuracy: 0.6213 - val_loss: 0.7720 - val_accuracy: 0.6575\n",
            "Epoch 3/30\n",
            "12/12 [==============================] - 1s 97ms/step - loss: 0.7166 - accuracy: 0.6849 - val_loss: 0.6465 - val_accuracy: 0.7486\n",
            "Epoch 4/30\n",
            "12/12 [==============================] - 1s 104ms/step - loss: 0.5620 - accuracy: 0.7713 - val_loss: 0.5800 - val_accuracy: 0.7597\n",
            "Epoch 5/30\n",
            "12/12 [==============================] - 1s 92ms/step - loss: 0.4635 - accuracy: 0.8017 - val_loss: 0.5200 - val_accuracy: 0.7762\n",
            "Epoch 6/30\n",
            "12/12 [==============================] - 1s 93ms/step - loss: 0.3798 - accuracy: 0.8293 - val_loss: 0.5028 - val_accuracy: 0.7818\n",
            "Epoch 7/30\n",
            "12/12 [==============================] - 1s 95ms/step - loss: 0.3145 - accuracy: 0.8514 - val_loss: 0.5211 - val_accuracy: 0.7818\n",
            "Epoch 8/30\n",
            "12/12 [==============================] - 1s 93ms/step - loss: 0.2580 - accuracy: 0.8798 - val_loss: 0.4977 - val_accuracy: 0.7790\n",
            "Epoch 9/30\n",
            "12/12 [==============================] - 1s 106ms/step - loss: 0.1881 - accuracy: 0.9185 - val_loss: 0.5443 - val_accuracy: 0.7790\n",
            "Epoch 10/30\n",
            "12/12 [==============================] - 1s 106ms/step - loss: 0.1395 - accuracy: 0.9620 - val_loss: 0.5904 - val_accuracy: 0.8066\n",
            "Epoch 11/30\n",
            "12/12 [==============================] - 1s 106ms/step - loss: 0.0885 - accuracy: 0.9800 - val_loss: 0.6679 - val_accuracy: 0.7983\n",
            "Epoch 12/30\n",
            "12/12 [==============================] - 1s 105ms/step - loss: 0.0700 - accuracy: 0.9848 - val_loss: 0.6348 - val_accuracy: 0.8177\n",
            "Epoch 13/30\n",
            "12/12 [==============================] - 1s 97ms/step - loss: 0.0403 - accuracy: 0.9917 - val_loss: 0.6518 - val_accuracy: 0.8260\n",
            "Epoch 14/30\n",
            "12/12 [==============================] - 1s 91ms/step - loss: 0.0318 - accuracy: 0.9938 - val_loss: 0.5395 - val_accuracy: 0.8425\n",
            "Epoch 15/30\n",
            "12/12 [==============================] - 1s 103ms/step - loss: 0.0285 - accuracy: 0.9965 - val_loss: 0.6666 - val_accuracy: 0.8398\n",
            "Epoch 16/30\n",
            "12/12 [==============================] - 1s 108ms/step - loss: 0.0175 - accuracy: 0.9959 - val_loss: 0.6291 - val_accuracy: 0.8453\n",
            "Epoch 17/30\n",
            "12/12 [==============================] - 1s 105ms/step - loss: 0.0132 - accuracy: 0.9986 - val_loss: 0.6509 - val_accuracy: 0.8425\n",
            "Epoch 18/30\n",
            "12/12 [==============================] - 1s 105ms/step - loss: 0.0092 - accuracy: 0.9993 - val_loss: 0.6984 - val_accuracy: 0.8481\n",
            "Epoch 19/30\n",
            "12/12 [==============================] - 1s 110ms/step - loss: 0.0057 - accuracy: 1.0000 - val_loss: 0.7285 - val_accuracy: 0.8508\n",
            "Epoch 20/30\n",
            "12/12 [==============================] - 1s 103ms/step - loss: 0.0057 - accuracy: 0.9993 - val_loss: 0.7626 - val_accuracy: 0.8453\n",
            "Epoch 21/30\n",
            "12/12 [==============================] - 1s 92ms/step - loss: 0.0090 - accuracy: 0.9979 - val_loss: 0.7116 - val_accuracy: 0.8453\n",
            "Epoch 22/30\n",
            "12/12 [==============================] - 1s 92ms/step - loss: 0.0070 - accuracy: 1.0000 - val_loss: 0.6529 - val_accuracy: 0.8564\n",
            "Epoch 23/30\n",
            "12/12 [==============================] - 1s 92ms/step - loss: 0.0072 - accuracy: 0.9986 - val_loss: 0.6486 - val_accuracy: 0.8564\n",
            "Epoch 24/30\n",
            "12/12 [==============================] - 1s 95ms/step - loss: 0.0043 - accuracy: 1.0000 - val_loss: 0.7766 - val_accuracy: 0.8425\n",
            "Epoch 25/30\n",
            "12/12 [==============================] - 1s 92ms/step - loss: 0.0038 - accuracy: 0.9993 - val_loss: 0.8196 - val_accuracy: 0.8481\n",
            "Epoch 26/30\n",
            "12/12 [==============================] - 1s 92ms/step - loss: 0.0018 - accuracy: 1.0000 - val_loss: 0.8255 - val_accuracy: 0.8481\n",
            "Epoch 27/30\n",
            "12/12 [==============================] - 1s 93ms/step - loss: 0.0018 - accuracy: 1.0000 - val_loss: 0.8639 - val_accuracy: 0.8425\n",
            "Epoch 28/30\n",
            "12/12 [==============================] - 1s 105ms/step - loss: 0.0015 - accuracy: 1.0000 - val_loss: 0.8891 - val_accuracy: 0.8453\n",
            "Epoch 29/30\n",
            "12/12 [==============================] - 1s 104ms/step - loss: 0.0017 - accuracy: 1.0000 - val_loss: 0.9172 - val_accuracy: 0.8453\n",
            "Epoch 30/30\n",
            "12/12 [==============================] - 1s 100ms/step - loss: 0.0014 - accuracy: 1.0000 - val_loss: 0.9204 - val_accuracy: 0.8508\n",
            "15/15 [==============================] - 0s 10ms/step - loss: 0.8035 - accuracy: 0.8499\n"
          ]
        },
        {
          "output_type": "execute_result",
          "data": {
            "text/plain": [
              "[0.8035189509391785, 0.8498896360397339]"
            ]
          },
          "metadata": {},
          "execution_count": 34
        }
      ]
    },
    {
      "cell_type": "markdown",
      "source": [
        "Comenzamos a probar el modelo con una red simple la cual daba un accuracy del 0.72.\n",
        "\n",
        "Utilizamos activation softmax para convertir los datos procesados en probabilidades. \n",
        "\n",
        "Tambien utilizamos una capa dropout para reducir el overfitting.\n",
        "\n",
        "Continuamos compilando con el método de descenso de gradiente 'ADAM' y usamos  'sparse_categorical_crossentropy' para calcular la perdida de entropia\n",
        "Despues probé con una red LSTM y el accuracy subió al 0.85 y bajo el val_acc de 1.2 a 0.80.\n",
        "\n",
        "Seguimos probando con una bidireccional pero nos reduce el accuracy al 0.72, asi que volvemos a la prueba anterior.\n",
        "\n",
        "Seguí probando con varios cambios y este modelo es el que me dió mejor resultado. Al ejecutarlo de nuevo el val_acc subió al 1.031\n",
        "\n"
      ],
      "metadata": {
        "id": "fpSw8bc99lPX"
      }
    },
    {
      "cell_type": "code",
      "source": [
        "plt.figure(figsize=(20, 5))\n",
        "plt.subplot(1,2,1)\n",
        "plt.plot(hist.history['accuracy'],label=\"acc\")\n",
        "plt.plot(hist.history['val_accuracy'],label=\"val_acc\")\n",
        "plt.legend()"
      ],
      "metadata": {
        "id": "d11DRSNk0bzm",
        "colab": {
          "base_uri": "https://localhost:8080/",
          "height": 337
        },
        "outputId": "8268331a-017f-45b1-fdc0-bb81826d5446"
      },
      "execution_count": null,
      "outputs": [
        {
          "output_type": "execute_result",
          "data": {
            "text/plain": [
              "<matplotlib.legend.Legend at 0x7f64990562d0>"
            ]
          },
          "metadata": {},
          "execution_count": 35
        },
        {
          "output_type": "display_data",
          "data": {
            "text/plain": [
              "<Figure size 1440x360 with 1 Axes>"
            ],
            "image/png": "[encoded data removed]"
          },
          "metadata": {
            "needs_background": "light"
          }
        }
      ]
    },
    {
      "cell_type": "markdown",
      "source": [
        " REDES CONVOLUCIONALES"
      ],
      "metadata": {
        "id": "xQ3J0PCIFiOU"
      }
    },
    {
      "cell_type": "code",
      "source": [
        "from tensorflow.keras.layers import Dense, Conv1D, GRU, MaxPooling1D\n",
        "from tensorflow.keras import optimizers\n",
        "from keras.layers import GlobalMaxPooling1D\n"
      ],
      "metadata": {
        "id": "FoiMVAehGdak"
      },
      "execution_count": null,
      "outputs": []
    },
    {
      "cell_type": "code",
      "source": [
        "model2 = Sequential ()\n",
        "\n",
        "model2.add(Embedding(input_dim = len(corpus[2])+1,\n",
        "                    output_dim = 128,\n",
        "                    input_length = maxlen))\n",
        "\n",
        "model2.add(Conv1D(128, \n",
        "                  kernel_size = 5, \n",
        "                  activation=\"relu\"))\n",
        "\n",
        "model2.add(Dense(128, \n",
        "                 activation=\"relu\"))\n",
        "\n",
        "model2.add(MaxPooling1D())\n",
        "\n",
        "model2.add(Flatten())\n",
        "\n",
        "model2.add(Dropout(0.5))\n",
        "\n",
        "model2.add(Dense(units=60, \n",
        "                 activation = 'softmax'))\n",
        "\n",
        "\n",
        "model2.compile(optimizer = 'adam',\n",
        "              loss = 'sparse_categorical_crossentropy',\n",
        "              metrics=['accuracy'])\n",
        "\n",
        "hist2 = model2.fit(x_train, y_train,\n",
        "          batch_size=128,\n",
        "          epochs=30,\n",
        "          validation_split=0.2)\n",
        "\n",
        "model2.evaluate(x_test, y_test)\n",
        "\n",
        "#Comenzamos el modelo metiendo el Embedding. \n",
        "# Utilizo una capa Conv1D de 128.\n",
        "# A continuación añado una capa Dense con activacion 'relu', seguida de una capa Maxpooling que educe la muestra de la representación de entrada tomando el valor máximo de una ventana.\n",
        "# Seguimos de una capa Flatten para unidimensionalizar la entrada multidimensional.\n",
        "# Para reducir el overfitting utilizamos una capa Dropout de 0.5\n",
        "# Finalmente añadimos una capa Dense con activacion 'softmax' y compilamos \n"
      ],
      "metadata": {
        "id": "zA2gzAwwvrMA",
        "colab": {
          "base_uri": "https://localhost:8080/"
        },
        "outputId": "30d22953-0145-41ab-a52d-44290e9456f2"
      },
      "execution_count": null,
      "outputs": [
        {
          "output_type": "stream",
          "name": "stdout",
          "text": [
            "Epoch 1/30\n",
            "12/12 [==============================] - 3s 205ms/step - loss: 3.1140 - accuracy: 0.5314 - val_loss: 1.0537 - val_accuracy: 0.6271\n",
            "Epoch 2/30\n",
            "12/12 [==============================] - 1s 90ms/step - loss: 1.0044 - accuracy: 0.5847 - val_loss: 0.8720 - val_accuracy: 0.6326\n",
            "Epoch 3/30\n",
            "12/12 [==============================] - 1s 86ms/step - loss: 0.9144 - accuracy: 0.6040 - val_loss: 0.7980 - val_accuracy: 0.6823\n",
            "Epoch 4/30\n",
            "12/12 [==============================] - 1s 100ms/step - loss: 0.7761 - accuracy: 0.6849 - val_loss: 0.7051 - val_accuracy: 0.7486\n",
            "Epoch 5/30\n",
            "12/12 [==============================] - 1s 100ms/step - loss: 0.6042 - accuracy: 0.7560 - val_loss: 0.5800 - val_accuracy: 0.7652\n",
            "Epoch 6/30\n",
            "12/12 [==============================] - 1s 93ms/step - loss: 0.4477 - accuracy: 0.8086 - val_loss: 0.5320 - val_accuracy: 0.7762\n",
            "Epoch 7/30\n",
            "12/12 [==============================] - 1s 95ms/step - loss: 0.3493 - accuracy: 0.8376 - val_loss: 0.5125 - val_accuracy: 0.7818\n",
            "Epoch 8/30\n",
            "12/12 [==============================] - 1s 91ms/step - loss: 0.2726 - accuracy: 0.8749 - val_loss: 0.5065 - val_accuracy: 0.7845\n",
            "Epoch 9/30\n",
            "12/12 [==============================] - 1s 86ms/step - loss: 0.2222 - accuracy: 0.9019 - val_loss: 0.4964 - val_accuracy: 0.7901\n",
            "Epoch 10/30\n",
            "12/12 [==============================] - 1s 87ms/step - loss: 0.1628 - accuracy: 0.9399 - val_loss: 0.4873 - val_accuracy: 0.8094\n",
            "Epoch 11/30\n",
            "12/12 [==============================] - 1s 94ms/step - loss: 0.0909 - accuracy: 0.9758 - val_loss: 0.5028 - val_accuracy: 0.8232\n",
            "Epoch 12/30\n",
            "12/12 [==============================] - 1s 88ms/step - loss: 0.0482 - accuracy: 0.9889 - val_loss: 0.4942 - val_accuracy: 0.8370\n",
            "Epoch 13/30\n",
            "12/12 [==============================] - 1s 87ms/step - loss: 0.0260 - accuracy: 0.9952 - val_loss: 0.5115 - val_accuracy: 0.8425\n",
            "Epoch 14/30\n",
            "12/12 [==============================] - 1s 87ms/step - loss: 0.0137 - accuracy: 0.9979 - val_loss: 0.5560 - val_accuracy: 0.8398\n",
            "Epoch 15/30\n",
            "12/12 [==============================] - 1s 86ms/step - loss: 0.0081 - accuracy: 1.0000 - val_loss: 0.5830 - val_accuracy: 0.8370\n",
            "Epoch 16/30\n",
            "12/12 [==============================] - 1s 102ms/step - loss: 0.0050 - accuracy: 1.0000 - val_loss: 0.5948 - val_accuracy: 0.8398\n",
            "Epoch 17/30\n",
            "12/12 [==============================] - 1s 96ms/step - loss: 0.0039 - accuracy: 1.0000 - val_loss: 0.5990 - val_accuracy: 0.8398\n",
            "Epoch 18/30\n",
            "12/12 [==============================] - 1s 91ms/step - loss: 0.0030 - accuracy: 1.0000 - val_loss: 0.6005 - val_accuracy: 0.8398\n",
            "Epoch 19/30\n",
            "12/12 [==============================] - 1s 98ms/step - loss: 0.0026 - accuracy: 1.0000 - val_loss: 0.6138 - val_accuracy: 0.8398\n",
            "Epoch 20/30\n",
            "12/12 [==============================] - 1s 93ms/step - loss: 0.0018 - accuracy: 1.0000 - val_loss: 0.6215 - val_accuracy: 0.8370\n",
            "Epoch 21/30\n",
            "12/12 [==============================] - 1s 86ms/step - loss: 0.0017 - accuracy: 1.0000 - val_loss: 0.6328 - val_accuracy: 0.8453\n",
            "Epoch 22/30\n",
            "12/12 [==============================] - 1s 88ms/step - loss: 0.0015 - accuracy: 1.0000 - val_loss: 0.6416 - val_accuracy: 0.8425\n",
            "Epoch 23/30\n",
            "12/12 [==============================] - 1s 109ms/step - loss: 0.0010 - accuracy: 1.0000 - val_loss: 0.6549 - val_accuracy: 0.8425\n",
            "Epoch 24/30\n",
            "12/12 [==============================] - 2s 168ms/step - loss: 0.0011 - accuracy: 1.0000 - val_loss: 0.6601 - val_accuracy: 0.8370\n",
            "Epoch 25/30\n",
            "12/12 [==============================] - 1s 99ms/step - loss: 0.0010 - accuracy: 1.0000 - val_loss: 0.6784 - val_accuracy: 0.8425\n",
            "Epoch 26/30\n",
            "12/12 [==============================] - 1s 86ms/step - loss: 0.0012 - accuracy: 1.0000 - val_loss: 0.6809 - val_accuracy: 0.8425\n",
            "Epoch 27/30\n",
            "12/12 [==============================] - 1s 100ms/step - loss: 9.1850e-04 - accuracy: 1.0000 - val_loss: 0.6740 - val_accuracy: 0.8398\n",
            "Epoch 28/30\n",
            "12/12 [==============================] - 1s 92ms/step - loss: 6.9080e-04 - accuracy: 1.0000 - val_loss: 0.6816 - val_accuracy: 0.8425\n",
            "Epoch 29/30\n",
            "12/12 [==============================] - 1s 86ms/step - loss: 7.4337e-04 - accuracy: 1.0000 - val_loss: 0.6918 - val_accuracy: 0.8398\n",
            "Epoch 30/30\n",
            "12/12 [==============================] - 1s 92ms/step - loss: 5.1484e-04 - accuracy: 1.0000 - val_loss: 0.6957 - val_accuracy: 0.8398\n",
            "15/15 [==============================] - 0s 9ms/step - loss: 0.5320 - accuracy: 0.8433\n"
          ]
        },
        {
          "output_type": "execute_result",
          "data": {
            "text/plain": [
              "[0.5319944024085999, 0.8432670831680298]"
            ]
          },
          "metadata": {},
          "execution_count": 37
        }
      ]
    },
    {
      "cell_type": "markdown",
      "source": [
        "Comenzamos el modelo metiendo el Embedding.\n",
        "\n",
        "Utilizo una capa Conv1D de 128.\n",
        "\n",
        "A continuación añado una capa Dense con activacion 'relu', seguida de una capa Maxpooling que educe la muestra de la representación de entrada tomando el valor máximo de una ventana.\n",
        "\n",
        "Seguimos de una capa Flatten para unidimensionalizar la entrada multidimensional.\n",
        "\n",
        "Para reducir el overfitting utilizamos una capa Dropout de 0.5.\n",
        "Finalmente añadimos una capa Dense con activacion 'softmax' y compilamos.\n",
        "\n",
        "En hist2 probamos con 30 épocas y el accuracy es de 0.80.\n",
        "Probamos con 50 epocas y nos baja a 0.75, asi que dejamos las 30 épocas.\n",
        "Seguimos probando y en la ultima capa Dense aumentamos a 60 units y subimos el accuracy a 0.84."
      ],
      "metadata": {
        "id": "R_qF3-2XYXdK"
      }
    },
    {
      "cell_type": "markdown",
      "source": [],
      "metadata": {
        "id": "IzT1qUSNYWBk"
      }
    },
    {
      "cell_type": "code",
      "source": [
        "plt.figure(figsize=(20, 5))\n",
        "plt.subplot(1,2,1)\n",
        "plt.plot(hist2.history['accuracy'],label=\"acc\")\n",
        "plt.plot(hist2.history['val_accuracy'],label=\"val_acc\")\n",
        "plt.legend()\n"
      ],
      "metadata": {
        "colab": {
          "base_uri": "https://localhost:8080/",
          "height": 337
        },
        "id": "93CL9h1LYQGT",
        "outputId": "6cf8ba04-044f-4d89-df83-99ffe8caab3c"
      },
      "execution_count": null,
      "outputs": [
        {
          "output_type": "execute_result",
          "data": {
            "text/plain": [
              "<matplotlib.legend.Legend at 0x7f6488b7b710>"
            ]
          },
          "metadata": {},
          "execution_count": 38
        },
        {
          "output_type": "display_data",
          "data": {
            "text/plain": [
              "<Figure size 1440x360 with 1 Axes>"
            ],
            "image/png": "[encoded data removed]"
          },
          "metadata": {
            "needs_background": "light"
          }
        }
      ]
    },
    {
      "cell_type": "markdown",
      "source": [
        "TRANSFORMERS"
      ],
      "metadata": {
        "id": "GZSNKNPib5bo"
      }
    },
    {
      "cell_type": "code",
      "source": [
        "!pip install -q tensorflow-text\n",
        "!pip install -q tf-models-official\n",
        "!pip install -q -U keras-tuner"
      ],
      "metadata": {
        "id": "Y6XgLYMN34ez"
      },
      "execution_count": null,
      "outputs": []
    },
    {
      "cell_type": "code",
      "source": [
        "import tensorflow as tf\n",
        "import tensorflow_hub as hub\n",
        "import tensorflow_text as text #LIBRERIA SEÑALADA EN LA PRIMERA CELDA\n",
        "from official.nlp import optimization\n",
        "from sklearn.utils import shuffle"
      ],
      "metadata": {
        "id": "Y46VoSlC6Wzz"
      },
      "execution_count": null,
      "outputs": []
    },
    {
      "cell_type": "code",
      "source": [
        "from sklearn.utils import shuffle"
      ],
      "metadata": {
        "id": "3drEvLLT6Yos"
      },
      "execution_count": null,
      "outputs": []
    },
    {
      "cell_type": "code",
      "source": [
        "bert_model_name = 'small_bert/bert_en_uncased_L-12_H-768_A-12'\n",
        "\n",
        "map_name_to_handle = {\n",
        "    'bert_en_uncased_L-12_H-768_A-12':\n",
        "        'https://tfhub.dev/tensorflow/bert_en_uncased_L-12_H-768_A-12/3',\n",
        "    'bert_en_cased_L-12_H-768_A-12':\n",
        "        'https://tfhub.dev/tensorflow/bert_en_cased_L-12_H-768_A-12/3',\n",
        "    'bert_multi_cased_L-12_H-768_A-12':\n",
        "        'https://tfhub.dev/tensorflow/bert_multi_cased_L-12_H-768_A-12/3',\n",
        "    'small_bert/bert_en_uncased_L-2_H-128_A-2':\n",
        "        'https://tfhub.dev/tensorflow/small_bert/bert_en_uncased_L-2_H-128_A-2/1',\n",
        "    'small_bert/bert_en_uncased_L-2_H-256_A-4':\n",
        "        'https://tfhub.dev/tensorflow/small_bert/bert_en_uncased_L-2_H-256_A-4/1',\n",
        "    'small_bert/bert_en_uncased_L-2_H-512_A-8':\n",
        "        'https://tfhub.dev/tensorflow/small_bert/bert_en_uncased_L-2_H-512_A-8/1',\n",
        "    'small_bert/bert_en_uncased_L-2_H-768_A-12':\n",
        "        'https://tfhub.dev/tensorflow/small_bert/bert_en_uncased_L-2_H-768_A-12/1',\n",
        "    'small_bert/bert_en_uncased_L-4_H-128_A-2':\n",
        "        'https://tfhub.dev/tensorflow/small_bert/bert_en_uncased_L-4_H-128_A-2/1',\n",
        "    'small_bert/bert_en_uncased_L-4_H-256_A-4':\n",
        "        'https://tfhub.dev/tensorflow/small_bert/bert_en_uncased_L-4_H-256_A-4/1',\n",
        "    'small_bert/bert_en_uncased_L-4_H-512_A-8':\n",
        "        'https://tfhub.dev/tensorflow/small_bert/bert_en_uncased_L-4_H-512_A-8/1',\n",
        "    'small_bert/bert_en_uncased_L-4_H-768_A-12':\n",
        "        'https://tfhub.dev/tensorflow/small_bert/bert_en_uncased_L-4_H-768_A-12/1',\n",
        "    'small_bert/bert_en_uncased_L-6_H-128_A-2':\n",
        "        'https://tfhub.dev/tensorflow/small_bert/bert_en_uncased_L-6_H-128_A-2/1',\n",
        "    'small_bert/bert_en_uncased_L-6_H-256_A-4':\n",
        "        'https://tfhub.dev/tensorflow/small_bert/bert_en_uncased_L-6_H-256_A-4/1',\n",
        "    'small_bert/bert_en_uncased_L-6_H-512_A-8':\n",
        "        'https://tfhub.dev/tensorflow/small_bert/bert_en_uncased_L-6_H-512_A-8/1',\n",
        "    'small_bert/bert_en_uncased_L-6_H-768_A-12':\n",
        "        'https://tfhub.dev/tensorflow/small_bert/bert_en_uncased_L-6_H-768_A-12/1',\n",
        "    'small_bert/bert_en_uncased_L-8_H-128_A-2':\n",
        "        'https://tfhub.dev/tensorflow/small_bert/bert_en_uncased_L-8_H-128_A-2/1',\n",
        "    'small_bert/bert_en_uncased_L-8_H-256_A-4':\n",
        "        'https://tfhub.dev/tensorflow/small_bert/bert_en_uncased_L-8_H-256_A-4/1',\n",
        "    'small_bert/bert_en_uncased_L-8_H-512_A-8':\n",
        "        'https://tfhub.dev/tensorflow/small_bert/bert_en_uncased_L-8_H-512_A-8/1',\n",
        "    'small_bert/bert_en_uncased_L-8_H-768_A-12':\n",
        "        'https://tfhub.dev/tensorflow/small_bert/bert_en_uncased_L-8_H-768_A-12/1',\n",
        "    'small_bert/bert_en_uncased_L-10_H-128_A-2':\n",
        "        'https://tfhub.dev/tensorflow/small_bert/bert_en_uncased_L-10_H-128_A-2/1',\n",
        "    'small_bert/bert_en_uncased_L-10_H-256_A-4':\n",
        "        'https://tfhub.dev/tensorflow/small_bert/bert_en_uncased_L-10_H-256_A-4/1',\n",
        "    'small_bert/bert_en_uncased_L-10_H-512_A-8':\n",
        "        'https://tfhub.dev/tensorflow/small_bert/bert_en_uncased_L-10_H-512_A-8/1',\n",
        "    'small_bert/bert_en_uncased_L-10_H-768_A-12':\n",
        "        'https://tfhub.dev/tensorflow/small_bert/bert_en_uncased_L-10_H-768_A-12/1',\n",
        "    'small_bert/bert_en_uncased_L-12_H-128_A-2':\n",
        "        'https://tfhub.dev/tensorflow/small_bert/bert_en_uncased_L-12_H-128_A-2/1',\n",
        "    'small_bert/bert_en_uncased_L-12_H-256_A-4':\n",
        "        'https://tfhub.dev/tensorflow/small_bert/bert_en_uncased_L-12_H-256_A-4/1',\n",
        "    'small_bert/bert_en_uncased_L-12_H-512_A-8':\n",
        "        'https://tfhub.dev/tensorflow/small_bert/bert_en_uncased_L-12_H-512_A-8/1',\n",
        "    'small_bert/bert_en_uncased_L-12_H-768_A-12':\n",
        "        'https://tfhub.dev/tensorflow/small_bert/bert_en_uncased_L-12_H-768_A-12/1',\n",
        "    'albert_en_base':\n",
        "        'https://tfhub.dev/tensorflow/albert_en_base/2',\n",
        "    'electra_small':\n",
        "        'https://tfhub.dev/google/electra_small/2',\n",
        "    'electra_base':\n",
        "        'https://tfhub.dev/google/electra_base/2',\n",
        "    'experts_pubmed':\n",
        "        'https://tfhub.dev/google/experts/bert/pubmed/2',\n",
        "    'experts_wiki_books':\n",
        "        'https://tfhub.dev/google/experts/bert/wiki_books/2',\n",
        "    'talking-heads_base':\n",
        "        'https://tfhub.dev/tensorflow/talkheads_ggelu_bert_en_base/1',\n",
        "}\n",
        "\n",
        "map_model_to_preprocess = {\n",
        "    'bert_en_uncased_L-12_H-768_A-12':\n",
        "        'https://tfhub.dev/tensorflow/bert_en_uncased_preprocess/1',\n",
        "    'bert_en_cased_L-12_H-768_A-12':\n",
        "        'https://tfhub.dev/tensorflow/bert_en_cased_preprocess/1',\n",
        "    'small_bert/bert_en_uncased_L-2_H-128_A-2':\n",
        "        'https://tfhub.dev/tensorflow/bert_en_uncased_preprocess/1',\n",
        "    'small_bert/bert_en_uncased_L-2_H-256_A-4':\n",
        "        'https://tfhub.dev/tensorflow/bert_en_uncased_preprocess/1',\n",
        "    'small_bert/bert_en_uncased_L-2_H-512_A-8':\n",
        "        'https://tfhub.dev/tensorflow/bert_en_uncased_preprocess/1',\n",
        "    'small_bert/bert_en_uncased_L-2_H-768_A-12':\n",
        "        'https://tfhub.dev/tensorflow/bert_en_uncased_preprocess/1',\n",
        "    'small_bert/bert_en_uncased_L-4_H-128_A-2':\n",
        "        'https://tfhub.dev/tensorflow/bert_en_uncased_preprocess/1',\n",
        "    'small_bert/bert_en_uncased_L-4_H-256_A-4':\n",
        "        'https://tfhub.dev/tensorflow/bert_en_uncased_preprocess/1',\n",
        "    'small_bert/bert_en_uncased_L-4_H-512_A-8':\n",
        "        'https://tfhub.dev/tensorflow/bert_en_uncased_preprocess/1',\n",
        "    'small_bert/bert_en_uncased_L-4_H-768_A-12':\n",
        "        'https://tfhub.dev/tensorflow/bert_en_uncased_preprocess/1',\n",
        "    'small_bert/bert_en_uncased_L-6_H-128_A-2':\n",
        "        'https://tfhub.dev/tensorflow/bert_en_uncased_preprocess/1',\n",
        "    'small_bert/bert_en_uncased_L-6_H-256_A-4':\n",
        "        'https://tfhub.dev/tensorflow/bert_en_uncased_preprocess/1',\n",
        "    'small_bert/bert_en_uncased_L-6_H-512_A-8':\n",
        "        'https://tfhub.dev/tensorflow/bert_en_uncased_preprocess/1',\n",
        "    'small_bert/bert_en_uncased_L-6_H-768_A-12':\n",
        "        'https://tfhub.dev/tensorflow/bert_en_uncased_preprocess/1',\n",
        "    'small_bert/bert_en_uncased_L-8_H-128_A-2':\n",
        "        'https://tfhub.dev/tensorflow/bert_en_uncased_preprocess/1',\n",
        "    'small_bert/bert_en_uncased_L-8_H-256_A-4':\n",
        "        'https://tfhub.dev/tensorflow/bert_en_uncased_preprocess/1',\n",
        "    'small_bert/bert_en_uncased_L-8_H-512_A-8':\n",
        "        'https://tfhub.dev/tensorflow/bert_en_uncased_preprocess/1',\n",
        "    'small_bert/bert_en_uncased_L-8_H-768_A-12':\n",
        "        'https://tfhub.dev/tensorflow/bert_en_uncased_preprocess/1',\n",
        "    'small_bert/bert_en_uncased_L-10_H-128_A-2':\n",
        "        'https://tfhub.dev/tensorflow/bert_en_uncased_preprocess/1',\n",
        "    'small_bert/bert_en_uncased_L-10_H-256_A-4':\n",
        "        'https://tfhub.dev/tensorflow/bert_en_uncased_preprocess/1',\n",
        "    'small_bert/bert_en_uncased_L-10_H-512_A-8':\n",
        "        'https://tfhub.dev/tensorflow/bert_en_uncased_preprocess/1',\n",
        "    'small_bert/bert_en_uncased_L-10_H-768_A-12':\n",
        "        'https://tfhub.dev/tensorflow/bert_en_uncased_preprocess/1',\n",
        "    'small_bert/bert_en_uncased_L-12_H-128_A-2':\n",
        "        'https://tfhub.dev/tensorflow/bert_en_uncased_preprocess/1',\n",
        "    'small_bert/bert_en_uncased_L-12_H-256_A-4':\n",
        "        'https://tfhub.dev/tensorflow/bert_en_uncased_preprocess/1',\n",
        "    'small_bert/bert_en_uncased_L-12_H-512_A-8':\n",
        "        'https://tfhub.dev/tensorflow/bert_en_uncased_preprocess/1',\n",
        "    'small_bert/bert_en_uncased_L-12_H-768_A-12':\n",
        "        'https://tfhub.dev/tensorflow/bert_en_uncased_preprocess/1',\n",
        "    'bert_multi_cased_L-12_H-768_A-12':\n",
        "        'https://tfhub.dev/tensorflow/bert_multi_cased_preprocess/1',\n",
        "    'albert_en_base':\n",
        "        'https://tfhub.dev/tensorflow/albert_en_preprocess/1',\n",
        "    'electra_small':\n",
        "        'https://tfhub.dev/tensorflow/bert_en_uncased_preprocess/1',\n",
        "    'electra_base':\n",
        "        'https://tfhub.dev/tensorflow/bert_en_uncased_preprocess/1',\n",
        "    'experts_pubmed':\n",
        "        'https://tfhub.dev/tensorflow/bert_en_uncased_preprocess/1',\n",
        "    'experts_wiki_books':\n",
        "        'https://tfhub.dev/tensorflow/bert_en_uncased_preprocess/1',\n",
        "    'talking-heads_base':\n",
        "        'https://tfhub.dev/tensorflow/bert_en_uncased_preprocess/1',\n",
        "}\n",
        "\n",
        "tfhub_handle_encoder = map_name_to_handle[bert_model_name]\n",
        "tfhub_handle_preprocess = map_model_to_preprocess[bert_model_name]"
      ],
      "metadata": {
        "id": "dlkalt8PymWq"
      },
      "execution_count": null,
      "outputs": []
    },
    {
      "cell_type": "code",
      "source": [
        "encoder = hub.KerasLayer(\n",
        "        tfhub_handle_encoder,\n",
        "        trainable=True,\n",
        "        name='BERT_encoder'\n",
        ")"
      ],
      "metadata": {
        "colab": {
          "base_uri": "https://localhost:8080/"
        },
        "id": "NrpkLeanymUZ",
        "outputId": "2d95a6ef-edf0-4b13-a67d-580de89aacf9"
      },
      "execution_count": null,
      "outputs": [
        {
          "output_type": "stream",
          "name": "stderr",
          "text": [
            "WARNING:tensorflow:Please fix your imports. Module tensorflow.python.training.tracking.data_structures has been moved to tensorflow.python.trackable.data_structures. The old module will be deleted in version 2.11.\n"
          ]
        }
      ]
    },
    {
      "cell_type": "code",
      "source": [
        "def build_classifier_model(encoder, processer, epochs_set, initial_learning_rate):\n",
        "    # Definición de la entrada del modelo\n",
        "    text_input = tf.keras.layers.Input(\n",
        "        shape=(),\n",
        "        dtype=tf.string,\n",
        "        name='text'\n",
        "    )\n",
        "    # Definición del preprocesador para bert\n",
        "    preprocessing_layer = hub.KerasLayer(\n",
        "        processer,\n",
        "        name='preprocessing'\n",
        "    )\n",
        "    encoder_inputs = preprocessing_layer(text_input)\n",
        "\n",
        "    # Definición del Modelo Bert para codificar la información.\n",
        "    encoder = hub.KerasLayer(\n",
        "        encoder,\n",
        "        trainable=True,\n",
        "        name='BERT_encoder'\n",
        "    )\n",
        "    outputs = encoder(encoder_inputs)\n",
        "   \n",
        "    # Seleccionamos la representación del documento entero.\n",
        "    net = outputs['pooled_output']\n",
        "   \n",
        "    # Definimos la arquitectura del modelo de salida ajustada a la tarea\n",
        "    net = tf.keras.layers.Dropout(0.5)(net)\n",
        "    net = tf.keras.layers.Dense(units = 512, activation='selu')(net)\n",
        "    net = tf.keras.layers.Dense(units = 256, activation='selu')(net)\n",
        "    net = tf.keras.layers.Dense(units = 128, activation='selu')(net)\n",
        "    net = tf.keras.layers.Dense(units = 64, activation='selu')(net)\n",
        "    net = tf.keras.layers.Dense(units = 32, activation='selu')(net)\n",
        "    net = tf.keras.layers.Dense(8, activation='selu')(net)\n",
        "    net = tf.keras.layers.Dense(3, activation='softmax', name='classifier')(net)\n",
        "    \n",
        "    classifier_model = tf.keras.Model(text_input, net)\n",
        "    \n",
        "    # Definición del optimizador para el problema\n",
        "    epochs = epochs_set\n",
        "    steps_per_epoch = new_data.shape[0] \n",
        "    num_train_steps = steps_per_epoch * epochs\n",
        "    num_warmup_steps = int(0.1*num_train_steps)\n",
        "   \n",
        "    optimizer = optimization.create_optimizer(\n",
        "        init_lr=initial_learning_rate,\n",
        "        num_train_steps=num_train_steps,\n",
        "        num_warmup_steps=num_warmup_steps,\n",
        "        optimizer_type='adamw'\n",
        "      )\n",
        "    # Compilación del modelo\n",
        "    classifier_model.compile(\n",
        "        optimizer=optimizer,\n",
        "        loss=\"sparse_categorical_crossentropy\",\n",
        "        metrics=[\"accuracy\"]\n",
        "      )\n",
        "\n",
        "    \n",
        "    return classifier_model"
      ],
      "metadata": {
        "id": "5FPMIdUcymQT"
      },
      "execution_count": null,
      "outputs": []
    },
    {
      "cell_type": "code",
      "source": [
        "#Construimosel modelo con la función anterior\n",
        "epocas = 100\n",
        "\n",
        "model3 = build_classifier_model(\n",
        "    tfhub_handle_encoder,\n",
        "    tfhub_handle_preprocess,\n",
        "    epocas,\n",
        "    5e-5\n",
        ")\n",
        "model3.summary()"
      ],
      "metadata": {
        "colab": {
          "base_uri": "https://localhost:8080/"
        },
        "id": "XlJUdZ7jymOC",
        "outputId": "9f62bef6-412e-480c-e4b7-587e1d06f499"
      },
      "execution_count": null,
      "outputs": [
        {
          "output_type": "stream",
          "name": "stdout",
          "text": [
            "Model: \"model\"\n",
            "__________________________________________________________________________________________________\n",
            " Layer (type)                   Output Shape         Param #     Connected to                     \n",
            "==================================================================================================\n",
            " text (InputLayer)              [(None,)]            0           []                               \n",
            "                                                                                                  \n",
            " preprocessing (KerasLayer)     {'input_mask': (Non  0           ['text[0][0]']                   \n",
            "                                e, 128),                                                          \n",
            "                                 'input_word_ids':                                                \n",
            "                                (None, 128),                                                      \n",
            "                                 'input_type_ids':                                                \n",
            "                                (None, 128)}                                                      \n",
            "                                                                                                  \n",
            " BERT_encoder (KerasLayer)      {'encoder_outputs':  109482241   ['preprocessing[0][0]',          \n",
            "                                 [(None, 128, 768),               'preprocessing[0][1]',          \n",
            "                                 (None, 128, 768),                'preprocessing[0][2]']          \n",
            "                                 (None, 128, 768),                                                \n",
            "                                 (None, 128, 768),                                                \n",
            "                                 (None, 128, 768),                                                \n",
            "                                 (None, 128, 768),                                                \n",
            "                                 (None, 128, 768),                                                \n",
            "                                 (None, 128, 768),                                                \n",
            "                                 (None, 128, 768),                                                \n",
            "                                 (None, 128, 768),                                                \n",
            "                                 (None, 128, 768),                                                \n",
            "                                 (None, 128, 768)],                                               \n",
            "                                 'default': (None,                                                \n",
            "                                768),                                                             \n",
            "                                 'pooled_output': (                                               \n",
            "                                None, 768),                                                       \n",
            "                                 'sequence_output':                                               \n",
            "                                 (None, 128, 768)}                                                \n",
            "                                                                                                  \n",
            " dropout (Dropout)              (None, 768)          0           ['BERT_encoder[0][13]']          \n",
            "                                                                                                  \n",
            " dense (Dense)                  (None, 512)          393728      ['dropout[0][0]']                \n",
            "                                                                                                  \n",
            " dense_1 (Dense)                (None, 256)          131328      ['dense[0][0]']                  \n",
            "                                                                                                  \n",
            " dense_2 (Dense)                (None, 128)          32896       ['dense_1[0][0]']                \n",
            "                                                                                                  \n",
            " dense_3 (Dense)                (None, 64)           8256        ['dense_2[0][0]']                \n",
            "                                                                                                  \n",
            " dense_4 (Dense)                (None, 32)           2080        ['dense_3[0][0]']                \n",
            "                                                                                                  \n",
            " dense_5 (Dense)                (None, 16)           528         ['dense_4[0][0]']                \n",
            "                                                                                                  \n",
            " dense_6 (Dense)                (None, 8)            136         ['dense_5[0][0]']                \n",
            "                                                                                                  \n",
            " classifier (Dense)             (None, 3)            27          ['dense_6[0][0]']                \n",
            "                                                                                                  \n",
            "==================================================================================================\n",
            "Total params: 110,051,220\n",
            "Trainable params: 110,051,219\n",
            "Non-trainable params: 1\n",
            "__________________________________________________________________________________________________\n"
          ]
        }
      ]
    },
    {
      "cell_type": "code",
      "source": [
        "history = model3.fit(x=new_data.phrase[:1800],\n",
        "                    y=new_data.new_label[:1800],\n",
        "                    validation_split=0.1,\n",
        "                    batch_size=32,\n",
        "                    epochs=8\n",
        "                    )"
      ],
      "metadata": {
        "colab": {
          "base_uri": "https://localhost:8080/"
        },
        "id": "9b8dkSnMymLo",
        "outputId": "7756666d-56c2-4866-e3ec-c2c49221acc6"
      },
      "execution_count": null,
      "outputs": [
        {
          "output_type": "stream",
          "name": "stdout",
          "text": [
            "Epoch 1/8\n",
            "51/51 [==============================] - 48s 938ms/step - loss: 0.3651 - accuracy: 0.8778 - val_loss: 0.5422 - val_accuracy: 0.8056\n",
            "Epoch 2/8\n",
            "51/51 [==============================] - 47s 927ms/step - loss: 0.3307 - accuracy: 0.8969 - val_loss: 0.5773 - val_accuracy: 0.8111\n",
            "Epoch 3/8\n",
            "51/51 [==============================] - 47s 931ms/step - loss: 0.2862 - accuracy: 0.9093 - val_loss: 0.5252 - val_accuracy: 0.8222\n",
            "Epoch 4/8\n",
            "51/51 [==============================] - 47s 930ms/step - loss: 0.2452 - accuracy: 0.9296 - val_loss: 0.3736 - val_accuracy: 0.8611\n",
            "Epoch 5/8\n",
            "51/51 [==============================] - 47s 930ms/step - loss: 0.1928 - accuracy: 0.9463 - val_loss: 0.2642 - val_accuracy: 0.9278\n",
            "Epoch 6/8\n",
            "51/51 [==============================] - 48s 933ms/step - loss: 0.1552 - accuracy: 0.9580 - val_loss: 0.2528 - val_accuracy: 0.9222\n",
            "Epoch 7/8\n",
            "51/51 [==============================] - 48s 932ms/step - loss: 0.1350 - accuracy: 0.9685 - val_loss: 0.3669 - val_accuracy: 0.8833\n",
            "Epoch 8/8\n",
            "51/51 [==============================] - 47s 931ms/step - loss: 0.1163 - accuracy: 0.9691 - val_loss: 0.2046 - val_accuracy: 0.9389\n"
          ]
        }
      ]
    },
    {
      "cell_type": "markdown",
      "source": [
        "Cuando construimos metemos los datos pero no con la columna new_phrase sino con la que no se ha modificado(phrase).\n",
        "Creamos una funciñon que da entrada al modeloy del preprocesado.\n",
        "Seguidamente definimos el Modelo Bert y realizamos la arquitectura.\n",
        "por ultimo definimos el optimizados y compilamos el modelo como en los ejercicios anteriores cambiando el optimizer.\n",
        "Una vez terminada la función contruimos el modelo con tfhub_handle_encoder y tfhub_handle_preprocess y lo entrenamos con el fit.\n",
        "Al ir muy lento, activé la GPU y obtuve unos resutados peores con 10 epocas que con 8.\n",
        "La ultima ejecución es de 0.93. Superior a los anteriores modelo de redes recurrentes y convolucionales\n",
        "\n",
        "\n"
      ],
      "metadata": {
        "id": "WoHKa6kWFoFf"
      }
    },
    {
      "cell_type": "code",
      "source": [],
      "metadata": {
        "id": "ZWKrmT14ymJT"
      },
      "execution_count": null,
      "outputs": []
    },
    {
      "cell_type": "markdown",
      "source": [
        "2. Systemas de Recomendación"
      ],
      "metadata": {
        "id": "y-JIQwMHJTil"
      }
    },
    {
      "cell_type": "markdown",
      "source": [
        "Completar el modelo NeuMF sobre el dataset movilens visto en clase y analizar los resultados \n",
        "del modelo. Aplicar si es necesario algun tipo de preprocesado sobre los datos de entrada para \n",
        "obtener una mejor performance."
      ],
      "metadata": {
        "id": "y4NAoLCrJZ0L"
      }
    },
    {
      "cell_type": "code",
      "source": [
        "# DESCARGA DE DATOS\n",
        "from urllib.request import urlretrieve\n",
        "import zipfile\n",
        "\n",
        "urlretrieve(\"http://files.grouplens.org/datasets/movielens/ml-100k.zip\", \"movielens.zip\")\n",
        "zip_ref = zipfile.ZipFile('movielens.zip', \"r\")\n",
        "zip_ref.extractall()\n",
        "print(zip_ref.read('ml-100k/u.info'))\n",
        "\n",
        "# Carga de los datasets (users, movies, and ratings).\n",
        "users_cols = ['user_id', 'age', 'sex', 'occupation', 'zip_code']\n",
        "users = pd.read_csv(\n",
        "    'ml-100k/u.user', sep='|', names=users_cols, encoding='latin-1')\n",
        "\n",
        "ratings_cols = ['user_id', 'movie_id', 'rating', 'unix_timestamp']\n",
        "ratings = pd.read_csv(\n",
        "    'ml-100k/u.data', sep='\\t', names=ratings_cols, encoding='latin-1')\n",
        "genre_cols = [\n",
        "    \"genre_unknown\", \"Action\", \"Adventure\", \"Animation\", \"Children\", \"Comedy\",\n",
        "    \"Crime\", \"Documentary\", \"Drama\", \"Fantasy\", \"Film-Noir\", \"Horror\",\n",
        "    \"Musical\", \"Mystery\", \"Romance\", \"Sci-Fi\", \"Thriller\", \"War\", \"Western\"\n",
        "]\n",
        "movies_cols = [\n",
        "    'movie_id', 'title', 'release_date', \"video_release_date\", \"imdb_url\"\n",
        "] + genre_cols\n",
        "movies = pd.read_csv(\n",
        "    'ml-100k/u.item', sep='|', names=movies_cols, encoding='latin-1')\n",
        "\n",
        "# Como los ids empiezan en 1 los cambiamos a 0\n",
        "users[\"user_id\"] = users[\"user_id\"].apply(lambda x: str(x-1))\n",
        "movies[\"movie_id\"] = movies[\"movie_id\"].apply(lambda x: str(x-1))\n",
        "movies[\"year\"] = movies['release_date'].apply(lambda x: str(x).split('-')[-1])\n",
        "ratings[\"movie_id\"] = ratings[\"movie_id\"].apply(lambda x: str(x-1))\n",
        "ratings[\"user_id\"] = ratings[\"user_id\"].apply(lambda x: str(x-1))\n",
        "ratings[\"rating\"] = ratings[\"rating\"].apply(lambda x: float(x))\n",
        "\n",
        "genre_occurences = movies[genre_cols].sum().to_dict()\n",
        "\n",
        "# Peliculas en mas de un genero se ajusta.\n",
        "def mark_genres(movies, genres):\n",
        "  def get_random_genre(gs):\n",
        "    active = [genre for genre, g in zip(genres, gs) if g==1]\n",
        "    if len(active) == 0:\n",
        "      return 'Other'\n",
        "    return np.random.choice(active)\n",
        "  def get_all_genres(gs):\n",
        "    active = [genre for genre, g in zip(genres, gs) if g==1]\n",
        "    if len(active) == 0:\n",
        "      return 'Other'\n",
        "    return '-'.join(active)\n",
        "  movies['genre'] = [\n",
        "      get_random_genre(gs) for gs in zip(*[movies[genre] for genre in genres])]\n",
        "  movies['all_genres'] = [\n",
        "      get_all_genres(gs) for gs in zip(*[movies[genre] for genre in genres])]\n",
        "\n",
        "mark_genres(movies, genre_cols)\n",
        "\n",
        "\n",
        "movielens = ratings.merge(movies, on='movie_id').merge(users, on='user_id')\n",
        "\n",
        "def split_dataframe(df, holdout_fraction=0.1):\n",
        "\n",
        "  test = df.sample(frac=holdout_fraction, replace=False)\n",
        "  train = df[~df.index.isin(test.index)]\n",
        "  return train, test\n",
        "\n",
        "\n",
        "  "
      ],
      "metadata": {
        "colab": {
          "base_uri": "https://localhost:8080/"
        },
        "id": "Z4BEOj96JWBS",
        "outputId": "8669d497-7fa1-4832-da0d-04490121af68"
      },
      "execution_count": null,
      "outputs": [
        {
          "output_type": "stream",
          "name": "stdout",
          "text": [
            "b'943 users\\n1682 items\\n100000 ratings\\n'\n"
          ]
        }
      ]
    },
    {
      "cell_type": "code",
      "source": [
        "from __future__ import print_function\n",
        "\n",
        "import numpy as np\n",
        "import pandas as pd\n",
        "import collections\n",
        "from mpl_toolkits.mplot3d import Axes3D\n",
        "from IPython import display\n",
        "from matplotlib import pyplot as plt\n",
        "import sklearn\n",
        "import sklearn.manifold\n",
        "from tensorflow.keras.layers import Input, Embedding, Dense, Flatten, concatenate,multiply\n",
        "from tensorflow.keras.models import Model\n",
        "import matplotlib.pyplot as plt\n",
        "import tensorflow as tf\n",
        "\n",
        "pd.options.display.max_rows = 10\n",
        "pd.options.display.float_format = '{:.3f}'.format\n",
        "def mask(df, key, function):\n",
        "  \"\"\"Returns a filtered dataframe, by applying function to key\"\"\"\n",
        "  return df[function(df[key])]\n",
        "\n",
        "def flatten_cols(df):\n",
        "  df.columns = [' '.join(col).strip() for col in df.columns.values]\n",
        "  return df\n",
        "\n",
        "pd.DataFrame.mask = mask\n",
        "pd.DataFrame.flatten_cols = flatten_cols\n",
        "\n",
        "USER_RATINGS = False"
      ],
      "metadata": {
        "id": "0ozUBToPNGV5"
      },
      "execution_count": null,
      "outputs": []
    },
    {
      "cell_type": "code",
      "source": [
        "\n",
        "users_ratings = (\n",
        "    ratings\n",
        "    .groupby('user_id', as_index=False)\n",
        "    .agg({'rating': ['count', 'mean']})\n",
        "    .flatten_cols()\n",
        "    .merge(users, on='user_id')\n",
        ")\n",
        "users.head()"
      ],
      "metadata": {
        "colab": {
          "base_uri": "https://localhost:8080/",
          "height": 206
        },
        "id": "oT5uN842NU7a",
        "outputId": "462c903f-bf99-41f4-d4e3-4d2d44061171"
      },
      "execution_count": null,
      "outputs": [
        {
          "output_type": "execute_result",
          "data": {
            "text/plain": [
              "  user_id  age sex  occupation zip_code\n",
              "0       0   24   M  technician    85711\n",
              "1       1   53   F       other    94043\n",
              "2       2   23   M      writer    32067\n",
              "3       3   24   M  technician    43537\n",
              "4       4   33   F       other    15213"
            ],
            "text/html": [
              "\n",
              "  <div id=\"df-201f525a-4758-44ab-8d6e-2f866d6f3c0c\">\n",
              "    <div class=\"colab-df-container\">\n",
              "      <div>\n",
              "<style scoped>\n",
              "    .dataframe tbody tr th:only-of-type {\n",
              "        vertical-align: middle;\n",
              "    }\n",
              "\n",
              "    .dataframe tbody tr th {\n",
              "        vertical-align: top;\n",
              "    }\n",
              "\n",
              "    .dataframe thead th {\n",
              "        text-align: right;\n",
              "    }\n",
              "</style>\n",
              "<table border=\"1\" class=\"dataframe\">\n",
              "  <thead>\n",
              "    <tr style=\"text-align: right;\">\n",
              "      <th></th>\n",
              "      <th>user_id</th>\n",
              "      <th>age</th>\n",
              "      <th>sex</th>\n",
              "      <th>occupation</th>\n",
              "      <th>zip_code</th>\n",
              "    </tr>\n",
              "  </thead>\n",
              "  <tbody>\n",
              "    <tr>\n",
              "      <th>0</th>\n",
              "      <td>0</td>\n",
              "      <td>24</td>\n",
              "      <td>M</td>\n",
              "      <td>technician</td>\n",
              "      <td>85711</td>\n",
              "    </tr>\n",
              "    <tr>\n",
              "      <th>1</th>\n",
              "      <td>1</td>\n",
              "      <td>53</td>\n",
              "      <td>F</td>\n",
              "      <td>other</td>\n",
              "      <td>94043</td>\n",
              "    </tr>\n",
              "    <tr>\n",
              "      <th>2</th>\n",
              "      <td>2</td>\n",
              "      <td>23</td>\n",
              "      <td>M</td>\n",
              "      <td>writer</td>\n",
              "      <td>32067</td>\n",
              "    </tr>\n",
              "    <tr>\n",
              "      <th>3</th>\n",
              "      <td>3</td>\n",
              "      <td>24</td>\n",
              "      <td>M</td>\n",
              "      <td>technician</td>\n",
              "      <td>43537</td>\n",
              "    </tr>\n",
              "    <tr>\n",
              "      <th>4</th>\n",
              "      <td>4</td>\n",
              "      <td>33</td>\n",
              "      <td>F</td>\n",
              "      <td>other</td>\n",
              "      <td>15213</td>\n",
              "    </tr>\n",
              "  </tbody>\n",
              "</table>\n",
              "</div>\n",
              "      <button class=\"colab-df-convert\" onclick=\"convertToInteractive('df-201f525a-4758-44ab-8d6e-2f866d6f3c0c')\"\n",
              "              title=\"Convert this dataframe to an interactive table.\"\n",
              "              style=\"display:none;\">\n",
              "        \n",
              "  <svg xmlns=\"http://www.w3.org/2000/svg\" height=\"24px\"viewBox=\"0 0 24 24\"\n",
              "       width=\"24px\">\n",
              "    <path d=\"M0 0h24v24H0V0z\" fill=\"none\"/>\n",
              "    <path d=\"M18.56 5.44l.94 2.06.94-2.06 2.06-.94-2.06-.94-.94-2.06-.94 2.06-2.06.94zm-11 1L8.5 8.5l.94-2.06 2.06-.94-2.06-.94L8.5 2.5l-.94 2.06-2.06.94zm10 10l.94 2.06.94-2.06 2.06-.94-2.06-.94-.94-2.06-.94 2.06-2.06.94z\"/><path d=\"M17.41 7.96l-1.37-1.37c-.4-.4-.92-.59-1.43-.59-.52 0-1.04.2-1.43.59L10.3 9.45l-7.72 7.72c-.78.78-.78 2.05 0 2.83L4 21.41c.39.39.9.59 1.41.59.51 0 1.02-.2 1.41-.59l7.78-7.78 2.81-2.81c.8-.78.8-2.07 0-2.86zM5.41 20L4 18.59l7.72-7.72 1.47 1.35L5.41 20z\"/>\n",
              "  </svg>\n",
              "      </button>\n",
              "      \n",
              "  <style>\n",
              "    .colab-df-container {\n",
              "      display:flex;\n",
              "      flex-wrap:wrap;\n",
              "      gap: 12px;\n",
              "    }\n",
              "\n",
              "    .colab-df-convert {\n",
              "      background-color: #E8F0FE;\n",
              "      border: none;\n",
              "      border-radius: 50%;\n",
              "      cursor: pointer;\n",
              "      display: none;\n",
              "      fill: #1967D2;\n",
              "      height: 32px;\n",
              "      padding: 0 0 0 0;\n",
              "      width: 32px;\n",
              "    }\n",
              "\n",
              "    .colab-df-convert:hover {\n",
              "      background-color: #E2EBFA;\n",
              "      box-shadow: 0px 1px 2px rgba(60, 64, 67, 0.3), 0px 1px 3px 1px rgba(60, 64, 67, 0.15);\n",
              "      fill: #174EA6;\n",
              "    }\n",
              "\n",
              "    [theme=dark] .colab-df-convert {\n",
              "      background-color: #3B4455;\n",
              "      fill: #D2E3FC;\n",
              "    }\n",
              "\n",
              "    [theme=dark] .colab-df-convert:hover {\n",
              "      background-color: #434B5C;\n",
              "      box-shadow: 0px 1px 3px 1px rgba(0, 0, 0, 0.15);\n",
              "      filter: drop-shadow(0px 1px 2px rgba(0, 0, 0, 0.3));\n",
              "      fill: #FFFFFF;\n",
              "    }\n",
              "  </style>\n",
              "\n",
              "      <script>\n",
              "        const buttonEl =\n",
              "          document.querySelector('#df-201f525a-4758-44ab-8d6e-2f866d6f3c0c button.colab-df-convert');\n",
              "        buttonEl.style.display =\n",
              "          google.colab.kernel.accessAllowed ? 'block' : 'none';\n",
              "\n",
              "        async function convertToInteractive(key) {\n",
              "          const element = document.querySelector('#df-201f525a-4758-44ab-8d6e-2f866d6f3c0c');\n",
              "          const dataTable =\n",
              "            await google.colab.kernel.invokeFunction('convertToInteractive',\n",
              "                                                     [key], {});\n",
              "          if (!dataTable) return;\n",
              "\n",
              "          const docLinkHtml = 'Like what you see? Visit the ' +\n",
              "            '<a target=\"_blank\" href=https://colab.research.google.com/notebooks/data_table.ipynb>data table notebook</a>'\n",
              "            + ' to learn more about interactive tables.';\n",
              "          element.innerHTML = '';\n",
              "          dataTable['output_type'] = 'display_data';\n",
              "          await google.colab.output.renderOutput(dataTable, element);\n",
              "          const docLink = document.createElement('div');\n",
              "          docLink.innerHTML = docLinkHtml;\n",
              "          element.appendChild(docLink);\n",
              "        }\n",
              "      </script>\n",
              "    </div>\n",
              "  </div>\n",
              "  "
            ]
          },
          "metadata": {},
          "execution_count": 16
        }
      ]
    },
    {
      "cell_type": "code",
      "source": [
        "users_df = pd.get_dummies(users.drop(\"user_id\",axis=1)).dropna(axis=1)\n",
        "users_df[\"user_id\"] =users[\"user_id\"].values \n",
        "movies_df = pd.get_dummies(movies.drop(\"movie_id\",axis=1)).dropna(axis=1)\n",
        "movies_df[\"movie_id\"] =movies[\"movie_id\"].values "
      ],
      "metadata": {
        "id": "8yQP_GhwNfJM"
      },
      "execution_count": null,
      "outputs": []
    },
    {
      "cell_type": "code",
      "source": [
        "users_1d = ratings.user_id.astype(float)\n",
        "movies_1d = ratings.movie_id.astype(float)\n",
        "ratings_ = ratings.rating\n",
        "\n",
        "idx = np.random.choice(\n",
        "    range(users_1d.shape[0]),\n",
        "    size=80000,\n",
        "    replace=False\n",
        ")\n",
        "\n",
        "X1=users_1d.loc[idx]\n",
        "X2=movies_1d.loc[idx]\n",
        "y=ratings_.loc[idx]\n",
        "X1_t=users_1d.loc[~np.isin(users_1d.index,idx)]\n",
        "X2_t=movies_1d.loc[~np.isin(movies_1d.index,idx)]\n",
        "y_t=ratings_.loc[~np.isin(ratings_.index,idx)]"
      ],
      "metadata": {
        "id": "wdnhYqy6Nq-4"
      },
      "execution_count": null,
      "outputs": []
    },
    {
      "cell_type": "code",
      "source": [
        "R_df = ratings.pivot(index = 'user_id', columns ='movie_id', values = 'rating').fillna(0)\n",
        "R_df.head()"
      ],
      "metadata": {
        "colab": {
          "base_uri": "https://localhost:8080/",
          "height": 267
        },
        "id": "0sg9zz8ONsE3",
        "outputId": "1ea3c5ce-dd2f-4adf-8f51-034b61b19332"
      },
      "execution_count": null,
      "outputs": [
        {
          "output_type": "execute_result",
          "data": {
            "text/plain": [
              "movie_id     0     1    10   100  1000  1001  1002  1003  1004  1005  ...  \\\n",
              "user_id                                                               ...   \n",
              "0        5.000 3.000 2.000 2.000 0.000 0.000 0.000 0.000 0.000 0.000  ...   \n",
              "1        4.000 0.000 0.000 0.000 0.000 0.000 0.000 0.000 0.000 0.000  ...   \n",
              "10       0.000 0.000 2.000 0.000 0.000 0.000 0.000 0.000 0.000 0.000  ...   \n",
              "100      3.000 0.000 0.000 0.000 0.000 0.000 0.000 0.000 0.000 0.000  ...   \n",
              "101      3.000 2.000 3.000 4.000 0.000 0.000 0.000 0.000 0.000 0.000  ...   \n",
              "\n",
              "movie_id   990   991   992   993   994   995   996   997   998   999  \n",
              "user_id                                                               \n",
              "0        0.000 0.000 0.000 0.000 0.000 0.000 0.000 0.000 0.000 0.000  \n",
              "1        0.000 0.000 0.000 0.000 0.000 0.000 0.000 0.000 0.000 0.000  \n",
              "10       0.000 0.000 0.000 0.000 0.000 0.000 0.000 0.000 0.000 0.000  \n",
              "100      0.000 0.000 0.000 0.000 0.000 0.000 0.000 0.000 0.000 0.000  \n",
              "101      0.000 0.000 2.000 0.000 0.000 0.000 0.000 0.000 0.000 0.000  \n",
              "\n",
              "[5 rows x 1682 columns]"
            ],
            "text/html": [
              "\n",
              "  <div id=\"df-1e7832db-0afb-42ba-8de5-540349ca8d20\">\n",
              "    <div class=\"colab-df-container\">\n",
              "      <div>\n",
              "<style scoped>\n",
              "    .dataframe tbody tr th:only-of-type {\n",
              "        vertical-align: middle;\n",
              "    }\n",
              "\n",
              "    .dataframe tbody tr th {\n",
              "        vertical-align: top;\n",
              "    }\n",
              "\n",
              "    .dataframe thead th {\n",
              "        text-align: right;\n",
              "    }\n",
              "</style>\n",
              "<table border=\"1\" class=\"dataframe\">\n",
              "  <thead>\n",
              "    <tr style=\"text-align: right;\">\n",
              "      <th>movie_id</th>\n",
              "      <th>0</th>\n",
              "      <th>1</th>\n",
              "      <th>10</th>\n",
              "      <th>100</th>\n",
              "      <th>1000</th>\n",
              "      <th>1001</th>\n",
              "      <th>1002</th>\n",
              "      <th>1003</th>\n",
              "      <th>1004</th>\n",
              "      <th>1005</th>\n",
              "      <th>...</th>\n",
              "      <th>990</th>\n",
              "      <th>991</th>\n",
              "      <th>992</th>\n",
              "      <th>993</th>\n",
              "      <th>994</th>\n",
              "      <th>995</th>\n",
              "      <th>996</th>\n",
              "      <th>997</th>\n",
              "      <th>998</th>\n",
              "      <th>999</th>\n",
              "    </tr>\n",
              "    <tr>\n",
              "      <th>user_id</th>\n",
              "      <th></th>\n",
              "      <th></th>\n",
              "      <th></th>\n",
              "      <th></th>\n",
              "      <th></th>\n",
              "      <th></th>\n",
              "      <th></th>\n",
              "      <th></th>\n",
              "      <th></th>\n",
              "      <th></th>\n",
              "      <th></th>\n",
              "      <th></th>\n",
              "      <th></th>\n",
              "      <th></th>\n",
              "      <th></th>\n",
              "      <th></th>\n",
              "      <th></th>\n",
              "      <th></th>\n",
              "      <th></th>\n",
              "      <th></th>\n",
              "      <th></th>\n",
              "    </tr>\n",
              "  </thead>\n",
              "  <tbody>\n",
              "    <tr>\n",
              "      <th>0</th>\n",
              "      <td>5.000</td>\n",
              "      <td>3.000</td>\n",
              "      <td>2.000</td>\n",
              "      <td>2.000</td>\n",
              "      <td>0.000</td>\n",
              "      <td>0.000</td>\n",
              "      <td>0.000</td>\n",
              "      <td>0.000</td>\n",
              "      <td>0.000</td>\n",
              "      <td>0.000</td>\n",
              "      <td>...</td>\n",
              "      <td>0.000</td>\n",
              "      <td>0.000</td>\n",
              "      <td>0.000</td>\n",
              "      <td>0.000</td>\n",
              "      <td>0.000</td>\n",
              "      <td>0.000</td>\n",
              "      <td>0.000</td>\n",
              "      <td>0.000</td>\n",
              "      <td>0.000</td>\n",
              "      <td>0.000</td>\n",
              "    </tr>\n",
              "    <tr>\n",
              "      <th>1</th>\n",
              "      <td>4.000</td>\n",
              "      <td>0.000</td>\n",
              "      <td>0.000</td>\n",
              "      <td>0.000</td>\n",
              "      <td>0.000</td>\n",
              "      <td>0.000</td>\n",
              "      <td>0.000</td>\n",
              "      <td>0.000</td>\n",
              "      <td>0.000</td>\n",
              "      <td>0.000</td>\n",
              "      <td>...</td>\n",
              "      <td>0.000</td>\n",
              "      <td>0.000</td>\n",
              "      <td>0.000</td>\n",
              "      <td>0.000</td>\n",
              "      <td>0.000</td>\n",
              "      <td>0.000</td>\n",
              "      <td>0.000</td>\n",
              "      <td>0.000</td>\n",
              "      <td>0.000</td>\n",
              "      <td>0.000</td>\n",
              "    </tr>\n",
              "    <tr>\n",
              "      <th>10</th>\n",
              "      <td>0.000</td>\n",
              "      <td>0.000</td>\n",
              "      <td>2.000</td>\n",
              "      <td>0.000</td>\n",
              "      <td>0.000</td>\n",
              "      <td>0.000</td>\n",
              "      <td>0.000</td>\n",
              "      <td>0.000</td>\n",
              "      <td>0.000</td>\n",
              "      <td>0.000</td>\n",
              "      <td>...</td>\n",
              "      <td>0.000</td>\n",
              "      <td>0.000</td>\n",
              "      <td>0.000</td>\n",
              "      <td>0.000</td>\n",
              "      <td>0.000</td>\n",
              "      <td>0.000</td>\n",
              "      <td>0.000</td>\n",
              "      <td>0.000</td>\n",
              "      <td>0.000</td>\n",
              "      <td>0.000</td>\n",
              "    </tr>\n",
              "    <tr>\n",
              "      <th>100</th>\n",
              "      <td>3.000</td>\n",
              "      <td>0.000</td>\n",
              "      <td>0.000</td>\n",
              "      <td>0.000</td>\n",
              "      <td>0.000</td>\n",
              "      <td>0.000</td>\n",
              "      <td>0.000</td>\n",
              "      <td>0.000</td>\n",
              "      <td>0.000</td>\n",
              "      <td>0.000</td>\n",
              "      <td>...</td>\n",
              "      <td>0.000</td>\n",
              "      <td>0.000</td>\n",
              "      <td>0.000</td>\n",
              "      <td>0.000</td>\n",
              "      <td>0.000</td>\n",
              "      <td>0.000</td>\n",
              "      <td>0.000</td>\n",
              "      <td>0.000</td>\n",
              "      <td>0.000</td>\n",
              "      <td>0.000</td>\n",
              "    </tr>\n",
              "    <tr>\n",
              "      <th>101</th>\n",
              "      <td>3.000</td>\n",
              "      <td>2.000</td>\n",
              "      <td>3.000</td>\n",
              "      <td>4.000</td>\n",
              "      <td>0.000</td>\n",
              "      <td>0.000</td>\n",
              "      <td>0.000</td>\n",
              "      <td>0.000</td>\n",
              "      <td>0.000</td>\n",
              "      <td>0.000</td>\n",
              "      <td>...</td>\n",
              "      <td>0.000</td>\n",
              "      <td>0.000</td>\n",
              "      <td>2.000</td>\n",
              "      <td>0.000</td>\n",
              "      <td>0.000</td>\n",
              "      <td>0.000</td>\n",
              "      <td>0.000</td>\n",
              "      <td>0.000</td>\n",
              "      <td>0.000</td>\n",
              "      <td>0.000</td>\n",
              "    </tr>\n",
              "  </tbody>\n",
              "</table>\n",
              "<p>5 rows × 1682 columns</p>\n",
              "</div>\n",
              "      <button class=\"colab-df-convert\" onclick=\"convertToInteractive('df-1e7832db-0afb-42ba-8de5-540349ca8d20')\"\n",
              "              title=\"Convert this dataframe to an interactive table.\"\n",
              "              style=\"display:none;\">\n",
              "        \n",
              "  <svg xmlns=\"http://www.w3.org/2000/svg\" height=\"24px\"viewBox=\"0 0 24 24\"\n",
              "       width=\"24px\">\n",
              "    <path d=\"M0 0h24v24H0V0z\" fill=\"none\"/>\n",
              "    <path d=\"M18.56 5.44l.94 2.06.94-2.06 2.06-.94-2.06-.94-.94-2.06-.94 2.06-2.06.94zm-11 1L8.5 8.5l.94-2.06 2.06-.94-2.06-.94L8.5 2.5l-.94 2.06-2.06.94zm10 10l.94 2.06.94-2.06 2.06-.94-2.06-.94-.94-2.06-.94 2.06-2.06.94z\"/><path d=\"M17.41 7.96l-1.37-1.37c-.4-.4-.92-.59-1.43-.59-.52 0-1.04.2-1.43.59L10.3 9.45l-7.72 7.72c-.78.78-.78 2.05 0 2.83L4 21.41c.39.39.9.59 1.41.59.51 0 1.02-.2 1.41-.59l7.78-7.78 2.81-2.81c.8-.78.8-2.07 0-2.86zM5.41 20L4 18.59l7.72-7.72 1.47 1.35L5.41 20z\"/>\n",
              "  </svg>\n",
              "      </button>\n",
              "      \n",
              "  <style>\n",
              "    .colab-df-container {\n",
              "      display:flex;\n",
              "      flex-wrap:wrap;\n",
              "      gap: 12px;\n",
              "    }\n",
              "\n",
              "    .colab-df-convert {\n",
              "      background-color: #E8F0FE;\n",
              "      border: none;\n",
              "      border-radius: 50%;\n",
              "      cursor: pointer;\n",
              "      display: none;\n",
              "      fill: #1967D2;\n",
              "      height: 32px;\n",
              "      padding: 0 0 0 0;\n",
              "      width: 32px;\n",
              "    }\n",
              "\n",
              "    .colab-df-convert:hover {\n",
              "      background-color: #E2EBFA;\n",
              "      box-shadow: 0px 1px 2px rgba(60, 64, 67, 0.3), 0px 1px 3px 1px rgba(60, 64, 67, 0.15);\n",
              "      fill: #174EA6;\n",
              "    }\n",
              "\n",
              "    [theme=dark] .colab-df-convert {\n",
              "      background-color: #3B4455;\n",
              "      fill: #D2E3FC;\n",
              "    }\n",
              "\n",
              "    [theme=dark] .colab-df-convert:hover {\n",
              "      background-color: #434B5C;\n",
              "      box-shadow: 0px 1px 3px 1px rgba(0, 0, 0, 0.15);\n",
              "      filter: drop-shadow(0px 1px 2px rgba(0, 0, 0, 0.3));\n",
              "      fill: #FFFFFF;\n",
              "    }\n",
              "  </style>\n",
              "\n",
              "      <script>\n",
              "        const buttonEl =\n",
              "          document.querySelector('#df-1e7832db-0afb-42ba-8de5-540349ca8d20 button.colab-df-convert');\n",
              "        buttonEl.style.display =\n",
              "          google.colab.kernel.accessAllowed ? 'block' : 'none';\n",
              "\n",
              "        async function convertToInteractive(key) {\n",
              "          const element = document.querySelector('#df-1e7832db-0afb-42ba-8de5-540349ca8d20');\n",
              "          const dataTable =\n",
              "            await google.colab.kernel.invokeFunction('convertToInteractive',\n",
              "                                                     [key], {});\n",
              "          if (!dataTable) return;\n",
              "\n",
              "          const docLinkHtml = 'Like what you see? Visit the ' +\n",
              "            '<a target=\"_blank\" href=https://colab.research.google.com/notebooks/data_table.ipynb>data table notebook</a>'\n",
              "            + ' to learn more about interactive tables.';\n",
              "          element.innerHTML = '';\n",
              "          dataTable['output_type'] = 'display_data';\n",
              "          await google.colab.output.renderOutput(dataTable, element);\n",
              "          const docLink = document.createElement('div');\n",
              "          docLink.innerHTML = docLinkHtml;\n",
              "          element.appendChild(docLink);\n",
              "        }\n",
              "      </script>\n",
              "    </div>\n",
              "  </div>\n",
              "  "
            ]
          },
          "metadata": {},
          "execution_count": 19
        }
      ]
    },
    {
      "cell_type": "code",
      "source": [
        "num_users = len(users.user_id.unique())\n",
        "num_items = len(movies.movie_id.unique())"
      ],
      "metadata": {
        "id": "ZGI578fZNu4K"
      },
      "execution_count": null,
      "outputs": []
    },
    {
      "cell_type": "code",
      "source": [
        "def neural_collaborative_filtering_1d(num_users, num_items, layers = [20,10], reg_layers=[0,0]):\n",
        "    num_layer = len(layers)\n",
        "    \n",
        "    user_input = Input(shape=(1,),  name = 'user_input')\n",
        "    item_input = Input(shape=(1,), name = 'item_input')\n",
        "\n",
        "    MLP_Embedding_User = Embedding(num_users,  2, name = 'user_embedding',\n",
        "                              )\n",
        "    MLP_Embedding_Item = Embedding(num_items, 2, name = 'item_embedding',\n",
        "                                    )   \n",
        "    \n",
        "    user_latent = Flatten()(MLP_Embedding_User(user_input))\n",
        "    item_latent = Flatten()(MLP_Embedding_Item(item_input))\n",
        "    \n",
        "    vect = concatenate([user_latent, item_latent], axis=-1)\n",
        "    \n",
        "    for idx in range(1, num_layer):\n",
        "        layer = Dense(layers[idx], activation='relu', name = 'layer%d' %idx)\n",
        "        vect = layer(vect)\n",
        "        \n",
        "    prediction = Dense(1, activation='linear', name = 'prediction')(vect)\n",
        "    \n",
        "    model4 = Model(inputs=[user_input, item_input], \n",
        "                  outputs=prediction)\n",
        "    \n",
        "    model4.compile(optimizer=\"adam\", loss='mean_squared_error')\n",
        "    \n",
        "    return model4"
      ],
      "metadata": {
        "id": "yNmIk6btN1wR"
      },
      "execution_count": null,
      "outputs": []
    },
    {
      "cell_type": "code",
      "source": [
        "model4 = neural_collaborative_filtering_1d(num_users, num_items)\n",
        "model4.fit([X1,X2], y, epochs=15)\n",
        "pred=model4.predict([X1_t,X2_t])\n",
        "plt.hist((np.abs(y_t.values-pred).reshape(-1)),bins=100)\n",
        "plt.show()"
      ],
      "metadata": {
        "colab": {
          "base_uri": "https://localhost:8080/",
          "height": 814
        },
        "id": "tgZ7d3ubN41Z",
        "outputId": "3da6b498-a2ee-41b9-e25a-65de85079e44"
      },
      "execution_count": null,
      "outputs": [
        {
          "output_type": "stream",
          "name": "stdout",
          "text": [
            "Epoch 1/15\n",
            "2500/2500 [==============================] - 9s 3ms/step - loss: 1.9434\n",
            "Epoch 2/15\n",
            "2500/2500 [==============================] - 8s 3ms/step - loss: 0.8829\n",
            "Epoch 3/15\n",
            "2500/2500 [==============================] - 8s 3ms/step - loss: 0.8716\n",
            "Epoch 4/15\n",
            "2500/2500 [==============================] - 8s 3ms/step - loss: 0.8658\n",
            "Epoch 5/15\n",
            "2500/2500 [==============================] - 8s 3ms/step - loss: 0.8602\n",
            "Epoch 6/15\n",
            "2500/2500 [==============================] - 8s 3ms/step - loss: 0.8513\n",
            "Epoch 7/15\n",
            "2500/2500 [==============================] - 8s 3ms/step - loss: 0.8415\n",
            "Epoch 8/15\n",
            "2500/2500 [==============================] - 9s 3ms/step - loss: 0.8335\n",
            "Epoch 9/15\n",
            "2500/2500 [==============================] - 9s 4ms/step - loss: 0.8284\n",
            "Epoch 10/15\n",
            "2500/2500 [==============================] - 9s 4ms/step - loss: 0.8244\n",
            "Epoch 11/15\n",
            "2500/2500 [==============================] - 8s 3ms/step - loss: 0.8200\n",
            "Epoch 12/15\n",
            "2500/2500 [==============================] - 8s 3ms/step - loss: 0.8154\n",
            "Epoch 13/15\n",
            "2500/2500 [==============================] - 9s 3ms/step - loss: 0.8104\n",
            "Epoch 14/15\n",
            "2500/2500 [==============================] - 8s 3ms/step - loss: 0.8065\n",
            "Epoch 15/15\n",
            "2500/2500 [==============================] - 8s 3ms/step - loss: 0.8019\n",
            "625/625 [==============================] - 1s 2ms/step\n"
          ]
        },
        {
          "output_type": "display_data",
          "data": {
            "text/plain": [
              "<Figure size 432x288 with 1 Axes>"
            ],
            "image/png": "[encoded data removed]"
          },
          "metadata": {
            "needs_background": "light"
          }
        }
      ]
    },
    {
      "cell_type": "code",
      "source": [
        "# A parir del la epoca "
      ],
      "metadata": {
        "id": "uiSGZSpkOG0U"
      },
      "execution_count": null,
      "outputs": []
    },
    {
      "cell_type": "code",
      "source": [
        "np.mean(np.abs(pred-y_t.values))"
      ],
      "metadata": {
        "colab": {
          "base_uri": "https://localhost:8080/"
        },
        "id": "0m8bjUN0PrSd",
        "outputId": "e477a06b-58d8-42be-df77-2fc140ba58e8"
      },
      "execution_count": null,
      "outputs": [
        {
          "output_type": "execute_result",
          "data": {
            "text/plain": [
              "1.0447253744961418"
            ]
          },
          "metadata": {},
          "execution_count": 27
        }
      ]
    },
    {
      "cell_type": "code",
      "source": [
        "def NeuMF(num_users, num_items, mf_dim=10, layers=[10], reg_layers=[0], reg_mf=0):\n",
        "    #embeddings  \n",
        "\n",
        "    num_layer = len(layers) \n",
        "    user_input = Input(shape=(1,), dtype='int32', name='user_input')\n",
        "    item_input = Input(shape=(1,), dtype='int32', name='item_input')\n",
        "    \n",
        "    # embedding layer\n",
        "    mf_user_embedding = Embedding(input_dim=num_users, \n",
        "                                output_dim=mf_dim,\n",
        "                                embeddings_initializer='RandomNormal',\n",
        "                                input_length=1)\n",
        "  \n",
        "    mf_item_embedding = Embedding(input_dim=num_items, \n",
        "                                  output_dim=mf_dim,\n",
        "                                  embeddings_initializer='RandomNormal',\n",
        "                                  input_length=1)\n",
        "    \n",
        "    mlp_user_embedding = Embedding(input_dim=num_users, \n",
        "                                  output_dim=1,\n",
        "                                  embeddings_initializer='RandomNormal', \n",
        "                                  input_length=1)\n",
        "    \n",
        "    mlp_user_embedding = Embedding(input_dim=num_users, \n",
        "                                  output_dim=1,\n",
        "                                  embeddings_initializer='RandomNormal',\n",
        "                                  input_length=1)\n",
        "    \n",
        "    # MF parte\n",
        "    mf_user_latent = Flatten()(mf_user_embedding(user_input))\n",
        "    mf_item_latent = Flatten()(mf_item_embedding(item_input))\n",
        "    mf_vector = tf.keras.layers.multiply([mf_user_latent, mf_item_latent])\n",
        "\n",
        "    # MLP parte\n",
        "    mlp_user_latent = Flatten()(mlp_user_embedding(user_input))\n",
        "    mlp_item_latent = Flatten()(mlp_user_embedding(item_input))\n",
        "    mlp_vector = tf.keras.layers.concatenate([mlp_user_latent, mlp_item_latent])\n",
        "    for idx in range(1, num_layer):\n",
        "        layer = Dense(layers[idx], activation='relu')\n",
        "        mlp_vector = layer(mlp_vector)\n",
        "\n",
        "    #mf_vector = Lambda(lambda x: x * alpha)(mf_vector)\n",
        "    #mlp_vector = Lambda(lambda x : x * (1-alpha))(mlp_vector)\n",
        "    predict_vector = tf.keras.layers.concatenate([mf_vector, mlp_vector])\n",
        "    \n",
        "    prediction = Dense(1, activation='linear')(predict_vector)\n",
        "    \n",
        "    model5 = Model(inputs=[user_input, item_input], \n",
        "                  outputs=prediction)\n",
        "    model5.compile(optimizer=\"adam\", loss='mean_squared_error')\n",
        "\n",
        "    return model5"
      ],
      "metadata": {
        "id": "rNIW2aH-PuBu"
      },
      "execution_count": null,
      "outputs": []
    },
    {
      "cell_type": "code",
      "source": [
        "model5 = NeuMF(num_users, num_items)"
      ],
      "metadata": {
        "id": "gwxCjxfAP_-l"
      },
      "execution_count": null,
      "outputs": []
    },
    {
      "cell_type": "code",
      "source": [
        "pred=model5.predict([X1_t,X2_t])\n",
        "plt.hist((np.abs(y_t.values-pred).reshape(-1)),bins=100)\n",
        "plt.show()"
      ],
      "metadata": {
        "colab": {
          "base_uri": "https://localhost:8080/",
          "height": 293
        },
        "id": "jViebcSGQDGc",
        "outputId": "81c55c76-d36e-424c-97a3-683cf572f43c"
      },
      "execution_count": null,
      "outputs": [
        {
          "output_type": "stream",
          "name": "stdout",
          "text": [
            "625/625 [==============================] - 1s 2ms/step\n"
          ]
        },
        {
          "output_type": "display_data",
          "data": {
            "text/plain": [
              "<Figure size 432x288 with 1 Axes>"
            ],
            "image/png": "[encoded data removed]"
          },
          "metadata": {
            "needs_background": "light"
          }
        }
      ]
    },
    {
      "cell_type": "code",
      "source": [
        "np.mean(np.abs(pred-y_t.values))"
      ],
      "metadata": {
        "colab": {
          "base_uri": "https://localhost:8080/"
        },
        "id": "Zjf0C_NQQYdw",
        "outputId": "2cdef3fb-027f-47d5-c927-fb8caafcbfb0"
      },
      "execution_count": null,
      "outputs": [
        {
          "output_type": "execute_result",
          "data": {
            "text/plain": [
              "3.528854831844641"
            ]
          },
          "metadata": {},
          "execution_count": 59
        }
      ]
    },
    {
      "cell_type": "markdown",
      "source": [
        "Añadimos 2 capas user y 2 item utilizando un embeddings_initializer='RandomNormal' que extrae muestras aleatorias de una distribucion normal.\n",
        "\n",
        "Con esto podemos observar que al aplicar NeuFM se mejora la capacidad y eficacia del modelo respecto al anterior."
      ],
      "metadata": {
        "id": "HV5xcUjrcCuH"
      }
    },
    {
      "cell_type": "code",
      "source": [
        "  "
      ],
      "metadata": {
        "id": "QrsMNZSPZcNG"
      },
      "execution_count": null,
      "outputs": []
    }
  ]
}