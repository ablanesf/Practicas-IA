{
 "cells": [
  {
   "cell_type": "markdown",
   "metadata": {
    "id": "2wPtItcQdkPe"
   },
   "source": [
    "<font color=\"#CA3532\"><h1 align=\"left\">Inteligencia Artificial Aplicada a la Bolsa (MIAX-8)</h1></font>\n",
    "<font color=\"#5b5a59\"><h2 align=\"left\">Práctica sobre Redes Neuronales</h2></font>\n",
    "\n"
   ]
  },
  {
   "cell_type": "markdown",
   "metadata": {
    "id": "2cpn7FKNSGkx"
   },
   "source": [
    "### <font color=\"#CA3532\">Carga de librerías</font>\n",
    "\n",
    "La siguiente celda carga todas las librerías necesarias para la práctica. Si necesitas alguna librería adicional inclúyela al final."
   ]
  },
  {
   "cell_type": "code",
   "execution_count": null,
   "metadata": {
    "id": "n7HI06dkTdVs"
   },
   "outputs": [],
   "source": [
    "import tensorflow as tf\n",
    "from tensorflow import keras\n",
    "\n",
    "import numpy as np\n",
    "import pandas as pd\n",
    "import matplotlib.pyplot as plt\n",
    "import pickle\n",
    "from sklearn.model_selection import train_test_split\n",
    "from sklearn.preprocessing import StandardScaler\n",
    "\n",
    "import sys\n",
    "sys.path.append('MIAX8')\n",
    "import dlfbt\n",
    "\n",
    "# Incluye aquí otros imports que necesites\n",
    "from tensorflow.keras import layers\n",
    "from keras.layers import Dense\n",
    "from tensorflow.keras import regularizers\n",
    "from tensorflow.keras import initializers\n",
    "from time import time\n",
    "import shutil"
   ]
  },
  {
   "cell_type": "markdown",
   "metadata": {
    "id": "9KuO4nE6U93C"
   },
   "source": [
    "### <font color=\"#CA3532\">Parte I: Modelos sencillos con Keras</font>\n",
    "\n",
    "Los primeros modelos los haremos con datos generados de manera artificial. La siguiente celda crea un problema de regresión en una dimensión y representa gráficamente ``t`` frente a ``x``:"
   ]
  },
  {
   "cell_type": "code",
   "execution_count": null,
   "metadata": {
    "colab": {
     "base_uri": "https://localhost:8080/",
     "height": 369
    },
    "executionInfo": {
     "elapsed": 375,
     "status": "ok",
     "timestamp": 1661712976903,
     "user": {
      "displayName": "Álvaro Blanes figuerola",
      "userId": "11042556642168442120"
     },
     "user_tz": -120
    },
    "id": "rhPxTUCayDrc",
    "outputId": "677ee3dd-021f-4647-dd13-7662e23512a8"
   },
   "outputs": [
    {
     "data": {
      "image/png": "[encoded data removed]",
      "text/plain": [
       "<Figure size 360x360 with 1 Axes>"
      ]
     },
     "metadata": {
      "needs_background": "light"
     },
     "output_type": "display_data"
    },
    {
     "name": "stdout",
     "output_type": "stream",
     "text": [
      "Forma de x: (100, 1)\n",
      "Forma de t: (100, 1)\n"
     ]
    }
   ],
   "source": [
    "dg = dlfbt.DataGeneratorLinear1D()\n",
    "dg.create_dataset(seed=21)\n",
    "dg.plot_dataset()\n",
    "\n",
    "print(\"Forma de x:\", dg.x.shape)\n",
    "print(\"Forma de t:\", dg.t.shape)"
   ]
  },
  {
   "cell_type": "markdown",
   "metadata": {
    "id": "moF1uhKfZB_9"
   },
   "source": [
    "### <font color=\"#CA3532\">Ejercicio 1</font> [1 punto]\n",
    "\n",
    "Construye en Keras un modelo de regresión lineal para predecir la variable ``t`` a partir de la variable ``x``."
   ]
  },
  {
   "cell_type": "markdown",
   "metadata": {
    "id": "mXwnVJ-4bzCV"
   },
   "source": [
    "<font color=\"#CA3532\">[1.1]</font> Define del modelo completando el código de la celda siguiente:"
   ]
  },
  {
   "cell_type": "code",
   "execution_count": null,
   "metadata": {
    "colab": {
     "base_uri": "https://localhost:8080/"
    },
    "executionInfo": {
     "elapsed": 467,
     "status": "ok",
     "timestamp": 1661712977365,
     "user": {
      "displayName": "Álvaro Blanes figuerola",
      "userId": "11042556642168442120"
     },
     "user_tz": -120
    },
    "id": "Fif0ZXlaZzVq",
    "outputId": "be20f584-7440-49a4-b183-bb094c35a2d2"
   },
   "outputs": [
    {
     "name": "stdout",
     "output_type": "stream",
     "text": [
      "Model: \"sequential\"\n",
      "_________________________________________________________________\n",
      " Layer (type)                Output Shape              Param #   \n",
      "=================================================================\n",
      " dense (Dense)               (None, 1)                 2         \n",
      "                                                                 \n",
      "=================================================================\n",
      "Total params: 2\n",
      "Trainable params: 2\n",
      "Non-trainable params: 0\n",
      "_________________________________________________________________\n"
     ]
    }
   ],
   "source": [
    "model = keras.Sequential()\n",
    "model.add(keras.layers.Dense(1, input_shape=(1,)))\n",
    "model.summary()"
   ]
  },
  {
   "cell_type": "markdown",
   "metadata": {
    "id": "_CQBA5auc3V1"
   },
   "source": [
    "<font color=\"#CA3532\">[1.2]</font> Compila el modelo, utilizando un optimizador SGD y la función de coste más apropiada para este problema. El learning rate lo deberás ajustar para que el entrenamiento converja:"
   ]
  },
  {
   "cell_type": "code",
   "execution_count": null,
   "metadata": {
    "id": "kOc2r4IJZzRO"
   },
   "outputs": [],
   "source": [
    "\n",
    "optimizer =tf.keras.optimizers.SGD(learning_rate=0.0001, momentum=0.0, nesterov=False, name=\"SGD\")\n",
    "\n",
    "model.compile(loss='mse',\n",
    "             optimizer=optimizer)\n",
    "#mae=error absoluto medio\n",
    "#mse cuadrado de la medio del error\n"
   ]
  },
  {
   "cell_type": "markdown",
   "metadata": {
    "id": "1RLyKzMddf8r"
   },
   "source": [
    "La siguiente celda ajusta tu modelo a los datos y muestra gráficamente el resultado:"
   ]
  },
  {
   "cell_type": "code",
   "execution_count": null,
   "metadata": {
    "colab": {
     "base_uri": "https://localhost:8080/",
     "height": 279
    },
    "executionInfo": {
     "elapsed": 7007,
     "status": "ok",
     "timestamp": 1661712984367,
     "user": {
      "displayName": "Álvaro Blanes figuerola",
      "userId": "11042556642168442120"
     },
     "user_tz": -120
    },
    "id": "Y9ojYhKuZzMJ",
    "outputId": "283a2a30-2dbe-4a78-ffa8-dec50e08aff4"
   },
   "outputs": [
    {
     "data": {
      "image/png": "[encoded data removed]",
      "text/plain": [
       "<Figure size 720x288 with 2 Axes>"
      ]
     },
     "metadata": {
      "needs_background": "light"
     },
     "output_type": "display_data"
    }
   ],
   "source": [
    "history = model.fit(dg.x, dg.t, epochs=1000, batch_size=dg.x.shape[0], verbose=0)\n",
    "y = model.predict(dg.x)\n",
    "\n",
    "plt.figure(figsize=(10, 4))\n",
    "\n",
    "plt.subplot(1, 2, 1)\n",
    "plt.plot(history.history['loss'])\n",
    "plt.grid(True)\n",
    "plt.xlabel('epoch')\n",
    "plt.ylabel('MSE')\n",
    "\n",
    "plt.subplot(1, 2, 2)\n",
    "plt.plot(dg.x, dg.t, '.')\n",
    "plt.plot(dg.x, y, 'r-')\n",
    "plt.grid(True)\n",
    "plt.xlabel('x')\n",
    "plt.ylabel('t')\n",
    "plt.legend(('real', 'predicted'))\n",
    "plt.show()"
   ]
  },
  {
   "cell_type": "markdown",
   "metadata": {
    "id": "IEF5KIFBzgX3"
   },
   "source": [
    "#### <font color=\"#CA3532\">Ejercicio 2</font> [1 punto] \n",
    "\n",
    "A continuación vas a resolver un problema de regresión no lineal, también en una dimensión. La siguiente celda crea el problema y representa gráficamente ``t`` frente a ``x``:"
   ]
  },
  {
   "cell_type": "code",
   "execution_count": null,
   "metadata": {
    "colab": {
     "base_uri": "https://localhost:8080/",
     "height": 369
    },
    "executionInfo": {
     "elapsed": 414,
     "status": "ok",
     "timestamp": 1661712984776,
     "user": {
      "displayName": "Álvaro Blanes figuerola",
      "userId": "11042556642168442120"
     },
     "user_tz": -120
    },
    "id": "yDOreCXezVrP",
    "outputId": "5001cf39-7d99-4a95-f961-4d8632cc910b"
   },
   "outputs": [
    {
     "data": {
      "image/png": "[encoded data removed]",
      "text/plain": [
       "<Figure size 360x360 with 1 Axes>"
      ]
     },
     "metadata": {
      "needs_background": "light"
     },
     "output_type": "display_data"
    },
    {
     "name": "stdout",
     "output_type": "stream",
     "text": [
      "Forma de x: (100, 1)\n",
      "Forma de t: (100, 1)\n"
     ]
    }
   ],
   "source": [
    "dg = dlfbt.DataGeneratorNonLinear1D(coefs=[0, 1, 0, -0.15, 0, 0.005])\n",
    "dg.create_dataset(xmin=-3.14, xmax=3.14, noise=0.1, seed=21)\n",
    "dg.plot_dataset()\n",
    "\n",
    "print(\"Forma de x:\", dg.x.shape)\n",
    "print(\"Forma de t:\", dg.t.shape)"
   ]
  },
  {
   "cell_type": "markdown",
   "metadata": {
    "id": "7UaJOpV84X_T"
   },
   "source": [
    "<font color=\"#CA3532\">[2.1]</font> Define del modelo de regresión completando el código de la celda siguiente:"
   ]
  },
  {
   "cell_type": "code",
   "execution_count": null,
   "metadata": {
    "colab": {
     "base_uri": "https://localhost:8080/"
    },
    "executionInfo": {
     "elapsed": 235,
     "status": "ok",
     "timestamp": 1661712984999,
     "user": {
      "displayName": "Álvaro Blanes figuerola",
      "userId": "11042556642168442120"
     },
     "user_tz": -120
    },
    "id": "rm13KKxn2DAq",
    "outputId": "dfc84270-a6db-458d-c81b-d0d673c6c38d"
   },
   "outputs": [
    {
     "name": "stdout",
     "output_type": "stream",
     "text": [
      "Model: \"sequential_1\"\n",
      "_________________________________________________________________\n",
      " Layer (type)                Output Shape              Param #   \n",
      "=================================================================\n",
      " dense_1 (Dense)             (None, 30)                60        \n",
      "                                                                 \n",
      " dense_2 (Dense)             (None, 1)                 31        \n",
      "                                                                 \n",
      "=================================================================\n",
      "Total params: 91\n",
      "Trainable params: 91\n",
      "Non-trainable params: 0\n",
      "_________________________________________________________________\n"
     ]
    }
   ],
   "source": [
    "model = keras.Sequential()\n",
    "\n",
    "model.add(keras.layers.Dense(30, input_shape=(1,), activation='tanh'))\n",
    "model.add(keras.layers.Dense(1))\n",
    "\n",
    "model.summary()"
   ]
  },
  {
   "cell_type": "markdown",
   "metadata": {
    "id": "qQ9Cow2D4rSK"
   },
   "source": [
    "<font color=\"#CA3532\">[2.2]</font> Compila el modelo, utilizando un optimizador SGD y la función de coste más apropiada para este problema. El learning rate lo deberás ajustar para que el entrenamiento converja:"
   ]
  },
  {
   "cell_type": "code",
   "execution_count": null,
   "metadata": {
    "id": "RMIEQJdp2C9t"
   },
   "outputs": [],
   "source": [
    "\n",
    "optimizer =tf.keras.optimizers.SGD(learning_rate=0.05, momentum=0.0, nesterov=False, name=\"SGD\")\n",
    "\n",
    "model.compile(loss='mse',\n",
    "             optimizer=optimizer)\n"
   ]
  },
  {
   "cell_type": "markdown",
   "metadata": {
    "id": "AeQsLWq04wCd"
   },
   "source": [
    "La siguiente celda ajusta tu modelo a los datos y muestra gráficamente el resultado:"
   ]
  },
  {
   "cell_type": "code",
   "execution_count": null,
   "metadata": {
    "colab": {
     "base_uri": "https://localhost:8080/",
     "height": 279
    },
    "executionInfo": {
     "elapsed": 6349,
     "status": "ok",
     "timestamp": 1661712991345,
     "user": {
      "displayName": "Álvaro Blanes figuerola",
      "userId": "11042556642168442120"
     },
     "user_tz": -120
    },
    "id": "BmeJ_GgQ2CzU",
    "outputId": "ba4dcbb0-12ef-4ad4-f11b-92f2d0dc7261"
   },
   "outputs": [
    {
     "data": {
      "image/png": "[encoded data removed]",
      "text/plain": [
       "<Figure size 720x288 with 2 Axes>"
      ]
     },
     "metadata": {
      "needs_background": "light"
     },
     "output_type": "display_data"
    }
   ],
   "source": [
    "history = model.fit(dg.x, dg.t, epochs=1000, batch_size=dg.x.shape[0], verbose=0)\n",
    "y = model.predict(dg.modelx)\n",
    "\n",
    "plt.figure(figsize=(10, 4))\n",
    "\n",
    "plt.subplot(1, 2, 1)\n",
    "plt.plot(history.history['loss'])\n",
    "plt.grid(True)\n",
    "plt.xlabel('epoch')\n",
    "plt.ylabel('MSE')\n",
    "\n",
    "plt.subplot(1, 2, 2)\n",
    "plt.plot(dg.x, dg.t, '.')\n",
    "plt.plot(dg.modelx, y, 'r-')\n",
    "plt.grid(True)\n",
    "plt.xlabel('x')\n",
    "plt.ylabel('t')\n",
    "plt.legend(('real', 'predicted'))\n",
    "plt.show()"
   ]
  },
  {
   "cell_type": "markdown",
   "metadata": {
    "id": "SxlAn5iNiwmY"
   },
   "source": [
    "#### <font color=\"#CA3532\">Ejercicio 3</font> [1 punto]\n",
    "\n",
    "Finalmente vamos a plantear un problema de regresión logística. La siguiente celda crea los datos del problema (en dos dimensiones) y representa gráficamente la distribución de ``x`` para las dos clases ``t=0`` y ``t=1``:"
   ]
  },
  {
   "cell_type": "code",
   "execution_count": null,
   "metadata": {
    "colab": {
     "base_uri": "https://localhost:8080/",
     "height": 369
    },
    "executionInfo": {
     "elapsed": 334,
     "status": "ok",
     "timestamp": 1661712991672,
     "user": {
      "displayName": "Álvaro Blanes figuerola",
      "userId": "11042556642168442120"
     },
     "user_tz": -120
    },
    "id": "E32y3vuGrMfJ",
    "outputId": "32ba7468-dacc-4d3c-aebe-6f6098dbc1d8"
   },
   "outputs": [
    {
     "data": {
      "image/png": "[encoded data removed]",
      "text/plain": [
       "<Figure size 360x360 with 1 Axes>"
      ]
     },
     "metadata": {
      "needs_background": "light"
     },
     "output_type": "display_data"
    },
    {
     "name": "stdout",
     "output_type": "stream",
     "text": [
      "Forma de x: (500, 2)\n",
      "Forma de t: (500, 1)\n"
     ]
    }
   ],
   "source": [
    "dg = dlfbt.DataGeneratorLogistic(a=[2.0, 2.0], b=-20.0)\n",
    "dg.create_dataset(n=500, seed=17)\n",
    "\n",
    "plt.figure(figsize=(5, 5))\n",
    "ix0 = (dg.t.ravel() == 0)\n",
    "plt.plot(dg.x[ix0, 0], dg.x[ix0, 1], '.', label='t=0')\n",
    "ix1 = (dg.t.ravel() == 1)\n",
    "plt.plot(dg.x[ix1, 0], dg.x[ix1, 1], '.', label='t=1')\n",
    "plt.grid(True)\n",
    "plt.xlabel('x1')\n",
    "plt.ylabel('x2')\n",
    "plt.legend(loc='upper right')\n",
    "plt.show()\n",
    "\n",
    "print(\"Forma de x:\", dg.x.shape)\n",
    "print(\"Forma de t:\", dg.t.shape)"
   ]
  },
  {
   "cell_type": "markdown",
   "metadata": {
    "id": "klDADm0Gvyxl"
   },
   "source": [
    "<font color=\"#CA3532\">[3.1]</font> Construye en Keras un modelo de regresión logística para predecir la variable ``t`` a partir de la variable ``x``. Define del modelo completando el código de la celda siguiente:"
   ]
  },
  {
   "cell_type": "code",
   "execution_count": null,
   "metadata": {
    "colab": {
     "base_uri": "https://localhost:8080/"
    },
    "executionInfo": {
     "elapsed": 7,
     "status": "ok",
     "timestamp": 1661712991672,
     "user": {
      "displayName": "Álvaro Blanes figuerola",
      "userId": "11042556642168442120"
     },
     "user_tz": -120
    },
    "id": "ZT9nfBeOjKK1",
    "outputId": "e8432080-730d-45b4-9775-f974b77da970"
   },
   "outputs": [
    {
     "name": "stdout",
     "output_type": "stream",
     "text": [
      "Model: \"sequential_2\"\n",
      "_________________________________________________________________\n",
      " Layer (type)                Output Shape              Param #   \n",
      "=================================================================\n",
      " dense_3 (Dense)             (None, 1)                 3         \n",
      "                                                                 \n",
      " activation (Activation)     (None, 1)                 0         \n",
      "                                                                 \n",
      "=================================================================\n",
      "Total params: 3\n",
      "Trainable params: 3\n",
      "Non-trainable params: 0\n",
      "_________________________________________________________________\n"
     ]
    }
   ],
   "source": [
    "model = keras.Sequential()\n",
    "model.add(keras.layers.Dense(1, input_shape = (2,)))\n",
    "model.add(keras.layers.Activation('sigmoid'))\n",
    "\n",
    "model.summary()"
   ]
  },
  {
   "cell_type": "markdown",
   "metadata": {
    "id": "FxfPuceGwUDc"
   },
   "source": [
    "<font color=\"#CA3532\">[3.2]</font> Compila el modelo, utilizando un optimizador SGD y la función de coste más apropiada para este problema. Añade las opciones necesarias para que se genere, además del ``loss``, la métrica ``accuracy``. El learning rate lo deberás ajustar para que el entrenamiento converja:"
   ]
  },
  {
   "cell_type": "code",
   "execution_count": null,
   "metadata": {
    "id": "ytPLIp2PwTxa"
   },
   "outputs": [],
   "source": [
    "\n",
    "model.compile(loss='binary_crossentropy', optimizer=keras.optimizers.SGD(learning_rate=0.1), metrics=['accuracy'])\n"
   ]
  },
  {
   "cell_type": "markdown",
   "metadata": {
    "id": "faNPLKXbzzqh"
   },
   "source": [
    "La siguiente celda ajusta tu modelo a los datos y muestra gráficamente el resultado:"
   ]
  },
  {
   "cell_type": "code",
   "execution_count": null,
   "metadata": {
    "colab": {
     "base_uri": "https://localhost:8080/",
     "height": 283
    },
    "executionInfo": {
     "elapsed": 32368,
     "status": "ok",
     "timestamp": 1661713024037,
     "user": {
      "displayName": "Álvaro Blanes figuerola",
      "userId": "11042556642168442120"
     },
     "user_tz": -120
    },
    "id": "6c3xTLJfjKFP",
    "outputId": "ab4078f7-b60f-4f8f-ba5b-7507bd41ca2e"
   },
   "outputs": [
    {
     "data": {
      "image/png": "[encoded data removed]",
      "text/plain": [
       "<Figure size 1080x288 with 3 Axes>"
      ]
     },
     "metadata": {
      "needs_background": "light"
     },
     "output_type": "display_data"
    }
   ],
   "source": [
    "history = model.fit(dg.x, dg.t, epochs=1000, batch_size=dg.x.shape[0], verbose=0)\n",
    "\n",
    "plt.figure(figsize=(15, 4))\n",
    "\n",
    "plt.subplot(1, 3, 1)\n",
    "plt.plot(history.history['loss'])\n",
    "plt.grid(True)\n",
    "plt.xlabel('epoch')\n",
    "plt.ylabel('loss')\n",
    "\n",
    "plt.subplot(1, 3, 2)\n",
    "plt.plot(history.history['accuracy'])\n",
    "plt.grid(True)\n",
    "plt.xlabel('epoch')\n",
    "plt.ylabel('accuracy')\n",
    "\n",
    "xx, yy = np.meshgrid(np.arange(0, 10, 0.01), np.arange(0, 10,0.01))\n",
    "xy = np.concatenate([xx.reshape([-1, 1]), yy.reshape([-1, 1])], axis=1)\n",
    "z = model.predict(xy)\n",
    "\n",
    "plt.subplot(1, 3, 3)\n",
    "plt.contourf(xx, yy, z.reshape(xx.shape), 100, cmap=\"gray\")\n",
    "plt.plot(dg.x[ix0, 0], dg.x[ix0, 1], '.', label='t=0')\n",
    "plt.plot(dg.x[ix1, 0], dg.x[ix1, 1], '.', label='t=1')\n",
    "plt.grid(True)\n",
    "plt.xlabel('x1')\n",
    "plt.ylabel('x2')\n",
    "plt.axis([0, 10, 0, 10])\n",
    "plt.legend(loc='upper right')\n",
    "\n",
    "plt.show()"
   ]
  },
  {
   "cell_type": "markdown",
   "metadata": {
    "id": "FtCAYd233wcm"
   },
   "source": [
    "#### <font color=\"#CA3532\">Ejercicio 4</font> [1 punto]\n",
    "\n",
    "En este ejercicio vas a construir una red neuronal un poco más compleja y la vas a probar con distintos casos de prueba. La red debe tener las siguientes características:\n",
    "\n",
    "- Una capa de entrada con 54 unidades.\n",
    "- Dos capas ocultas, con 128 y 64 unidades respectivamente, función de activación ``sigmoid`` y ``batch normalization``.\n",
    "- Una capa de salida lineal con 7 unidades. \n",
    "- Se debe aplicar ``dropout`` con parámetro 0.25 en las dos capas ocultas.\n",
    "- Se debe incluir regularización L2, con parámetro 0.01, y L1, con parámetro 0.005, en los pesos de todas las capas (no debe afectar a los bias). \n",
    "- Todos los pesos de la red se deben inicializar con el método Xavier (ver transparencias [dffn.pdf](https://drive.google.com/file/d/1zzk1c40A_EP0TDf960i1E-_qf-7ECEUu/view?usp=sharing), p. 86).\n",
    "\n",
    "<font color=\"#CA3532\">[4.1]</font> Completa el código de la siguiente celda con tu solución:\n"
   ]
  },
  {
   "cell_type": "code",
   "execution_count": null,
   "metadata": {
    "colab": {
     "base_uri": "https://localhost:8080/"
    },
    "executionInfo": {
     "elapsed": 10,
     "status": "ok",
     "timestamp": 1661713024037,
     "user": {
      "displayName": "Álvaro Blanes figuerola",
      "userId": "11042556642168442120"
     },
     "user_tz": -120
    },
    "id": "jNlqpD415QVM",
    "outputId": "d8e8e8e3-d246-4d47-a0a8-4c642863a8c7"
   },
   "outputs": [
    {
     "name": "stdout",
     "output_type": "stream",
     "text": [
      "Model: \"sequential_3\"\n",
      "_________________________________________________________________\n",
      " Layer (type)                Output Shape              Param #   \n",
      "=================================================================\n",
      " dense_4 (Dense)             (None, 128)               7040      \n",
      "                                                                 \n",
      " batch_normalization (BatchN  (None, 128)              512       \n",
      " ormalization)                                                   \n",
      "                                                                 \n",
      " activation_1 (Activation)   (None, 128)               0         \n",
      "                                                                 \n",
      " dropout (Dropout)           (None, 128)               0         \n",
      "                                                                 \n",
      " dense_5 (Dense)             (None, 64)                8256      \n",
      "                                                                 \n",
      " batch_normalization_1 (Batc  (None, 64)               256       \n",
      " hNormalization)                                                 \n",
      "                                                                 \n",
      " activation_2 (Activation)   (None, 64)                0         \n",
      "                                                                 \n",
      " dropout_1 (Dropout)         (None, 64)                0         \n",
      "                                                                 \n",
      " dense_6 (Dense)             (None, 7)                 455       \n",
      "                                                                 \n",
      "=================================================================\n",
      "Total params: 16,519\n",
      "Trainable params: 16,135\n",
      "Non-trainable params: 384\n",
      "_________________________________________________________________\n"
     ]
    }
   ],
   "source": [
    "model = keras.Sequential()\n",
    "\n",
    "model.add(keras.layers.Input(54))\n",
    "model.add(keras.layers.Dense(128,\n",
    "                            kernel_regularizer=keras.regularizers.L1L2(l1=0.005, l2=0.01),\n",
    "                            kernel_initializer=keras.initializers.GlorotNormal()\n",
    "                            ))\n",
    "\n",
    "model.add(keras.layers.BatchNormalization())\n",
    "model.add(keras.layers.Activation('sigmoid'))\n",
    "model.add(keras.layers.Dropout(0.25))\n",
    "\n",
    "\n",
    "model.add(keras.layers.Dense(64,\n",
    "                             kernel_regularizer=keras.regularizers.L1L2(l1=0.005, l2=0.01),\n",
    "                             kernel_initializer=keras.initializers.GlorotNormal()\n",
    "                            ))\n",
    "model.add(keras.layers.BatchNormalization())\n",
    "model.add(keras.layers.Activation('sigmoid'))\n",
    "model.add(keras.layers.Dropout(0.25))\n",
    "\n",
    "model.add(keras.layers.Dense(7,\n",
    "                           kernel_regularizer=keras.regularizers.L1L2(l1=0.005, l2=0.01),\n",
    "                            kernel_initializer=keras.initializers.GlorotNormal()))\n",
    "model.summary()"
   ]
  },
  {
   "cell_type": "markdown",
   "metadata": {
    "id": "N9T83Cjs87u9"
   },
   "source": [
    "<font color=\"#CA3532\">[4.2]</font> Si has hecho todo bien, tu modelo debería tener 16135 parámetros entrenables. Explica de dónde sale este número:\n",
    "\n"
   ]
  },
  {
   "cell_type": "markdown",
   "metadata": {
    "id": "g10WD8SxzvjD"
   },
   "source": [
    "Capa_Oculta _1:\n",
    "al ser una capa densa cada una de las entradas va a cada una de las neurosa entonces multiplicamos\n",
    "W1 = d1 x d0 = 128 x 54 = 6912 , \n",
    "\n",
    "y le sumamos el bias\n",
    "b1 = d1 x 1 = 128 ,  \n",
    "Total_1c = W1 + b1 = 6912 + 128 = 7040\n",
    "\n",
    "Capa _Batch_Normalization 1:\n",
    "\n",
    "Gamma weights = 128,\n",
    "Beta weights = 128,\n",
    "M_mean1 = 128 # no entrenables,\n",
    "Mo_variance1 = 128 # no entrenables,\n",
    "Total_1N = 128 x 4 = 512 \n",
    "\n",
    "Capa_Oculta _2:\n",
    "\n",
    "W2 = d2 x d1 = 64 x 128 = 8192,\n",
    "b2 = d2 x 1 = 64,\n",
    "Total_2c = W2 + b2 = 8192 + 64 = 8256\n",
    "\n",
    "Capa_Batch_Normalization 2:\n",
    "\n",
    "Ga_weights = 64,\n",
    "B_weights = 64,\n",
    "M_mean2  = 64 # no entrenables,\n",
    "Mo_variance2  = 64 # no entrenables,\n",
    "Total_2N = 64 x 4 = 256\n",
    "\n",
    "Capa_Salida:\n",
    "\n",
    "W3 = d3 x d2 = 7 x 64 = 448,\n",
    "b3 = d3 x 1 = 7,\n",
    "Total = 448 + 7 = 455,\n",
    "total_salida = 7040 + 512 + 8256 + 256 + 455 = 16519\n",
    "\n",
    "No_entrenables = M_mean1 + Mo_variance1 + M_mean2 + Mo_variance2 128 + 128 + 64 + 64 = 384\n",
    "Entrenables = 16519 - 384 = 16135"
   ]
  },
  {
   "cell_type": "markdown",
   "metadata": {
    "id": "9wJ8LBTGANru"
   },
   "source": [
    "#### <font color=\"#CA3532\">Ejercicio 5</font> [1 punto]\n",
    "\n",
    "A continuación vamos a hacer una serie de pruebas para verificar que tu modelo está bien construido. Para ello vamos a usar los datos del problema de clasificación Forest Covertypes. El problema consiste en predecir el tipo de cubierta vegetal de un terreno a partir de características del mismo como su elevación, su pendiente, etcétera. Los detalles del problema los puedes consultar en estos enlaces:\n",
    "\n",
    "https://scikit-learn.org/stable/datasets/real_world.html#forest-covertypes\n",
    "\n",
    "https://archive.ics.uci.edu/ml/datasets/Covertype\n",
    "\n",
    "La siguiente celda carga y prepara los datos:\n"
   ]
  },
  {
   "cell_type": "code",
   "execution_count": null,
   "metadata": {
    "id": "bqbmAI2zJZg4"
   },
   "outputs": [],
   "source": [
    "from sklearn.datasets import fetch_covtype\n",
    "data = fetch_covtype()\n",
    "x = data.data\n",
    "t = data.target - 1"
   ]
  },
  {
   "cell_type": "markdown",
   "metadata": {
    "id": "T5yVzwT487xs"
   },
   "source": [
    "A continuación imprimimos la forma de las variables ``x`` e ``y``, así como los valores numéricos de cada una de las 7 clases del problema:"
   ]
  },
  {
   "cell_type": "code",
   "execution_count": null,
   "metadata": {
    "colab": {
     "base_uri": "https://localhost:8080/"
    },
    "executionInfo": {
     "elapsed": 16,
     "status": "ok",
     "timestamp": 1661713108771,
     "user": {
      "displayName": "Álvaro Blanes figuerola",
      "userId": "11042556642168442120"
     },
     "user_tz": -120
    },
    "id": "EslzoxuE7Aax",
    "outputId": "da4af35f-ca7b-4cbe-9e81-74bb2f5a67ec"
   },
   "outputs": [
    {
     "name": "stdout",
     "output_type": "stream",
     "text": [
      "(581012, 54)\n",
      "(581012,)\n",
      "[0 1 2 3 4 5 6]\n"
     ]
    }
   ],
   "source": [
    "print(x.shape)\n",
    "print(t.shape)\n",
    "print(np.unique(t))"
   ]
  },
  {
   "cell_type": "markdown",
   "metadata": {
    "id": "-GV1yjoXTZZS"
   },
   "source": [
    "<font color=\"#CA3532\">[5.1]</font> Lo primero que debes hacer es dividir los datos en conjuntos de entrenamiento y test usando la función [train_test_split](https://scikit-learn.org/stable/modules/generated/sklearn.model_selection.train_test_split.html) de ``scikit-learn``. El conjunto de test debe tener el 30% de los datos. La semilla (``random_state``) se debe fijar al valor 35 para que los resultados sean reproducibles. Utiliza los nombres de variable ``x_train``, ``x_test``, ``t_train`` y ``t_test``."
   ]
  },
  {
   "cell_type": "code",
   "execution_count": null,
   "metadata": {
    "id": "NptS0suZTXMV"
   },
   "outputs": [],
   "source": [
    "from sklearn.model_selection import train_test_split\n",
    "\n",
    "x_train,x_test,t_train,t_test = train_test_split(x, t, test_size=0.30, random_state=35)\n",
    "\n"
   ]
  },
  {
   "cell_type": "markdown",
   "metadata": {
    "id": "fgWM7q6VV5OV"
   },
   "source": [
    "<font color=\"#CA3532\">[5.2]</font> A continuación estandariza los datos usando la clase [StandardScaler](https://scikit-learn.org/stable/modules/generated/sklearn.preprocessing.StandardScaler.html)."
   ]
  },
  {
   "cell_type": "code",
   "execution_count": null,
   "metadata": {
    "id": "kMStPzWVWFw4"
   },
   "outputs": [],
   "source": [
    "\n",
    "ss = StandardScaler()\n",
    "x_train = ss.fit_transform(x_train)\n",
    "x_test = ss.transform(x_test)\n"
   ]
  },
  {
   "cell_type": "markdown",
   "metadata": {
    "id": "FnPjZFSxDnYt"
   },
   "source": [
    "<font color=\"#CA3532\">[5.3]</font> En la celda siguiente, compila el modelo usando como optimizador ``Adam`` con un learning rate de ``0.01`` y como función de coste ``hinge-loss``. Añade la precisión (``accuracy``) como métrica. Cambia el formato de las variables ``t_train``  y ``t_test`` si es necesario. A continuación carga los pesos del fichero ``random-weights``."
   ]
  },
  {
   "cell_type": "code",
   "execution_count": null,
   "metadata": {
    "colab": {
     "base_uri": "https://localhost:8080/"
    },
    "executionInfo": {
     "elapsed": 7,
     "status": "ok",
     "timestamp": 1661713109517,
     "user": {
      "displayName": "Álvaro Blanes figuerola",
      "userId": "11042556642168442120"
     },
     "user_tz": -120
    },
    "id": "df5E4H63GbS3",
    "outputId": "9a5f60ff-d171-413b-8a66-94e3f83f88f6"
   },
   "outputs": [
    {
     "data": {
      "text/plain": [
       "<tensorflow.python.training.tracking.util.CheckpointLoadStatus at 0x7f9dde71e290>"
      ]
     },
     "execution_count": 21,
     "metadata": {},
     "output_type": "execute_result"
    }
   ],
   "source": [
    "fichero_pesos = \"MIAX8/data/covertype/random-weights\"\n",
    "\n",
    "optimizer = tf.keras.optimizers.Adam(learning_rate=0.01, name='Adam')\n",
    "\n",
    "model.compile(loss='categorical_hinge',\n",
    "              optimizer= optimizer,\n",
    "              metrics=['acc']\n",
    "              )\n",
    "\n",
    "t_train = keras.utils.to_categorical(t_train, num_classes=7)\n",
    "t_test = keras.utils.to_categorical(t_test, num_classes=7)\n",
    "\n",
    "model.load_weights(fichero_pesos)\n"
   ]
  },
  {
   "cell_type": "markdown",
   "metadata": {
    "id": "vQdpNUXcCXBm"
   },
   "source": [
    "En la celda siguiente se evalúa el modelo sobre el conjunto de datos. Como tu modelo parte de unos pesos determinados, los resultados deberían ser reproducibles. \n",
    "\n",
    "Si has hecho todo bien deberías obtener este resultado (no es demasiado bueno, pero ten en cuenta que el modelo aún no ha sido entrenado):\n",
    "\n",
    "````\n",
    "5447/5447 [==============================] - 9s 2ms/step - loss: 10.6614 - acc: 0.0296\n",
    "[10.661399841308594, 0.02964361198246479]\n",
    "````"
   ]
  },
  {
   "cell_type": "code",
   "execution_count": null,
   "metadata": {
    "colab": {
     "base_uri": "https://localhost:8080/"
    },
    "executionInfo": {
     "elapsed": 15087,
     "status": "ok",
     "timestamp": 1661713124600,
     "user": {
      "displayName": "Álvaro Blanes figuerola",
      "userId": "11042556642168442120"
     },
     "user_tz": -120
    },
    "id": "HBK_MxZtca2Z",
    "outputId": "a5241b3d-b0a8-4557-c67f-c5c880848ef6"
   },
   "outputs": [
    {
     "name": "stdout",
     "output_type": "stream",
     "text": [
      "5447/5447 [==============================] - 15s 3ms/step - loss: 10.6614 - acc: 0.0296\n"
     ]
    },
    {
     "data": {
      "text/plain": [
       "[10.661399841308594, 0.02964361198246479]"
      ]
     },
     "execution_count": 22,
     "metadata": {},
     "output_type": "execute_result"
    }
   ],
   "source": [
    "model.evaluate(x_test, t_test)"
   ]
  },
  {
   "cell_type": "markdown",
   "metadata": {
    "id": "Zf38VnmZJIa2"
   },
   "source": [
    "Como última prueba vamos a entrenar el modelo durante 10 épocas. Antes de llamar a ``model.fit`` inicializamos las semillas del generador de números aleatorios para que, de nuevo, el resultado sea reproducible.\n",
    "\n",
    "Si has hecho todo bien, al ejecutar la celda siguiente este debería ser el resultado al final de las 10 épocas:\n",
    "\n",
    "````\n",
    "loss: 0.8962 - acc: 0.6932\n",
    "````"
   ]
  },
  {
   "cell_type": "code",
   "execution_count": null,
   "metadata": {
    "colab": {
     "base_uri": "https://localhost:8080/"
    },
    "executionInfo": {
     "elapsed": 84854,
     "status": "ok",
     "timestamp": 1661713209442,
     "user": {
      "displayName": "Álvaro Blanes figuerola",
      "userId": "11042556642168442120"
     },
     "user_tz": -120
    },
    "id": "6WnIC-toGbPQ",
    "outputId": "ba52d4a6-446b-4aa7-b4ad-06cc19c16431"
   },
   "outputs": [
    {
     "name": "stdout",
     "output_type": "stream",
     "text": [
      "Epoch 1/10\n",
      "795/795 [==============================] - 10s 9ms/step - loss: 1.1482 - acc: 0.6741\n",
      "Epoch 2/10\n",
      "795/795 [==============================] - 7s 8ms/step - loss: 0.9310 - acc: 0.6933\n",
      "Epoch 3/10\n",
      "795/795 [==============================] - 6s 8ms/step - loss: 0.9136 - acc: 0.6947\n",
      "Epoch 4/10\n",
      "795/795 [==============================] - 6s 8ms/step - loss: 0.9132 - acc: 0.6940\n",
      "Epoch 5/10\n",
      "795/795 [==============================] - 6s 8ms/step - loss: 0.9085 - acc: 0.6944\n",
      "Epoch 6/10\n",
      "795/795 [==============================] - 6s 8ms/step - loss: 0.9037 - acc: 0.6950\n",
      "Epoch 7/10\n",
      "795/795 [==============================] - 6s 8ms/step - loss: 0.9008 - acc: 0.6948\n",
      "Epoch 8/10\n",
      "795/795 [==============================] - 6s 8ms/step - loss: 0.9013 - acc: 0.6937\n",
      "Epoch 9/10\n",
      "795/795 [==============================] - 6s 8ms/step - loss: 0.9032 - acc: 0.6937\n",
      "Epoch 10/10\n",
      "795/795 [==============================] - 6s 8ms/step - loss: 0.8962 - acc: 0.6932\n"
     ]
    }
   ],
   "source": [
    "np.random.seed(17)\n",
    "tf.random.set_seed(195)\n",
    "_ = model.fit(x_train, t_train, epochs=10, batch_size=512, shuffle=False)"
   ]
  },
  {
   "cell_type": "markdown",
   "metadata": {
    "id": "QXi4qsWZ6-U3"
   },
   "source": [
    "Y al evaluar el modelo sobre el conjunto de test te debería salir esto:\n",
    "\n",
    "````\n",
    "5447/5447 [==============================] - 8s 2ms/step - loss: 0.8565 - acc: 0.7042\n",
    "[0.8564687371253967, 0.704177737236023]\n",
    "````"
   ]
  },
  {
   "cell_type": "code",
   "execution_count": null,
   "metadata": {
    "colab": {
     "base_uri": "https://localhost:8080/"
    },
    "executionInfo": {
     "elapsed": 20614,
     "status": "ok",
     "timestamp": 1661713230052,
     "user": {
      "displayName": "Álvaro Blanes figuerola",
      "userId": "11042556642168442120"
     },
     "user_tz": -120
    },
    "id": "IqrXm3il63bF",
    "outputId": "ca5f7556-a532-424e-b19a-b7be85b226a2"
   },
   "outputs": [
    {
     "name": "stdout",
     "output_type": "stream",
     "text": [
      "5447/5447 [==============================] - 11s 2ms/step - loss: 0.8565 - acc: 0.7042\n"
     ]
    },
    {
     "data": {
      "text/plain": [
       "[0.8564687371253967, 0.704177737236023]"
      ]
     },
     "execution_count": 24,
     "metadata": {},
     "output_type": "execute_result"
    }
   ],
   "source": [
    "model.evaluate(x_test, t_test)"
   ]
  },
  {
   "cell_type": "markdown",
   "metadata": {
    "id": "rOZSu857Pfll"
   },
   "source": [
    "### <font color=\"#CA3532\">Parte II: Optimización de hiperparámetros</font>"
   ]
  },
  {
   "cell_type": "markdown",
   "metadata": {
    "id": "n077GjMKRfft"
   },
   "source": [
    "\n",
    "En esta parte de la práctica vamos a seguir trabajando con la base de datos de Forest Covertypes. Los datos deberían estar cargados en las variables ``x_train``, ``x_test``, ``t_train`` y ``t_test``:"
   ]
  },
  {
   "cell_type": "code",
   "execution_count": null,
   "metadata": {
    "colab": {
     "base_uri": "https://localhost:8080/"
    },
    "executionInfo": {
     "elapsed": 14,
     "status": "ok",
     "timestamp": 1661713230053,
     "user": {
      "displayName": "Álvaro Blanes figuerola",
      "userId": "11042556642168442120"
     },
     "user_tz": -120
    },
    "id": "2HCnnhnwIoau",
    "outputId": "20092a5b-f50c-4c29-9244-2108e9612c94"
   },
   "outputs": [
    {
     "name": "stdout",
     "output_type": "stream",
     "text": [
      "(406708, 54)\n",
      "(174304, 54)\n",
      "(406708, 7)\n",
      "(174304, 7)\n"
     ]
    }
   ],
   "source": [
    "print(x_train.shape)\n",
    "print(x_test.shape)\n",
    "print(t_train.shape)\n",
    "print(t_test.shape)"
   ]
  },
  {
   "cell_type": "markdown",
   "metadata": {
    "id": "fFx01rn7wOa0"
   },
   "source": [
    "#### <font color=\"#CA3532\">Ejercicio 6</font> [1 punto]\n",
    "\n",
    "Construye una red neuronal para el problema Forest Covertypes, realizando una búsqueda lo más completa posible de los hiperparámetros con [Keras Tuner](https://keras-team.github.io/keras-tuner/documentation/tuners/). Debes considerar, al menos, los siguientes hiperparámetros:\n",
    "\n",
    "- Learning rate.\n",
    "- Número de capas ocultas.\n",
    "- Número de unidades en las capas ocultas.\n",
    "- Función de activación.\n",
    "- Algún parámetro de regularización. \n",
    "- Optimizador.\n",
    "\n",
    "Completa el código de las celdas siguientes en los lugares indicados, sin cambiar el nombre de la carpeta de logs.\n",
    "\n",
    "**Nota:** Ten en cuenta que este ejercicio puede requerir mucho tiempo de ejecución. "
   ]
  },
  {
   "cell_type": "code",
   "execution_count": null,
   "metadata": {
    "colab": {
     "base_uri": "https://localhost:8080/"
    },
    "executionInfo": {
     "elapsed": 6409,
     "status": "ok",
     "timestamp": 1661713236450,
     "user": {
      "displayName": "Álvaro Blanes figuerola",
      "userId": "11042556642168442120"
     },
     "user_tz": -120
    },
    "id": "yZhIPAYk4L1H",
    "outputId": "3c52e0b2-ec3b-45db-e1fc-7b199f289bd3"
   },
   "outputs": [
    {
     "name": "stdout",
     "output_type": "stream",
     "text": [
      "\u001b[K     |████████████████████████████████| 135 kB 5.1 MB/s \n",
      "\u001b[K     |████████████████████████████████| 1.6 MB 37.3 MB/s \n",
      "\u001b[?25h"
     ]
    }
   ],
   "source": [
    "!pip install -q -U keras-tuner\n",
    "import keras_tuner as kt"
   ]
  },
  {
   "cell_type": "markdown",
   "metadata": {
    "id": "yccnCT3B61d9"
   },
   "source": [
    "<font color=\"#CA3532\">[6.1]</font> Define el hipermodelo:"
   ]
  },
  {
   "cell_type": "code",
   "execution_count": null,
   "metadata": {
    "id": "le1k5jYB43fn"
   },
   "outputs": [],
   "source": [
    "def model_builder(hp):\n",
    "  #-------------------------------------------------------------\n",
    "  hp_activation = hp.Choice('activation', values=['relu', 'selu', 'sigmoid', 'softmax'])\n",
    "  hp_learning_rate = hp.Choice('learning_rate', values = [1.0, 0.1, 0.01, 0.001])\n",
    "  hp_optimizer= hp.Choice('optimazer', values = ['SGD', ' Adam'])\n",
    "  hp_regulaizers = hp.Choice('regulaizers', values= [0.01, 0.05, 0.1 ])   \n",
    "  hp_units = hp.Int('units', min_value = 32, max_value = 128, step = 32)\n",
    "  hp_layers = hp.Int('layers', min_value = 1, max_value = 5, step = 1)\n",
    "\n",
    "  #-------------------------------------------------------------\n",
    "\n",
    "  model = keras.Sequential()\n",
    "  model.add(keras.layers.Input(54))\n",
    "\n",
    "  hp_units = hp.Int('units', min_value = 32, max_value = 128, step = 32)\n",
    "  hp_layers = hp.Int('layers', min_value = 1, max_value = 5, step = 1)\n",
    "\n",
    "\n",
    "  for i in range(hp_layers):\n",
    "    model.add(keras.layers.Dense(hp_units,\n",
    "                            kernel_regularizer=keras.regularizers.L1L2( l2=hp_regulaizers),\n",
    "                            kernel_initializer=keras.initializers.GlorotNormal()\n",
    "                            ))       \n",
    "    model.add(keras.layers.BatchNormalization())\n",
    "    model.add(keras.layers.Activation(hp_activation))\n",
    "    model.add(keras.layers.Dropout(0.25))\n",
    "\n",
    "\n",
    "  model.add(keras.layers.Dense(7,\n",
    "                          kernel_regularizer=keras.regularizers.L1L2(l1=0.005, l2=0.01),\n",
    "                          kernel_initializer=keras.initializers.GlorotNormal()))\n",
    "\n",
    "  model.compile(loss= 'categorical_hinge',\n",
    "    optimizer= hp_optimizer,\n",
    "    metrics= ['acc']\n",
    "                  )\n",
    "  return model"
   ]
  },
  {
   "cell_type": "markdown",
   "metadata": {
    "id": "VEuCgZ3b8O2Z"
   },
   "source": [
    "Borrado de la carpeta de logs:"
   ]
  },
  {
   "cell_type": "code",
   "execution_count": null,
   "metadata": {
    "id": "wFnAgWQ38OAj"
   },
   "outputs": [],
   "source": [
    "!rm -rf logs-proyecto/keras_tuner"
   ]
  },
  {
   "cell_type": "markdown",
   "metadata": {
    "id": "Kxn9nWN_9D_E"
   },
   "source": [
    "Creación de un ``tuner`` de tipo ``Hyperband`` que usa el hipermodelo anterior. El objetivo a optimizar es la precisión (accuracy) sobre el conjunto de validación. El máximo número de épocas es 10."
   ]
  },
  {
   "cell_type": "code",
   "execution_count": null,
   "metadata": {
    "id": "O7axgVjE8wKE"
   },
   "outputs": [],
   "source": [
    "tuner = kt.Hyperband(model_builder,\n",
    "                     objective = 'val_acc', \n",
    "                     max_epochs = 10,\n",
    "                     factor = 3,\n",
    "                     directory = 'logs-proyecto/keras_tuner',\n",
    "                     project_name = 'kt')  "
   ]
  },
  {
   "cell_type": "markdown",
   "metadata": {
    "id": "DwpPmJfh-waF"
   },
   "source": [
    "Resumen del espacio de búsqueda. Comprueba que contiene todos los valores a considerar para cada uno de los hiperparámetros."
   ]
  },
  {
   "cell_type": "code",
   "execution_count": null,
   "metadata": {
    "colab": {
     "base_uri": "https://localhost:8080/"
    },
    "executionInfo": {
     "elapsed": 194,
     "status": "ok",
     "timestamp": 1661716472136,
     "user": {
      "displayName": "Álvaro Blanes figuerola",
      "userId": "11042556642168442120"
     },
     "user_tz": -120
    },
    "id": "vOKQZDjK8wHC",
    "outputId": "bca7c3d4-bfc7-42db-9c3a-deff66f27fde"
   },
   "outputs": [
    {
     "name": "stdout",
     "output_type": "stream",
     "text": [
      "Search space summary\n",
      "Default search space size: 6\n",
      "activation (Choice)\n",
      "{'default': 'relu', 'conditions': [], 'values': ['relu', 'selu', 'sigmoid', 'softmax'], 'ordered': False}\n",
      "learning_rate (Choice)\n",
      "{'default': 1.0, 'conditions': [], 'values': [1.0, 0.1, 0.01, 0.001], 'ordered': True}\n",
      "optimazer (Choice)\n",
      "{'default': 'SGD', 'conditions': [], 'values': ['SGD', ' Adam'], 'ordered': False}\n",
      "regulaizers (Choice)\n",
      "{'default': 0.01, 'conditions': [], 'values': [0.01, 0.05, 0.1], 'ordered': True}\n",
      "units (Int)\n",
      "{'default': None, 'conditions': [], 'min_value': 32, 'max_value': 128, 'step': 32, 'sampling': None}\n",
      "layers (Int)\n",
      "{'default': None, 'conditions': [], 'min_value': 1, 'max_value': 5, 'step': 1, 'sampling': None}\n"
     ]
    }
   ],
   "source": [
    "tuner.search_space_summary()"
   ]
  },
  {
   "cell_type": "markdown",
   "metadata": {
    "id": "CDs2_CX2L_h1"
   },
   "source": [
    "<font color=\"#CA3532\">[6.2]</font> Divide el conjunto de entrenamiento, de manera aleatoria, en dos subconjuntos. El primero, ``(tr_data, tr_labels)`` contendrá el 70% de los datos y lo usaremos para entrenar los hipermodelos. El segundo, ``(val_data, val_labels)`` contendrá el 30% de los datos y lo usaremos para validar los hipermodelos. Puedes usar [train_test_split](https://scikit-learn.org/stable/modules/generated/sklearn.model_selection.train_test_split.html) de ``sklearn.model_selection``."
   ]
  },
  {
   "cell_type": "code",
   "execution_count": null,
   "metadata": {
    "id": "wXmM4FEhMGXF"
   },
   "outputs": [],
   "source": [
    "\n",
    "tr_data, val_data, tr_labels, val_labels = train_test_split(x_train, t_train, test_size = 0.30 , random_state = 50)"
   ]
  },
  {
   "cell_type": "markdown",
   "metadata": {
    "id": "We4hKqIgAold"
   },
   "source": [
    "<font color=\"#CA3532\">[6.3]</font> Realiza la búsqueda de los hiperparámetros llamando a ``tuner.search`` usando los datos ``tr_data``, ``tr_labels`` como conjunto de entrenamiento y los datos ``val_data``, ``val_labels`` como conjunto de validación: "
   ]
  },
  {
   "cell_type": "code",
   "execution_count": null,
   "metadata": {
    "colab": {
     "base_uri": "https://localhost:8080/"
    },
    "id": "yI6AdJEX8wEK",
    "outputId": "77a9a5a1-d3df-4361-b60a-d70a903462a0"
   },
   "outputs": [
    {
     "name": "stdout",
     "output_type": "stream",
     "text": [
      "Trial 1 Complete [00h 02m 25s]\n",
      "val_acc: 0.6517256498336792\n",
      "\n",
      "Best val_acc So Far: 0.6517256498336792\n",
      "Total elapsed time: 00h 02m 25s\n",
      "\n",
      "Search: Running Trial #2\n",
      "\n",
      "Value             |Best Value So Far |Hyperparameter\n",
      "relu              |sigmoid           |activation\n",
      "0.001             |1                 |learning_rate\n",
      "SGD               |SGD               |optimazer\n",
      "0.1               |0.01              |regulaizers\n",
      "64                |96                |units\n",
      "4                 |5                 |layers\n",
      "2                 |2                 |tuner/epochs\n",
      "0                 |0                 |tuner/initial_epoch\n",
      "2                 |2                 |tuner/bracket\n",
      "0                 |0                 |tuner/round\n",
      "\n",
      "Epoch 1/2\n",
      "8897/8897 [==============================] - 49s 5ms/step - loss: 1.5695 - acc: 0.6630 - val_loss: 0.7841 - val_acc: 0.6900\n",
      "Epoch 2/2\n",
      "8897/8897 [==============================] - 37s 4ms/step - loss: 0.7986 - acc: 0.6720 - val_loss: 0.7669 - val_acc: 0.6740\n"
     ]
    }
   ],
   "source": [
    "\n",
    "tuner.search(tr_data ,tr_labels,\n",
    "            epochs=5,\n",
    "            validation_data=(val_data, val_labels))\n",
    "\n"
   ]
  },
  {
   "cell_type": "markdown",
   "metadata": {
    "id": "FxhzHBQnDUHl"
   },
   "source": [
    "<font color=\"#CA3532\">[6.4]</font> Selecciona los mejores hiperparámetros, vuelve a entrenar el modelo con todos los datos de entrenamiento y aplícalo al conjunto de test."
   ]
  },
  {
   "cell_type": "code",
   "execution_count": null,
   "metadata": {
    "id": "ld-Q8rKVDgCm"
   },
   "outputs": [],
   "source": [
    "best_hps=tuner.get_best_hyperparameters()[0]\n",
    "model = tuner.hypermodel.build(best_hps)\n",
    "model.fit(x_train, t_train, epochs=10,validation_data=(x_test, t_test))"
   ]
  }
 ],
 "metadata": {
  "accelerator": "TPU",
  "colab": {
   "provenance": [],
   "toc_visible": true
  },
  "gpuClass": "standard",
  "kernelspec": {
   "display_name": "Python 3 (ipykernel)",
   "language": "python",
   "name": "python3"
  },
  "language_info": {
   "codemirror_mode": {
    "name": "ipython",
    "version": 3
   },
   "file_extension": ".py",
   "mimetype": "text/x-python",
   "name": "python",
   "nbconvert_exporter": "python",
   "pygments_lexer": "ipython3",
   "version": "3.9.13"
  }
 },
 "nbformat": 4,
 "nbformat_minor": 4
}
